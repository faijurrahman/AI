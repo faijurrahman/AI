{
  "nbformat": 4,
  "nbformat_minor": 0,
  "metadata": {
    "colab": {
      "provenance": []
    },
    "kernelspec": {
      "name": "python3",
      "display_name": "Python 3"
    },
    "language_info": {
      "name": "python"
    }
  },
  "cells": [
    {
      "cell_type": "code",
      "metadata": {
        "colab": {
          "base_uri": "https://localhost:8080/"
        },
        "id": "3F_Vc1DFGr1k",
        "outputId": "5b936838-057d-4f31-c31f-6b2b1ef6b379"
      },
      "source": [
        "#Source: https://colab.research.google.com/drive/1U5yTGuuc-sbJ7rN64MVC33JQ858SHvk2?usp=sharing\n",
        "#Explanation: https://www.youtube.com/watch?v=bfLm584Cz-M&list=PLKYEe2WisBTHOxrEG_COAgJTWnceouhRm&index=3&ab_channel=GregHogg\n",
        "!mkdir ~/.kaggle\n",
        "!cp kaggle.json ~/.kaggle/\n",
        "!chmod 600 ~/.kaggle/kaggle.json\n",
        "!kaggle datasets download -d fedesoriano/heart-failure-prediction\n",
        "!unzip heart-failure-prediction.zip"
      ],
      "execution_count": null,
      "outputs": [
        {
          "output_type": "stream",
          "name": "stdout",
          "text": [
            "cp: cannot stat 'kaggle.json': No such file or directory\n",
            "chmod: cannot access '/root/.kaggle/kaggle.json': No such file or directory\n",
            "Traceback (most recent call last):\n",
            "  File \"/usr/local/bin/kaggle\", line 5, in <module>\n",
            "    from kaggle.cli import main\n",
            "  File \"/usr/local/lib/python3.8/dist-packages/kaggle/__init__.py\", line 23, in <module>\n",
            "    api.authenticate()\n",
            "  File \"/usr/local/lib/python3.8/dist-packages/kaggle/api/kaggle_api_extended.py\", line 164, in authenticate\n",
            "    raise IOError('Could not find {}. Make sure it\\'s located in'\n",
            "OSError: Could not find kaggle.json. Make sure it's located in /root/.kaggle. Or use the environment method.\n",
            "unzip:  cannot find or open heart-failure-prediction.zip, heart-failure-prediction.zip.zip or heart-failure-prediction.zip.ZIP.\n"
          ]
        }
      ]
    },
    {
      "cell_type": "code",
      "metadata": {
        "colab": {
          "base_uri": "https://localhost:8080/",
          "height": 440
        },
        "id": "LSpd6CFWGrzb",
        "outputId": "9b5f5a3e-0d56-4fb6-e1e6-4bcd197c5357"
      },
      "source": [
        "import pandas as pd\n",
        "\n",
        "heart = pd.read_csv('heart.csv')\n",
        "heart"
      ],
      "execution_count": null,
      "outputs": [
        {
          "output_type": "execute_result",
          "data": {
            "text/html": [
              "<div>\n",
              "<style scoped>\n",
              "    .dataframe tbody tr th:only-of-type {\n",
              "        vertical-align: middle;\n",
              "    }\n",
              "\n",
              "    .dataframe tbody tr th {\n",
              "        vertical-align: top;\n",
              "    }\n",
              "\n",
              "    .dataframe thead th {\n",
              "        text-align: right;\n",
              "    }\n",
              "</style>\n",
              "<table border=\"1\" class=\"dataframe\">\n",
              "  <thead>\n",
              "    <tr style=\"text-align: right;\">\n",
              "      <th></th>\n",
              "      <th>Age</th>\n",
              "      <th>Sex</th>\n",
              "      <th>ChestPainType</th>\n",
              "      <th>RestingBP</th>\n",
              "      <th>Cholesterol</th>\n",
              "      <th>FastingBS</th>\n",
              "      <th>RestingECG</th>\n",
              "      <th>MaxHR</th>\n",
              "      <th>ExerciseAngina</th>\n",
              "      <th>Oldpeak</th>\n",
              "      <th>ST_Slope</th>\n",
              "      <th>HeartDisease</th>\n",
              "    </tr>\n",
              "  </thead>\n",
              "  <tbody>\n",
              "    <tr>\n",
              "      <th>0</th>\n",
              "      <td>40</td>\n",
              "      <td>M</td>\n",
              "      <td>ATA</td>\n",
              "      <td>140</td>\n",
              "      <td>289</td>\n",
              "      <td>0</td>\n",
              "      <td>Normal</td>\n",
              "      <td>172</td>\n",
              "      <td>N</td>\n",
              "      <td>0.0</td>\n",
              "      <td>Up</td>\n",
              "      <td>0</td>\n",
              "    </tr>\n",
              "    <tr>\n",
              "      <th>1</th>\n",
              "      <td>49</td>\n",
              "      <td>F</td>\n",
              "      <td>NAP</td>\n",
              "      <td>160</td>\n",
              "      <td>180</td>\n",
              "      <td>0</td>\n",
              "      <td>Normal</td>\n",
              "      <td>156</td>\n",
              "      <td>N</td>\n",
              "      <td>1.0</td>\n",
              "      <td>Flat</td>\n",
              "      <td>1</td>\n",
              "    </tr>\n",
              "    <tr>\n",
              "      <th>2</th>\n",
              "      <td>37</td>\n",
              "      <td>M</td>\n",
              "      <td>ATA</td>\n",
              "      <td>130</td>\n",
              "      <td>283</td>\n",
              "      <td>0</td>\n",
              "      <td>ST</td>\n",
              "      <td>98</td>\n",
              "      <td>N</td>\n",
              "      <td>0.0</td>\n",
              "      <td>Up</td>\n",
              "      <td>0</td>\n",
              "    </tr>\n",
              "    <tr>\n",
              "      <th>3</th>\n",
              "      <td>48</td>\n",
              "      <td>F</td>\n",
              "      <td>ASY</td>\n",
              "      <td>138</td>\n",
              "      <td>214</td>\n",
              "      <td>0</td>\n",
              "      <td>Normal</td>\n",
              "      <td>108</td>\n",
              "      <td>Y</td>\n",
              "      <td>1.5</td>\n",
              "      <td>Flat</td>\n",
              "      <td>1</td>\n",
              "    </tr>\n",
              "    <tr>\n",
              "      <th>4</th>\n",
              "      <td>54</td>\n",
              "      <td>M</td>\n",
              "      <td>NAP</td>\n",
              "      <td>150</td>\n",
              "      <td>195</td>\n",
              "      <td>0</td>\n",
              "      <td>Normal</td>\n",
              "      <td>122</td>\n",
              "      <td>N</td>\n",
              "      <td>0.0</td>\n",
              "      <td>Up</td>\n",
              "      <td>0</td>\n",
              "    </tr>\n",
              "    <tr>\n",
              "      <th>...</th>\n",
              "      <td>...</td>\n",
              "      <td>...</td>\n",
              "      <td>...</td>\n",
              "      <td>...</td>\n",
              "      <td>...</td>\n",
              "      <td>...</td>\n",
              "      <td>...</td>\n",
              "      <td>...</td>\n",
              "      <td>...</td>\n",
              "      <td>...</td>\n",
              "      <td>...</td>\n",
              "      <td>...</td>\n",
              "    </tr>\n",
              "    <tr>\n",
              "      <th>913</th>\n",
              "      <td>45</td>\n",
              "      <td>M</td>\n",
              "      <td>TA</td>\n",
              "      <td>110</td>\n",
              "      <td>264</td>\n",
              "      <td>0</td>\n",
              "      <td>Normal</td>\n",
              "      <td>132</td>\n",
              "      <td>N</td>\n",
              "      <td>1.2</td>\n",
              "      <td>Flat</td>\n",
              "      <td>1</td>\n",
              "    </tr>\n",
              "    <tr>\n",
              "      <th>914</th>\n",
              "      <td>68</td>\n",
              "      <td>M</td>\n",
              "      <td>ASY</td>\n",
              "      <td>144</td>\n",
              "      <td>193</td>\n",
              "      <td>1</td>\n",
              "      <td>Normal</td>\n",
              "      <td>141</td>\n",
              "      <td>N</td>\n",
              "      <td>3.4</td>\n",
              "      <td>Flat</td>\n",
              "      <td>1</td>\n",
              "    </tr>\n",
              "    <tr>\n",
              "      <th>915</th>\n",
              "      <td>57</td>\n",
              "      <td>M</td>\n",
              "      <td>ASY</td>\n",
              "      <td>130</td>\n",
              "      <td>131</td>\n",
              "      <td>0</td>\n",
              "      <td>Normal</td>\n",
              "      <td>115</td>\n",
              "      <td>Y</td>\n",
              "      <td>1.2</td>\n",
              "      <td>Flat</td>\n",
              "      <td>1</td>\n",
              "    </tr>\n",
              "    <tr>\n",
              "      <th>916</th>\n",
              "      <td>57</td>\n",
              "      <td>F</td>\n",
              "      <td>ATA</td>\n",
              "      <td>130</td>\n",
              "      <td>236</td>\n",
              "      <td>0</td>\n",
              "      <td>LVH</td>\n",
              "      <td>174</td>\n",
              "      <td>N</td>\n",
              "      <td>0.0</td>\n",
              "      <td>Flat</td>\n",
              "      <td>1</td>\n",
              "    </tr>\n",
              "    <tr>\n",
              "      <th>917</th>\n",
              "      <td>38</td>\n",
              "      <td>M</td>\n",
              "      <td>NAP</td>\n",
              "      <td>138</td>\n",
              "      <td>175</td>\n",
              "      <td>0</td>\n",
              "      <td>Normal</td>\n",
              "      <td>173</td>\n",
              "      <td>N</td>\n",
              "      <td>0.0</td>\n",
              "      <td>Up</td>\n",
              "      <td>0</td>\n",
              "    </tr>\n",
              "  </tbody>\n",
              "</table>\n",
              "<p>918 rows × 12 columns</p>\n",
              "</div>"
            ],
            "text/plain": [
              "     Age Sex ChestPainType  ...  Oldpeak  ST_Slope  HeartDisease\n",
              "0     40   M           ATA  ...      0.0        Up             0\n",
              "1     49   F           NAP  ...      1.0      Flat             1\n",
              "2     37   M           ATA  ...      0.0        Up             0\n",
              "3     48   F           ASY  ...      1.5      Flat             1\n",
              "4     54   M           NAP  ...      0.0        Up             0\n",
              "..   ...  ..           ...  ...      ...       ...           ...\n",
              "913   45   M            TA  ...      1.2      Flat             1\n",
              "914   68   M           ASY  ...      3.4      Flat             1\n",
              "915   57   M           ASY  ...      1.2      Flat             1\n",
              "916   57   F           ATA  ...      0.0      Flat             1\n",
              "917   38   M           NAP  ...      0.0        Up             0\n",
              "\n",
              "[918 rows x 12 columns]"
            ]
          },
          "metadata": {},
          "execution_count": 3
        }
      ]
    },
    {
      "cell_type": "code",
      "metadata": {
        "colab": {
          "base_uri": "https://localhost:8080/",
          "height": 542
        },
        "id": "CQsZ8IrMGrxV",
        "outputId": "3572a575-67f6-499e-e277-c1b61efcd3ec"
      },
      "source": [
        "import plotly.express as px\n",
        "\n",
        "px.scatter(heart, x='MaxHR', y='HeartDisease', color='HeartDisease')"
      ],
      "execution_count": null,
      "outputs": [
        {
          "output_type": "display_data",
          "data": {
            "text/html": [
              "<html>\n",
              "<head><meta charset=\"utf-8\" /></head>\n",
              "<body>\n",
              "    <div>\n",
              "            <script src=\"https://cdnjs.cloudflare.com/ajax/libs/mathjax/2.7.5/MathJax.js?config=TeX-AMS-MML_SVG\"></script><script type=\"text/javascript\">if (window.MathJax) {MathJax.Hub.Config({SVG: {font: \"STIX-Web\"}});}</script>\n",
              "                <script type=\"text/javascript\">window.PlotlyConfig = {MathJaxConfig: 'local'};</script>\n",
              "        <script src=\"https://cdn.plot.ly/plotly-latest.min.js\"></script>    \n",
              "            <div id=\"f3c0bd01-e502-417b-86ea-1fe779af590d\" class=\"plotly-graph-div\" style=\"height:525px; width:100%;\"></div>\n",
              "            <script type=\"text/javascript\">\n",
              "                \n",
              "                    window.PLOTLYENV=window.PLOTLYENV || {};\n",
              "                    \n",
              "                if (document.getElementById(\"f3c0bd01-e502-417b-86ea-1fe779af590d\")) {\n",
              "                    Plotly.newPlot(\n",
              "                        'f3c0bd01-e502-417b-86ea-1fe779af590d',\n",
              "                        [{\"hoverlabel\": {\"namelength\": 0}, \"hovertemplate\": \"MaxHR=%{x}<br>HeartDisease=%{marker.color}\", \"legendgroup\": \"\", \"marker\": {\"color\": [0, 1, 0, 1, 0, 0, 0, 0, 1, 0, 0, 1, 0, 1, 0, 0, 1, 0, 1, 1, 0, 0, 0, 1, 0, 0, 0, 0, 0, 0, 1, 0, 1, 1, 0, 0, 1, 0, 0, 0, 0, 1, 0, 0, 1, 0, 0, 0, 0, 1, 1, 1, 0, 0, 0, 0, 1, 1, 0, 1, 0, 0, 0, 1, 0, 0, 0, 0, 1, 0, 1, 0, 1, 0, 1, 0, 1, 0, 0, 1, 0, 0, 1, 0, 1, 1, 1, 0, 1, 0, 0, 0, 0, 1, 0, 1, 0, 0, 0, 0, 1, 0, 1, 1, 1, 0, 0, 0, 0, 0, 0, 1, 0, 0, 0, 1, 1, 1, 0, 1, 1, 0, 0, 1, 0, 0, 0, 0, 0, 0, 0, 1, 1, 1, 0, 1, 0, 0, 1, 1, 1, 1, 1, 0, 1, 0, 0, 0, 0, 1, 0, 0, 0, 0, 0, 1, 1, 0, 1, 0, 1, 1, 0, 0, 0, 1, 1, 0, 0, 0, 0, 0, 0, 0, 1, 1, 1, 0, 0, 0, 1, 0, 1, 0, 0, 1, 0, 1, 0, 1, 0, 0, 0, 0, 0, 0, 0, 0, 1, 0, 0, 0, 0, 0, 0, 0, 0, 1, 0, 1, 1, 1, 0, 0, 1, 0, 1, 0, 0, 0, 1, 1, 0, 0, 0, 1, 0, 1, 0, 0, 0, 0, 0, 0, 0, 0, 1, 1, 1, 1, 0, 1, 1, 0, 1, 0, 1, 1, 1, 1, 1, 1, 0, 0, 1, 0, 0, 0, 0, 0, 0, 0, 1, 1, 1, 0, 1, 0, 1, 0, 0, 0, 1, 0, 0, 0, 1, 1, 0, 0, 0, 1, 0, 0, 0, 0, 0, 0, 0, 0, 0, 0, 0, 1, 1, 1, 1, 1, 1, 1, 1, 0, 1, 1, 1, 1, 1, 0, 1, 1, 0, 1, 1, 1, 0, 1, 1, 1, 1, 1, 1, 1, 1, 1, 1, 1, 0, 1, 1, 1, 1, 1, 0, 1, 1, 1, 0, 1, 1, 1, 1, 1, 1, 1, 1, 1, 1, 1, 1, 1, 1, 1, 1, 1, 1, 1, 1, 1, 1, 1, 1, 1, 1, 1, 0, 1, 1, 1, 1, 1, 1, 1, 1, 1, 1, 1, 1, 1, 1, 1, 1, 1, 1, 1, 1, 1, 1, 1, 1, 1, 1, 1, 1, 1, 1, 1, 1, 1, 1, 1, 1, 1, 1, 1, 1, 1, 1, 1, 1, 1, 1, 1, 1, 1, 1, 1, 1, 0, 1, 1, 0, 0, 1, 0, 1, 1, 0, 1, 1, 1, 1, 0, 1, 1, 0, 0, 1, 1, 1, 0, 1, 1, 1, 1, 1, 1, 1, 1, 1, 1, 1, 1, 1, 0, 1, 0, 1, 1, 1, 0, 1, 1, 1, 0, 1, 0, 1, 0, 1, 0, 1, 1, 1, 1, 0, 1, 0, 1, 1, 1, 1, 1, 1, 1, 1, 1, 0, 1, 0, 1, 1, 1, 1, 1, 1, 1, 0, 1, 1, 1, 1, 1, 1, 0, 1, 1, 1, 0, 1, 1, 0, 1, 0, 1, 1, 0, 1, 1, 1, 1, 0, 1, 1, 1, 0, 0, 1, 0, 1, 1, 1, 1, 1, 1, 1, 1, 1, 1, 1, 0, 1, 1, 1, 1, 0, 0, 1, 1, 1, 0, 1, 0, 1, 1, 0, 1, 0, 1, 1, 1, 0, 0, 0, 1, 1, 1, 0, 1, 1, 1, 1, 1, 1, 1, 1, 1, 1, 1, 1, 1, 1, 1, 1, 0, 1, 1, 1, 0, 1, 1, 0, 0, 1, 1, 1, 1, 1, 0, 1, 1, 0, 1, 1, 1, 0, 0, 1, 1, 1, 1, 1, 0, 1, 0, 1, 1, 0, 1, 0, 0, 0, 1, 1, 1, 1, 0, 0, 0, 1, 0, 0, 1, 1, 0, 0, 1, 0, 0, 0, 0, 0, 0, 0, 1, 0, 1, 0, 0, 1, 1, 1, 1, 1, 0, 0, 1, 0, 0, 0, 1, 0, 1, 1, 1, 1, 1, 0, 0, 0, 0, 0, 1, 0, 1, 1, 0, 1, 0, 0, 0, 1, 0, 1, 0, 1, 1, 0, 0, 0, 0, 1, 0, 0, 0, 0, 1, 1, 1, 0, 0, 0, 0, 0, 0, 1, 0, 1, 1, 1, 1, 1, 0, 1, 0, 0, 0, 1, 0, 1, 1, 1, 0, 1, 1, 0, 1, 0, 1, 0, 0, 0, 1, 1, 0, 1, 1, 1, 1, 0, 0, 0, 1, 0, 0, 1, 1, 1, 0, 1, 0, 0, 0, 1, 0, 0, 1, 0, 1, 0, 1, 1, 1, 1, 1, 0, 0, 0, 0, 0, 0, 0, 1, 0, 0, 1, 1, 1, 0, 1, 0, 0, 0, 0, 0, 1, 0, 1, 1, 0, 0, 1, 1, 1, 1, 0, 0, 1, 1, 0, 0, 0, 1, 0, 0, 1, 0, 1, 0, 1, 0, 0, 0, 0, 0, 1, 0, 1, 1, 1, 1, 0, 0, 0, 1, 0, 1, 0, 0, 1, 0, 0, 0, 0, 0, 0, 1, 1, 0, 1, 0, 0, 1, 1, 0, 0, 1, 1, 0, 1, 0, 1, 0, 1, 0, 0, 1, 0, 0, 1, 0, 1, 1, 0, 1, 1, 1, 0, 1, 0, 0, 0, 0, 1, 1, 0, 0, 1, 1, 0, 1, 0, 0, 0, 0, 1, 0, 0, 1, 1, 1, 0, 0, 0, 1, 0, 1, 0, 1, 0, 1, 1, 1, 0, 0, 0, 1, 0, 1, 1, 1, 0, 1, 1, 1, 1, 1, 1, 0], \"coloraxis\": \"coloraxis\", \"symbol\": \"circle\"}, \"mode\": \"markers\", \"name\": \"\", \"showlegend\": false, \"type\": \"scatter\", \"x\": [172, 156, 98, 108, 122, 170, 170, 142, 130, 120, 142, 99, 145, 140, 137, 150, 166, 165, 125, 160, 142, 142, 164, 150, 138, 178, 112, 118, 127, 145, 130, 114, 122, 130, 154, 155, 87, 142, 148, 130, 130, 100, 168, 170, 120, 120, 168, 170, 184, 170, 121, 98, 122, 150, 140, 170, 153, 140, 134, 96, 174, 175, 144, 125, 145, 130, 144, 184, 82, 170, 145, 135, 150, 115, 128, 116, 130, 150, 138, 170, 160, 154, 115, 165, 125, 94, 112, 142, 155, 110, 160, 140, 148, 92, 180, 140, 138, 160, 140, 144, 115, 100, 130, 152, 124, 140, 110, 168, 135, 106, 124, 92, 125, 150, 135, 150, 170, 130, 185, 180, 170, 139, 140, 110, 150, 110, 190, 175, 140, 152, 130, 150, 122, 124, 120, 175, 175, 146, 118, 130, 94, 125, 158, 155, 150, 132, 155, 176, 160, 125, 120, 100, 150, 140, 160, 150, 150, 130, 100, 130, 119, 96, 174, 150, 140, 175, 140, 118, 100, 160, 160, 188, 162, 172, 134, 135, 105, 150, 150, 90, 120, 150, 124, 140, 130, 92, 110, 138, 110, 120, 120, 116, 160, 110, 180, 116, 132, 136, 116, 98, 150, 150, 146, 150, 100, 140, 180, 140, 185, 140, 110, 140, 128, 164, 98, 170, 150, 137, 150, 170, 112, 150, 125, 185, 137, 150, 140, 134, 170, 184, 158, 167, 129, 142, 140, 160, 118, 136, 99, 102, 155, 142, 143, 118, 103, 137, 150, 150, 130, 120, 135, 115, 115, 152, 96, 130, 150, 172, 120, 155, 165, 138, 115, 125, 145, 175, 110, 150, 91, 145, 140, 165, 130, 134, 180, 100, 150, 126, 126, 155, 135, 122, 160, 160, 170, 120, 140, 132, 156, 180, 138, 135, 148, 93, 127, 110, 139, 131, 92, 149, 149, 150, 120, 123, 126, 127, 155, 120, 138, 182, 154, 110, 176, 154, 141, 123, 148, 121, 77, 136, 175, 109, 166, 128, 133, 128, 138, 119, 82, 130, 143, 82, 179, 144, 170, 134, 114, 154, 149, 145, 122, 114, 113, 120, 104, 130, 115, 128, 104, 125, 120, 140, 100, 100, 92, 125, 113, 95, 128, 115, 72, 124, 99, 148, 97, 140, 117, 120, 120, 86, 63, 108, 98, 115, 105, 121, 118, 122, 157, 156, 99, 120, 145, 156, 155, 105, 99, 135, 83, 145, 60, 92, 115, 120, 98, 150, 143, 105, 122, 70, 110, 163, 67, 128, 120, 130, 100, 72, 94, 122, 78, 150, 103, 98, 110, 90, 112, 127, 140, 149, 99, 120, 105, 140, 141, 157, 140, 117, 120, 120, 148, 86, 84, 125, 120, 118, 124, 106, 111, 116, 180, 129, 125, 140, 120, 124, 117, 110, 105, 155, 110, 122, 118, 133, 123, 131, 80, 165, 86, 111, 118, 84, 117, 107, 128, 160, 125, 130, 97, 161, 106, 130, 140, 122, 130, 120, 139, 108, 148, 123, 110, 118, 125, 106, 112, 128, 180, 144, 135, 140, 102, 108, 145, 127, 110, 140, 69, 148, 130, 130, 140, 138, 140, 138, 112, 131, 112, 80, 150, 110, 126, 88, 153, 150, 120, 160, 132, 120, 110, 121, 128, 135, 120, 117, 150, 144, 113, 135, 127, 109, 128, 115, 102, 140, 135, 122, 119, 130, 112, 100, 122, 120, 105, 129, 120, 139, 162, 100, 140, 135, 73, 86, 108, 116, 160, 118, 112, 122, 124, 102, 137, 141, 154, 126, 160, 115, 128, 115, 105, 110, 119, 109, 135, 130, 112, 126, 120, 110, 119, 110, 130, 159, 84, 126, 116, 120, 122, 165, 122, 94, 133, 110, 150, 130, 113, 140, 100, 136, 127, 98, 96, 123, 98, 112, 151, 96, 108, 128, 138, 126, 154, 137, 100, 135, 93, 109, 160, 141, 105, 121, 140, 142, 142, 170, 154, 161, 111, 180, 145, 159, 125, 120, 155, 144, 178, 129, 180, 181, 143, 159, 139, 152, 157, 165, 130, 150, 138, 170, 140, 126, 150, 138, 125, 150, 186, 181, 163, 179, 156, 134, 165, 126, 177, 120, 114, 125, 184, 157, 179, 175, 168, 125, 96, 143, 103, 173, 142, 169, 171, 150, 112, 186, 152, 149, 152, 140, 163, 143, 116, 142, 147, 148, 179, 173, 178, 105, 130, 111, 168, 126, 178, 140, 145, 163, 128, 164, 169, 109, 108, 168, 118, 151, 156, 133, 162, 175, 71, 163, 124, 147, 166, 143, 157, 162, 138, 117, 153, 161, 170, 162, 162, 144, 133, 114, 103, 139, 116, 88, 151, 152, 163, 99, 169, 158, 160, 169, 132, 178, 96, 165, 160, 172, 144, 192, 168, 132, 182, 163, 125, 195, 95, 160, 114, 173, 172, 179, 158, 167, 122, 149, 172, 111, 170, 162, 165, 182, 154, 155, 130, 161, 154, 159, 152, 152, 174, 131, 146, 125, 115, 174, 106, 122, 147, 163, 163, 194, 150, 158, 122, 173, 162, 105, 147, 157, 112, 160, 125, 156, 156, 175, 161, 122, 158, 151, 162, 151, 171, 141, 173, 145, 178, 160, 154, 131, 187, 159, 166, 165, 131, 202, 172, 172, 154, 147, 170, 126, 127, 174, 132, 182, 132, 97, 136, 162, 190, 146, 140, 185, 161, 146, 145, 160, 120, 156, 172, 150, 182, 143, 160, 142, 144, 158, 148, 155, 142, 113, 188, 153, 123, 157, 162, 137, 132, 158, 171, 172, 132, 160, 171, 168, 162, 173, 153, 148, 108, 115, 169, 143, 156, 162, 155, 152, 152, 164, 131, 143, 179, 130, 174, 161, 140, 146, 144, 163, 169, 150, 166, 144, 144, 136, 182, 90, 123, 132, 141, 115, 174, 173], \"xaxis\": \"x\", \"y\": [0, 1, 0, 1, 0, 0, 0, 0, 1, 0, 0, 1, 0, 1, 0, 0, 1, 0, 1, 1, 0, 0, 0, 1, 0, 0, 0, 0, 0, 0, 1, 0, 1, 1, 0, 0, 1, 0, 0, 0, 0, 1, 0, 0, 1, 0, 0, 0, 0, 1, 1, 1, 0, 0, 0, 0, 1, 1, 0, 1, 0, 0, 0, 1, 0, 0, 0, 0, 1, 0, 1, 0, 1, 0, 1, 0, 1, 0, 0, 1, 0, 0, 1, 0, 1, 1, 1, 0, 1, 0, 0, 0, 0, 1, 0, 1, 0, 0, 0, 0, 1, 0, 1, 1, 1, 0, 0, 0, 0, 0, 0, 1, 0, 0, 0, 1, 1, 1, 0, 1, 1, 0, 0, 1, 0, 0, 0, 0, 0, 0, 0, 1, 1, 1, 0, 1, 0, 0, 1, 1, 1, 1, 1, 0, 1, 0, 0, 0, 0, 1, 0, 0, 0, 0, 0, 1, 1, 0, 1, 0, 1, 1, 0, 0, 0, 1, 1, 0, 0, 0, 0, 0, 0, 0, 1, 1, 1, 0, 0, 0, 1, 0, 1, 0, 0, 1, 0, 1, 0, 1, 0, 0, 0, 0, 0, 0, 0, 0, 1, 0, 0, 0, 0, 0, 0, 0, 0, 1, 0, 1, 1, 1, 0, 0, 1, 0, 1, 0, 0, 0, 1, 1, 0, 0, 0, 1, 0, 1, 0, 0, 0, 0, 0, 0, 0, 0, 1, 1, 1, 1, 0, 1, 1, 0, 1, 0, 1, 1, 1, 1, 1, 1, 0, 0, 1, 0, 0, 0, 0, 0, 0, 0, 1, 1, 1, 0, 1, 0, 1, 0, 0, 0, 1, 0, 0, 0, 1, 1, 0, 0, 0, 1, 0, 0, 0, 0, 0, 0, 0, 0, 0, 0, 0, 1, 1, 1, 1, 1, 1, 1, 1, 0, 1, 1, 1, 1, 1, 0, 1, 1, 0, 1, 1, 1, 0, 1, 1, 1, 1, 1, 1, 1, 1, 1, 1, 1, 0, 1, 1, 1, 1, 1, 0, 1, 1, 1, 0, 1, 1, 1, 1, 1, 1, 1, 1, 1, 1, 1, 1, 1, 1, 1, 1, 1, 1, 1, 1, 1, 1, 1, 1, 1, 1, 1, 0, 1, 1, 1, 1, 1, 1, 1, 1, 1, 1, 1, 1, 1, 1, 1, 1, 1, 1, 1, 1, 1, 1, 1, 1, 1, 1, 1, 1, 1, 1, 1, 1, 1, 1, 1, 1, 1, 1, 1, 1, 1, 1, 1, 1, 1, 1, 1, 1, 1, 1, 1, 1, 0, 1, 1, 0, 0, 1, 0, 1, 1, 0, 1, 1, 1, 1, 0, 1, 1, 0, 0, 1, 1, 1, 0, 1, 1, 1, 1, 1, 1, 1, 1, 1, 1, 1, 1, 1, 0, 1, 0, 1, 1, 1, 0, 1, 1, 1, 0, 1, 0, 1, 0, 1, 0, 1, 1, 1, 1, 0, 1, 0, 1, 1, 1, 1, 1, 1, 1, 1, 1, 0, 1, 0, 1, 1, 1, 1, 1, 1, 1, 0, 1, 1, 1, 1, 1, 1, 0, 1, 1, 1, 0, 1, 1, 0, 1, 0, 1, 1, 0, 1, 1, 1, 1, 0, 1, 1, 1, 0, 0, 1, 0, 1, 1, 1, 1, 1, 1, 1, 1, 1, 1, 1, 0, 1, 1, 1, 1, 0, 0, 1, 1, 1, 0, 1, 0, 1, 1, 0, 1, 0, 1, 1, 1, 0, 0, 0, 1, 1, 1, 0, 1, 1, 1, 1, 1, 1, 1, 1, 1, 1, 1, 1, 1, 1, 1, 1, 0, 1, 1, 1, 0, 1, 1, 0, 0, 1, 1, 1, 1, 1, 0, 1, 1, 0, 1, 1, 1, 0, 0, 1, 1, 1, 1, 1, 0, 1, 0, 1, 1, 0, 1, 0, 0, 0, 1, 1, 1, 1, 0, 0, 0, 1, 0, 0, 1, 1, 0, 0, 1, 0, 0, 0, 0, 0, 0, 0, 1, 0, 1, 0, 0, 1, 1, 1, 1, 1, 0, 0, 1, 0, 0, 0, 1, 0, 1, 1, 1, 1, 1, 0, 0, 0, 0, 0, 1, 0, 1, 1, 0, 1, 0, 0, 0, 1, 0, 1, 0, 1, 1, 0, 0, 0, 0, 1, 0, 0, 0, 0, 1, 1, 1, 0, 0, 0, 0, 0, 0, 1, 0, 1, 1, 1, 1, 1, 0, 1, 0, 0, 0, 1, 0, 1, 1, 1, 0, 1, 1, 0, 1, 0, 1, 0, 0, 0, 1, 1, 0, 1, 1, 1, 1, 0, 0, 0, 1, 0, 0, 1, 1, 1, 0, 1, 0, 0, 0, 1, 0, 0, 1, 0, 1, 0, 1, 1, 1, 1, 1, 0, 0, 0, 0, 0, 0, 0, 1, 0, 0, 1, 1, 1, 0, 1, 0, 0, 0, 0, 0, 1, 0, 1, 1, 0, 0, 1, 1, 1, 1, 0, 0, 1, 1, 0, 0, 0, 1, 0, 0, 1, 0, 1, 0, 1, 0, 0, 0, 0, 0, 1, 0, 1, 1, 1, 1, 0, 0, 0, 1, 0, 1, 0, 0, 1, 0, 0, 0, 0, 0, 0, 1, 1, 0, 1, 0, 0, 1, 1, 0, 0, 1, 1, 0, 1, 0, 1, 0, 1, 0, 0, 1, 0, 0, 1, 0, 1, 1, 0, 1, 1, 1, 0, 1, 0, 0, 0, 0, 1, 1, 0, 0, 1, 1, 0, 1, 0, 0, 0, 0, 1, 0, 0, 1, 1, 1, 0, 0, 0, 1, 0, 1, 0, 1, 0, 1, 1, 1, 0, 0, 0, 1, 0, 1, 1, 1, 0, 1, 1, 1, 1, 1, 1, 0], \"yaxis\": \"y\"}],\n",
              "                        {\"coloraxis\": {\"colorbar\": {\"title\": {\"text\": \"HeartDisease\"}}, \"colorscale\": [[0.0, \"#0d0887\"], [0.1111111111111111, \"#46039f\"], [0.2222222222222222, \"#7201a8\"], [0.3333333333333333, \"#9c179e\"], [0.4444444444444444, \"#bd3786\"], [0.5555555555555556, \"#d8576b\"], [0.6666666666666666, \"#ed7953\"], [0.7777777777777778, \"#fb9f3a\"], [0.8888888888888888, \"#fdca26\"], [1.0, \"#f0f921\"]]}, \"legend\": {\"tracegroupgap\": 0}, \"margin\": {\"t\": 60}, \"template\": {\"data\": {\"bar\": [{\"error_x\": {\"color\": \"#2a3f5f\"}, \"error_y\": {\"color\": \"#2a3f5f\"}, \"marker\": {\"line\": {\"color\": \"#E5ECF6\", \"width\": 0.5}}, \"type\": \"bar\"}], \"barpolar\": [{\"marker\": {\"line\": {\"color\": \"#E5ECF6\", \"width\": 0.5}}, \"type\": \"barpolar\"}], \"carpet\": [{\"aaxis\": {\"endlinecolor\": \"#2a3f5f\", \"gridcolor\": \"white\", \"linecolor\": \"white\", \"minorgridcolor\": \"white\", \"startlinecolor\": \"#2a3f5f\"}, \"baxis\": {\"endlinecolor\": \"#2a3f5f\", \"gridcolor\": \"white\", \"linecolor\": \"white\", \"minorgridcolor\": \"white\", \"startlinecolor\": \"#2a3f5f\"}, \"type\": \"carpet\"}], \"choropleth\": [{\"colorbar\": {\"outlinewidth\": 0, \"ticks\": \"\"}, \"type\": \"choropleth\"}], \"contour\": [{\"colorbar\": {\"outlinewidth\": 0, \"ticks\": \"\"}, \"colorscale\": [[0.0, \"#0d0887\"], [0.1111111111111111, \"#46039f\"], [0.2222222222222222, \"#7201a8\"], [0.3333333333333333, \"#9c179e\"], [0.4444444444444444, \"#bd3786\"], [0.5555555555555556, \"#d8576b\"], [0.6666666666666666, \"#ed7953\"], [0.7777777777777778, \"#fb9f3a\"], [0.8888888888888888, \"#fdca26\"], [1.0, \"#f0f921\"]], \"type\": \"contour\"}], \"contourcarpet\": [{\"colorbar\": {\"outlinewidth\": 0, \"ticks\": \"\"}, \"type\": \"contourcarpet\"}], \"heatmap\": [{\"colorbar\": {\"outlinewidth\": 0, \"ticks\": \"\"}, \"colorscale\": [[0.0, \"#0d0887\"], [0.1111111111111111, \"#46039f\"], [0.2222222222222222, \"#7201a8\"], [0.3333333333333333, \"#9c179e\"], [0.4444444444444444, \"#bd3786\"], [0.5555555555555556, \"#d8576b\"], [0.6666666666666666, \"#ed7953\"], [0.7777777777777778, \"#fb9f3a\"], [0.8888888888888888, \"#fdca26\"], [1.0, \"#f0f921\"]], \"type\": \"heatmap\"}], \"heatmapgl\": [{\"colorbar\": {\"outlinewidth\": 0, \"ticks\": \"\"}, \"colorscale\": [[0.0, \"#0d0887\"], [0.1111111111111111, \"#46039f\"], [0.2222222222222222, \"#7201a8\"], [0.3333333333333333, \"#9c179e\"], [0.4444444444444444, \"#bd3786\"], [0.5555555555555556, \"#d8576b\"], [0.6666666666666666, \"#ed7953\"], [0.7777777777777778, \"#fb9f3a\"], [0.8888888888888888, \"#fdca26\"], [1.0, \"#f0f921\"]], \"type\": \"heatmapgl\"}], \"histogram\": [{\"marker\": {\"colorbar\": {\"outlinewidth\": 0, \"ticks\": \"\"}}, \"type\": \"histogram\"}], \"histogram2d\": [{\"colorbar\": {\"outlinewidth\": 0, \"ticks\": \"\"}, \"colorscale\": [[0.0, \"#0d0887\"], [0.1111111111111111, \"#46039f\"], [0.2222222222222222, \"#7201a8\"], [0.3333333333333333, \"#9c179e\"], [0.4444444444444444, \"#bd3786\"], [0.5555555555555556, \"#d8576b\"], [0.6666666666666666, \"#ed7953\"], [0.7777777777777778, \"#fb9f3a\"], [0.8888888888888888, \"#fdca26\"], [1.0, \"#f0f921\"]], \"type\": \"histogram2d\"}], \"histogram2dcontour\": [{\"colorbar\": {\"outlinewidth\": 0, \"ticks\": \"\"}, \"colorscale\": [[0.0, \"#0d0887\"], [0.1111111111111111, \"#46039f\"], [0.2222222222222222, \"#7201a8\"], [0.3333333333333333, \"#9c179e\"], [0.4444444444444444, \"#bd3786\"], [0.5555555555555556, \"#d8576b\"], [0.6666666666666666, \"#ed7953\"], [0.7777777777777778, \"#fb9f3a\"], [0.8888888888888888, \"#fdca26\"], [1.0, \"#f0f921\"]], \"type\": \"histogram2dcontour\"}], \"mesh3d\": [{\"colorbar\": {\"outlinewidth\": 0, \"ticks\": \"\"}, \"type\": \"mesh3d\"}], \"parcoords\": [{\"line\": {\"colorbar\": {\"outlinewidth\": 0, \"ticks\": \"\"}}, \"type\": \"parcoords\"}], \"pie\": [{\"automargin\": true, \"type\": \"pie\"}], \"scatter\": [{\"marker\": {\"colorbar\": {\"outlinewidth\": 0, \"ticks\": \"\"}}, \"type\": \"scatter\"}], \"scatter3d\": [{\"line\": {\"colorbar\": {\"outlinewidth\": 0, \"ticks\": \"\"}}, \"marker\": {\"colorbar\": {\"outlinewidth\": 0, \"ticks\": \"\"}}, \"type\": \"scatter3d\"}], \"scattercarpet\": [{\"marker\": {\"colorbar\": {\"outlinewidth\": 0, \"ticks\": \"\"}}, \"type\": \"scattercarpet\"}], \"scattergeo\": [{\"marker\": {\"colorbar\": {\"outlinewidth\": 0, \"ticks\": \"\"}}, \"type\": \"scattergeo\"}], \"scattergl\": [{\"marker\": {\"colorbar\": {\"outlinewidth\": 0, \"ticks\": \"\"}}, \"type\": \"scattergl\"}], \"scattermapbox\": [{\"marker\": {\"colorbar\": {\"outlinewidth\": 0, \"ticks\": \"\"}}, \"type\": \"scattermapbox\"}], \"scatterpolar\": [{\"marker\": {\"colorbar\": {\"outlinewidth\": 0, \"ticks\": \"\"}}, \"type\": \"scatterpolar\"}], \"scatterpolargl\": [{\"marker\": {\"colorbar\": {\"outlinewidth\": 0, \"ticks\": \"\"}}, \"type\": \"scatterpolargl\"}], \"scatterternary\": [{\"marker\": {\"colorbar\": {\"outlinewidth\": 0, \"ticks\": \"\"}}, \"type\": \"scatterternary\"}], \"surface\": [{\"colorbar\": {\"outlinewidth\": 0, \"ticks\": \"\"}, \"colorscale\": [[0.0, \"#0d0887\"], [0.1111111111111111, \"#46039f\"], [0.2222222222222222, \"#7201a8\"], [0.3333333333333333, \"#9c179e\"], [0.4444444444444444, \"#bd3786\"], [0.5555555555555556, \"#d8576b\"], [0.6666666666666666, \"#ed7953\"], [0.7777777777777778, \"#fb9f3a\"], [0.8888888888888888, \"#fdca26\"], [1.0, \"#f0f921\"]], \"type\": \"surface\"}], \"table\": [{\"cells\": {\"fill\": {\"color\": \"#EBF0F8\"}, \"line\": {\"color\": \"white\"}}, \"header\": {\"fill\": {\"color\": \"#C8D4E3\"}, \"line\": {\"color\": \"white\"}}, \"type\": \"table\"}]}, \"layout\": {\"annotationdefaults\": {\"arrowcolor\": \"#2a3f5f\", \"arrowhead\": 0, \"arrowwidth\": 1}, \"coloraxis\": {\"colorbar\": {\"outlinewidth\": 0, \"ticks\": \"\"}}, \"colorscale\": {\"diverging\": [[0, \"#8e0152\"], [0.1, \"#c51b7d\"], [0.2, \"#de77ae\"], [0.3, \"#f1b6da\"], [0.4, \"#fde0ef\"], [0.5, \"#f7f7f7\"], [0.6, \"#e6f5d0\"], [0.7, \"#b8e186\"], [0.8, \"#7fbc41\"], [0.9, \"#4d9221\"], [1, \"#276419\"]], \"sequential\": [[0.0, \"#0d0887\"], [0.1111111111111111, \"#46039f\"], [0.2222222222222222, \"#7201a8\"], [0.3333333333333333, \"#9c179e\"], [0.4444444444444444, \"#bd3786\"], [0.5555555555555556, \"#d8576b\"], [0.6666666666666666, \"#ed7953\"], [0.7777777777777778, \"#fb9f3a\"], [0.8888888888888888, \"#fdca26\"], [1.0, \"#f0f921\"]], \"sequentialminus\": [[0.0, \"#0d0887\"], [0.1111111111111111, \"#46039f\"], [0.2222222222222222, \"#7201a8\"], [0.3333333333333333, \"#9c179e\"], [0.4444444444444444, \"#bd3786\"], [0.5555555555555556, \"#d8576b\"], [0.6666666666666666, \"#ed7953\"], [0.7777777777777778, \"#fb9f3a\"], [0.8888888888888888, \"#fdca26\"], [1.0, \"#f0f921\"]]}, \"colorway\": [\"#636efa\", \"#EF553B\", \"#00cc96\", \"#ab63fa\", \"#FFA15A\", \"#19d3f3\", \"#FF6692\", \"#B6E880\", \"#FF97FF\", \"#FECB52\"], \"font\": {\"color\": \"#2a3f5f\"}, \"geo\": {\"bgcolor\": \"white\", \"lakecolor\": \"white\", \"landcolor\": \"#E5ECF6\", \"showlakes\": true, \"showland\": true, \"subunitcolor\": \"white\"}, \"hoverlabel\": {\"align\": \"left\"}, \"hovermode\": \"closest\", \"mapbox\": {\"style\": \"light\"}, \"paper_bgcolor\": \"white\", \"plot_bgcolor\": \"#E5ECF6\", \"polar\": {\"angularaxis\": {\"gridcolor\": \"white\", \"linecolor\": \"white\", \"ticks\": \"\"}, \"bgcolor\": \"#E5ECF6\", \"radialaxis\": {\"gridcolor\": \"white\", \"linecolor\": \"white\", \"ticks\": \"\"}}, \"scene\": {\"xaxis\": {\"backgroundcolor\": \"#E5ECF6\", \"gridcolor\": \"white\", \"gridwidth\": 2, \"linecolor\": \"white\", \"showbackground\": true, \"ticks\": \"\", \"zerolinecolor\": \"white\"}, \"yaxis\": {\"backgroundcolor\": \"#E5ECF6\", \"gridcolor\": \"white\", \"gridwidth\": 2, \"linecolor\": \"white\", \"showbackground\": true, \"ticks\": \"\", \"zerolinecolor\": \"white\"}, \"zaxis\": {\"backgroundcolor\": \"#E5ECF6\", \"gridcolor\": \"white\", \"gridwidth\": 2, \"linecolor\": \"white\", \"showbackground\": true, \"ticks\": \"\", \"zerolinecolor\": \"white\"}}, \"shapedefaults\": {\"line\": {\"color\": \"#2a3f5f\"}}, \"ternary\": {\"aaxis\": {\"gridcolor\": \"white\", \"linecolor\": \"white\", \"ticks\": \"\"}, \"baxis\": {\"gridcolor\": \"white\", \"linecolor\": \"white\", \"ticks\": \"\"}, \"bgcolor\": \"#E5ECF6\", \"caxis\": {\"gridcolor\": \"white\", \"linecolor\": \"white\", \"ticks\": \"\"}}, \"title\": {\"x\": 0.05}, \"xaxis\": {\"automargin\": true, \"gridcolor\": \"white\", \"linecolor\": \"white\", \"ticks\": \"\", \"title\": {\"standoff\": 15}, \"zerolinecolor\": \"white\", \"zerolinewidth\": 2}, \"yaxis\": {\"automargin\": true, \"gridcolor\": \"white\", \"linecolor\": \"white\", \"ticks\": \"\", \"title\": {\"standoff\": 15}, \"zerolinecolor\": \"white\", \"zerolinewidth\": 2}}}, \"xaxis\": {\"anchor\": \"y\", \"domain\": [0.0, 1.0], \"title\": {\"text\": \"MaxHR\"}}, \"yaxis\": {\"anchor\": \"x\", \"domain\": [0.0, 1.0], \"title\": {\"text\": \"HeartDisease\"}}},\n",
              "                        {\"responsive\": true}\n",
              "                    ).then(function(){\n",
              "                            \n",
              "var gd = document.getElementById('f3c0bd01-e502-417b-86ea-1fe779af590d');\n",
              "var x = new MutationObserver(function (mutations, observer) {{\n",
              "        var display = window.getComputedStyle(gd).display;\n",
              "        if (!display || display === 'none') {{\n",
              "            console.log([gd, 'removed!']);\n",
              "            Plotly.purge(gd);\n",
              "            observer.disconnect();\n",
              "        }}\n",
              "}});\n",
              "\n",
              "// Listen for the removal of the full notebook cells\n",
              "var notebookContainer = gd.closest('#notebook-container');\n",
              "if (notebookContainer) {{\n",
              "    x.observe(notebookContainer, {childList: true});\n",
              "}}\n",
              "\n",
              "// Listen for the clearing of the current output cell\n",
              "var outputEl = gd.closest('.output');\n",
              "if (outputEl) {{\n",
              "    x.observe(outputEl, {childList: true});\n",
              "}}\n",
              "\n",
              "                        })\n",
              "                };\n",
              "                \n",
              "            </script>\n",
              "        </div>\n",
              "</body>\n",
              "</html>"
            ]
          },
          "metadata": {}
        }
      ]
    },
    {
      "cell_type": "code",
      "metadata": {
        "colab": {
          "base_uri": "https://localhost:8080/"
        },
        "id": "eF91arctKluF",
        "outputId": "73578433-3a17-4db8-9f7a-3ea31bee6c79"
      },
      "source": [
        "from sklearn.linear_model import LogisticRegression\n",
        "\n",
        "X_train = heart['MaxHR'].to_numpy().reshape((len(heart['MaxHR']), 1))\n",
        "y_train = heart['HeartDisease'].to_numpy()\n",
        "\n",
        "X_train.shape, y_train.shape"
      ],
      "execution_count": null,
      "outputs": [
        {
          "output_type": "execute_result",
          "data": {
            "text/plain": [
              "((918, 1), (918,))"
            ]
          },
          "metadata": {},
          "execution_count": 15
        }
      ]
    },
    {
      "cell_type": "code",
      "metadata": {
        "colab": {
          "base_uri": "https://localhost:8080/"
        },
        "id": "cczitM_vLYMf",
        "outputId": "9a44c105-0837-4e76-8708-88975a9f1fe2"
      },
      "source": [
        "lr = LogisticRegression().fit(X_train, y_train)\n",
        "lr.predict(X_train).shape"
      ],
      "execution_count": null,
      "outputs": [
        {
          "output_type": "execute_result",
          "data": {
            "text/plain": [
              "(918,)"
            ]
          },
          "metadata": {},
          "execution_count": 16
        }
      ]
    },
    {
      "cell_type": "code",
      "metadata": {
        "colab": {
          "base_uri": "https://localhost:8080/"
        },
        "id": "QqBSp3mwLr7t",
        "outputId": "361a9325-23bf-48ce-9728-0e98a8775902"
      },
      "source": [
        "lr.predict_proba(X_train).shape"
      ],
      "execution_count": null,
      "outputs": [
        {
          "output_type": "execute_result",
          "data": {
            "text/plain": [
              "(918, 2)"
            ]
          },
          "metadata": {},
          "execution_count": 17
        }
      ]
    },
    {
      "cell_type": "code",
      "metadata": {
        "colab": {
          "base_uri": "https://localhost:8080/",
          "height": 420
        },
        "id": "RIDASeKPL2BI",
        "outputId": "84499f92-f248-4ac1-c4b9-fb8077405ba0"
      },
      "source": [
        "from copy import deepcopy\n",
        "\n",
        "predictions_df = deepcopy(heart[['MaxHR', 'HeartDisease']])\n",
        "predictions_df['Sk Learn Probability'] = lr.predict_proba(X_train)[:, 1]\n",
        "predictions_df['SK Learn Prediction'] = (lr.predict_proba(X_train)[:, 1] > 0.5).astype(int)\n",
        "predictions_df"
      ],
      "execution_count": null,
      "outputs": [
        {
          "output_type": "execute_result",
          "data": {
            "text/html": [
              "<div>\n",
              "<style scoped>\n",
              "    .dataframe tbody tr th:only-of-type {\n",
              "        vertical-align: middle;\n",
              "    }\n",
              "\n",
              "    .dataframe tbody tr th {\n",
              "        vertical-align: top;\n",
              "    }\n",
              "\n",
              "    .dataframe thead th {\n",
              "        text-align: right;\n",
              "    }\n",
              "</style>\n",
              "<table border=\"1\" class=\"dataframe\">\n",
              "  <thead>\n",
              "    <tr style=\"text-align: right;\">\n",
              "      <th></th>\n",
              "      <th>MaxHR</th>\n",
              "      <th>HeartDisease</th>\n",
              "      <th>Sk Learn Probability</th>\n",
              "      <th>SK Learn Prediction</th>\n",
              "    </tr>\n",
              "  </thead>\n",
              "  <tbody>\n",
              "    <tr>\n",
              "      <th>0</th>\n",
              "      <td>172</td>\n",
              "      <td>0</td>\n",
              "      <td>0.260939</td>\n",
              "      <td>0</td>\n",
              "    </tr>\n",
              "    <tr>\n",
              "      <th>1</th>\n",
              "      <td>156</td>\n",
              "      <td>1</td>\n",
              "      <td>0.389737</td>\n",
              "      <td>0</td>\n",
              "    </tr>\n",
              "    <tr>\n",
              "      <th>2</th>\n",
              "      <td>98</td>\n",
              "      <td>0</td>\n",
              "      <td>0.845538</td>\n",
              "      <td>1</td>\n",
              "    </tr>\n",
              "    <tr>\n",
              "      <th>3</th>\n",
              "      <td>108</td>\n",
              "      <td>1</td>\n",
              "      <td>0.790775</td>\n",
              "      <td>1</td>\n",
              "    </tr>\n",
              "    <tr>\n",
              "      <th>4</th>\n",
              "      <td>122</td>\n",
              "      <td>0</td>\n",
              "      <td>0.692325</td>\n",
              "      <td>1</td>\n",
              "    </tr>\n",
              "    <tr>\n",
              "      <th>...</th>\n",
              "      <td>...</td>\n",
              "      <td>...</td>\n",
              "      <td>...</td>\n",
              "      <td>...</td>\n",
              "    </tr>\n",
              "    <tr>\n",
              "      <th>913</th>\n",
              "      <td>132</td>\n",
              "      <td>1</td>\n",
              "      <td>0.608400</td>\n",
              "      <td>1</td>\n",
              "    </tr>\n",
              "    <tr>\n",
              "      <th>914</th>\n",
              "      <td>141</td>\n",
              "      <td>1</td>\n",
              "      <td>0.526777</td>\n",
              "      <td>1</td>\n",
              "    </tr>\n",
              "    <tr>\n",
              "      <th>915</th>\n",
              "      <td>115</td>\n",
              "      <td>1</td>\n",
              "      <td>0.744655</td>\n",
              "      <td>1</td>\n",
              "    </tr>\n",
              "    <tr>\n",
              "      <th>916</th>\n",
              "      <td>174</td>\n",
              "      <td>1</td>\n",
              "      <td>0.246907</td>\n",
              "      <td>0</td>\n",
              "    </tr>\n",
              "    <tr>\n",
              "      <th>917</th>\n",
              "      <td>173</td>\n",
              "      <td>0</td>\n",
              "      <td>0.253859</td>\n",
              "      <td>0</td>\n",
              "    </tr>\n",
              "  </tbody>\n",
              "</table>\n",
              "<p>918 rows × 4 columns</p>\n",
              "</div>"
            ],
            "text/plain": [
              "     MaxHR  HeartDisease  Sk Learn Probability  SK Learn Prediction\n",
              "0      172             0              0.260939                    0\n",
              "1      156             1              0.389737                    0\n",
              "2       98             0              0.845538                    1\n",
              "3      108             1              0.790775                    1\n",
              "4      122             0              0.692325                    1\n",
              "..     ...           ...                   ...                  ...\n",
              "913    132             1              0.608400                    1\n",
              "914    141             1              0.526777                    1\n",
              "915    115             1              0.744655                    1\n",
              "916    174             1              0.246907                    0\n",
              "917    173             0              0.253859                    0\n",
              "\n",
              "[918 rows x 4 columns]"
            ]
          },
          "metadata": {},
          "execution_count": 22
        }
      ]
    },
    {
      "cell_type": "code",
      "metadata": {
        "colab": {
          "base_uri": "https://localhost:8080/",
          "height": 542
        },
        "id": "flAEaekYMUQO",
        "outputId": "afdde97d-84af-4fef-9702-9789f262ce4a"
      },
      "source": [
        "import plotly.graph_objects as go\n",
        "\n",
        "fig = go.Figure()\n",
        "\n",
        "fig.add_trace(go.Scatter(x=predictions_df['MaxHR'], y=predictions_df['HeartDisease'],\n",
        "                         mode='markers', name='Observed', marker={'color':'blue'}))\n",
        "\n",
        "fig.add_trace(go.Scatter(x=predictions_df['MaxHR'], y=predictions_df['Sk Learn Probability'],\n",
        "                         mode='markers', name='Model Predictions', marker={'color':'green'}))\n",
        "\n",
        "fig.update_layout(\n",
        "    title=\"Heart Disease vs Max Heart Rate\",\n",
        "    xaxis_title=\"Max Heart Rate\",\n",
        "    yaxis_title=\"Heart Disease\"\n",
        ")\n",
        "\n",
        "fig.show()"
      ],
      "execution_count": null,
      "outputs": [
        {
          "output_type": "display_data",
          "data": {
            "text/html": [
              "<html>\n",
              "<head><meta charset=\"utf-8\" /></head>\n",
              "<body>\n",
              "    <div>\n",
              "            <script src=\"https://cdnjs.cloudflare.com/ajax/libs/mathjax/2.7.5/MathJax.js?config=TeX-AMS-MML_SVG\"></script><script type=\"text/javascript\">if (window.MathJax) {MathJax.Hub.Config({SVG: {font: \"STIX-Web\"}});}</script>\n",
              "                <script type=\"text/javascript\">window.PlotlyConfig = {MathJaxConfig: 'local'};</script>\n",
              "        <script src=\"https://cdn.plot.ly/plotly-latest.min.js\"></script>    \n",
              "            <div id=\"b64746e1-d967-4b52-a085-ec4bd6381099\" class=\"plotly-graph-div\" style=\"height:525px; width:100%;\"></div>\n",
              "            <script type=\"text/javascript\">\n",
              "                \n",
              "                    window.PLOTLYENV=window.PLOTLYENV || {};\n",
              "                    \n",
              "                if (document.getElementById(\"b64746e1-d967-4b52-a085-ec4bd6381099\")) {\n",
              "                    Plotly.newPlot(\n",
              "                        'b64746e1-d967-4b52-a085-ec4bd6381099',\n",
              "                        [{\"marker\": {\"color\": \"blue\"}, \"mode\": \"markers\", \"name\": \"Observed\", \"type\": \"scatter\", \"x\": [172, 156, 98, 108, 122, 170, 170, 142, 130, 120, 142, 99, 145, 140, 137, 150, 166, 165, 125, 160, 142, 142, 164, 150, 138, 178, 112, 118, 127, 145, 130, 114, 122, 130, 154, 155, 87, 142, 148, 130, 130, 100, 168, 170, 120, 120, 168, 170, 184, 170, 121, 98, 122, 150, 140, 170, 153, 140, 134, 96, 174, 175, 144, 125, 145, 130, 144, 184, 82, 170, 145, 135, 150, 115, 128, 116, 130, 150, 138, 170, 160, 154, 115, 165, 125, 94, 112, 142, 155, 110, 160, 140, 148, 92, 180, 140, 138, 160, 140, 144, 115, 100, 130, 152, 124, 140, 110, 168, 135, 106, 124, 92, 125, 150, 135, 150, 170, 130, 185, 180, 170, 139, 140, 110, 150, 110, 190, 175, 140, 152, 130, 150, 122, 124, 120, 175, 175, 146, 118, 130, 94, 125, 158, 155, 150, 132, 155, 176, 160, 125, 120, 100, 150, 140, 160, 150, 150, 130, 100, 130, 119, 96, 174, 150, 140, 175, 140, 118, 100, 160, 160, 188, 162, 172, 134, 135, 105, 150, 150, 90, 120, 150, 124, 140, 130, 92, 110, 138, 110, 120, 120, 116, 160, 110, 180, 116, 132, 136, 116, 98, 150, 150, 146, 150, 100, 140, 180, 140, 185, 140, 110, 140, 128, 164, 98, 170, 150, 137, 150, 170, 112, 150, 125, 185, 137, 150, 140, 134, 170, 184, 158, 167, 129, 142, 140, 160, 118, 136, 99, 102, 155, 142, 143, 118, 103, 137, 150, 150, 130, 120, 135, 115, 115, 152, 96, 130, 150, 172, 120, 155, 165, 138, 115, 125, 145, 175, 110, 150, 91, 145, 140, 165, 130, 134, 180, 100, 150, 126, 126, 155, 135, 122, 160, 160, 170, 120, 140, 132, 156, 180, 138, 135, 148, 93, 127, 110, 139, 131, 92, 149, 149, 150, 120, 123, 126, 127, 155, 120, 138, 182, 154, 110, 176, 154, 141, 123, 148, 121, 77, 136, 175, 109, 166, 128, 133, 128, 138, 119, 82, 130, 143, 82, 179, 144, 170, 134, 114, 154, 149, 145, 122, 114, 113, 120, 104, 130, 115, 128, 104, 125, 120, 140, 100, 100, 92, 125, 113, 95, 128, 115, 72, 124, 99, 148, 97, 140, 117, 120, 120, 86, 63, 108, 98, 115, 105, 121, 118, 122, 157, 156, 99, 120, 145, 156, 155, 105, 99, 135, 83, 145, 60, 92, 115, 120, 98, 150, 143, 105, 122, 70, 110, 163, 67, 128, 120, 130, 100, 72, 94, 122, 78, 150, 103, 98, 110, 90, 112, 127, 140, 149, 99, 120, 105, 140, 141, 157, 140, 117, 120, 120, 148, 86, 84, 125, 120, 118, 124, 106, 111, 116, 180, 129, 125, 140, 120, 124, 117, 110, 105, 155, 110, 122, 118, 133, 123, 131, 80, 165, 86, 111, 118, 84, 117, 107, 128, 160, 125, 130, 97, 161, 106, 130, 140, 122, 130, 120, 139, 108, 148, 123, 110, 118, 125, 106, 112, 128, 180, 144, 135, 140, 102, 108, 145, 127, 110, 140, 69, 148, 130, 130, 140, 138, 140, 138, 112, 131, 112, 80, 150, 110, 126, 88, 153, 150, 120, 160, 132, 120, 110, 121, 128, 135, 120, 117, 150, 144, 113, 135, 127, 109, 128, 115, 102, 140, 135, 122, 119, 130, 112, 100, 122, 120, 105, 129, 120, 139, 162, 100, 140, 135, 73, 86, 108, 116, 160, 118, 112, 122, 124, 102, 137, 141, 154, 126, 160, 115, 128, 115, 105, 110, 119, 109, 135, 130, 112, 126, 120, 110, 119, 110, 130, 159, 84, 126, 116, 120, 122, 165, 122, 94, 133, 110, 150, 130, 113, 140, 100, 136, 127, 98, 96, 123, 98, 112, 151, 96, 108, 128, 138, 126, 154, 137, 100, 135, 93, 109, 160, 141, 105, 121, 140, 142, 142, 170, 154, 161, 111, 180, 145, 159, 125, 120, 155, 144, 178, 129, 180, 181, 143, 159, 139, 152, 157, 165, 130, 150, 138, 170, 140, 126, 150, 138, 125, 150, 186, 181, 163, 179, 156, 134, 165, 126, 177, 120, 114, 125, 184, 157, 179, 175, 168, 125, 96, 143, 103, 173, 142, 169, 171, 150, 112, 186, 152, 149, 152, 140, 163, 143, 116, 142, 147, 148, 179, 173, 178, 105, 130, 111, 168, 126, 178, 140, 145, 163, 128, 164, 169, 109, 108, 168, 118, 151, 156, 133, 162, 175, 71, 163, 124, 147, 166, 143, 157, 162, 138, 117, 153, 161, 170, 162, 162, 144, 133, 114, 103, 139, 116, 88, 151, 152, 163, 99, 169, 158, 160, 169, 132, 178, 96, 165, 160, 172, 144, 192, 168, 132, 182, 163, 125, 195, 95, 160, 114, 173, 172, 179, 158, 167, 122, 149, 172, 111, 170, 162, 165, 182, 154, 155, 130, 161, 154, 159, 152, 152, 174, 131, 146, 125, 115, 174, 106, 122, 147, 163, 163, 194, 150, 158, 122, 173, 162, 105, 147, 157, 112, 160, 125, 156, 156, 175, 161, 122, 158, 151, 162, 151, 171, 141, 173, 145, 178, 160, 154, 131, 187, 159, 166, 165, 131, 202, 172, 172, 154, 147, 170, 126, 127, 174, 132, 182, 132, 97, 136, 162, 190, 146, 140, 185, 161, 146, 145, 160, 120, 156, 172, 150, 182, 143, 160, 142, 144, 158, 148, 155, 142, 113, 188, 153, 123, 157, 162, 137, 132, 158, 171, 172, 132, 160, 171, 168, 162, 173, 153, 148, 108, 115, 169, 143, 156, 162, 155, 152, 152, 164, 131, 143, 179, 130, 174, 161, 140, 146, 144, 163, 169, 150, 166, 144, 144, 136, 182, 90, 123, 132, 141, 115, 174, 173], \"y\": [0, 1, 0, 1, 0, 0, 0, 0, 1, 0, 0, 1, 0, 1, 0, 0, 1, 0, 1, 1, 0, 0, 0, 1, 0, 0, 0, 0, 0, 0, 1, 0, 1, 1, 0, 0, 1, 0, 0, 0, 0, 1, 0, 0, 1, 0, 0, 0, 0, 1, 1, 1, 0, 0, 0, 0, 1, 1, 0, 1, 0, 0, 0, 1, 0, 0, 0, 0, 1, 0, 1, 0, 1, 0, 1, 0, 1, 0, 0, 1, 0, 0, 1, 0, 1, 1, 1, 0, 1, 0, 0, 0, 0, 1, 0, 1, 0, 0, 0, 0, 1, 0, 1, 1, 1, 0, 0, 0, 0, 0, 0, 1, 0, 0, 0, 1, 1, 1, 0, 1, 1, 0, 0, 1, 0, 0, 0, 0, 0, 0, 0, 1, 1, 1, 0, 1, 0, 0, 1, 1, 1, 1, 1, 0, 1, 0, 0, 0, 0, 1, 0, 0, 0, 0, 0, 1, 1, 0, 1, 0, 1, 1, 0, 0, 0, 1, 1, 0, 0, 0, 0, 0, 0, 0, 1, 1, 1, 0, 0, 0, 1, 0, 1, 0, 0, 1, 0, 1, 0, 1, 0, 0, 0, 0, 0, 0, 0, 0, 1, 0, 0, 0, 0, 0, 0, 0, 0, 1, 0, 1, 1, 1, 0, 0, 1, 0, 1, 0, 0, 0, 1, 1, 0, 0, 0, 1, 0, 1, 0, 0, 0, 0, 0, 0, 0, 0, 1, 1, 1, 1, 0, 1, 1, 0, 1, 0, 1, 1, 1, 1, 1, 1, 0, 0, 1, 0, 0, 0, 0, 0, 0, 0, 1, 1, 1, 0, 1, 0, 1, 0, 0, 0, 1, 0, 0, 0, 1, 1, 0, 0, 0, 1, 0, 0, 0, 0, 0, 0, 0, 0, 0, 0, 0, 1, 1, 1, 1, 1, 1, 1, 1, 0, 1, 1, 1, 1, 1, 0, 1, 1, 0, 1, 1, 1, 0, 1, 1, 1, 1, 1, 1, 1, 1, 1, 1, 1, 0, 1, 1, 1, 1, 1, 0, 1, 1, 1, 0, 1, 1, 1, 1, 1, 1, 1, 1, 1, 1, 1, 1, 1, 1, 1, 1, 1, 1, 1, 1, 1, 1, 1, 1, 1, 1, 1, 0, 1, 1, 1, 1, 1, 1, 1, 1, 1, 1, 1, 1, 1, 1, 1, 1, 1, 1, 1, 1, 1, 1, 1, 1, 1, 1, 1, 1, 1, 1, 1, 1, 1, 1, 1, 1, 1, 1, 1, 1, 1, 1, 1, 1, 1, 1, 1, 1, 1, 1, 1, 1, 0, 1, 1, 0, 0, 1, 0, 1, 1, 0, 1, 1, 1, 1, 0, 1, 1, 0, 0, 1, 1, 1, 0, 1, 1, 1, 1, 1, 1, 1, 1, 1, 1, 1, 1, 1, 0, 1, 0, 1, 1, 1, 0, 1, 1, 1, 0, 1, 0, 1, 0, 1, 0, 1, 1, 1, 1, 0, 1, 0, 1, 1, 1, 1, 1, 1, 1, 1, 1, 0, 1, 0, 1, 1, 1, 1, 1, 1, 1, 0, 1, 1, 1, 1, 1, 1, 0, 1, 1, 1, 0, 1, 1, 0, 1, 0, 1, 1, 0, 1, 1, 1, 1, 0, 1, 1, 1, 0, 0, 1, 0, 1, 1, 1, 1, 1, 1, 1, 1, 1, 1, 1, 0, 1, 1, 1, 1, 0, 0, 1, 1, 1, 0, 1, 0, 1, 1, 0, 1, 0, 1, 1, 1, 0, 0, 0, 1, 1, 1, 0, 1, 1, 1, 1, 1, 1, 1, 1, 1, 1, 1, 1, 1, 1, 1, 1, 0, 1, 1, 1, 0, 1, 1, 0, 0, 1, 1, 1, 1, 1, 0, 1, 1, 0, 1, 1, 1, 0, 0, 1, 1, 1, 1, 1, 0, 1, 0, 1, 1, 0, 1, 0, 0, 0, 1, 1, 1, 1, 0, 0, 0, 1, 0, 0, 1, 1, 0, 0, 1, 0, 0, 0, 0, 0, 0, 0, 1, 0, 1, 0, 0, 1, 1, 1, 1, 1, 0, 0, 1, 0, 0, 0, 1, 0, 1, 1, 1, 1, 1, 0, 0, 0, 0, 0, 1, 0, 1, 1, 0, 1, 0, 0, 0, 1, 0, 1, 0, 1, 1, 0, 0, 0, 0, 1, 0, 0, 0, 0, 1, 1, 1, 0, 0, 0, 0, 0, 0, 1, 0, 1, 1, 1, 1, 1, 0, 1, 0, 0, 0, 1, 0, 1, 1, 1, 0, 1, 1, 0, 1, 0, 1, 0, 0, 0, 1, 1, 0, 1, 1, 1, 1, 0, 0, 0, 1, 0, 0, 1, 1, 1, 0, 1, 0, 0, 0, 1, 0, 0, 1, 0, 1, 0, 1, 1, 1, 1, 1, 0, 0, 0, 0, 0, 0, 0, 1, 0, 0, 1, 1, 1, 0, 1, 0, 0, 0, 0, 0, 1, 0, 1, 1, 0, 0, 1, 1, 1, 1, 0, 0, 1, 1, 0, 0, 0, 1, 0, 0, 1, 0, 1, 0, 1, 0, 0, 0, 0, 0, 1, 0, 1, 1, 1, 1, 0, 0, 0, 1, 0, 1, 0, 0, 1, 0, 0, 0, 0, 0, 0, 1, 1, 0, 1, 0, 0, 1, 1, 0, 0, 1, 1, 0, 1, 0, 1, 0, 1, 0, 0, 1, 0, 0, 1, 0, 1, 1, 0, 1, 1, 1, 0, 1, 0, 0, 0, 0, 1, 1, 0, 0, 1, 1, 0, 1, 0, 0, 0, 0, 1, 0, 0, 1, 1, 1, 0, 0, 0, 1, 0, 1, 0, 1, 0, 1, 1, 1, 0, 0, 0, 1, 0, 1, 1, 1, 0, 1, 1, 1, 1, 1, 1, 0]}, {\"marker\": {\"color\": \"green\"}, \"mode\": \"markers\", \"name\": \"Model Predictions\", \"type\": \"scatter\", \"x\": [172, 156, 98, 108, 122, 170, 170, 142, 130, 120, 142, 99, 145, 140, 137, 150, 166, 165, 125, 160, 142, 142, 164, 150, 138, 178, 112, 118, 127, 145, 130, 114, 122, 130, 154, 155, 87, 142, 148, 130, 130, 100, 168, 170, 120, 120, 168, 170, 184, 170, 121, 98, 122, 150, 140, 170, 153, 140, 134, 96, 174, 175, 144, 125, 145, 130, 144, 184, 82, 170, 145, 135, 150, 115, 128, 116, 130, 150, 138, 170, 160, 154, 115, 165, 125, 94, 112, 142, 155, 110, 160, 140, 148, 92, 180, 140, 138, 160, 140, 144, 115, 100, 130, 152, 124, 140, 110, 168, 135, 106, 124, 92, 125, 150, 135, 150, 170, 130, 185, 180, 170, 139, 140, 110, 150, 110, 190, 175, 140, 152, 130, 150, 122, 124, 120, 175, 175, 146, 118, 130, 94, 125, 158, 155, 150, 132, 155, 176, 160, 125, 120, 100, 150, 140, 160, 150, 150, 130, 100, 130, 119, 96, 174, 150, 140, 175, 140, 118, 100, 160, 160, 188, 162, 172, 134, 135, 105, 150, 150, 90, 120, 150, 124, 140, 130, 92, 110, 138, 110, 120, 120, 116, 160, 110, 180, 116, 132, 136, 116, 98, 150, 150, 146, 150, 100, 140, 180, 140, 185, 140, 110, 140, 128, 164, 98, 170, 150, 137, 150, 170, 112, 150, 125, 185, 137, 150, 140, 134, 170, 184, 158, 167, 129, 142, 140, 160, 118, 136, 99, 102, 155, 142, 143, 118, 103, 137, 150, 150, 130, 120, 135, 115, 115, 152, 96, 130, 150, 172, 120, 155, 165, 138, 115, 125, 145, 175, 110, 150, 91, 145, 140, 165, 130, 134, 180, 100, 150, 126, 126, 155, 135, 122, 160, 160, 170, 120, 140, 132, 156, 180, 138, 135, 148, 93, 127, 110, 139, 131, 92, 149, 149, 150, 120, 123, 126, 127, 155, 120, 138, 182, 154, 110, 176, 154, 141, 123, 148, 121, 77, 136, 175, 109, 166, 128, 133, 128, 138, 119, 82, 130, 143, 82, 179, 144, 170, 134, 114, 154, 149, 145, 122, 114, 113, 120, 104, 130, 115, 128, 104, 125, 120, 140, 100, 100, 92, 125, 113, 95, 128, 115, 72, 124, 99, 148, 97, 140, 117, 120, 120, 86, 63, 108, 98, 115, 105, 121, 118, 122, 157, 156, 99, 120, 145, 156, 155, 105, 99, 135, 83, 145, 60, 92, 115, 120, 98, 150, 143, 105, 122, 70, 110, 163, 67, 128, 120, 130, 100, 72, 94, 122, 78, 150, 103, 98, 110, 90, 112, 127, 140, 149, 99, 120, 105, 140, 141, 157, 140, 117, 120, 120, 148, 86, 84, 125, 120, 118, 124, 106, 111, 116, 180, 129, 125, 140, 120, 124, 117, 110, 105, 155, 110, 122, 118, 133, 123, 131, 80, 165, 86, 111, 118, 84, 117, 107, 128, 160, 125, 130, 97, 161, 106, 130, 140, 122, 130, 120, 139, 108, 148, 123, 110, 118, 125, 106, 112, 128, 180, 144, 135, 140, 102, 108, 145, 127, 110, 140, 69, 148, 130, 130, 140, 138, 140, 138, 112, 131, 112, 80, 150, 110, 126, 88, 153, 150, 120, 160, 132, 120, 110, 121, 128, 135, 120, 117, 150, 144, 113, 135, 127, 109, 128, 115, 102, 140, 135, 122, 119, 130, 112, 100, 122, 120, 105, 129, 120, 139, 162, 100, 140, 135, 73, 86, 108, 116, 160, 118, 112, 122, 124, 102, 137, 141, 154, 126, 160, 115, 128, 115, 105, 110, 119, 109, 135, 130, 112, 126, 120, 110, 119, 110, 130, 159, 84, 126, 116, 120, 122, 165, 122, 94, 133, 110, 150, 130, 113, 140, 100, 136, 127, 98, 96, 123, 98, 112, 151, 96, 108, 128, 138, 126, 154, 137, 100, 135, 93, 109, 160, 141, 105, 121, 140, 142, 142, 170, 154, 161, 111, 180, 145, 159, 125, 120, 155, 144, 178, 129, 180, 181, 143, 159, 139, 152, 157, 165, 130, 150, 138, 170, 140, 126, 150, 138, 125, 150, 186, 181, 163, 179, 156, 134, 165, 126, 177, 120, 114, 125, 184, 157, 179, 175, 168, 125, 96, 143, 103, 173, 142, 169, 171, 150, 112, 186, 152, 149, 152, 140, 163, 143, 116, 142, 147, 148, 179, 173, 178, 105, 130, 111, 168, 126, 178, 140, 145, 163, 128, 164, 169, 109, 108, 168, 118, 151, 156, 133, 162, 175, 71, 163, 124, 147, 166, 143, 157, 162, 138, 117, 153, 161, 170, 162, 162, 144, 133, 114, 103, 139, 116, 88, 151, 152, 163, 99, 169, 158, 160, 169, 132, 178, 96, 165, 160, 172, 144, 192, 168, 132, 182, 163, 125, 195, 95, 160, 114, 173, 172, 179, 158, 167, 122, 149, 172, 111, 170, 162, 165, 182, 154, 155, 130, 161, 154, 159, 152, 152, 174, 131, 146, 125, 115, 174, 106, 122, 147, 163, 163, 194, 150, 158, 122, 173, 162, 105, 147, 157, 112, 160, 125, 156, 156, 175, 161, 122, 158, 151, 162, 151, 171, 141, 173, 145, 178, 160, 154, 131, 187, 159, 166, 165, 131, 202, 172, 172, 154, 147, 170, 126, 127, 174, 132, 182, 132, 97, 136, 162, 190, 146, 140, 185, 161, 146, 145, 160, 120, 156, 172, 150, 182, 143, 160, 142, 144, 158, 148, 155, 142, 113, 188, 153, 123, 157, 162, 137, 132, 158, 171, 172, 132, 160, 171, 168, 162, 173, 153, 148, 108, 115, 169, 143, 156, 162, 155, 152, 152, 164, 131, 143, 179, 130, 174, 161, 140, 146, 144, 163, 169, 150, 166, 144, 144, 136, 182, 90, 123, 132, 141, 115, 174, 173], \"y\": [0.2609389646425221, 0.3897365481991345, 0.8455379083873306, 0.7907749437202437, 0.6923253188518114, 0.2754769327885896, 0.2754769327885896, 0.5175353519845768, 0.6259019622799237, 0.7078773802518259, 0.5175353519845768, 0.840637916403869, 0.4897623733568337, 0.5360012074751885, 0.5635004728622155, 0.4436980583033375, 0.30600970739477734, 0.3139322880257179, 0.6681626178358427, 0.3551246209926921, 0.5175353519845768, 0.5175353519845768, 0.3219648242707817, 0.4436980583033375, 0.5543688683378393, 0.22039829474604425, 0.765205606324468, 0.722957901873652, 0.651537031351976, 0.4897623733568337, 0.6259019622799237, 0.7516347536308627, 0.6923253188518114, 0.6259019622799237, 0.40749383340802015, 0.3985818398156112, 0.8916288284982107, 0.5175353519845768, 0.46205245112598503, 0.6259019622799237, 0.6259019622799237, 0.8356127029223647, 0.2905064913938509, 0.2754769327885896, 0.7078773802518259, 0.7078773802518259, 0.2905064913938509, 0.2754769327885896, 0.18458311494812005, 0.2754769327885896, 0.7001589969198562, 0.8455379083873306, 0.6923253188518114, 0.4436980583033375, 0.5360012074751885, 0.2754769327885896, 0.4164671061171443, 0.5360012074751885, 0.5906147495266368, 0.8549678688746648, 0.2469067618957088, 0.24008375200033943, 0.4990214783140502, 0.6681626178358427, 0.4897623733568337, 0.6259019622799237, 0.4990214783140502, 0.18458311494812005, 0.9082705256547735, 0.2754769327885896, 0.4897623733568337, 0.5816292359744925, 0.4436980583033375, 0.7446554724739265, 0.6430806116047318, 0.7375485488072042, 0.6259019622799237, 0.4436980583033375, 0.5543688683378393, 0.2754769327885896, 0.3551246209926921, 0.40749383340802015, 0.7446554724739265, 0.3139322880257179, 0.6681626178358427, 0.8639147836933277, 0.765205606324468, 0.5175353519845768, 0.3985818398156112, 0.7782537005797351, 0.3551246209926921, 0.5360012074751885, 0.46205245112598503, 0.8723921483363917, 0.20793283186561765, 0.5360012074751885, 0.5543688683378393, 0.3551246209926921, 0.5360012074751885, 0.4990214783140502, 0.7446554724739265, 0.8356127029223647, 0.6259019622799237, 0.4254960756629841, 0.6763238797823873, 0.5360012074751885, 0.7782537005797351, 0.2905064913938509, 0.5816292359744925, 0.8027683375875693, 0.6763238797823873, 0.8723921483363917, 0.6681626178358427, 0.4436980583033375, 0.5816292359744925, 0.4436980583033375, 0.2754769327885896, 0.6259019622799237, 0.1790728321779459, 0.20793283186561765, 0.2754769327885896, 0.5452004128192333, 0.5360012074751885, 0.7782537005797351, 0.4436980583033375, 0.7782537005797351, 0.1534424662560065, 0.24008375200033943, 0.5360012074751885, 0.4254960756629841, 0.6259019622799237, 0.4436980583033375, 0.6923253188518114, 0.6763238797823873, 0.7078773802518259, 0.24008375200033943, 0.24008375200033943, 0.4805102874772629, 0.722957901873652, 0.6259019622799237, 0.8639147836933277, 0.6681626178358427, 0.3722668928641893, 0.3985818398156112, 0.4436980583033375, 0.6083999822497841, 0.3985818398156112, 0.2333908563893173, 0.3551246209926921, 0.6681626178358427, 0.7078773802518259, 0.8356127029223647, 0.4436980583033375, 0.5360012074751885, 0.3551246209926921, 0.4436980583033375, 0.4436980583033375, 0.6259019622799237, 0.8356127029223647, 0.6259019622799237, 0.7154778187287896, 0.8549678688746648, 0.2469067618957088, 0.4436980583033375, 0.5360012074751885, 0.24008375200033943, 0.5360012074751885, 0.722957901873652, 0.8356127029223647, 0.3551246209926921, 0.3551246209926921, 0.16331480875105697, 0.3383462525166967, 0.2609389646425221, 0.5906147495266368, 0.5816292359744925, 0.8085675663252168, 0.4436980583033375, 0.4436980583033375, 0.8804145196899192, 0.7078773802518259, 0.4436980583033375, 0.6763238797823873, 0.5360012074751885, 0.6259019622799237, 0.8723921483363917, 0.7782537005797351, 0.5543688683378393, 0.7782537005797351, 0.7078773802518259, 0.7078773802518259, 0.7375485488072042, 0.3551246209926921, 0.7782537005797351, 0.20793283186561765, 0.7375485488072042, 0.6083999822497841, 0.5725892244860964, 0.7375485488072042, 0.8455379083873306, 0.4436980583033375, 0.4436980583033375, 0.4805102874772629, 0.4436980583033375, 0.8356127029223647, 0.5360012074751885, 0.20793283186561765, 0.5360012074751885, 0.1790728321779459, 0.5360012074751885, 0.7782537005797351, 0.5360012074751885, 0.6430806116047318, 0.3219648242707817, 0.8455379083873306, 0.2754769327885896, 0.4436980583033375, 0.5635004728622155, 0.4436980583033375, 0.2754769327885896, 0.765205606324468, 0.4436980583033375, 0.6681626178358427, 0.1790728321779459, 0.5635004728622155, 0.4436980583033375, 0.5360012074751885, 0.5906147495266368, 0.2754769327885896, 0.18458311494812005, 0.3722668928641893, 0.29820016199230787, 0.6345340863495227, 0.5175353519845768, 0.5360012074751885, 0.3551246209926921, 0.722957901873652, 0.5725892244860964, 0.840637916403869, 0.8251815971378507, 0.3985818398156112, 0.5175353519845768, 0.5082812544398188, 0.722957901873652, 0.8197734873419239, 0.5635004728622155, 0.4436980583033375, 0.4436980583033375, 0.6259019622799237, 0.7078773802518259, 0.5816292359744925, 0.7446554724739265, 0.7446554724739265, 0.4254960756629841, 0.8549678688746648, 0.6259019622799237, 0.4436980583033375, 0.2609389646425221, 0.7078773802518259, 0.3985818398156112, 0.3139322880257179, 0.5543688683378393, 0.7446554724739265, 0.6681626178358427, 0.4897623733568337, 0.24008375200033943, 0.7782537005797351, 0.4436980583033375, 0.8764592630261128, 0.4897623733568337, 0.5360012074751885, 0.3139322880257179, 0.6259019622799237, 0.5906147495266368, 0.20793283186561765, 0.8356127029223647, 0.4436980583033375, 0.6598990556643708, 0.6598990556643708, 0.3985818398156112, 0.5816292359744925, 0.6923253188518114, 0.3551246209926921, 0.3551246209926921, 0.2754769327885896, 0.7078773802518259, 0.5360012074751885, 0.6083999822497841, 0.3897365481991345, 0.20793283186561765, 0.5543688683378393, 0.5816292359744925, 0.46205245112598503, 0.8682112722053241, 0.651537031351976, 0.7782537005797351, 0.5452004128192333, 0.6171889553531053, 0.8723921483363917, 0.45285923137321227, 0.45285923137321227, 0.4436980583033375, 0.7078773802518259, 0.6843792363944345, 0.6598990556643708, 0.651537031351976, 0.3985818398156112, 0.7078773802518259, 0.5543688683378393, 0.195995152679382, 0.40749383340802015, 0.7782537005797351, 0.2333908563893173, 0.40749383340802015, 0.5267774367641762, 0.6843792363944345, 0.46205245112598503, 0.7001589969198562, 0.9225785905803651, 0.5725892244860964, 0.24008375200033943, 0.7845803107179642, 0.30600970739477734, 0.6430806116047318, 0.5995401508175907, 0.6430806116047318, 0.5543688683378393, 0.7154778187287896, 0.9082705256547735, 0.6259019622799237, 0.5082812544398188, 0.9082705256547735, 0.21409956395965105, 0.4990214783140502, 0.2754769327885896, 0.5906147495266368, 0.7516347536308627, 0.40749383340802015, 0.45285923137321227, 0.4897623733568337, 0.6923253188518114, 0.7516347536308627, 0.7584851419386704, 0.7078773802518259, 0.8142357376350635, 0.6259019622799237, 0.7446554724739265, 0.6430806116047318, 0.8142357376350635, 0.6681626178358427, 0.7078773802518259, 0.5360012074751885, 0.8356127029223647, 0.8356127029223647, 0.8723921483363917, 0.6681626178358427, 0.7584851419386704, 0.8595008910828382, 0.6430806116047318, 0.7446554724739265, 0.9348150391468388, 0.6763238797823873, 0.840637916403869, 0.46205245112598503, 0.8503140650220352, 0.5360012074751885, 0.7303154573808168, 0.7078773802518259, 0.7078773802518259, 0.8951565153958226, 0.9524157197612084, 0.7907749437202437, 0.8455379083873306, 0.7446554724739265, 0.8085675663252168, 0.7001589969198562, 0.722957901873652, 0.6923253188518114, 0.38096320978400594, 0.3897365481991345, 0.840637916403869, 0.7078773802518259, 0.4897623733568337, 0.3897365481991345, 0.3985818398156112, 0.8085675663252168, 0.840637916403869, 0.5816292359744925, 0.9051373274893162, 0.4897623733568337, 0.9572061990198002, 0.8723921483363917, 0.7446554724739265, 0.7078773802518259, 0.8455379083873306, 0.4436980583033375, 0.5082812544398188, 0.8085675663252168, 0.6923253188518114, 0.9391866094699116, 0.7782537005797351, 0.3301039975730218, 0.9452323254368847, 0.6430806116047318, 0.7078773802518259, 0.6259019622799237, 0.8356127029223647, 0.9348150391468388, 0.8639147836933277, 0.6923253188518114, 0.919891007304843, 0.4436980583033375, 0.8197734873419239, 0.8455379083873306, 0.7782537005797351, 0.8804145196899192, 0.765205606324468, 0.651537031351976, 0.5360012074751885, 0.45285923137321227, 0.840637916403869, 0.7078773802518259, 0.8085675663252168, 0.5360012074751885, 0.5267774367641762, 0.38096320978400594, 0.5360012074751885, 0.7303154573808168, 0.7078773802518259, 0.7078773802518259, 0.46205245112598503, 0.8951565153958226, 0.9019086668496099, 0.6681626178358427, 0.7078773802518259, 0.722957901873652, 0.6763238797823873, 0.8027683375875693, 0.7717953292685138, 0.7375485488072042, 0.20793283186561765, 0.6345340863495227, 0.6681626178358427, 0.5360012074751885, 0.7078773802518259, 0.6763238797823873, 0.7303154573808168, 0.7782537005797351, 0.8085675663252168, 0.3985818398156112, 0.7782537005797351, 0.6923253188518114, 0.722957901873652, 0.5995401508175907, 0.6843792363944345, 0.6171889553531053, 0.9142590017170057, 0.3139322880257179, 0.8951565153958226, 0.7717953292685138, 0.722957901873652, 0.9019086668496099, 0.7303154573808168, 0.7968375697876303, 0.6430806116047318, 0.3551246209926921, 0.6681626178358427, 0.6259019622799237, 0.8503140650220352, 0.34668779992514015, 0.8027683375875693, 0.6259019622799237, 0.5360012074751885, 0.6923253188518114, 0.6259019622799237, 0.7078773802518259, 0.5452004128192333, 0.7907749437202437, 0.46205245112598503, 0.6843792363944345, 0.7782537005797351, 0.722957901873652, 0.6681626178358427, 0.8027683375875693, 0.765205606324468, 0.6430806116047318, 0.20793283186561765, 0.4990214783140502, 0.5816292359744925, 0.5360012074751885, 0.8251815971378507, 0.7907749437202437, 0.4897623733568337, 0.651537031351976, 0.7782537005797351, 0.5360012074751885, 0.941268173999715, 0.46205245112598503, 0.6259019622799237, 0.6259019622799237, 0.5360012074751885, 0.5543688683378393, 0.5360012074751885, 0.5543688683378393, 0.765205606324468, 0.6171889553531053, 0.765205606324468, 0.9142590017170057, 0.4436980583033375, 0.7782537005797351, 0.6598990556643708, 0.887997296333839, 0.4164671061171443, 0.4436980583033375, 0.7078773802518259, 0.3551246209926921, 0.6083999822497841, 0.7078773802518259, 0.7782537005797351, 0.7001589969198562, 0.6430806116047318, 0.5816292359744925, 0.7078773802518259, 0.7303154573808168, 0.4436980583033375, 0.4990214783140502, 0.7584851419386704, 0.5816292359744925, 0.651537031351976, 0.7845803107179642, 0.6430806116047318, 0.7446554724739265, 0.8251815971378507, 0.5360012074751885, 0.5816292359744925, 0.6923253188518114, 0.7154778187287896, 0.6259019622799237, 0.765205606324468, 0.8356127029223647, 0.6923253188518114, 0.7078773802518259, 0.8085675663252168, 0.6345340863495227, 0.7078773802518259, 0.5452004128192333, 0.3383462525166967, 0.8356127029223647, 0.5360012074751885, 0.5816292359744925, 0.9325211597136158, 0.8951565153958226, 0.7907749437202437, 0.7375485488072042, 0.3551246209926921, 0.722957901873652, 0.765205606324468, 0.6923253188518114, 0.6763238797823873, 0.8251815971378507, 0.5635004728622155, 0.5267774367641762, 0.40749383340802015, 0.6598990556643708, 0.3551246209926921, 0.7446554724739265, 0.6430806116047318, 0.7446554724739265, 0.8085675663252168, 0.7782537005797351, 0.7154778187287896, 0.7845803107179642, 0.5816292359744925, 0.6259019622799237, 0.765205606324468, 0.6598990556643708, 0.7078773802518259, 0.7782537005797351, 0.7154778187287896, 0.7782537005797351, 0.6259019622799237, 0.3636524724636999, 0.9019086668496099, 0.6598990556643708, 0.7375485488072042, 0.7078773802518259, 0.6923253188518114, 0.3139322880257179, 0.6923253188518114, 0.8639147836933277, 0.5995401508175907, 0.7782537005797351, 0.4436980583033375, 0.6259019622799237, 0.7584851419386704, 0.5360012074751885, 0.8356127029223647, 0.5725892244860964, 0.651537031351976, 0.8455379083873306, 0.8549678688746648, 0.6843792363944345, 0.8455379083873306, 0.765205606324468, 0.43457501342121924, 0.8549678688746648, 0.7907749437202437, 0.6430806116047318, 0.5543688683378393, 0.6598990556643708, 0.40749383340802015, 0.5635004728622155, 0.8356127029223647, 0.5816292359744925, 0.8682112722053241, 0.7845803107179642, 0.3551246209926921, 0.5267774367641762, 0.8085675663252168, 0.7001589969198562, 0.5360012074751885, 0.5175353519845768, 0.5175353519845768, 0.2754769327885896, 0.40749383340802015, 0.34668779992514015, 0.7717953292685138, 0.20793283186561765, 0.4897623733568337, 0.3636524724636999, 0.6681626178358427, 0.7078773802518259, 0.3985818398156112, 0.4990214783140502, 0.22039829474604425, 0.6345340863495227, 0.20793283186561765, 0.20189808989720734, 0.5082812544398188, 0.3636524724636999, 0.5452004128192333, 0.4254960756629841, 0.38096320978400594, 0.3139322880257179, 0.6259019622799237, 0.4436980583033375, 0.5543688683378393, 0.2754769327885896, 0.5360012074751885, 0.6598990556643708, 0.4436980583033375, 0.5543688683378393, 0.6681626178358427, 0.4436980583033375, 0.1736920062405972, 0.20189808989720734, 0.3301039975730218, 0.21409956395965105, 0.3897365481991345, 0.5906147495266368, 0.3139322880257179, 0.6598990556643708, 0.22682884823239477, 0.7078773802518259, 0.7516347536308627, 0.6681626178358427, 0.18458311494812005, 0.38096320978400594, 0.21409956395965105, 0.24008375200033943, 0.2905064913938509, 0.6681626178358427, 0.8549678688746648, 0.5082812544398188, 0.8197734873419239, 0.2538589006273162, 0.5175353519845768, 0.2829312949951419, 0.2681455270147869, 0.4436980583033375, 0.765205606324468, 0.1736920062405972, 0.4254960756629841, 0.45285923137321227, 0.4254960756629841, 0.5360012074751885, 0.3301039975730218, 0.5082812544398188, 0.7375485488072042, 0.5175353519845768, 0.471271549348794, 0.46205245112598503, 0.21409956395965105, 0.2538589006273162, 0.22039829474604425, 0.8085675663252168, 0.6259019622799237, 0.7717953292685138, 0.2905064913938509, 0.6598990556643708, 0.22039829474604425, 0.5360012074751885, 0.4897623733568337, 0.3301039975730218, 0.6430806116047318, 0.3219648242707817, 0.2829312949951419, 0.7845803107179642, 0.7907749437202437, 0.2905064913938509, 0.722957901873652, 0.43457501342121924, 0.3897365481991345, 0.5995401508175907, 0.3383462525166967, 0.24008375200033943, 0.9370362054051542, 0.3301039975730218, 0.6763238797823873, 0.471271549348794, 0.30600970739477734, 0.5082812544398188, 0.38096320978400594, 0.3383462525166967, 0.5543688683378393, 0.7303154573808168, 0.4164671061171443, 0.34668779992514015, 0.2754769327885896, 0.3383462525166967, 0.3383462525166967, 0.4990214783140502, 0.5995401508175907, 0.7516347536308627, 0.8197734873419239, 0.5452004128192333, 0.7375485488072042, 0.887997296333839, 0.43457501342121924, 0.4254960756629841, 0.3301039975730218, 0.840637916403869, 0.2829312949951419, 0.3722668928641893, 0.3551246209926921, 0.2829312949951419, 0.6083999822497841, 0.22039829474604425, 0.8549678688746648, 0.3139322880257179, 0.3551246209926921, 0.2609389646425221, 0.4990214783140502, 0.14406414823031585, 0.2905064913938509, 0.6083999822497841, 0.195995152679382, 0.3301039975730218, 0.6681626178358427, 0.13089560237572187, 0.8595008910828382, 0.3551246209926921, 0.7516347536308627, 0.2538589006273162, 0.2609389646425221, 0.21409956395965105, 0.3722668928641893, 0.29820016199230787, 0.6923253188518114, 0.45285923137321227, 0.2609389646425221, 0.7717953292685138, 0.2754769327885896, 0.3383462525166967, 0.3139322880257179, 0.195995152679382, 0.40749383340802015, 0.3985818398156112, 0.6259019622799237, 0.34668779992514015, 0.40749383340802015, 0.3636524724636999, 0.4254960756629841, 0.4254960756629841, 0.2469067618957088, 0.6171889553531053, 0.4805102874772629, 0.6681626178358427, 0.7446554724739265, 0.2469067618957088, 0.8027683375875693, 0.6923253188518114, 0.471271549348794, 0.3301039975730218, 0.3301039975730218, 0.1351675069003893, 0.4436980583033375, 0.3722668928641893, 0.6923253188518114, 0.2538589006273162, 0.3383462525166967, 0.8085675663252168, 0.471271549348794, 0.38096320978400594, 0.765205606324468, 0.3551246209926921, 0.6681626178358427, 0.3897365481991345, 0.3897365481991345, 0.24008375200033943, 0.34668779992514015, 0.6923253188518114, 0.3722668928641893, 0.43457501342121924, 0.3383462525166967, 0.43457501342121924, 0.2681455270147869, 0.5267774367641762, 0.2538589006273162, 0.4897623733568337, 0.22039829474604425, 0.3551246209926921, 0.40749383340802015, 0.6171889553531053, 0.1684396899522401, 0.3636524724636999, 0.30600970739477734, 0.3139322880257179, 0.6171889553531053, 0.10411106855100558, 0.2609389646425221, 0.2609389646425221, 0.40749383340802015, 0.471271549348794, 0.2754769327885896, 0.6598990556643708, 0.651537031351976, 0.2469067618957088, 0.6083999822497841, 0.195995152679382, 0.6083999822497841, 0.8503140650220352, 0.5725892244860964, 0.3383462525166967, 0.1534424662560065, 0.4805102874772629, 0.5360012074751885, 0.1790728321779459, 0.34668779992514015, 0.4805102874772629, 0.4897623733568337, 0.3551246209926921, 0.7078773802518259, 0.3897365481991345, 0.2609389646425221, 0.4436980583033375, 0.195995152679382, 0.5082812544398188, 0.3551246209926921, 0.5175353519845768, 0.4990214783140502, 0.3722668928641893, 0.46205245112598503, 0.3985818398156112, 0.5175353519845768, 0.7584851419386704, 0.16331480875105697, 0.4164671061171443, 0.6843792363944345, 0.38096320978400594, 0.3383462525166967, 0.5635004728622155, 0.6083999822497841, 0.3722668928641893, 0.2681455270147869, 0.2609389646425221, 0.6083999822497841, 0.3551246209926921, 0.2681455270147869, 0.2905064913938509, 0.3383462525166967, 0.2538589006273162, 0.4164671061171443, 0.46205245112598503, 0.7907749437202437, 0.7446554724739265, 0.2829312949951419, 0.5082812544398188, 0.3897365481991345, 0.3383462525166967, 0.3985818398156112, 0.4254960756629841, 0.4254960756629841, 0.3219648242707817, 0.6171889553531053, 0.5082812544398188, 0.21409956395965105, 0.6259019622799237, 0.2469067618957088, 0.34668779992514015, 0.5360012074751885, 0.4805102874772629, 0.4990214783140502, 0.3301039975730218, 0.2829312949951419, 0.4436980583033375, 0.30600970739477734, 0.4990214783140502, 0.4990214783140502, 0.5725892244860964, 0.195995152679382, 0.8804145196899192, 0.6843792363944345, 0.6083999822497841, 0.5267774367641762, 0.7446554724739265, 0.2469067618957088, 0.2538589006273162]}],\n",
              "                        {\"template\": {\"data\": {\"bar\": [{\"error_x\": {\"color\": \"#2a3f5f\"}, \"error_y\": {\"color\": \"#2a3f5f\"}, \"marker\": {\"line\": {\"color\": \"#E5ECF6\", \"width\": 0.5}}, \"type\": \"bar\"}], \"barpolar\": [{\"marker\": {\"line\": {\"color\": \"#E5ECF6\", \"width\": 0.5}}, \"type\": \"barpolar\"}], \"carpet\": [{\"aaxis\": {\"endlinecolor\": \"#2a3f5f\", \"gridcolor\": \"white\", \"linecolor\": \"white\", \"minorgridcolor\": \"white\", \"startlinecolor\": \"#2a3f5f\"}, \"baxis\": {\"endlinecolor\": \"#2a3f5f\", \"gridcolor\": \"white\", \"linecolor\": \"white\", \"minorgridcolor\": \"white\", \"startlinecolor\": \"#2a3f5f\"}, \"type\": \"carpet\"}], \"choropleth\": [{\"colorbar\": {\"outlinewidth\": 0, \"ticks\": \"\"}, \"type\": \"choropleth\"}], \"contour\": [{\"colorbar\": {\"outlinewidth\": 0, \"ticks\": \"\"}, \"colorscale\": [[0.0, \"#0d0887\"], [0.1111111111111111, \"#46039f\"], [0.2222222222222222, \"#7201a8\"], [0.3333333333333333, \"#9c179e\"], [0.4444444444444444, \"#bd3786\"], [0.5555555555555556, \"#d8576b\"], [0.6666666666666666, \"#ed7953\"], [0.7777777777777778, \"#fb9f3a\"], [0.8888888888888888, \"#fdca26\"], [1.0, \"#f0f921\"]], \"type\": \"contour\"}], \"contourcarpet\": [{\"colorbar\": {\"outlinewidth\": 0, \"ticks\": \"\"}, \"type\": \"contourcarpet\"}], \"heatmap\": [{\"colorbar\": {\"outlinewidth\": 0, \"ticks\": \"\"}, \"colorscale\": [[0.0, \"#0d0887\"], [0.1111111111111111, \"#46039f\"], [0.2222222222222222, \"#7201a8\"], [0.3333333333333333, \"#9c179e\"], [0.4444444444444444, \"#bd3786\"], [0.5555555555555556, \"#d8576b\"], [0.6666666666666666, \"#ed7953\"], [0.7777777777777778, \"#fb9f3a\"], [0.8888888888888888, \"#fdca26\"], [1.0, \"#f0f921\"]], \"type\": \"heatmap\"}], \"heatmapgl\": [{\"colorbar\": {\"outlinewidth\": 0, \"ticks\": \"\"}, \"colorscale\": [[0.0, \"#0d0887\"], [0.1111111111111111, \"#46039f\"], [0.2222222222222222, \"#7201a8\"], [0.3333333333333333, \"#9c179e\"], [0.4444444444444444, \"#bd3786\"], [0.5555555555555556, \"#d8576b\"], [0.6666666666666666, \"#ed7953\"], [0.7777777777777778, \"#fb9f3a\"], [0.8888888888888888, \"#fdca26\"], [1.0, \"#f0f921\"]], \"type\": \"heatmapgl\"}], \"histogram\": [{\"marker\": {\"colorbar\": {\"outlinewidth\": 0, \"ticks\": \"\"}}, \"type\": \"histogram\"}], \"histogram2d\": [{\"colorbar\": {\"outlinewidth\": 0, \"ticks\": \"\"}, \"colorscale\": [[0.0, \"#0d0887\"], [0.1111111111111111, \"#46039f\"], [0.2222222222222222, \"#7201a8\"], [0.3333333333333333, \"#9c179e\"], [0.4444444444444444, \"#bd3786\"], [0.5555555555555556, \"#d8576b\"], [0.6666666666666666, \"#ed7953\"], [0.7777777777777778, \"#fb9f3a\"], [0.8888888888888888, \"#fdca26\"], [1.0, \"#f0f921\"]], \"type\": \"histogram2d\"}], \"histogram2dcontour\": [{\"colorbar\": {\"outlinewidth\": 0, \"ticks\": \"\"}, \"colorscale\": [[0.0, \"#0d0887\"], [0.1111111111111111, \"#46039f\"], [0.2222222222222222, \"#7201a8\"], [0.3333333333333333, \"#9c179e\"], [0.4444444444444444, \"#bd3786\"], [0.5555555555555556, \"#d8576b\"], [0.6666666666666666, \"#ed7953\"], [0.7777777777777778, \"#fb9f3a\"], [0.8888888888888888, \"#fdca26\"], [1.0, \"#f0f921\"]], \"type\": \"histogram2dcontour\"}], \"mesh3d\": [{\"colorbar\": {\"outlinewidth\": 0, \"ticks\": \"\"}, \"type\": \"mesh3d\"}], \"parcoords\": [{\"line\": {\"colorbar\": {\"outlinewidth\": 0, \"ticks\": \"\"}}, \"type\": \"parcoords\"}], \"pie\": [{\"automargin\": true, \"type\": \"pie\"}], \"scatter\": [{\"marker\": {\"colorbar\": {\"outlinewidth\": 0, \"ticks\": \"\"}}, \"type\": \"scatter\"}], \"scatter3d\": [{\"line\": {\"colorbar\": {\"outlinewidth\": 0, \"ticks\": \"\"}}, \"marker\": {\"colorbar\": {\"outlinewidth\": 0, \"ticks\": \"\"}}, \"type\": \"scatter3d\"}], \"scattercarpet\": [{\"marker\": {\"colorbar\": {\"outlinewidth\": 0, \"ticks\": \"\"}}, \"type\": \"scattercarpet\"}], \"scattergeo\": [{\"marker\": {\"colorbar\": {\"outlinewidth\": 0, \"ticks\": \"\"}}, \"type\": \"scattergeo\"}], \"scattergl\": [{\"marker\": {\"colorbar\": {\"outlinewidth\": 0, \"ticks\": \"\"}}, \"type\": \"scattergl\"}], \"scattermapbox\": [{\"marker\": {\"colorbar\": {\"outlinewidth\": 0, \"ticks\": \"\"}}, \"type\": \"scattermapbox\"}], \"scatterpolar\": [{\"marker\": {\"colorbar\": {\"outlinewidth\": 0, \"ticks\": \"\"}}, \"type\": \"scatterpolar\"}], \"scatterpolargl\": [{\"marker\": {\"colorbar\": {\"outlinewidth\": 0, \"ticks\": \"\"}}, \"type\": \"scatterpolargl\"}], \"scatterternary\": [{\"marker\": {\"colorbar\": {\"outlinewidth\": 0, \"ticks\": \"\"}}, \"type\": \"scatterternary\"}], \"surface\": [{\"colorbar\": {\"outlinewidth\": 0, \"ticks\": \"\"}, \"colorscale\": [[0.0, \"#0d0887\"], [0.1111111111111111, \"#46039f\"], [0.2222222222222222, \"#7201a8\"], [0.3333333333333333, \"#9c179e\"], [0.4444444444444444, \"#bd3786\"], [0.5555555555555556, \"#d8576b\"], [0.6666666666666666, \"#ed7953\"], [0.7777777777777778, \"#fb9f3a\"], [0.8888888888888888, \"#fdca26\"], [1.0, \"#f0f921\"]], \"type\": \"surface\"}], \"table\": [{\"cells\": {\"fill\": {\"color\": \"#EBF0F8\"}, \"line\": {\"color\": \"white\"}}, \"header\": {\"fill\": {\"color\": \"#C8D4E3\"}, \"line\": {\"color\": \"white\"}}, \"type\": \"table\"}]}, \"layout\": {\"annotationdefaults\": {\"arrowcolor\": \"#2a3f5f\", \"arrowhead\": 0, \"arrowwidth\": 1}, \"coloraxis\": {\"colorbar\": {\"outlinewidth\": 0, \"ticks\": \"\"}}, \"colorscale\": {\"diverging\": [[0, \"#8e0152\"], [0.1, \"#c51b7d\"], [0.2, \"#de77ae\"], [0.3, \"#f1b6da\"], [0.4, \"#fde0ef\"], [0.5, \"#f7f7f7\"], [0.6, \"#e6f5d0\"], [0.7, \"#b8e186\"], [0.8, \"#7fbc41\"], [0.9, \"#4d9221\"], [1, \"#276419\"]], \"sequential\": [[0.0, \"#0d0887\"], [0.1111111111111111, \"#46039f\"], [0.2222222222222222, \"#7201a8\"], [0.3333333333333333, \"#9c179e\"], [0.4444444444444444, \"#bd3786\"], [0.5555555555555556, \"#d8576b\"], [0.6666666666666666, \"#ed7953\"], [0.7777777777777778, \"#fb9f3a\"], [0.8888888888888888, \"#fdca26\"], [1.0, \"#f0f921\"]], \"sequentialminus\": [[0.0, \"#0d0887\"], [0.1111111111111111, \"#46039f\"], [0.2222222222222222, \"#7201a8\"], [0.3333333333333333, \"#9c179e\"], [0.4444444444444444, \"#bd3786\"], [0.5555555555555556, \"#d8576b\"], [0.6666666666666666, \"#ed7953\"], [0.7777777777777778, \"#fb9f3a\"], [0.8888888888888888, \"#fdca26\"], [1.0, \"#f0f921\"]]}, \"colorway\": [\"#636efa\", \"#EF553B\", \"#00cc96\", \"#ab63fa\", \"#FFA15A\", \"#19d3f3\", \"#FF6692\", \"#B6E880\", \"#FF97FF\", \"#FECB52\"], \"font\": {\"color\": \"#2a3f5f\"}, \"geo\": {\"bgcolor\": \"white\", \"lakecolor\": \"white\", \"landcolor\": \"#E5ECF6\", \"showlakes\": true, \"showland\": true, \"subunitcolor\": \"white\"}, \"hoverlabel\": {\"align\": \"left\"}, \"hovermode\": \"closest\", \"mapbox\": {\"style\": \"light\"}, \"paper_bgcolor\": \"white\", \"plot_bgcolor\": \"#E5ECF6\", \"polar\": {\"angularaxis\": {\"gridcolor\": \"white\", \"linecolor\": \"white\", \"ticks\": \"\"}, \"bgcolor\": \"#E5ECF6\", \"radialaxis\": {\"gridcolor\": \"white\", \"linecolor\": \"white\", \"ticks\": \"\"}}, \"scene\": {\"xaxis\": {\"backgroundcolor\": \"#E5ECF6\", \"gridcolor\": \"white\", \"gridwidth\": 2, \"linecolor\": \"white\", \"showbackground\": true, \"ticks\": \"\", \"zerolinecolor\": \"white\"}, \"yaxis\": {\"backgroundcolor\": \"#E5ECF6\", \"gridcolor\": \"white\", \"gridwidth\": 2, \"linecolor\": \"white\", \"showbackground\": true, \"ticks\": \"\", \"zerolinecolor\": \"white\"}, \"zaxis\": {\"backgroundcolor\": \"#E5ECF6\", \"gridcolor\": \"white\", \"gridwidth\": 2, \"linecolor\": \"white\", \"showbackground\": true, \"ticks\": \"\", \"zerolinecolor\": \"white\"}}, \"shapedefaults\": {\"line\": {\"color\": \"#2a3f5f\"}}, \"ternary\": {\"aaxis\": {\"gridcolor\": \"white\", \"linecolor\": \"white\", \"ticks\": \"\"}, \"baxis\": {\"gridcolor\": \"white\", \"linecolor\": \"white\", \"ticks\": \"\"}, \"bgcolor\": \"#E5ECF6\", \"caxis\": {\"gridcolor\": \"white\", \"linecolor\": \"white\", \"ticks\": \"\"}}, \"title\": {\"x\": 0.05}, \"xaxis\": {\"automargin\": true, \"gridcolor\": \"white\", \"linecolor\": \"white\", \"ticks\": \"\", \"title\": {\"standoff\": 15}, \"zerolinecolor\": \"white\", \"zerolinewidth\": 2}, \"yaxis\": {\"automargin\": true, \"gridcolor\": \"white\", \"linecolor\": \"white\", \"ticks\": \"\", \"title\": {\"standoff\": 15}, \"zerolinecolor\": \"white\", \"zerolinewidth\": 2}}}, \"title\": {\"text\": \"Heart Disease vs Max Heart Rate\"}, \"xaxis\": {\"title\": {\"text\": \"Max Heart Rate\"}}, \"yaxis\": {\"title\": {\"text\": \"Heart Disease\"}}},\n",
              "                        {\"responsive\": true}\n",
              "                    ).then(function(){\n",
              "                            \n",
              "var gd = document.getElementById('b64746e1-d967-4b52-a085-ec4bd6381099');\n",
              "var x = new MutationObserver(function (mutations, observer) {{\n",
              "        var display = window.getComputedStyle(gd).display;\n",
              "        if (!display || display === 'none') {{\n",
              "            console.log([gd, 'removed!']);\n",
              "            Plotly.purge(gd);\n",
              "            observer.disconnect();\n",
              "        }}\n",
              "}});\n",
              "\n",
              "// Listen for the removal of the full notebook cells\n",
              "var notebookContainer = gd.closest('#notebook-container');\n",
              "if (notebookContainer) {{\n",
              "    x.observe(notebookContainer, {childList: true});\n",
              "}}\n",
              "\n",
              "// Listen for the clearing of the current output cell\n",
              "var outputEl = gd.closest('.output');\n",
              "if (outputEl) {{\n",
              "    x.observe(outputEl, {childList: true});\n",
              "}}\n",
              "\n",
              "                        })\n",
              "                };\n",
              "                \n",
              "            </script>\n",
              "        </div>\n",
              "</body>\n",
              "</html>"
            ]
          },
          "metadata": {}
        }
      ]
    },
    {
      "cell_type": "code",
      "metadata": {
        "colab": {
          "base_uri": "https://localhost:8080/",
          "height": 542
        },
        "id": "law8xPLuOHZs",
        "outputId": "f577740e-24a3-4435-d07f-866ecd979871"
      },
      "source": [
        "fig = go.Figure()\n",
        "\n",
        "fig.add_trace(go.Scatter(x=predictions_df['MaxHR'], y=predictions_df['SK Learn Prediction'],\n",
        "                         mode='markers', name='Model Predictions', marker={'color':'blue'}))\n",
        "\n",
        "fig.add_trace(go.Scatter(x=predictions_df['MaxHR'], y=predictions_df['Sk Learn Probability'],\n",
        "                         mode='markers', name='Model Probabilities', marker={'color':'green'}))\n",
        "\n",
        "fig.update_layout(\n",
        "    title=\"Heart Disease vs Max Heart Rate\",\n",
        "    xaxis_title=\"Max Heart Rate\",\n",
        "    yaxis_title=\"Heart Disease\"\n",
        ")\n",
        "\n",
        "fig.show()"
      ],
      "execution_count": null,
      "outputs": [
        {
          "output_type": "display_data",
          "data": {
            "text/html": [
              "<html>\n",
              "<head><meta charset=\"utf-8\" /></head>\n",
              "<body>\n",
              "    <div>\n",
              "            <script src=\"https://cdnjs.cloudflare.com/ajax/libs/mathjax/2.7.5/MathJax.js?config=TeX-AMS-MML_SVG\"></script><script type=\"text/javascript\">if (window.MathJax) {MathJax.Hub.Config({SVG: {font: \"STIX-Web\"}});}</script>\n",
              "                <script type=\"text/javascript\">window.PlotlyConfig = {MathJaxConfig: 'local'};</script>\n",
              "        <script src=\"https://cdn.plot.ly/plotly-latest.min.js\"></script>    \n",
              "            <div id=\"125e11ce-1b1e-4490-8d99-946ae5dc2785\" class=\"plotly-graph-div\" style=\"height:525px; width:100%;\"></div>\n",
              "            <script type=\"text/javascript\">\n",
              "                \n",
              "                    window.PLOTLYENV=window.PLOTLYENV || {};\n",
              "                    \n",
              "                if (document.getElementById(\"125e11ce-1b1e-4490-8d99-946ae5dc2785\")) {\n",
              "                    Plotly.newPlot(\n",
              "                        '125e11ce-1b1e-4490-8d99-946ae5dc2785',\n",
              "                        [{\"marker\": {\"color\": \"blue\"}, \"mode\": \"markers\", \"name\": \"Model Predictions\", \"type\": \"scatter\", \"x\": [172, 156, 98, 108, 122, 170, 170, 142, 130, 120, 142, 99, 145, 140, 137, 150, 166, 165, 125, 160, 142, 142, 164, 150, 138, 178, 112, 118, 127, 145, 130, 114, 122, 130, 154, 155, 87, 142, 148, 130, 130, 100, 168, 170, 120, 120, 168, 170, 184, 170, 121, 98, 122, 150, 140, 170, 153, 140, 134, 96, 174, 175, 144, 125, 145, 130, 144, 184, 82, 170, 145, 135, 150, 115, 128, 116, 130, 150, 138, 170, 160, 154, 115, 165, 125, 94, 112, 142, 155, 110, 160, 140, 148, 92, 180, 140, 138, 160, 140, 144, 115, 100, 130, 152, 124, 140, 110, 168, 135, 106, 124, 92, 125, 150, 135, 150, 170, 130, 185, 180, 170, 139, 140, 110, 150, 110, 190, 175, 140, 152, 130, 150, 122, 124, 120, 175, 175, 146, 118, 130, 94, 125, 158, 155, 150, 132, 155, 176, 160, 125, 120, 100, 150, 140, 160, 150, 150, 130, 100, 130, 119, 96, 174, 150, 140, 175, 140, 118, 100, 160, 160, 188, 162, 172, 134, 135, 105, 150, 150, 90, 120, 150, 124, 140, 130, 92, 110, 138, 110, 120, 120, 116, 160, 110, 180, 116, 132, 136, 116, 98, 150, 150, 146, 150, 100, 140, 180, 140, 185, 140, 110, 140, 128, 164, 98, 170, 150, 137, 150, 170, 112, 150, 125, 185, 137, 150, 140, 134, 170, 184, 158, 167, 129, 142, 140, 160, 118, 136, 99, 102, 155, 142, 143, 118, 103, 137, 150, 150, 130, 120, 135, 115, 115, 152, 96, 130, 150, 172, 120, 155, 165, 138, 115, 125, 145, 175, 110, 150, 91, 145, 140, 165, 130, 134, 180, 100, 150, 126, 126, 155, 135, 122, 160, 160, 170, 120, 140, 132, 156, 180, 138, 135, 148, 93, 127, 110, 139, 131, 92, 149, 149, 150, 120, 123, 126, 127, 155, 120, 138, 182, 154, 110, 176, 154, 141, 123, 148, 121, 77, 136, 175, 109, 166, 128, 133, 128, 138, 119, 82, 130, 143, 82, 179, 144, 170, 134, 114, 154, 149, 145, 122, 114, 113, 120, 104, 130, 115, 128, 104, 125, 120, 140, 100, 100, 92, 125, 113, 95, 128, 115, 72, 124, 99, 148, 97, 140, 117, 120, 120, 86, 63, 108, 98, 115, 105, 121, 118, 122, 157, 156, 99, 120, 145, 156, 155, 105, 99, 135, 83, 145, 60, 92, 115, 120, 98, 150, 143, 105, 122, 70, 110, 163, 67, 128, 120, 130, 100, 72, 94, 122, 78, 150, 103, 98, 110, 90, 112, 127, 140, 149, 99, 120, 105, 140, 141, 157, 140, 117, 120, 120, 148, 86, 84, 125, 120, 118, 124, 106, 111, 116, 180, 129, 125, 140, 120, 124, 117, 110, 105, 155, 110, 122, 118, 133, 123, 131, 80, 165, 86, 111, 118, 84, 117, 107, 128, 160, 125, 130, 97, 161, 106, 130, 140, 122, 130, 120, 139, 108, 148, 123, 110, 118, 125, 106, 112, 128, 180, 144, 135, 140, 102, 108, 145, 127, 110, 140, 69, 148, 130, 130, 140, 138, 140, 138, 112, 131, 112, 80, 150, 110, 126, 88, 153, 150, 120, 160, 132, 120, 110, 121, 128, 135, 120, 117, 150, 144, 113, 135, 127, 109, 128, 115, 102, 140, 135, 122, 119, 130, 112, 100, 122, 120, 105, 129, 120, 139, 162, 100, 140, 135, 73, 86, 108, 116, 160, 118, 112, 122, 124, 102, 137, 141, 154, 126, 160, 115, 128, 115, 105, 110, 119, 109, 135, 130, 112, 126, 120, 110, 119, 110, 130, 159, 84, 126, 116, 120, 122, 165, 122, 94, 133, 110, 150, 130, 113, 140, 100, 136, 127, 98, 96, 123, 98, 112, 151, 96, 108, 128, 138, 126, 154, 137, 100, 135, 93, 109, 160, 141, 105, 121, 140, 142, 142, 170, 154, 161, 111, 180, 145, 159, 125, 120, 155, 144, 178, 129, 180, 181, 143, 159, 139, 152, 157, 165, 130, 150, 138, 170, 140, 126, 150, 138, 125, 150, 186, 181, 163, 179, 156, 134, 165, 126, 177, 120, 114, 125, 184, 157, 179, 175, 168, 125, 96, 143, 103, 173, 142, 169, 171, 150, 112, 186, 152, 149, 152, 140, 163, 143, 116, 142, 147, 148, 179, 173, 178, 105, 130, 111, 168, 126, 178, 140, 145, 163, 128, 164, 169, 109, 108, 168, 118, 151, 156, 133, 162, 175, 71, 163, 124, 147, 166, 143, 157, 162, 138, 117, 153, 161, 170, 162, 162, 144, 133, 114, 103, 139, 116, 88, 151, 152, 163, 99, 169, 158, 160, 169, 132, 178, 96, 165, 160, 172, 144, 192, 168, 132, 182, 163, 125, 195, 95, 160, 114, 173, 172, 179, 158, 167, 122, 149, 172, 111, 170, 162, 165, 182, 154, 155, 130, 161, 154, 159, 152, 152, 174, 131, 146, 125, 115, 174, 106, 122, 147, 163, 163, 194, 150, 158, 122, 173, 162, 105, 147, 157, 112, 160, 125, 156, 156, 175, 161, 122, 158, 151, 162, 151, 171, 141, 173, 145, 178, 160, 154, 131, 187, 159, 166, 165, 131, 202, 172, 172, 154, 147, 170, 126, 127, 174, 132, 182, 132, 97, 136, 162, 190, 146, 140, 185, 161, 146, 145, 160, 120, 156, 172, 150, 182, 143, 160, 142, 144, 158, 148, 155, 142, 113, 188, 153, 123, 157, 162, 137, 132, 158, 171, 172, 132, 160, 171, 168, 162, 173, 153, 148, 108, 115, 169, 143, 156, 162, 155, 152, 152, 164, 131, 143, 179, 130, 174, 161, 140, 146, 144, 163, 169, 150, 166, 144, 144, 136, 182, 90, 123, 132, 141, 115, 174, 173], \"y\": [0, 0, 1, 1, 1, 0, 0, 1, 1, 1, 1, 1, 0, 1, 1, 0, 0, 0, 1, 0, 1, 1, 0, 0, 1, 0, 1, 1, 1, 0, 1, 1, 1, 1, 0, 0, 1, 1, 0, 1, 1, 1, 0, 0, 1, 1, 0, 0, 0, 0, 1, 1, 1, 0, 1, 0, 0, 1, 1, 1, 0, 0, 0, 1, 0, 1, 0, 0, 1, 0, 0, 1, 0, 1, 1, 1, 1, 0, 1, 0, 0, 0, 1, 0, 1, 1, 1, 1, 0, 1, 0, 1, 0, 1, 0, 1, 1, 0, 1, 0, 1, 1, 1, 0, 1, 1, 1, 0, 1, 1, 1, 1, 1, 0, 1, 0, 0, 1, 0, 0, 0, 1, 1, 1, 0, 1, 0, 0, 1, 0, 1, 0, 1, 1, 1, 0, 0, 0, 1, 1, 1, 1, 0, 0, 0, 1, 0, 0, 0, 1, 1, 1, 0, 1, 0, 0, 0, 1, 1, 1, 1, 1, 0, 0, 1, 0, 1, 1, 1, 0, 0, 0, 0, 0, 1, 1, 1, 0, 0, 1, 1, 0, 1, 1, 1, 1, 1, 1, 1, 1, 1, 1, 0, 1, 0, 1, 1, 1, 1, 1, 0, 0, 0, 0, 1, 1, 0, 1, 0, 1, 1, 1, 1, 0, 1, 0, 0, 1, 0, 0, 1, 0, 1, 0, 1, 0, 1, 1, 0, 0, 0, 0, 1, 1, 1, 0, 1, 1, 1, 1, 0, 1, 1, 1, 1, 1, 0, 0, 1, 1, 1, 1, 1, 0, 1, 1, 0, 0, 1, 0, 0, 1, 1, 1, 0, 0, 1, 0, 1, 0, 1, 0, 1, 1, 0, 1, 0, 1, 1, 0, 1, 1, 0, 0, 0, 1, 1, 1, 0, 0, 1, 1, 0, 1, 1, 1, 1, 1, 1, 0, 0, 0, 1, 1, 1, 1, 0, 1, 1, 0, 0, 1, 0, 0, 1, 1, 0, 1, 1, 1, 0, 1, 0, 1, 1, 1, 1, 1, 1, 1, 1, 1, 0, 0, 0, 1, 1, 0, 0, 0, 1, 1, 1, 1, 1, 1, 1, 1, 1, 1, 1, 1, 1, 1, 1, 1, 1, 1, 1, 1, 1, 1, 1, 0, 1, 1, 1, 1, 1, 1, 1, 1, 1, 1, 1, 1, 1, 1, 0, 0, 1, 1, 0, 0, 0, 1, 1, 1, 1, 0, 1, 1, 1, 1, 1, 0, 1, 1, 1, 1, 1, 0, 1, 1, 1, 1, 1, 1, 1, 1, 1, 0, 1, 1, 1, 1, 1, 1, 1, 0, 1, 1, 1, 1, 1, 0, 1, 1, 1, 1, 0, 1, 1, 1, 1, 1, 1, 1, 1, 1, 0, 1, 1, 1, 1, 1, 1, 1, 1, 0, 1, 1, 1, 1, 1, 1, 1, 0, 1, 1, 1, 1, 1, 1, 1, 0, 1, 1, 1, 0, 1, 1, 1, 1, 1, 1, 1, 1, 0, 1, 1, 1, 1, 1, 1, 1, 0, 0, 1, 1, 1, 1, 0, 1, 1, 1, 1, 0, 1, 1, 1, 1, 1, 1, 1, 1, 1, 1, 0, 1, 1, 1, 0, 0, 1, 0, 1, 1, 1, 1, 1, 1, 1, 1, 0, 0, 1, 1, 1, 1, 1, 1, 1, 1, 1, 1, 1, 1, 1, 1, 1, 1, 1, 1, 1, 1, 0, 1, 1, 1, 1, 1, 1, 1, 0, 1, 1, 1, 1, 1, 1, 1, 0, 1, 0, 1, 1, 1, 1, 1, 1, 1, 1, 1, 1, 1, 1, 1, 1, 1, 1, 0, 1, 1, 1, 1, 1, 0, 1, 1, 1, 1, 0, 1, 1, 1, 1, 1, 1, 1, 1, 1, 1, 1, 0, 1, 1, 1, 1, 1, 0, 1, 1, 1, 1, 1, 0, 1, 1, 1, 1, 1, 1, 0, 0, 0, 1, 0, 0, 0, 1, 1, 0, 0, 0, 1, 0, 0, 1, 0, 1, 0, 0, 0, 1, 0, 1, 0, 1, 1, 0, 1, 1, 0, 0, 0, 0, 0, 0, 1, 0, 1, 0, 1, 1, 1, 0, 0, 0, 0, 0, 1, 1, 1, 1, 0, 1, 0, 0, 0, 1, 0, 0, 0, 0, 1, 0, 1, 1, 1, 0, 0, 0, 0, 0, 1, 1, 1, 0, 1, 0, 1, 0, 0, 1, 0, 0, 1, 1, 0, 1, 0, 0, 1, 0, 0, 1, 0, 1, 0, 0, 1, 0, 0, 1, 1, 0, 0, 0, 0, 0, 0, 1, 1, 1, 1, 1, 1, 0, 0, 0, 1, 0, 0, 0, 0, 1, 0, 1, 0, 0, 0, 0, 0, 0, 1, 0, 0, 1, 0, 1, 0, 1, 0, 0, 0, 0, 0, 1, 0, 0, 1, 0, 0, 0, 0, 0, 0, 1, 0, 0, 0, 0, 0, 0, 1, 0, 1, 1, 0, 1, 1, 0, 0, 0, 0, 0, 0, 1, 0, 0, 1, 0, 0, 1, 0, 1, 0, 0, 0, 0, 1, 0, 0, 0, 0, 0, 1, 0, 0, 0, 0, 0, 1, 0, 0, 0, 0, 1, 0, 0, 0, 0, 0, 0, 1, 1, 0, 1, 0, 1, 1, 1, 0, 0, 0, 1, 0, 0, 0, 0, 0, 1, 0, 0, 0, 0, 1, 0, 1, 0, 0, 0, 0, 1, 1, 0, 0, 1, 0, 0, 1, 1, 0, 0, 0, 1, 0, 0, 0, 0, 0, 0, 0, 1, 1, 0, 1, 0, 0, 0, 0, 0, 0, 1, 1, 0, 1, 0, 0, 1, 0, 0, 0, 0, 0, 0, 0, 0, 1, 0, 1, 1, 1, 1, 1, 0, 0]}, {\"marker\": {\"color\": \"green\"}, \"mode\": \"markers\", \"name\": \"Model Probabilities\", \"type\": \"scatter\", \"x\": [172, 156, 98, 108, 122, 170, 170, 142, 130, 120, 142, 99, 145, 140, 137, 150, 166, 165, 125, 160, 142, 142, 164, 150, 138, 178, 112, 118, 127, 145, 130, 114, 122, 130, 154, 155, 87, 142, 148, 130, 130, 100, 168, 170, 120, 120, 168, 170, 184, 170, 121, 98, 122, 150, 140, 170, 153, 140, 134, 96, 174, 175, 144, 125, 145, 130, 144, 184, 82, 170, 145, 135, 150, 115, 128, 116, 130, 150, 138, 170, 160, 154, 115, 165, 125, 94, 112, 142, 155, 110, 160, 140, 148, 92, 180, 140, 138, 160, 140, 144, 115, 100, 130, 152, 124, 140, 110, 168, 135, 106, 124, 92, 125, 150, 135, 150, 170, 130, 185, 180, 170, 139, 140, 110, 150, 110, 190, 175, 140, 152, 130, 150, 122, 124, 120, 175, 175, 146, 118, 130, 94, 125, 158, 155, 150, 132, 155, 176, 160, 125, 120, 100, 150, 140, 160, 150, 150, 130, 100, 130, 119, 96, 174, 150, 140, 175, 140, 118, 100, 160, 160, 188, 162, 172, 134, 135, 105, 150, 150, 90, 120, 150, 124, 140, 130, 92, 110, 138, 110, 120, 120, 116, 160, 110, 180, 116, 132, 136, 116, 98, 150, 150, 146, 150, 100, 140, 180, 140, 185, 140, 110, 140, 128, 164, 98, 170, 150, 137, 150, 170, 112, 150, 125, 185, 137, 150, 140, 134, 170, 184, 158, 167, 129, 142, 140, 160, 118, 136, 99, 102, 155, 142, 143, 118, 103, 137, 150, 150, 130, 120, 135, 115, 115, 152, 96, 130, 150, 172, 120, 155, 165, 138, 115, 125, 145, 175, 110, 150, 91, 145, 140, 165, 130, 134, 180, 100, 150, 126, 126, 155, 135, 122, 160, 160, 170, 120, 140, 132, 156, 180, 138, 135, 148, 93, 127, 110, 139, 131, 92, 149, 149, 150, 120, 123, 126, 127, 155, 120, 138, 182, 154, 110, 176, 154, 141, 123, 148, 121, 77, 136, 175, 109, 166, 128, 133, 128, 138, 119, 82, 130, 143, 82, 179, 144, 170, 134, 114, 154, 149, 145, 122, 114, 113, 120, 104, 130, 115, 128, 104, 125, 120, 140, 100, 100, 92, 125, 113, 95, 128, 115, 72, 124, 99, 148, 97, 140, 117, 120, 120, 86, 63, 108, 98, 115, 105, 121, 118, 122, 157, 156, 99, 120, 145, 156, 155, 105, 99, 135, 83, 145, 60, 92, 115, 120, 98, 150, 143, 105, 122, 70, 110, 163, 67, 128, 120, 130, 100, 72, 94, 122, 78, 150, 103, 98, 110, 90, 112, 127, 140, 149, 99, 120, 105, 140, 141, 157, 140, 117, 120, 120, 148, 86, 84, 125, 120, 118, 124, 106, 111, 116, 180, 129, 125, 140, 120, 124, 117, 110, 105, 155, 110, 122, 118, 133, 123, 131, 80, 165, 86, 111, 118, 84, 117, 107, 128, 160, 125, 130, 97, 161, 106, 130, 140, 122, 130, 120, 139, 108, 148, 123, 110, 118, 125, 106, 112, 128, 180, 144, 135, 140, 102, 108, 145, 127, 110, 140, 69, 148, 130, 130, 140, 138, 140, 138, 112, 131, 112, 80, 150, 110, 126, 88, 153, 150, 120, 160, 132, 120, 110, 121, 128, 135, 120, 117, 150, 144, 113, 135, 127, 109, 128, 115, 102, 140, 135, 122, 119, 130, 112, 100, 122, 120, 105, 129, 120, 139, 162, 100, 140, 135, 73, 86, 108, 116, 160, 118, 112, 122, 124, 102, 137, 141, 154, 126, 160, 115, 128, 115, 105, 110, 119, 109, 135, 130, 112, 126, 120, 110, 119, 110, 130, 159, 84, 126, 116, 120, 122, 165, 122, 94, 133, 110, 150, 130, 113, 140, 100, 136, 127, 98, 96, 123, 98, 112, 151, 96, 108, 128, 138, 126, 154, 137, 100, 135, 93, 109, 160, 141, 105, 121, 140, 142, 142, 170, 154, 161, 111, 180, 145, 159, 125, 120, 155, 144, 178, 129, 180, 181, 143, 159, 139, 152, 157, 165, 130, 150, 138, 170, 140, 126, 150, 138, 125, 150, 186, 181, 163, 179, 156, 134, 165, 126, 177, 120, 114, 125, 184, 157, 179, 175, 168, 125, 96, 143, 103, 173, 142, 169, 171, 150, 112, 186, 152, 149, 152, 140, 163, 143, 116, 142, 147, 148, 179, 173, 178, 105, 130, 111, 168, 126, 178, 140, 145, 163, 128, 164, 169, 109, 108, 168, 118, 151, 156, 133, 162, 175, 71, 163, 124, 147, 166, 143, 157, 162, 138, 117, 153, 161, 170, 162, 162, 144, 133, 114, 103, 139, 116, 88, 151, 152, 163, 99, 169, 158, 160, 169, 132, 178, 96, 165, 160, 172, 144, 192, 168, 132, 182, 163, 125, 195, 95, 160, 114, 173, 172, 179, 158, 167, 122, 149, 172, 111, 170, 162, 165, 182, 154, 155, 130, 161, 154, 159, 152, 152, 174, 131, 146, 125, 115, 174, 106, 122, 147, 163, 163, 194, 150, 158, 122, 173, 162, 105, 147, 157, 112, 160, 125, 156, 156, 175, 161, 122, 158, 151, 162, 151, 171, 141, 173, 145, 178, 160, 154, 131, 187, 159, 166, 165, 131, 202, 172, 172, 154, 147, 170, 126, 127, 174, 132, 182, 132, 97, 136, 162, 190, 146, 140, 185, 161, 146, 145, 160, 120, 156, 172, 150, 182, 143, 160, 142, 144, 158, 148, 155, 142, 113, 188, 153, 123, 157, 162, 137, 132, 158, 171, 172, 132, 160, 171, 168, 162, 173, 153, 148, 108, 115, 169, 143, 156, 162, 155, 152, 152, 164, 131, 143, 179, 130, 174, 161, 140, 146, 144, 163, 169, 150, 166, 144, 144, 136, 182, 90, 123, 132, 141, 115, 174, 173], \"y\": [0.2609389646425221, 0.3897365481991345, 0.8455379083873306, 0.7907749437202437, 0.6923253188518114, 0.2754769327885896, 0.2754769327885896, 0.5175353519845768, 0.6259019622799237, 0.7078773802518259, 0.5175353519845768, 0.840637916403869, 0.4897623733568337, 0.5360012074751885, 0.5635004728622155, 0.4436980583033375, 0.30600970739477734, 0.3139322880257179, 0.6681626178358427, 0.3551246209926921, 0.5175353519845768, 0.5175353519845768, 0.3219648242707817, 0.4436980583033375, 0.5543688683378393, 0.22039829474604425, 0.765205606324468, 0.722957901873652, 0.651537031351976, 0.4897623733568337, 0.6259019622799237, 0.7516347536308627, 0.6923253188518114, 0.6259019622799237, 0.40749383340802015, 0.3985818398156112, 0.8916288284982107, 0.5175353519845768, 0.46205245112598503, 0.6259019622799237, 0.6259019622799237, 0.8356127029223647, 0.2905064913938509, 0.2754769327885896, 0.7078773802518259, 0.7078773802518259, 0.2905064913938509, 0.2754769327885896, 0.18458311494812005, 0.2754769327885896, 0.7001589969198562, 0.8455379083873306, 0.6923253188518114, 0.4436980583033375, 0.5360012074751885, 0.2754769327885896, 0.4164671061171443, 0.5360012074751885, 0.5906147495266368, 0.8549678688746648, 0.2469067618957088, 0.24008375200033943, 0.4990214783140502, 0.6681626178358427, 0.4897623733568337, 0.6259019622799237, 0.4990214783140502, 0.18458311494812005, 0.9082705256547735, 0.2754769327885896, 0.4897623733568337, 0.5816292359744925, 0.4436980583033375, 0.7446554724739265, 0.6430806116047318, 0.7375485488072042, 0.6259019622799237, 0.4436980583033375, 0.5543688683378393, 0.2754769327885896, 0.3551246209926921, 0.40749383340802015, 0.7446554724739265, 0.3139322880257179, 0.6681626178358427, 0.8639147836933277, 0.765205606324468, 0.5175353519845768, 0.3985818398156112, 0.7782537005797351, 0.3551246209926921, 0.5360012074751885, 0.46205245112598503, 0.8723921483363917, 0.20793283186561765, 0.5360012074751885, 0.5543688683378393, 0.3551246209926921, 0.5360012074751885, 0.4990214783140502, 0.7446554724739265, 0.8356127029223647, 0.6259019622799237, 0.4254960756629841, 0.6763238797823873, 0.5360012074751885, 0.7782537005797351, 0.2905064913938509, 0.5816292359744925, 0.8027683375875693, 0.6763238797823873, 0.8723921483363917, 0.6681626178358427, 0.4436980583033375, 0.5816292359744925, 0.4436980583033375, 0.2754769327885896, 0.6259019622799237, 0.1790728321779459, 0.20793283186561765, 0.2754769327885896, 0.5452004128192333, 0.5360012074751885, 0.7782537005797351, 0.4436980583033375, 0.7782537005797351, 0.1534424662560065, 0.24008375200033943, 0.5360012074751885, 0.4254960756629841, 0.6259019622799237, 0.4436980583033375, 0.6923253188518114, 0.6763238797823873, 0.7078773802518259, 0.24008375200033943, 0.24008375200033943, 0.4805102874772629, 0.722957901873652, 0.6259019622799237, 0.8639147836933277, 0.6681626178358427, 0.3722668928641893, 0.3985818398156112, 0.4436980583033375, 0.6083999822497841, 0.3985818398156112, 0.2333908563893173, 0.3551246209926921, 0.6681626178358427, 0.7078773802518259, 0.8356127029223647, 0.4436980583033375, 0.5360012074751885, 0.3551246209926921, 0.4436980583033375, 0.4436980583033375, 0.6259019622799237, 0.8356127029223647, 0.6259019622799237, 0.7154778187287896, 0.8549678688746648, 0.2469067618957088, 0.4436980583033375, 0.5360012074751885, 0.24008375200033943, 0.5360012074751885, 0.722957901873652, 0.8356127029223647, 0.3551246209926921, 0.3551246209926921, 0.16331480875105697, 0.3383462525166967, 0.2609389646425221, 0.5906147495266368, 0.5816292359744925, 0.8085675663252168, 0.4436980583033375, 0.4436980583033375, 0.8804145196899192, 0.7078773802518259, 0.4436980583033375, 0.6763238797823873, 0.5360012074751885, 0.6259019622799237, 0.8723921483363917, 0.7782537005797351, 0.5543688683378393, 0.7782537005797351, 0.7078773802518259, 0.7078773802518259, 0.7375485488072042, 0.3551246209926921, 0.7782537005797351, 0.20793283186561765, 0.7375485488072042, 0.6083999822497841, 0.5725892244860964, 0.7375485488072042, 0.8455379083873306, 0.4436980583033375, 0.4436980583033375, 0.4805102874772629, 0.4436980583033375, 0.8356127029223647, 0.5360012074751885, 0.20793283186561765, 0.5360012074751885, 0.1790728321779459, 0.5360012074751885, 0.7782537005797351, 0.5360012074751885, 0.6430806116047318, 0.3219648242707817, 0.8455379083873306, 0.2754769327885896, 0.4436980583033375, 0.5635004728622155, 0.4436980583033375, 0.2754769327885896, 0.765205606324468, 0.4436980583033375, 0.6681626178358427, 0.1790728321779459, 0.5635004728622155, 0.4436980583033375, 0.5360012074751885, 0.5906147495266368, 0.2754769327885896, 0.18458311494812005, 0.3722668928641893, 0.29820016199230787, 0.6345340863495227, 0.5175353519845768, 0.5360012074751885, 0.3551246209926921, 0.722957901873652, 0.5725892244860964, 0.840637916403869, 0.8251815971378507, 0.3985818398156112, 0.5175353519845768, 0.5082812544398188, 0.722957901873652, 0.8197734873419239, 0.5635004728622155, 0.4436980583033375, 0.4436980583033375, 0.6259019622799237, 0.7078773802518259, 0.5816292359744925, 0.7446554724739265, 0.7446554724739265, 0.4254960756629841, 0.8549678688746648, 0.6259019622799237, 0.4436980583033375, 0.2609389646425221, 0.7078773802518259, 0.3985818398156112, 0.3139322880257179, 0.5543688683378393, 0.7446554724739265, 0.6681626178358427, 0.4897623733568337, 0.24008375200033943, 0.7782537005797351, 0.4436980583033375, 0.8764592630261128, 0.4897623733568337, 0.5360012074751885, 0.3139322880257179, 0.6259019622799237, 0.5906147495266368, 0.20793283186561765, 0.8356127029223647, 0.4436980583033375, 0.6598990556643708, 0.6598990556643708, 0.3985818398156112, 0.5816292359744925, 0.6923253188518114, 0.3551246209926921, 0.3551246209926921, 0.2754769327885896, 0.7078773802518259, 0.5360012074751885, 0.6083999822497841, 0.3897365481991345, 0.20793283186561765, 0.5543688683378393, 0.5816292359744925, 0.46205245112598503, 0.8682112722053241, 0.651537031351976, 0.7782537005797351, 0.5452004128192333, 0.6171889553531053, 0.8723921483363917, 0.45285923137321227, 0.45285923137321227, 0.4436980583033375, 0.7078773802518259, 0.6843792363944345, 0.6598990556643708, 0.651537031351976, 0.3985818398156112, 0.7078773802518259, 0.5543688683378393, 0.195995152679382, 0.40749383340802015, 0.7782537005797351, 0.2333908563893173, 0.40749383340802015, 0.5267774367641762, 0.6843792363944345, 0.46205245112598503, 0.7001589969198562, 0.9225785905803651, 0.5725892244860964, 0.24008375200033943, 0.7845803107179642, 0.30600970739477734, 0.6430806116047318, 0.5995401508175907, 0.6430806116047318, 0.5543688683378393, 0.7154778187287896, 0.9082705256547735, 0.6259019622799237, 0.5082812544398188, 0.9082705256547735, 0.21409956395965105, 0.4990214783140502, 0.2754769327885896, 0.5906147495266368, 0.7516347536308627, 0.40749383340802015, 0.45285923137321227, 0.4897623733568337, 0.6923253188518114, 0.7516347536308627, 0.7584851419386704, 0.7078773802518259, 0.8142357376350635, 0.6259019622799237, 0.7446554724739265, 0.6430806116047318, 0.8142357376350635, 0.6681626178358427, 0.7078773802518259, 0.5360012074751885, 0.8356127029223647, 0.8356127029223647, 0.8723921483363917, 0.6681626178358427, 0.7584851419386704, 0.8595008910828382, 0.6430806116047318, 0.7446554724739265, 0.9348150391468388, 0.6763238797823873, 0.840637916403869, 0.46205245112598503, 0.8503140650220352, 0.5360012074751885, 0.7303154573808168, 0.7078773802518259, 0.7078773802518259, 0.8951565153958226, 0.9524157197612084, 0.7907749437202437, 0.8455379083873306, 0.7446554724739265, 0.8085675663252168, 0.7001589969198562, 0.722957901873652, 0.6923253188518114, 0.38096320978400594, 0.3897365481991345, 0.840637916403869, 0.7078773802518259, 0.4897623733568337, 0.3897365481991345, 0.3985818398156112, 0.8085675663252168, 0.840637916403869, 0.5816292359744925, 0.9051373274893162, 0.4897623733568337, 0.9572061990198002, 0.8723921483363917, 0.7446554724739265, 0.7078773802518259, 0.8455379083873306, 0.4436980583033375, 0.5082812544398188, 0.8085675663252168, 0.6923253188518114, 0.9391866094699116, 0.7782537005797351, 0.3301039975730218, 0.9452323254368847, 0.6430806116047318, 0.7078773802518259, 0.6259019622799237, 0.8356127029223647, 0.9348150391468388, 0.8639147836933277, 0.6923253188518114, 0.919891007304843, 0.4436980583033375, 0.8197734873419239, 0.8455379083873306, 0.7782537005797351, 0.8804145196899192, 0.765205606324468, 0.651537031351976, 0.5360012074751885, 0.45285923137321227, 0.840637916403869, 0.7078773802518259, 0.8085675663252168, 0.5360012074751885, 0.5267774367641762, 0.38096320978400594, 0.5360012074751885, 0.7303154573808168, 0.7078773802518259, 0.7078773802518259, 0.46205245112598503, 0.8951565153958226, 0.9019086668496099, 0.6681626178358427, 0.7078773802518259, 0.722957901873652, 0.6763238797823873, 0.8027683375875693, 0.7717953292685138, 0.7375485488072042, 0.20793283186561765, 0.6345340863495227, 0.6681626178358427, 0.5360012074751885, 0.7078773802518259, 0.6763238797823873, 0.7303154573808168, 0.7782537005797351, 0.8085675663252168, 0.3985818398156112, 0.7782537005797351, 0.6923253188518114, 0.722957901873652, 0.5995401508175907, 0.6843792363944345, 0.6171889553531053, 0.9142590017170057, 0.3139322880257179, 0.8951565153958226, 0.7717953292685138, 0.722957901873652, 0.9019086668496099, 0.7303154573808168, 0.7968375697876303, 0.6430806116047318, 0.3551246209926921, 0.6681626178358427, 0.6259019622799237, 0.8503140650220352, 0.34668779992514015, 0.8027683375875693, 0.6259019622799237, 0.5360012074751885, 0.6923253188518114, 0.6259019622799237, 0.7078773802518259, 0.5452004128192333, 0.7907749437202437, 0.46205245112598503, 0.6843792363944345, 0.7782537005797351, 0.722957901873652, 0.6681626178358427, 0.8027683375875693, 0.765205606324468, 0.6430806116047318, 0.20793283186561765, 0.4990214783140502, 0.5816292359744925, 0.5360012074751885, 0.8251815971378507, 0.7907749437202437, 0.4897623733568337, 0.651537031351976, 0.7782537005797351, 0.5360012074751885, 0.941268173999715, 0.46205245112598503, 0.6259019622799237, 0.6259019622799237, 0.5360012074751885, 0.5543688683378393, 0.5360012074751885, 0.5543688683378393, 0.765205606324468, 0.6171889553531053, 0.765205606324468, 0.9142590017170057, 0.4436980583033375, 0.7782537005797351, 0.6598990556643708, 0.887997296333839, 0.4164671061171443, 0.4436980583033375, 0.7078773802518259, 0.3551246209926921, 0.6083999822497841, 0.7078773802518259, 0.7782537005797351, 0.7001589969198562, 0.6430806116047318, 0.5816292359744925, 0.7078773802518259, 0.7303154573808168, 0.4436980583033375, 0.4990214783140502, 0.7584851419386704, 0.5816292359744925, 0.651537031351976, 0.7845803107179642, 0.6430806116047318, 0.7446554724739265, 0.8251815971378507, 0.5360012074751885, 0.5816292359744925, 0.6923253188518114, 0.7154778187287896, 0.6259019622799237, 0.765205606324468, 0.8356127029223647, 0.6923253188518114, 0.7078773802518259, 0.8085675663252168, 0.6345340863495227, 0.7078773802518259, 0.5452004128192333, 0.3383462525166967, 0.8356127029223647, 0.5360012074751885, 0.5816292359744925, 0.9325211597136158, 0.8951565153958226, 0.7907749437202437, 0.7375485488072042, 0.3551246209926921, 0.722957901873652, 0.765205606324468, 0.6923253188518114, 0.6763238797823873, 0.8251815971378507, 0.5635004728622155, 0.5267774367641762, 0.40749383340802015, 0.6598990556643708, 0.3551246209926921, 0.7446554724739265, 0.6430806116047318, 0.7446554724739265, 0.8085675663252168, 0.7782537005797351, 0.7154778187287896, 0.7845803107179642, 0.5816292359744925, 0.6259019622799237, 0.765205606324468, 0.6598990556643708, 0.7078773802518259, 0.7782537005797351, 0.7154778187287896, 0.7782537005797351, 0.6259019622799237, 0.3636524724636999, 0.9019086668496099, 0.6598990556643708, 0.7375485488072042, 0.7078773802518259, 0.6923253188518114, 0.3139322880257179, 0.6923253188518114, 0.8639147836933277, 0.5995401508175907, 0.7782537005797351, 0.4436980583033375, 0.6259019622799237, 0.7584851419386704, 0.5360012074751885, 0.8356127029223647, 0.5725892244860964, 0.651537031351976, 0.8455379083873306, 0.8549678688746648, 0.6843792363944345, 0.8455379083873306, 0.765205606324468, 0.43457501342121924, 0.8549678688746648, 0.7907749437202437, 0.6430806116047318, 0.5543688683378393, 0.6598990556643708, 0.40749383340802015, 0.5635004728622155, 0.8356127029223647, 0.5816292359744925, 0.8682112722053241, 0.7845803107179642, 0.3551246209926921, 0.5267774367641762, 0.8085675663252168, 0.7001589969198562, 0.5360012074751885, 0.5175353519845768, 0.5175353519845768, 0.2754769327885896, 0.40749383340802015, 0.34668779992514015, 0.7717953292685138, 0.20793283186561765, 0.4897623733568337, 0.3636524724636999, 0.6681626178358427, 0.7078773802518259, 0.3985818398156112, 0.4990214783140502, 0.22039829474604425, 0.6345340863495227, 0.20793283186561765, 0.20189808989720734, 0.5082812544398188, 0.3636524724636999, 0.5452004128192333, 0.4254960756629841, 0.38096320978400594, 0.3139322880257179, 0.6259019622799237, 0.4436980583033375, 0.5543688683378393, 0.2754769327885896, 0.5360012074751885, 0.6598990556643708, 0.4436980583033375, 0.5543688683378393, 0.6681626178358427, 0.4436980583033375, 0.1736920062405972, 0.20189808989720734, 0.3301039975730218, 0.21409956395965105, 0.3897365481991345, 0.5906147495266368, 0.3139322880257179, 0.6598990556643708, 0.22682884823239477, 0.7078773802518259, 0.7516347536308627, 0.6681626178358427, 0.18458311494812005, 0.38096320978400594, 0.21409956395965105, 0.24008375200033943, 0.2905064913938509, 0.6681626178358427, 0.8549678688746648, 0.5082812544398188, 0.8197734873419239, 0.2538589006273162, 0.5175353519845768, 0.2829312949951419, 0.2681455270147869, 0.4436980583033375, 0.765205606324468, 0.1736920062405972, 0.4254960756629841, 0.45285923137321227, 0.4254960756629841, 0.5360012074751885, 0.3301039975730218, 0.5082812544398188, 0.7375485488072042, 0.5175353519845768, 0.471271549348794, 0.46205245112598503, 0.21409956395965105, 0.2538589006273162, 0.22039829474604425, 0.8085675663252168, 0.6259019622799237, 0.7717953292685138, 0.2905064913938509, 0.6598990556643708, 0.22039829474604425, 0.5360012074751885, 0.4897623733568337, 0.3301039975730218, 0.6430806116047318, 0.3219648242707817, 0.2829312949951419, 0.7845803107179642, 0.7907749437202437, 0.2905064913938509, 0.722957901873652, 0.43457501342121924, 0.3897365481991345, 0.5995401508175907, 0.3383462525166967, 0.24008375200033943, 0.9370362054051542, 0.3301039975730218, 0.6763238797823873, 0.471271549348794, 0.30600970739477734, 0.5082812544398188, 0.38096320978400594, 0.3383462525166967, 0.5543688683378393, 0.7303154573808168, 0.4164671061171443, 0.34668779992514015, 0.2754769327885896, 0.3383462525166967, 0.3383462525166967, 0.4990214783140502, 0.5995401508175907, 0.7516347536308627, 0.8197734873419239, 0.5452004128192333, 0.7375485488072042, 0.887997296333839, 0.43457501342121924, 0.4254960756629841, 0.3301039975730218, 0.840637916403869, 0.2829312949951419, 0.3722668928641893, 0.3551246209926921, 0.2829312949951419, 0.6083999822497841, 0.22039829474604425, 0.8549678688746648, 0.3139322880257179, 0.3551246209926921, 0.2609389646425221, 0.4990214783140502, 0.14406414823031585, 0.2905064913938509, 0.6083999822497841, 0.195995152679382, 0.3301039975730218, 0.6681626178358427, 0.13089560237572187, 0.8595008910828382, 0.3551246209926921, 0.7516347536308627, 0.2538589006273162, 0.2609389646425221, 0.21409956395965105, 0.3722668928641893, 0.29820016199230787, 0.6923253188518114, 0.45285923137321227, 0.2609389646425221, 0.7717953292685138, 0.2754769327885896, 0.3383462525166967, 0.3139322880257179, 0.195995152679382, 0.40749383340802015, 0.3985818398156112, 0.6259019622799237, 0.34668779992514015, 0.40749383340802015, 0.3636524724636999, 0.4254960756629841, 0.4254960756629841, 0.2469067618957088, 0.6171889553531053, 0.4805102874772629, 0.6681626178358427, 0.7446554724739265, 0.2469067618957088, 0.8027683375875693, 0.6923253188518114, 0.471271549348794, 0.3301039975730218, 0.3301039975730218, 0.1351675069003893, 0.4436980583033375, 0.3722668928641893, 0.6923253188518114, 0.2538589006273162, 0.3383462525166967, 0.8085675663252168, 0.471271549348794, 0.38096320978400594, 0.765205606324468, 0.3551246209926921, 0.6681626178358427, 0.3897365481991345, 0.3897365481991345, 0.24008375200033943, 0.34668779992514015, 0.6923253188518114, 0.3722668928641893, 0.43457501342121924, 0.3383462525166967, 0.43457501342121924, 0.2681455270147869, 0.5267774367641762, 0.2538589006273162, 0.4897623733568337, 0.22039829474604425, 0.3551246209926921, 0.40749383340802015, 0.6171889553531053, 0.1684396899522401, 0.3636524724636999, 0.30600970739477734, 0.3139322880257179, 0.6171889553531053, 0.10411106855100558, 0.2609389646425221, 0.2609389646425221, 0.40749383340802015, 0.471271549348794, 0.2754769327885896, 0.6598990556643708, 0.651537031351976, 0.2469067618957088, 0.6083999822497841, 0.195995152679382, 0.6083999822497841, 0.8503140650220352, 0.5725892244860964, 0.3383462525166967, 0.1534424662560065, 0.4805102874772629, 0.5360012074751885, 0.1790728321779459, 0.34668779992514015, 0.4805102874772629, 0.4897623733568337, 0.3551246209926921, 0.7078773802518259, 0.3897365481991345, 0.2609389646425221, 0.4436980583033375, 0.195995152679382, 0.5082812544398188, 0.3551246209926921, 0.5175353519845768, 0.4990214783140502, 0.3722668928641893, 0.46205245112598503, 0.3985818398156112, 0.5175353519845768, 0.7584851419386704, 0.16331480875105697, 0.4164671061171443, 0.6843792363944345, 0.38096320978400594, 0.3383462525166967, 0.5635004728622155, 0.6083999822497841, 0.3722668928641893, 0.2681455270147869, 0.2609389646425221, 0.6083999822497841, 0.3551246209926921, 0.2681455270147869, 0.2905064913938509, 0.3383462525166967, 0.2538589006273162, 0.4164671061171443, 0.46205245112598503, 0.7907749437202437, 0.7446554724739265, 0.2829312949951419, 0.5082812544398188, 0.3897365481991345, 0.3383462525166967, 0.3985818398156112, 0.4254960756629841, 0.4254960756629841, 0.3219648242707817, 0.6171889553531053, 0.5082812544398188, 0.21409956395965105, 0.6259019622799237, 0.2469067618957088, 0.34668779992514015, 0.5360012074751885, 0.4805102874772629, 0.4990214783140502, 0.3301039975730218, 0.2829312949951419, 0.4436980583033375, 0.30600970739477734, 0.4990214783140502, 0.4990214783140502, 0.5725892244860964, 0.195995152679382, 0.8804145196899192, 0.6843792363944345, 0.6083999822497841, 0.5267774367641762, 0.7446554724739265, 0.2469067618957088, 0.2538589006273162]}],\n",
              "                        {\"template\": {\"data\": {\"bar\": [{\"error_x\": {\"color\": \"#2a3f5f\"}, \"error_y\": {\"color\": \"#2a3f5f\"}, \"marker\": {\"line\": {\"color\": \"#E5ECF6\", \"width\": 0.5}}, \"type\": \"bar\"}], \"barpolar\": [{\"marker\": {\"line\": {\"color\": \"#E5ECF6\", \"width\": 0.5}}, \"type\": \"barpolar\"}], \"carpet\": [{\"aaxis\": {\"endlinecolor\": \"#2a3f5f\", \"gridcolor\": \"white\", \"linecolor\": \"white\", \"minorgridcolor\": \"white\", \"startlinecolor\": \"#2a3f5f\"}, \"baxis\": {\"endlinecolor\": \"#2a3f5f\", \"gridcolor\": \"white\", \"linecolor\": \"white\", \"minorgridcolor\": \"white\", \"startlinecolor\": \"#2a3f5f\"}, \"type\": \"carpet\"}], \"choropleth\": [{\"colorbar\": {\"outlinewidth\": 0, \"ticks\": \"\"}, \"type\": \"choropleth\"}], \"contour\": [{\"colorbar\": {\"outlinewidth\": 0, \"ticks\": \"\"}, \"colorscale\": [[0.0, \"#0d0887\"], [0.1111111111111111, \"#46039f\"], [0.2222222222222222, \"#7201a8\"], [0.3333333333333333, \"#9c179e\"], [0.4444444444444444, \"#bd3786\"], [0.5555555555555556, \"#d8576b\"], [0.6666666666666666, \"#ed7953\"], [0.7777777777777778, \"#fb9f3a\"], [0.8888888888888888, \"#fdca26\"], [1.0, \"#f0f921\"]], \"type\": \"contour\"}], \"contourcarpet\": [{\"colorbar\": {\"outlinewidth\": 0, \"ticks\": \"\"}, \"type\": \"contourcarpet\"}], \"heatmap\": [{\"colorbar\": {\"outlinewidth\": 0, \"ticks\": \"\"}, \"colorscale\": [[0.0, \"#0d0887\"], [0.1111111111111111, \"#46039f\"], [0.2222222222222222, \"#7201a8\"], [0.3333333333333333, \"#9c179e\"], [0.4444444444444444, \"#bd3786\"], [0.5555555555555556, \"#d8576b\"], [0.6666666666666666, \"#ed7953\"], [0.7777777777777778, \"#fb9f3a\"], [0.8888888888888888, \"#fdca26\"], [1.0, \"#f0f921\"]], \"type\": \"heatmap\"}], \"heatmapgl\": [{\"colorbar\": {\"outlinewidth\": 0, \"ticks\": \"\"}, \"colorscale\": [[0.0, \"#0d0887\"], [0.1111111111111111, \"#46039f\"], [0.2222222222222222, \"#7201a8\"], [0.3333333333333333, \"#9c179e\"], [0.4444444444444444, \"#bd3786\"], [0.5555555555555556, \"#d8576b\"], [0.6666666666666666, \"#ed7953\"], [0.7777777777777778, \"#fb9f3a\"], [0.8888888888888888, \"#fdca26\"], [1.0, \"#f0f921\"]], \"type\": \"heatmapgl\"}], \"histogram\": [{\"marker\": {\"colorbar\": {\"outlinewidth\": 0, \"ticks\": \"\"}}, \"type\": \"histogram\"}], \"histogram2d\": [{\"colorbar\": {\"outlinewidth\": 0, \"ticks\": \"\"}, \"colorscale\": [[0.0, \"#0d0887\"], [0.1111111111111111, \"#46039f\"], [0.2222222222222222, \"#7201a8\"], [0.3333333333333333, \"#9c179e\"], [0.4444444444444444, \"#bd3786\"], [0.5555555555555556, \"#d8576b\"], [0.6666666666666666, \"#ed7953\"], [0.7777777777777778, \"#fb9f3a\"], [0.8888888888888888, \"#fdca26\"], [1.0, \"#f0f921\"]], \"type\": \"histogram2d\"}], \"histogram2dcontour\": [{\"colorbar\": {\"outlinewidth\": 0, \"ticks\": \"\"}, \"colorscale\": [[0.0, \"#0d0887\"], [0.1111111111111111, \"#46039f\"], [0.2222222222222222, \"#7201a8\"], [0.3333333333333333, \"#9c179e\"], [0.4444444444444444, \"#bd3786\"], [0.5555555555555556, \"#d8576b\"], [0.6666666666666666, \"#ed7953\"], [0.7777777777777778, \"#fb9f3a\"], [0.8888888888888888, \"#fdca26\"], [1.0, \"#f0f921\"]], \"type\": \"histogram2dcontour\"}], \"mesh3d\": [{\"colorbar\": {\"outlinewidth\": 0, \"ticks\": \"\"}, \"type\": \"mesh3d\"}], \"parcoords\": [{\"line\": {\"colorbar\": {\"outlinewidth\": 0, \"ticks\": \"\"}}, \"type\": \"parcoords\"}], \"pie\": [{\"automargin\": true, \"type\": \"pie\"}], \"scatter\": [{\"marker\": {\"colorbar\": {\"outlinewidth\": 0, \"ticks\": \"\"}}, \"type\": \"scatter\"}], \"scatter3d\": [{\"line\": {\"colorbar\": {\"outlinewidth\": 0, \"ticks\": \"\"}}, \"marker\": {\"colorbar\": {\"outlinewidth\": 0, \"ticks\": \"\"}}, \"type\": \"scatter3d\"}], \"scattercarpet\": [{\"marker\": {\"colorbar\": {\"outlinewidth\": 0, \"ticks\": \"\"}}, \"type\": \"scattercarpet\"}], \"scattergeo\": [{\"marker\": {\"colorbar\": {\"outlinewidth\": 0, \"ticks\": \"\"}}, \"type\": \"scattergeo\"}], \"scattergl\": [{\"marker\": {\"colorbar\": {\"outlinewidth\": 0, \"ticks\": \"\"}}, \"type\": \"scattergl\"}], \"scattermapbox\": [{\"marker\": {\"colorbar\": {\"outlinewidth\": 0, \"ticks\": \"\"}}, \"type\": \"scattermapbox\"}], \"scatterpolar\": [{\"marker\": {\"colorbar\": {\"outlinewidth\": 0, \"ticks\": \"\"}}, \"type\": \"scatterpolar\"}], \"scatterpolargl\": [{\"marker\": {\"colorbar\": {\"outlinewidth\": 0, \"ticks\": \"\"}}, \"type\": \"scatterpolargl\"}], \"scatterternary\": [{\"marker\": {\"colorbar\": {\"outlinewidth\": 0, \"ticks\": \"\"}}, \"type\": \"scatterternary\"}], \"surface\": [{\"colorbar\": {\"outlinewidth\": 0, \"ticks\": \"\"}, \"colorscale\": [[0.0, \"#0d0887\"], [0.1111111111111111, \"#46039f\"], [0.2222222222222222, \"#7201a8\"], [0.3333333333333333, \"#9c179e\"], [0.4444444444444444, \"#bd3786\"], [0.5555555555555556, \"#d8576b\"], [0.6666666666666666, \"#ed7953\"], [0.7777777777777778, \"#fb9f3a\"], [0.8888888888888888, \"#fdca26\"], [1.0, \"#f0f921\"]], \"type\": \"surface\"}], \"table\": [{\"cells\": {\"fill\": {\"color\": \"#EBF0F8\"}, \"line\": {\"color\": \"white\"}}, \"header\": {\"fill\": {\"color\": \"#C8D4E3\"}, \"line\": {\"color\": \"white\"}}, \"type\": \"table\"}]}, \"layout\": {\"annotationdefaults\": {\"arrowcolor\": \"#2a3f5f\", \"arrowhead\": 0, \"arrowwidth\": 1}, \"coloraxis\": {\"colorbar\": {\"outlinewidth\": 0, \"ticks\": \"\"}}, \"colorscale\": {\"diverging\": [[0, \"#8e0152\"], [0.1, \"#c51b7d\"], [0.2, \"#de77ae\"], [0.3, \"#f1b6da\"], [0.4, \"#fde0ef\"], [0.5, \"#f7f7f7\"], [0.6, \"#e6f5d0\"], [0.7, \"#b8e186\"], [0.8, \"#7fbc41\"], [0.9, \"#4d9221\"], [1, \"#276419\"]], \"sequential\": [[0.0, \"#0d0887\"], [0.1111111111111111, \"#46039f\"], [0.2222222222222222, \"#7201a8\"], [0.3333333333333333, \"#9c179e\"], [0.4444444444444444, \"#bd3786\"], [0.5555555555555556, \"#d8576b\"], [0.6666666666666666, \"#ed7953\"], [0.7777777777777778, \"#fb9f3a\"], [0.8888888888888888, \"#fdca26\"], [1.0, \"#f0f921\"]], \"sequentialminus\": [[0.0, \"#0d0887\"], [0.1111111111111111, \"#46039f\"], [0.2222222222222222, \"#7201a8\"], [0.3333333333333333, \"#9c179e\"], [0.4444444444444444, \"#bd3786\"], [0.5555555555555556, \"#d8576b\"], [0.6666666666666666, \"#ed7953\"], [0.7777777777777778, \"#fb9f3a\"], [0.8888888888888888, \"#fdca26\"], [1.0, \"#f0f921\"]]}, \"colorway\": [\"#636efa\", \"#EF553B\", \"#00cc96\", \"#ab63fa\", \"#FFA15A\", \"#19d3f3\", \"#FF6692\", \"#B6E880\", \"#FF97FF\", \"#FECB52\"], \"font\": {\"color\": \"#2a3f5f\"}, \"geo\": {\"bgcolor\": \"white\", \"lakecolor\": \"white\", \"landcolor\": \"#E5ECF6\", \"showlakes\": true, \"showland\": true, \"subunitcolor\": \"white\"}, \"hoverlabel\": {\"align\": \"left\"}, \"hovermode\": \"closest\", \"mapbox\": {\"style\": \"light\"}, \"paper_bgcolor\": \"white\", \"plot_bgcolor\": \"#E5ECF6\", \"polar\": {\"angularaxis\": {\"gridcolor\": \"white\", \"linecolor\": \"white\", \"ticks\": \"\"}, \"bgcolor\": \"#E5ECF6\", \"radialaxis\": {\"gridcolor\": \"white\", \"linecolor\": \"white\", \"ticks\": \"\"}}, \"scene\": {\"xaxis\": {\"backgroundcolor\": \"#E5ECF6\", \"gridcolor\": \"white\", \"gridwidth\": 2, \"linecolor\": \"white\", \"showbackground\": true, \"ticks\": \"\", \"zerolinecolor\": \"white\"}, \"yaxis\": {\"backgroundcolor\": \"#E5ECF6\", \"gridcolor\": \"white\", \"gridwidth\": 2, \"linecolor\": \"white\", \"showbackground\": true, \"ticks\": \"\", \"zerolinecolor\": \"white\"}, \"zaxis\": {\"backgroundcolor\": \"#E5ECF6\", \"gridcolor\": \"white\", \"gridwidth\": 2, \"linecolor\": \"white\", \"showbackground\": true, \"ticks\": \"\", \"zerolinecolor\": \"white\"}}, \"shapedefaults\": {\"line\": {\"color\": \"#2a3f5f\"}}, \"ternary\": {\"aaxis\": {\"gridcolor\": \"white\", \"linecolor\": \"white\", \"ticks\": \"\"}, \"baxis\": {\"gridcolor\": \"white\", \"linecolor\": \"white\", \"ticks\": \"\"}, \"bgcolor\": \"#E5ECF6\", \"caxis\": {\"gridcolor\": \"white\", \"linecolor\": \"white\", \"ticks\": \"\"}}, \"title\": {\"x\": 0.05}, \"xaxis\": {\"automargin\": true, \"gridcolor\": \"white\", \"linecolor\": \"white\", \"ticks\": \"\", \"title\": {\"standoff\": 15}, \"zerolinecolor\": \"white\", \"zerolinewidth\": 2}, \"yaxis\": {\"automargin\": true, \"gridcolor\": \"white\", \"linecolor\": \"white\", \"ticks\": \"\", \"title\": {\"standoff\": 15}, \"zerolinecolor\": \"white\", \"zerolinewidth\": 2}}}, \"title\": {\"text\": \"Heart Disease vs Max Heart Rate\"}, \"xaxis\": {\"title\": {\"text\": \"Max Heart Rate\"}}, \"yaxis\": {\"title\": {\"text\": \"Heart Disease\"}}},\n",
              "                        {\"responsive\": true}\n",
              "                    ).then(function(){\n",
              "                            \n",
              "var gd = document.getElementById('125e11ce-1b1e-4490-8d99-946ae5dc2785');\n",
              "var x = new MutationObserver(function (mutations, observer) {{\n",
              "        var display = window.getComputedStyle(gd).display;\n",
              "        if (!display || display === 'none') {{\n",
              "            console.log([gd, 'removed!']);\n",
              "            Plotly.purge(gd);\n",
              "            observer.disconnect();\n",
              "        }}\n",
              "}});\n",
              "\n",
              "// Listen for the removal of the full notebook cells\n",
              "var notebookContainer = gd.closest('#notebook-container');\n",
              "if (notebookContainer) {{\n",
              "    x.observe(notebookContainer, {childList: true});\n",
              "}}\n",
              "\n",
              "// Listen for the clearing of the current output cell\n",
              "var outputEl = gd.closest('.output');\n",
              "if (outputEl) {{\n",
              "    x.observe(outputEl, {childList: true});\n",
              "}}\n",
              "\n",
              "                        })\n",
              "                };\n",
              "                \n",
              "            </script>\n",
              "        </div>\n",
              "</body>\n",
              "</html>"
            ]
          },
          "metadata": {}
        }
      ]
    },
    {
      "cell_type": "code",
      "metadata": {
        "colab": {
          "base_uri": "https://localhost:8080/"
        },
        "id": "PdwSGE0ZPG0_",
        "outputId": "ffd0b8f6-b912-4b44-ca42-32c4f563e0f0"
      },
      "source": [
        "from sklearn.metrics import accuracy_score\n",
        "\n",
        "accuracy_score(predictions_df['SK Learn Prediction'], y_train)"
      ],
      "execution_count": null,
      "outputs": [
        {
          "output_type": "execute_result",
          "data": {
            "text/plain": [
              "0.6710239651416122"
            ]
          },
          "metadata": {},
          "execution_count": 30
        }
      ]
    },
    {
      "cell_type": "code",
      "metadata": {
        "colab": {
          "base_uri": "https://localhost:8080/"
        },
        "id": "k-mWL3XiPg2A",
        "outputId": "391b8e39-5bb5-47ae-afa4-238578560f34"
      },
      "source": [
        "lr.intercept_, lr.coef_"
      ],
      "execution_count": null,
      "outputs": [
        {
          "output_type": "execute_result",
          "data": {
            "text/plain": [
              "(array([5.33015391]), array([[-0.03704214]]))"
            ]
          },
          "metadata": {},
          "execution_count": 31
        }
      ]
    },
    {
      "cell_type": "code",
      "metadata": {
        "colab": {
          "base_uri": "https://localhost:8080/",
          "height": 224
        },
        "id": "VIJdRXL4PwiN",
        "outputId": "1a3148a8-e0fa-4447-daf9-f11e3afd4116"
      },
      "source": [
        "heart.head()"
      ],
      "execution_count": null,
      "outputs": [
        {
          "output_type": "execute_result",
          "data": {
            "text/html": [
              "<div>\n",
              "<style scoped>\n",
              "    .dataframe tbody tr th:only-of-type {\n",
              "        vertical-align: middle;\n",
              "    }\n",
              "\n",
              "    .dataframe tbody tr th {\n",
              "        vertical-align: top;\n",
              "    }\n",
              "\n",
              "    .dataframe thead th {\n",
              "        text-align: right;\n",
              "    }\n",
              "</style>\n",
              "<table border=\"1\" class=\"dataframe\">\n",
              "  <thead>\n",
              "    <tr style=\"text-align: right;\">\n",
              "      <th></th>\n",
              "      <th>Age</th>\n",
              "      <th>Sex</th>\n",
              "      <th>ChestPainType</th>\n",
              "      <th>RestingBP</th>\n",
              "      <th>Cholesterol</th>\n",
              "      <th>FastingBS</th>\n",
              "      <th>RestingECG</th>\n",
              "      <th>MaxHR</th>\n",
              "      <th>ExerciseAngina</th>\n",
              "      <th>Oldpeak</th>\n",
              "      <th>ST_Slope</th>\n",
              "      <th>HeartDisease</th>\n",
              "    </tr>\n",
              "  </thead>\n",
              "  <tbody>\n",
              "    <tr>\n",
              "      <th>0</th>\n",
              "      <td>40</td>\n",
              "      <td>M</td>\n",
              "      <td>ATA</td>\n",
              "      <td>140</td>\n",
              "      <td>289</td>\n",
              "      <td>0</td>\n",
              "      <td>Normal</td>\n",
              "      <td>172</td>\n",
              "      <td>N</td>\n",
              "      <td>0.0</td>\n",
              "      <td>Up</td>\n",
              "      <td>0</td>\n",
              "    </tr>\n",
              "    <tr>\n",
              "      <th>1</th>\n",
              "      <td>49</td>\n",
              "      <td>F</td>\n",
              "      <td>NAP</td>\n",
              "      <td>160</td>\n",
              "      <td>180</td>\n",
              "      <td>0</td>\n",
              "      <td>Normal</td>\n",
              "      <td>156</td>\n",
              "      <td>N</td>\n",
              "      <td>1.0</td>\n",
              "      <td>Flat</td>\n",
              "      <td>1</td>\n",
              "    </tr>\n",
              "    <tr>\n",
              "      <th>2</th>\n",
              "      <td>37</td>\n",
              "      <td>M</td>\n",
              "      <td>ATA</td>\n",
              "      <td>130</td>\n",
              "      <td>283</td>\n",
              "      <td>0</td>\n",
              "      <td>ST</td>\n",
              "      <td>98</td>\n",
              "      <td>N</td>\n",
              "      <td>0.0</td>\n",
              "      <td>Up</td>\n",
              "      <td>0</td>\n",
              "    </tr>\n",
              "    <tr>\n",
              "      <th>3</th>\n",
              "      <td>48</td>\n",
              "      <td>F</td>\n",
              "      <td>ASY</td>\n",
              "      <td>138</td>\n",
              "      <td>214</td>\n",
              "      <td>0</td>\n",
              "      <td>Normal</td>\n",
              "      <td>108</td>\n",
              "      <td>Y</td>\n",
              "      <td>1.5</td>\n",
              "      <td>Flat</td>\n",
              "      <td>1</td>\n",
              "    </tr>\n",
              "    <tr>\n",
              "      <th>4</th>\n",
              "      <td>54</td>\n",
              "      <td>M</td>\n",
              "      <td>NAP</td>\n",
              "      <td>150</td>\n",
              "      <td>195</td>\n",
              "      <td>0</td>\n",
              "      <td>Normal</td>\n",
              "      <td>122</td>\n",
              "      <td>N</td>\n",
              "      <td>0.0</td>\n",
              "      <td>Up</td>\n",
              "      <td>0</td>\n",
              "    </tr>\n",
              "  </tbody>\n",
              "</table>\n",
              "</div>"
            ],
            "text/plain": [
              "   Age Sex ChestPainType  ...  Oldpeak  ST_Slope  HeartDisease\n",
              "0   40   M           ATA  ...      0.0        Up             0\n",
              "1   49   F           NAP  ...      1.0      Flat             1\n",
              "2   37   M           ATA  ...      0.0        Up             0\n",
              "3   48   F           ASY  ...      1.5      Flat             1\n",
              "4   54   M           NAP  ...      0.0        Up             0\n",
              "\n",
              "[5 rows x 12 columns]"
            ]
          },
          "metadata": {},
          "execution_count": 32
        }
      ]
    },
    {
      "cell_type": "code",
      "metadata": {
        "colab": {
          "base_uri": "https://localhost:8080/"
        },
        "id": "mWTB3jL0TrY5",
        "outputId": "f0a953ae-50f3-40cc-ad2a-008bb551e208"
      },
      "source": [
        "import numpy as np\n",
        "\n",
        "def sigmoid(x):\n",
        "  return 1 / (1 + np.exp(-x))\n",
        "\n",
        "sigmoid(0)"
      ],
      "execution_count": null,
      "outputs": [
        {
          "output_type": "execute_result",
          "data": {
            "text/plain": [
              "0.5"
            ]
          },
          "metadata": {},
          "execution_count": 33
        }
      ]
    },
    {
      "cell_type": "code",
      "metadata": {
        "colab": {
          "base_uri": "https://localhost:8080/",
          "height": 542
        },
        "id": "539r1oeHUQVL",
        "outputId": "3f8ac73d-e7d2-4de9-9f7b-b1c61d783116"
      },
      "source": [
        "test_range = np.arange(-50, 50)\n",
        "\n",
        "fig = go.Figure()\n",
        "fig.add_trace(go.Scatter(x=test_range, y=sigmoid(test_range)))"
      ],
      "execution_count": null,
      "outputs": [
        {
          "output_type": "display_data",
          "data": {
            "text/html": [
              "<html>\n",
              "<head><meta charset=\"utf-8\" /></head>\n",
              "<body>\n",
              "    <div>\n",
              "            <script src=\"https://cdnjs.cloudflare.com/ajax/libs/mathjax/2.7.5/MathJax.js?config=TeX-AMS-MML_SVG\"></script><script type=\"text/javascript\">if (window.MathJax) {MathJax.Hub.Config({SVG: {font: \"STIX-Web\"}});}</script>\n",
              "                <script type=\"text/javascript\">window.PlotlyConfig = {MathJaxConfig: 'local'};</script>\n",
              "        <script src=\"https://cdn.plot.ly/plotly-latest.min.js\"></script>    \n",
              "            <div id=\"3742f2e4-03cf-4964-b98c-80ac9235cb06\" class=\"plotly-graph-div\" style=\"height:525px; width:100%;\"></div>\n",
              "            <script type=\"text/javascript\">\n",
              "                \n",
              "                    window.PLOTLYENV=window.PLOTLYENV || {};\n",
              "                    \n",
              "                if (document.getElementById(\"3742f2e4-03cf-4964-b98c-80ac9235cb06\")) {\n",
              "                    Plotly.newPlot(\n",
              "                        '3742f2e4-03cf-4964-b98c-80ac9235cb06',\n",
              "                        [{\"type\": \"scatter\", \"x\": [-50, -49, -48, -47, -46, -45, -44, -43, -42, -41, -40, -39, -38, -37, -36, -35, -34, -33, -32, -31, -30, -29, -28, -27, -26, -25, -24, -23, -22, -21, -20, -19, -18, -17, -16, -15, -14, -13, -12, -11, -10, -9, -8, -7, -6, -5, -4, -3, -2, -1, 0, 1, 2, 3, 4, 5, 6, 7, 8, 9, 10, 11, 12, 13, 14, 15, 16, 17, 18, 19, 20, 21, 22, 23, 24, 25, 26, 27, 28, 29, 30, 31, 32, 33, 34, 35, 36, 37, 38, 39, 40, 41, 42, 43, 44, 45, 46, 47, 48, 49], \"y\": [1.928749847963918e-22, 5.242885663363464e-22, 1.4251640827409352e-21, 3.873997628687187e-21, 1.0530617357553813e-20, 2.8625185805493937e-20, 7.781132241133797e-20, 2.1151310375910807e-19, 5.74952226429356e-19, 1.5628821893349888e-18, 4.248354255291589e-18, 1.1548224173015786e-17, 3.1391327920480296e-17, 8.533047625744066e-17, 2.319522830243569e-16, 6.305116760146985e-16, 1.71390843154201e-15, 4.658886145103376e-15, 1.2664165549094016e-14, 3.442477108469858e-14, 9.357622968839299e-14, 2.543665647376276e-13, 6.914400106935423e-13, 1.8795288165355508e-12, 5.109089028037221e-12, 1.3887943864771144e-11, 3.7751345441365816e-11, 1.0261879630648827e-10, 2.7894680920908113e-10, 7.582560422162385e-10, 2.0611536181902037e-09, 5.602796406145941e-09, 1.522997951276035e-08, 4.1399375473943306e-08, 1.12535162055095e-07, 3.059022269256247e-07, 8.315280276641321e-07, 2.2603242979035746e-06, 6.144174602214718e-06, 1.670142184809518e-05, 4.5397868702434395e-05, 0.00012339457598623172, 0.0003353501304664781, 0.0009110511944006454, 0.0024726231566347743, 0.0066928509242848554, 0.01798620996209156, 0.04742587317756678, 0.11920292202211755, 0.2689414213699951, 0.5, 0.7310585786300049, 0.8807970779778823, 0.9525741268224334, 0.9820137900379085, 0.9933071490757153, 0.9975273768433653, 0.9990889488055994, 0.9996646498695336, 0.9998766054240137, 0.9999546021312976, 0.999983298578152, 0.9999938558253978, 0.999997739675702, 0.9999991684719722, 0.999999694097773, 0.9999998874648379, 0.9999999586006244, 0.9999999847700205, 0.9999999943972036, 0.9999999979388463, 0.9999999992417439, 0.9999999997210531, 0.9999999998973812, 0.9999999999622486, 0.999999999986112, 0.999999999994891, 0.9999999999981204, 0.9999999999993086, 0.9999999999997455, 0.9999999999999065, 0.9999999999999656, 0.9999999999999873, 0.9999999999999953, 0.9999999999999982, 0.9999999999999993, 0.9999999999999998, 1.0, 1.0, 1.0, 1.0, 1.0, 1.0, 1.0, 1.0, 1.0, 1.0, 1.0, 1.0, 1.0]}],\n",
              "                        {\"template\": {\"data\": {\"bar\": [{\"error_x\": {\"color\": \"#2a3f5f\"}, \"error_y\": {\"color\": \"#2a3f5f\"}, \"marker\": {\"line\": {\"color\": \"#E5ECF6\", \"width\": 0.5}}, \"type\": \"bar\"}], \"barpolar\": [{\"marker\": {\"line\": {\"color\": \"#E5ECF6\", \"width\": 0.5}}, \"type\": \"barpolar\"}], \"carpet\": [{\"aaxis\": {\"endlinecolor\": \"#2a3f5f\", \"gridcolor\": \"white\", \"linecolor\": \"white\", \"minorgridcolor\": \"white\", \"startlinecolor\": \"#2a3f5f\"}, \"baxis\": {\"endlinecolor\": \"#2a3f5f\", \"gridcolor\": \"white\", \"linecolor\": \"white\", \"minorgridcolor\": \"white\", \"startlinecolor\": \"#2a3f5f\"}, \"type\": \"carpet\"}], \"choropleth\": [{\"colorbar\": {\"outlinewidth\": 0, \"ticks\": \"\"}, \"type\": \"choropleth\"}], \"contour\": [{\"colorbar\": {\"outlinewidth\": 0, \"ticks\": \"\"}, \"colorscale\": [[0.0, \"#0d0887\"], [0.1111111111111111, \"#46039f\"], [0.2222222222222222, \"#7201a8\"], [0.3333333333333333, \"#9c179e\"], [0.4444444444444444, \"#bd3786\"], [0.5555555555555556, \"#d8576b\"], [0.6666666666666666, \"#ed7953\"], [0.7777777777777778, \"#fb9f3a\"], [0.8888888888888888, \"#fdca26\"], [1.0, \"#f0f921\"]], \"type\": \"contour\"}], \"contourcarpet\": [{\"colorbar\": {\"outlinewidth\": 0, \"ticks\": \"\"}, \"type\": \"contourcarpet\"}], \"heatmap\": [{\"colorbar\": {\"outlinewidth\": 0, \"ticks\": \"\"}, \"colorscale\": [[0.0, \"#0d0887\"], [0.1111111111111111, \"#46039f\"], [0.2222222222222222, \"#7201a8\"], [0.3333333333333333, \"#9c179e\"], [0.4444444444444444, \"#bd3786\"], [0.5555555555555556, \"#d8576b\"], [0.6666666666666666, \"#ed7953\"], [0.7777777777777778, \"#fb9f3a\"], [0.8888888888888888, \"#fdca26\"], [1.0, \"#f0f921\"]], \"type\": \"heatmap\"}], \"heatmapgl\": [{\"colorbar\": {\"outlinewidth\": 0, \"ticks\": \"\"}, \"colorscale\": [[0.0, \"#0d0887\"], [0.1111111111111111, \"#46039f\"], [0.2222222222222222, \"#7201a8\"], [0.3333333333333333, \"#9c179e\"], [0.4444444444444444, \"#bd3786\"], [0.5555555555555556, \"#d8576b\"], [0.6666666666666666, \"#ed7953\"], [0.7777777777777778, \"#fb9f3a\"], [0.8888888888888888, \"#fdca26\"], [1.0, \"#f0f921\"]], \"type\": \"heatmapgl\"}], \"histogram\": [{\"marker\": {\"colorbar\": {\"outlinewidth\": 0, \"ticks\": \"\"}}, \"type\": \"histogram\"}], \"histogram2d\": [{\"colorbar\": {\"outlinewidth\": 0, \"ticks\": \"\"}, \"colorscale\": [[0.0, \"#0d0887\"], [0.1111111111111111, \"#46039f\"], [0.2222222222222222, \"#7201a8\"], [0.3333333333333333, \"#9c179e\"], [0.4444444444444444, \"#bd3786\"], [0.5555555555555556, \"#d8576b\"], [0.6666666666666666, \"#ed7953\"], [0.7777777777777778, \"#fb9f3a\"], [0.8888888888888888, \"#fdca26\"], [1.0, \"#f0f921\"]], \"type\": \"histogram2d\"}], \"histogram2dcontour\": [{\"colorbar\": {\"outlinewidth\": 0, \"ticks\": \"\"}, \"colorscale\": [[0.0, \"#0d0887\"], [0.1111111111111111, \"#46039f\"], [0.2222222222222222, \"#7201a8\"], [0.3333333333333333, \"#9c179e\"], [0.4444444444444444, \"#bd3786\"], [0.5555555555555556, \"#d8576b\"], [0.6666666666666666, \"#ed7953\"], [0.7777777777777778, \"#fb9f3a\"], [0.8888888888888888, \"#fdca26\"], [1.0, \"#f0f921\"]], \"type\": \"histogram2dcontour\"}], \"mesh3d\": [{\"colorbar\": {\"outlinewidth\": 0, \"ticks\": \"\"}, \"type\": \"mesh3d\"}], \"parcoords\": [{\"line\": {\"colorbar\": {\"outlinewidth\": 0, \"ticks\": \"\"}}, \"type\": \"parcoords\"}], \"pie\": [{\"automargin\": true, \"type\": \"pie\"}], \"scatter\": [{\"marker\": {\"colorbar\": {\"outlinewidth\": 0, \"ticks\": \"\"}}, \"type\": \"scatter\"}], \"scatter3d\": [{\"line\": {\"colorbar\": {\"outlinewidth\": 0, \"ticks\": \"\"}}, \"marker\": {\"colorbar\": {\"outlinewidth\": 0, \"ticks\": \"\"}}, \"type\": \"scatter3d\"}], \"scattercarpet\": [{\"marker\": {\"colorbar\": {\"outlinewidth\": 0, \"ticks\": \"\"}}, \"type\": \"scattercarpet\"}], \"scattergeo\": [{\"marker\": {\"colorbar\": {\"outlinewidth\": 0, \"ticks\": \"\"}}, \"type\": \"scattergeo\"}], \"scattergl\": [{\"marker\": {\"colorbar\": {\"outlinewidth\": 0, \"ticks\": \"\"}}, \"type\": \"scattergl\"}], \"scattermapbox\": [{\"marker\": {\"colorbar\": {\"outlinewidth\": 0, \"ticks\": \"\"}}, \"type\": \"scattermapbox\"}], \"scatterpolar\": [{\"marker\": {\"colorbar\": {\"outlinewidth\": 0, \"ticks\": \"\"}}, \"type\": \"scatterpolar\"}], \"scatterpolargl\": [{\"marker\": {\"colorbar\": {\"outlinewidth\": 0, \"ticks\": \"\"}}, \"type\": \"scatterpolargl\"}], \"scatterternary\": [{\"marker\": {\"colorbar\": {\"outlinewidth\": 0, \"ticks\": \"\"}}, \"type\": \"scatterternary\"}], \"surface\": [{\"colorbar\": {\"outlinewidth\": 0, \"ticks\": \"\"}, \"colorscale\": [[0.0, \"#0d0887\"], [0.1111111111111111, \"#46039f\"], [0.2222222222222222, \"#7201a8\"], [0.3333333333333333, \"#9c179e\"], [0.4444444444444444, \"#bd3786\"], [0.5555555555555556, \"#d8576b\"], [0.6666666666666666, \"#ed7953\"], [0.7777777777777778, \"#fb9f3a\"], [0.8888888888888888, \"#fdca26\"], [1.0, \"#f0f921\"]], \"type\": \"surface\"}], \"table\": [{\"cells\": {\"fill\": {\"color\": \"#EBF0F8\"}, \"line\": {\"color\": \"white\"}}, \"header\": {\"fill\": {\"color\": \"#C8D4E3\"}, \"line\": {\"color\": \"white\"}}, \"type\": \"table\"}]}, \"layout\": {\"annotationdefaults\": {\"arrowcolor\": \"#2a3f5f\", \"arrowhead\": 0, \"arrowwidth\": 1}, \"coloraxis\": {\"colorbar\": {\"outlinewidth\": 0, \"ticks\": \"\"}}, \"colorscale\": {\"diverging\": [[0, \"#8e0152\"], [0.1, \"#c51b7d\"], [0.2, \"#de77ae\"], [0.3, \"#f1b6da\"], [0.4, \"#fde0ef\"], [0.5, \"#f7f7f7\"], [0.6, \"#e6f5d0\"], [0.7, \"#b8e186\"], [0.8, \"#7fbc41\"], [0.9, \"#4d9221\"], [1, \"#276419\"]], \"sequential\": [[0.0, \"#0d0887\"], [0.1111111111111111, \"#46039f\"], [0.2222222222222222, \"#7201a8\"], [0.3333333333333333, \"#9c179e\"], [0.4444444444444444, \"#bd3786\"], [0.5555555555555556, \"#d8576b\"], [0.6666666666666666, \"#ed7953\"], [0.7777777777777778, \"#fb9f3a\"], [0.8888888888888888, \"#fdca26\"], [1.0, \"#f0f921\"]], \"sequentialminus\": [[0.0, \"#0d0887\"], [0.1111111111111111, \"#46039f\"], [0.2222222222222222, \"#7201a8\"], [0.3333333333333333, \"#9c179e\"], [0.4444444444444444, \"#bd3786\"], [0.5555555555555556, \"#d8576b\"], [0.6666666666666666, \"#ed7953\"], [0.7777777777777778, \"#fb9f3a\"], [0.8888888888888888, \"#fdca26\"], [1.0, \"#f0f921\"]]}, \"colorway\": [\"#636efa\", \"#EF553B\", \"#00cc96\", \"#ab63fa\", \"#FFA15A\", \"#19d3f3\", \"#FF6692\", \"#B6E880\", \"#FF97FF\", \"#FECB52\"], \"font\": {\"color\": \"#2a3f5f\"}, \"geo\": {\"bgcolor\": \"white\", \"lakecolor\": \"white\", \"landcolor\": \"#E5ECF6\", \"showlakes\": true, \"showland\": true, \"subunitcolor\": \"white\"}, \"hoverlabel\": {\"align\": \"left\"}, \"hovermode\": \"closest\", \"mapbox\": {\"style\": \"light\"}, \"paper_bgcolor\": \"white\", \"plot_bgcolor\": \"#E5ECF6\", \"polar\": {\"angularaxis\": {\"gridcolor\": \"white\", \"linecolor\": \"white\", \"ticks\": \"\"}, \"bgcolor\": \"#E5ECF6\", \"radialaxis\": {\"gridcolor\": \"white\", \"linecolor\": \"white\", \"ticks\": \"\"}}, \"scene\": {\"xaxis\": {\"backgroundcolor\": \"#E5ECF6\", \"gridcolor\": \"white\", \"gridwidth\": 2, \"linecolor\": \"white\", \"showbackground\": true, \"ticks\": \"\", \"zerolinecolor\": \"white\"}, \"yaxis\": {\"backgroundcolor\": \"#E5ECF6\", \"gridcolor\": \"white\", \"gridwidth\": 2, \"linecolor\": \"white\", \"showbackground\": true, \"ticks\": \"\", \"zerolinecolor\": \"white\"}, \"zaxis\": {\"backgroundcolor\": \"#E5ECF6\", \"gridcolor\": \"white\", \"gridwidth\": 2, \"linecolor\": \"white\", \"showbackground\": true, \"ticks\": \"\", \"zerolinecolor\": \"white\"}}, \"shapedefaults\": {\"line\": {\"color\": \"#2a3f5f\"}}, \"ternary\": {\"aaxis\": {\"gridcolor\": \"white\", \"linecolor\": \"white\", \"ticks\": \"\"}, \"baxis\": {\"gridcolor\": \"white\", \"linecolor\": \"white\", \"ticks\": \"\"}, \"bgcolor\": \"#E5ECF6\", \"caxis\": {\"gridcolor\": \"white\", \"linecolor\": \"white\", \"ticks\": \"\"}}, \"title\": {\"x\": 0.05}, \"xaxis\": {\"automargin\": true, \"gridcolor\": \"white\", \"linecolor\": \"white\", \"ticks\": \"\", \"title\": {\"standoff\": 15}, \"zerolinecolor\": \"white\", \"zerolinewidth\": 2}, \"yaxis\": {\"automargin\": true, \"gridcolor\": \"white\", \"linecolor\": \"white\", \"ticks\": \"\", \"title\": {\"standoff\": 15}, \"zerolinecolor\": \"white\", \"zerolinewidth\": 2}}}},\n",
              "                        {\"responsive\": true}\n",
              "                    ).then(function(){\n",
              "                            \n",
              "var gd = document.getElementById('3742f2e4-03cf-4964-b98c-80ac9235cb06');\n",
              "var x = new MutationObserver(function (mutations, observer) {{\n",
              "        var display = window.getComputedStyle(gd).display;\n",
              "        if (!display || display === 'none') {{\n",
              "            console.log([gd, 'removed!']);\n",
              "            Plotly.purge(gd);\n",
              "            observer.disconnect();\n",
              "        }}\n",
              "}});\n",
              "\n",
              "// Listen for the removal of the full notebook cells\n",
              "var notebookContainer = gd.closest('#notebook-container');\n",
              "if (notebookContainer) {{\n",
              "    x.observe(notebookContainer, {childList: true});\n",
              "}}\n",
              "\n",
              "// Listen for the clearing of the current output cell\n",
              "var outputEl = gd.closest('.output');\n",
              "if (outputEl) {{\n",
              "    x.observe(outputEl, {childList: true});\n",
              "}}\n",
              "\n",
              "                        })\n",
              "                };\n",
              "                \n",
              "            </script>\n",
              "        </div>\n",
              "</body>\n",
              "</html>"
            ]
          },
          "metadata": {}
        }
      ]
    },
    {
      "cell_type": "code",
      "metadata": {
        "id": "byIkJgDqQOJs"
      },
      "source": [
        "# Assuming Pr(HeartDisease[i]) = Sigmoid(alpha + (beta * MaxHR[i])) + error\n",
        "# Generally: Pr(y[i]) = Sigmoid(alpha + (beta * x[i])) + error\n",
        "# Generally: Pr(y[i]) = Sigmoid(alpha_hat + (beta_hat * x[i]))\n",
        "\n",
        "def get_probabilities(model, x):\n",
        "  '''\n",
        "  Obtain the predictions for the given model and inputs.\n",
        "\n",
        "  model: {'alpha_hat':Number, 'beta_hat':Number}\n",
        "  x: np.array of Floats with shape (n,) of inputs\n",
        "  \n",
        "  Returns: np.array of 0 <= Floats <= 1 with shape (n,),\n",
        "           representing probabilities\n",
        "  '''\n",
        "  alpha_hat = model['alpha_hat']\n",
        "  beta_hat = model['beta_hat']\n",
        "\n",
        "  return sigmoid(alpha_hat + beta_hat*x)"
      ],
      "execution_count": null,
      "outputs": []
    },
    {
      "cell_type": "code",
      "metadata": {
        "colab": {
          "base_uri": "https://localhost:8080/"
        },
        "id": "wPCL3puqVGhz",
        "outputId": "eb83c1be-234f-4af8-aa34-b4258df7fd1a"
      },
      "source": [
        "X_train.flatten().shape"
      ],
      "execution_count": null,
      "outputs": [
        {
          "output_type": "execute_result",
          "data": {
            "text/plain": [
              "(918,)"
            ]
          },
          "metadata": {},
          "execution_count": 39
        }
      ]
    },
    {
      "cell_type": "code",
      "metadata": {
        "colab": {
          "base_uri": "https://localhost:8080/",
          "height": 420
        },
        "id": "s-uEtVK2UwyS",
        "outputId": "8ed56c62-b2c4-4ab2-c8fb-44e59cd5db70"
      },
      "source": [
        "test_model = dict(alpha_hat=0, beta_hat=0)\n",
        "predictions_df['Our Model Heart Disease Probabilities'] = get_probabilities(test_model, X_train.flatten())\n",
        "predictions_df"
      ],
      "execution_count": null,
      "outputs": [
        {
          "output_type": "execute_result",
          "data": {
            "text/html": [
              "<div>\n",
              "<style scoped>\n",
              "    .dataframe tbody tr th:only-of-type {\n",
              "        vertical-align: middle;\n",
              "    }\n",
              "\n",
              "    .dataframe tbody tr th {\n",
              "        vertical-align: top;\n",
              "    }\n",
              "\n",
              "    .dataframe thead th {\n",
              "        text-align: right;\n",
              "    }\n",
              "</style>\n",
              "<table border=\"1\" class=\"dataframe\">\n",
              "  <thead>\n",
              "    <tr style=\"text-align: right;\">\n",
              "      <th></th>\n",
              "      <th>MaxHR</th>\n",
              "      <th>HeartDisease</th>\n",
              "      <th>Sk Learn Probability</th>\n",
              "      <th>SK Learn Prediction</th>\n",
              "      <th>Our Model Heart Disease Probabilities</th>\n",
              "    </tr>\n",
              "  </thead>\n",
              "  <tbody>\n",
              "    <tr>\n",
              "      <th>0</th>\n",
              "      <td>172</td>\n",
              "      <td>0</td>\n",
              "      <td>0.260939</td>\n",
              "      <td>0</td>\n",
              "      <td>0.5</td>\n",
              "    </tr>\n",
              "    <tr>\n",
              "      <th>1</th>\n",
              "      <td>156</td>\n",
              "      <td>1</td>\n",
              "      <td>0.389737</td>\n",
              "      <td>0</td>\n",
              "      <td>0.5</td>\n",
              "    </tr>\n",
              "    <tr>\n",
              "      <th>2</th>\n",
              "      <td>98</td>\n",
              "      <td>0</td>\n",
              "      <td>0.845538</td>\n",
              "      <td>1</td>\n",
              "      <td>0.5</td>\n",
              "    </tr>\n",
              "    <tr>\n",
              "      <th>3</th>\n",
              "      <td>108</td>\n",
              "      <td>1</td>\n",
              "      <td>0.790775</td>\n",
              "      <td>1</td>\n",
              "      <td>0.5</td>\n",
              "    </tr>\n",
              "    <tr>\n",
              "      <th>4</th>\n",
              "      <td>122</td>\n",
              "      <td>0</td>\n",
              "      <td>0.692325</td>\n",
              "      <td>1</td>\n",
              "      <td>0.5</td>\n",
              "    </tr>\n",
              "    <tr>\n",
              "      <th>...</th>\n",
              "      <td>...</td>\n",
              "      <td>...</td>\n",
              "      <td>...</td>\n",
              "      <td>...</td>\n",
              "      <td>...</td>\n",
              "    </tr>\n",
              "    <tr>\n",
              "      <th>913</th>\n",
              "      <td>132</td>\n",
              "      <td>1</td>\n",
              "      <td>0.608400</td>\n",
              "      <td>1</td>\n",
              "      <td>0.5</td>\n",
              "    </tr>\n",
              "    <tr>\n",
              "      <th>914</th>\n",
              "      <td>141</td>\n",
              "      <td>1</td>\n",
              "      <td>0.526777</td>\n",
              "      <td>1</td>\n",
              "      <td>0.5</td>\n",
              "    </tr>\n",
              "    <tr>\n",
              "      <th>915</th>\n",
              "      <td>115</td>\n",
              "      <td>1</td>\n",
              "      <td>0.744655</td>\n",
              "      <td>1</td>\n",
              "      <td>0.5</td>\n",
              "    </tr>\n",
              "    <tr>\n",
              "      <th>916</th>\n",
              "      <td>174</td>\n",
              "      <td>1</td>\n",
              "      <td>0.246907</td>\n",
              "      <td>0</td>\n",
              "      <td>0.5</td>\n",
              "    </tr>\n",
              "    <tr>\n",
              "      <th>917</th>\n",
              "      <td>173</td>\n",
              "      <td>0</td>\n",
              "      <td>0.253859</td>\n",
              "      <td>0</td>\n",
              "      <td>0.5</td>\n",
              "    </tr>\n",
              "  </tbody>\n",
              "</table>\n",
              "<p>918 rows × 5 columns</p>\n",
              "</div>"
            ],
            "text/plain": [
              "     MaxHR  ...  Our Model Heart Disease Probabilities\n",
              "0      172  ...                                    0.5\n",
              "1      156  ...                                    0.5\n",
              "2       98  ...                                    0.5\n",
              "3      108  ...                                    0.5\n",
              "4      122  ...                                    0.5\n",
              "..     ...  ...                                    ...\n",
              "913    132  ...                                    0.5\n",
              "914    141  ...                                    0.5\n",
              "915    115  ...                                    0.5\n",
              "916    174  ...                                    0.5\n",
              "917    173  ...                                    0.5\n",
              "\n",
              "[918 rows x 5 columns]"
            ]
          },
          "metadata": {},
          "execution_count": 55
        }
      ]
    },
    {
      "cell_type": "code",
      "metadata": {
        "colab": {
          "base_uri": "https://localhost:8080/",
          "height": 542
        },
        "id": "O6nCbDVPVS51",
        "outputId": "a50faf51-2c5e-43a4-deba-652d868b543d"
      },
      "source": [
        "fig = go.Figure()\n",
        "\n",
        "fig.add_trace(go.Scatter(x=predictions_df['MaxHR'], y=predictions_df['HeartDisease'],\n",
        "                         mode='markers', name='Observed', marker=dict(color='orange')))\n",
        "\n",
        "fig.add_trace(go.Scatter(x=predictions_df['MaxHR'], y=predictions_df['Sk Learn Probability'],\n",
        "                         mode='markers', name='SK Learn Probabilities', marker=dict(color='blue')))\n",
        "\n",
        "fig.add_trace(go.Scatter(x=predictions_df['MaxHR'], y=predictions_df['Our Model Heart Disease Probabilities'],\n",
        "                         mode='markers', name='Our Model Heart Disease Probabilities', marker=dict(color='red')))\n",
        "\n",
        "fig.add_trace(go.Scatter(x=predictions_df['MaxHR'], y=[.5]*len(predictions_df), \n",
        "                         name='Threshold', marker={'color':'purple'}))\n",
        "\n",
        "fig.update_layout(\n",
        "    title=\"Heart Disease vs Max Heart Rate\",\n",
        "    xaxis_title=\"Max Heart Rate\",\n",
        "    yaxis_title=\"Heart Disease\"\n",
        ")\n",
        "\n",
        "fig.show()"
      ],
      "execution_count": null,
      "outputs": [
        {
          "output_type": "display_data",
          "data": {
            "text/html": [
              "<html>\n",
              "<head><meta charset=\"utf-8\" /></head>\n",
              "<body>\n",
              "    <div>\n",
              "            <script src=\"https://cdnjs.cloudflare.com/ajax/libs/mathjax/2.7.5/MathJax.js?config=TeX-AMS-MML_SVG\"></script><script type=\"text/javascript\">if (window.MathJax) {MathJax.Hub.Config({SVG: {font: \"STIX-Web\"}});}</script>\n",
              "                <script type=\"text/javascript\">window.PlotlyConfig = {MathJaxConfig: 'local'};</script>\n",
              "        <script src=\"https://cdn.plot.ly/plotly-latest.min.js\"></script>    \n",
              "            <div id=\"920502ec-bbc2-4ce6-8c27-9e7049f3568b\" class=\"plotly-graph-div\" style=\"height:525px; width:100%;\"></div>\n",
              "            <script type=\"text/javascript\">\n",
              "                \n",
              "                    window.PLOTLYENV=window.PLOTLYENV || {};\n",
              "                    \n",
              "                if (document.getElementById(\"920502ec-bbc2-4ce6-8c27-9e7049f3568b\")) {\n",
              "                    Plotly.newPlot(\n",
              "                        '920502ec-bbc2-4ce6-8c27-9e7049f3568b',\n",
              "                        [{\"marker\": {\"color\": \"orange\"}, \"mode\": \"markers\", \"name\": \"Observed\", \"type\": \"scatter\", \"x\": [172, 156, 98, 108, 122, 170, 170, 142, 130, 120, 142, 99, 145, 140, 137, 150, 166, 165, 125, 160, 142, 142, 164, 150, 138, 178, 112, 118, 127, 145, 130, 114, 122, 130, 154, 155, 87, 142, 148, 130, 130, 100, 168, 170, 120, 120, 168, 170, 184, 170, 121, 98, 122, 150, 140, 170, 153, 140, 134, 96, 174, 175, 144, 125, 145, 130, 144, 184, 82, 170, 145, 135, 150, 115, 128, 116, 130, 150, 138, 170, 160, 154, 115, 165, 125, 94, 112, 142, 155, 110, 160, 140, 148, 92, 180, 140, 138, 160, 140, 144, 115, 100, 130, 152, 124, 140, 110, 168, 135, 106, 124, 92, 125, 150, 135, 150, 170, 130, 185, 180, 170, 139, 140, 110, 150, 110, 190, 175, 140, 152, 130, 150, 122, 124, 120, 175, 175, 146, 118, 130, 94, 125, 158, 155, 150, 132, 155, 176, 160, 125, 120, 100, 150, 140, 160, 150, 150, 130, 100, 130, 119, 96, 174, 150, 140, 175, 140, 118, 100, 160, 160, 188, 162, 172, 134, 135, 105, 150, 150, 90, 120, 150, 124, 140, 130, 92, 110, 138, 110, 120, 120, 116, 160, 110, 180, 116, 132, 136, 116, 98, 150, 150, 146, 150, 100, 140, 180, 140, 185, 140, 110, 140, 128, 164, 98, 170, 150, 137, 150, 170, 112, 150, 125, 185, 137, 150, 140, 134, 170, 184, 158, 167, 129, 142, 140, 160, 118, 136, 99, 102, 155, 142, 143, 118, 103, 137, 150, 150, 130, 120, 135, 115, 115, 152, 96, 130, 150, 172, 120, 155, 165, 138, 115, 125, 145, 175, 110, 150, 91, 145, 140, 165, 130, 134, 180, 100, 150, 126, 126, 155, 135, 122, 160, 160, 170, 120, 140, 132, 156, 180, 138, 135, 148, 93, 127, 110, 139, 131, 92, 149, 149, 150, 120, 123, 126, 127, 155, 120, 138, 182, 154, 110, 176, 154, 141, 123, 148, 121, 77, 136, 175, 109, 166, 128, 133, 128, 138, 119, 82, 130, 143, 82, 179, 144, 170, 134, 114, 154, 149, 145, 122, 114, 113, 120, 104, 130, 115, 128, 104, 125, 120, 140, 100, 100, 92, 125, 113, 95, 128, 115, 72, 124, 99, 148, 97, 140, 117, 120, 120, 86, 63, 108, 98, 115, 105, 121, 118, 122, 157, 156, 99, 120, 145, 156, 155, 105, 99, 135, 83, 145, 60, 92, 115, 120, 98, 150, 143, 105, 122, 70, 110, 163, 67, 128, 120, 130, 100, 72, 94, 122, 78, 150, 103, 98, 110, 90, 112, 127, 140, 149, 99, 120, 105, 140, 141, 157, 140, 117, 120, 120, 148, 86, 84, 125, 120, 118, 124, 106, 111, 116, 180, 129, 125, 140, 120, 124, 117, 110, 105, 155, 110, 122, 118, 133, 123, 131, 80, 165, 86, 111, 118, 84, 117, 107, 128, 160, 125, 130, 97, 161, 106, 130, 140, 122, 130, 120, 139, 108, 148, 123, 110, 118, 125, 106, 112, 128, 180, 144, 135, 140, 102, 108, 145, 127, 110, 140, 69, 148, 130, 130, 140, 138, 140, 138, 112, 131, 112, 80, 150, 110, 126, 88, 153, 150, 120, 160, 132, 120, 110, 121, 128, 135, 120, 117, 150, 144, 113, 135, 127, 109, 128, 115, 102, 140, 135, 122, 119, 130, 112, 100, 122, 120, 105, 129, 120, 139, 162, 100, 140, 135, 73, 86, 108, 116, 160, 118, 112, 122, 124, 102, 137, 141, 154, 126, 160, 115, 128, 115, 105, 110, 119, 109, 135, 130, 112, 126, 120, 110, 119, 110, 130, 159, 84, 126, 116, 120, 122, 165, 122, 94, 133, 110, 150, 130, 113, 140, 100, 136, 127, 98, 96, 123, 98, 112, 151, 96, 108, 128, 138, 126, 154, 137, 100, 135, 93, 109, 160, 141, 105, 121, 140, 142, 142, 170, 154, 161, 111, 180, 145, 159, 125, 120, 155, 144, 178, 129, 180, 181, 143, 159, 139, 152, 157, 165, 130, 150, 138, 170, 140, 126, 150, 138, 125, 150, 186, 181, 163, 179, 156, 134, 165, 126, 177, 120, 114, 125, 184, 157, 179, 175, 168, 125, 96, 143, 103, 173, 142, 169, 171, 150, 112, 186, 152, 149, 152, 140, 163, 143, 116, 142, 147, 148, 179, 173, 178, 105, 130, 111, 168, 126, 178, 140, 145, 163, 128, 164, 169, 109, 108, 168, 118, 151, 156, 133, 162, 175, 71, 163, 124, 147, 166, 143, 157, 162, 138, 117, 153, 161, 170, 162, 162, 144, 133, 114, 103, 139, 116, 88, 151, 152, 163, 99, 169, 158, 160, 169, 132, 178, 96, 165, 160, 172, 144, 192, 168, 132, 182, 163, 125, 195, 95, 160, 114, 173, 172, 179, 158, 167, 122, 149, 172, 111, 170, 162, 165, 182, 154, 155, 130, 161, 154, 159, 152, 152, 174, 131, 146, 125, 115, 174, 106, 122, 147, 163, 163, 194, 150, 158, 122, 173, 162, 105, 147, 157, 112, 160, 125, 156, 156, 175, 161, 122, 158, 151, 162, 151, 171, 141, 173, 145, 178, 160, 154, 131, 187, 159, 166, 165, 131, 202, 172, 172, 154, 147, 170, 126, 127, 174, 132, 182, 132, 97, 136, 162, 190, 146, 140, 185, 161, 146, 145, 160, 120, 156, 172, 150, 182, 143, 160, 142, 144, 158, 148, 155, 142, 113, 188, 153, 123, 157, 162, 137, 132, 158, 171, 172, 132, 160, 171, 168, 162, 173, 153, 148, 108, 115, 169, 143, 156, 162, 155, 152, 152, 164, 131, 143, 179, 130, 174, 161, 140, 146, 144, 163, 169, 150, 166, 144, 144, 136, 182, 90, 123, 132, 141, 115, 174, 173], \"y\": [0, 1, 0, 1, 0, 0, 0, 0, 1, 0, 0, 1, 0, 1, 0, 0, 1, 0, 1, 1, 0, 0, 0, 1, 0, 0, 0, 0, 0, 0, 1, 0, 1, 1, 0, 0, 1, 0, 0, 0, 0, 1, 0, 0, 1, 0, 0, 0, 0, 1, 1, 1, 0, 0, 0, 0, 1, 1, 0, 1, 0, 0, 0, 1, 0, 0, 0, 0, 1, 0, 1, 0, 1, 0, 1, 0, 1, 0, 0, 1, 0, 0, 1, 0, 1, 1, 1, 0, 1, 0, 0, 0, 0, 1, 0, 1, 0, 0, 0, 0, 1, 0, 1, 1, 1, 0, 0, 0, 0, 0, 0, 1, 0, 0, 0, 1, 1, 1, 0, 1, 1, 0, 0, 1, 0, 0, 0, 0, 0, 0, 0, 1, 1, 1, 0, 1, 0, 0, 1, 1, 1, 1, 1, 0, 1, 0, 0, 0, 0, 1, 0, 0, 0, 0, 0, 1, 1, 0, 1, 0, 1, 1, 0, 0, 0, 1, 1, 0, 0, 0, 0, 0, 0, 0, 1, 1, 1, 0, 0, 0, 1, 0, 1, 0, 0, 1, 0, 1, 0, 1, 0, 0, 0, 0, 0, 0, 0, 0, 1, 0, 0, 0, 0, 0, 0, 0, 0, 1, 0, 1, 1, 1, 0, 0, 1, 0, 1, 0, 0, 0, 1, 1, 0, 0, 0, 1, 0, 1, 0, 0, 0, 0, 0, 0, 0, 0, 1, 1, 1, 1, 0, 1, 1, 0, 1, 0, 1, 1, 1, 1, 1, 1, 0, 0, 1, 0, 0, 0, 0, 0, 0, 0, 1, 1, 1, 0, 1, 0, 1, 0, 0, 0, 1, 0, 0, 0, 1, 1, 0, 0, 0, 1, 0, 0, 0, 0, 0, 0, 0, 0, 0, 0, 0, 1, 1, 1, 1, 1, 1, 1, 1, 0, 1, 1, 1, 1, 1, 0, 1, 1, 0, 1, 1, 1, 0, 1, 1, 1, 1, 1, 1, 1, 1, 1, 1, 1, 0, 1, 1, 1, 1, 1, 0, 1, 1, 1, 0, 1, 1, 1, 1, 1, 1, 1, 1, 1, 1, 1, 1, 1, 1, 1, 1, 1, 1, 1, 1, 1, 1, 1, 1, 1, 1, 1, 0, 1, 1, 1, 1, 1, 1, 1, 1, 1, 1, 1, 1, 1, 1, 1, 1, 1, 1, 1, 1, 1, 1, 1, 1, 1, 1, 1, 1, 1, 1, 1, 1, 1, 1, 1, 1, 1, 1, 1, 1, 1, 1, 1, 1, 1, 1, 1, 1, 1, 1, 1, 1, 0, 1, 1, 0, 0, 1, 0, 1, 1, 0, 1, 1, 1, 1, 0, 1, 1, 0, 0, 1, 1, 1, 0, 1, 1, 1, 1, 1, 1, 1, 1, 1, 1, 1, 1, 1, 0, 1, 0, 1, 1, 1, 0, 1, 1, 1, 0, 1, 0, 1, 0, 1, 0, 1, 1, 1, 1, 0, 1, 0, 1, 1, 1, 1, 1, 1, 1, 1, 1, 0, 1, 0, 1, 1, 1, 1, 1, 1, 1, 0, 1, 1, 1, 1, 1, 1, 0, 1, 1, 1, 0, 1, 1, 0, 1, 0, 1, 1, 0, 1, 1, 1, 1, 0, 1, 1, 1, 0, 0, 1, 0, 1, 1, 1, 1, 1, 1, 1, 1, 1, 1, 1, 0, 1, 1, 1, 1, 0, 0, 1, 1, 1, 0, 1, 0, 1, 1, 0, 1, 0, 1, 1, 1, 0, 0, 0, 1, 1, 1, 0, 1, 1, 1, 1, 1, 1, 1, 1, 1, 1, 1, 1, 1, 1, 1, 1, 0, 1, 1, 1, 0, 1, 1, 0, 0, 1, 1, 1, 1, 1, 0, 1, 1, 0, 1, 1, 1, 0, 0, 1, 1, 1, 1, 1, 0, 1, 0, 1, 1, 0, 1, 0, 0, 0, 1, 1, 1, 1, 0, 0, 0, 1, 0, 0, 1, 1, 0, 0, 1, 0, 0, 0, 0, 0, 0, 0, 1, 0, 1, 0, 0, 1, 1, 1, 1, 1, 0, 0, 1, 0, 0, 0, 1, 0, 1, 1, 1, 1, 1, 0, 0, 0, 0, 0, 1, 0, 1, 1, 0, 1, 0, 0, 0, 1, 0, 1, 0, 1, 1, 0, 0, 0, 0, 1, 0, 0, 0, 0, 1, 1, 1, 0, 0, 0, 0, 0, 0, 1, 0, 1, 1, 1, 1, 1, 0, 1, 0, 0, 0, 1, 0, 1, 1, 1, 0, 1, 1, 0, 1, 0, 1, 0, 0, 0, 1, 1, 0, 1, 1, 1, 1, 0, 0, 0, 1, 0, 0, 1, 1, 1, 0, 1, 0, 0, 0, 1, 0, 0, 1, 0, 1, 0, 1, 1, 1, 1, 1, 0, 0, 0, 0, 0, 0, 0, 1, 0, 0, 1, 1, 1, 0, 1, 0, 0, 0, 0, 0, 1, 0, 1, 1, 0, 0, 1, 1, 1, 1, 0, 0, 1, 1, 0, 0, 0, 1, 0, 0, 1, 0, 1, 0, 1, 0, 0, 0, 0, 0, 1, 0, 1, 1, 1, 1, 0, 0, 0, 1, 0, 1, 0, 0, 1, 0, 0, 0, 0, 0, 0, 1, 1, 0, 1, 0, 0, 1, 1, 0, 0, 1, 1, 0, 1, 0, 1, 0, 1, 0, 0, 1, 0, 0, 1, 0, 1, 1, 0, 1, 1, 1, 0, 1, 0, 0, 0, 0, 1, 1, 0, 0, 1, 1, 0, 1, 0, 0, 0, 0, 1, 0, 0, 1, 1, 1, 0, 0, 0, 1, 0, 1, 0, 1, 0, 1, 1, 1, 0, 0, 0, 1, 0, 1, 1, 1, 0, 1, 1, 1, 1, 1, 1, 0]}, {\"marker\": {\"color\": \"blue\"}, \"mode\": \"markers\", \"name\": \"SK Learn Probabilities\", \"type\": \"scatter\", \"x\": [172, 156, 98, 108, 122, 170, 170, 142, 130, 120, 142, 99, 145, 140, 137, 150, 166, 165, 125, 160, 142, 142, 164, 150, 138, 178, 112, 118, 127, 145, 130, 114, 122, 130, 154, 155, 87, 142, 148, 130, 130, 100, 168, 170, 120, 120, 168, 170, 184, 170, 121, 98, 122, 150, 140, 170, 153, 140, 134, 96, 174, 175, 144, 125, 145, 130, 144, 184, 82, 170, 145, 135, 150, 115, 128, 116, 130, 150, 138, 170, 160, 154, 115, 165, 125, 94, 112, 142, 155, 110, 160, 140, 148, 92, 180, 140, 138, 160, 140, 144, 115, 100, 130, 152, 124, 140, 110, 168, 135, 106, 124, 92, 125, 150, 135, 150, 170, 130, 185, 180, 170, 139, 140, 110, 150, 110, 190, 175, 140, 152, 130, 150, 122, 124, 120, 175, 175, 146, 118, 130, 94, 125, 158, 155, 150, 132, 155, 176, 160, 125, 120, 100, 150, 140, 160, 150, 150, 130, 100, 130, 119, 96, 174, 150, 140, 175, 140, 118, 100, 160, 160, 188, 162, 172, 134, 135, 105, 150, 150, 90, 120, 150, 124, 140, 130, 92, 110, 138, 110, 120, 120, 116, 160, 110, 180, 116, 132, 136, 116, 98, 150, 150, 146, 150, 100, 140, 180, 140, 185, 140, 110, 140, 128, 164, 98, 170, 150, 137, 150, 170, 112, 150, 125, 185, 137, 150, 140, 134, 170, 184, 158, 167, 129, 142, 140, 160, 118, 136, 99, 102, 155, 142, 143, 118, 103, 137, 150, 150, 130, 120, 135, 115, 115, 152, 96, 130, 150, 172, 120, 155, 165, 138, 115, 125, 145, 175, 110, 150, 91, 145, 140, 165, 130, 134, 180, 100, 150, 126, 126, 155, 135, 122, 160, 160, 170, 120, 140, 132, 156, 180, 138, 135, 148, 93, 127, 110, 139, 131, 92, 149, 149, 150, 120, 123, 126, 127, 155, 120, 138, 182, 154, 110, 176, 154, 141, 123, 148, 121, 77, 136, 175, 109, 166, 128, 133, 128, 138, 119, 82, 130, 143, 82, 179, 144, 170, 134, 114, 154, 149, 145, 122, 114, 113, 120, 104, 130, 115, 128, 104, 125, 120, 140, 100, 100, 92, 125, 113, 95, 128, 115, 72, 124, 99, 148, 97, 140, 117, 120, 120, 86, 63, 108, 98, 115, 105, 121, 118, 122, 157, 156, 99, 120, 145, 156, 155, 105, 99, 135, 83, 145, 60, 92, 115, 120, 98, 150, 143, 105, 122, 70, 110, 163, 67, 128, 120, 130, 100, 72, 94, 122, 78, 150, 103, 98, 110, 90, 112, 127, 140, 149, 99, 120, 105, 140, 141, 157, 140, 117, 120, 120, 148, 86, 84, 125, 120, 118, 124, 106, 111, 116, 180, 129, 125, 140, 120, 124, 117, 110, 105, 155, 110, 122, 118, 133, 123, 131, 80, 165, 86, 111, 118, 84, 117, 107, 128, 160, 125, 130, 97, 161, 106, 130, 140, 122, 130, 120, 139, 108, 148, 123, 110, 118, 125, 106, 112, 128, 180, 144, 135, 140, 102, 108, 145, 127, 110, 140, 69, 148, 130, 130, 140, 138, 140, 138, 112, 131, 112, 80, 150, 110, 126, 88, 153, 150, 120, 160, 132, 120, 110, 121, 128, 135, 120, 117, 150, 144, 113, 135, 127, 109, 128, 115, 102, 140, 135, 122, 119, 130, 112, 100, 122, 120, 105, 129, 120, 139, 162, 100, 140, 135, 73, 86, 108, 116, 160, 118, 112, 122, 124, 102, 137, 141, 154, 126, 160, 115, 128, 115, 105, 110, 119, 109, 135, 130, 112, 126, 120, 110, 119, 110, 130, 159, 84, 126, 116, 120, 122, 165, 122, 94, 133, 110, 150, 130, 113, 140, 100, 136, 127, 98, 96, 123, 98, 112, 151, 96, 108, 128, 138, 126, 154, 137, 100, 135, 93, 109, 160, 141, 105, 121, 140, 142, 142, 170, 154, 161, 111, 180, 145, 159, 125, 120, 155, 144, 178, 129, 180, 181, 143, 159, 139, 152, 157, 165, 130, 150, 138, 170, 140, 126, 150, 138, 125, 150, 186, 181, 163, 179, 156, 134, 165, 126, 177, 120, 114, 125, 184, 157, 179, 175, 168, 125, 96, 143, 103, 173, 142, 169, 171, 150, 112, 186, 152, 149, 152, 140, 163, 143, 116, 142, 147, 148, 179, 173, 178, 105, 130, 111, 168, 126, 178, 140, 145, 163, 128, 164, 169, 109, 108, 168, 118, 151, 156, 133, 162, 175, 71, 163, 124, 147, 166, 143, 157, 162, 138, 117, 153, 161, 170, 162, 162, 144, 133, 114, 103, 139, 116, 88, 151, 152, 163, 99, 169, 158, 160, 169, 132, 178, 96, 165, 160, 172, 144, 192, 168, 132, 182, 163, 125, 195, 95, 160, 114, 173, 172, 179, 158, 167, 122, 149, 172, 111, 170, 162, 165, 182, 154, 155, 130, 161, 154, 159, 152, 152, 174, 131, 146, 125, 115, 174, 106, 122, 147, 163, 163, 194, 150, 158, 122, 173, 162, 105, 147, 157, 112, 160, 125, 156, 156, 175, 161, 122, 158, 151, 162, 151, 171, 141, 173, 145, 178, 160, 154, 131, 187, 159, 166, 165, 131, 202, 172, 172, 154, 147, 170, 126, 127, 174, 132, 182, 132, 97, 136, 162, 190, 146, 140, 185, 161, 146, 145, 160, 120, 156, 172, 150, 182, 143, 160, 142, 144, 158, 148, 155, 142, 113, 188, 153, 123, 157, 162, 137, 132, 158, 171, 172, 132, 160, 171, 168, 162, 173, 153, 148, 108, 115, 169, 143, 156, 162, 155, 152, 152, 164, 131, 143, 179, 130, 174, 161, 140, 146, 144, 163, 169, 150, 166, 144, 144, 136, 182, 90, 123, 132, 141, 115, 174, 173], \"y\": [0.2609389646425221, 0.3897365481991345, 0.8455379083873306, 0.7907749437202437, 0.6923253188518114, 0.2754769327885896, 0.2754769327885896, 0.5175353519845768, 0.6259019622799237, 0.7078773802518259, 0.5175353519845768, 0.840637916403869, 0.4897623733568337, 0.5360012074751885, 0.5635004728622155, 0.4436980583033375, 0.30600970739477734, 0.3139322880257179, 0.6681626178358427, 0.3551246209926921, 0.5175353519845768, 0.5175353519845768, 0.3219648242707817, 0.4436980583033375, 0.5543688683378393, 0.22039829474604425, 0.765205606324468, 0.722957901873652, 0.651537031351976, 0.4897623733568337, 0.6259019622799237, 0.7516347536308627, 0.6923253188518114, 0.6259019622799237, 0.40749383340802015, 0.3985818398156112, 0.8916288284982107, 0.5175353519845768, 0.46205245112598503, 0.6259019622799237, 0.6259019622799237, 0.8356127029223647, 0.2905064913938509, 0.2754769327885896, 0.7078773802518259, 0.7078773802518259, 0.2905064913938509, 0.2754769327885896, 0.18458311494812005, 0.2754769327885896, 0.7001589969198562, 0.8455379083873306, 0.6923253188518114, 0.4436980583033375, 0.5360012074751885, 0.2754769327885896, 0.4164671061171443, 0.5360012074751885, 0.5906147495266368, 0.8549678688746648, 0.2469067618957088, 0.24008375200033943, 0.4990214783140502, 0.6681626178358427, 0.4897623733568337, 0.6259019622799237, 0.4990214783140502, 0.18458311494812005, 0.9082705256547735, 0.2754769327885896, 0.4897623733568337, 0.5816292359744925, 0.4436980583033375, 0.7446554724739265, 0.6430806116047318, 0.7375485488072042, 0.6259019622799237, 0.4436980583033375, 0.5543688683378393, 0.2754769327885896, 0.3551246209926921, 0.40749383340802015, 0.7446554724739265, 0.3139322880257179, 0.6681626178358427, 0.8639147836933277, 0.765205606324468, 0.5175353519845768, 0.3985818398156112, 0.7782537005797351, 0.3551246209926921, 0.5360012074751885, 0.46205245112598503, 0.8723921483363917, 0.20793283186561765, 0.5360012074751885, 0.5543688683378393, 0.3551246209926921, 0.5360012074751885, 0.4990214783140502, 0.7446554724739265, 0.8356127029223647, 0.6259019622799237, 0.4254960756629841, 0.6763238797823873, 0.5360012074751885, 0.7782537005797351, 0.2905064913938509, 0.5816292359744925, 0.8027683375875693, 0.6763238797823873, 0.8723921483363917, 0.6681626178358427, 0.4436980583033375, 0.5816292359744925, 0.4436980583033375, 0.2754769327885896, 0.6259019622799237, 0.1790728321779459, 0.20793283186561765, 0.2754769327885896, 0.5452004128192333, 0.5360012074751885, 0.7782537005797351, 0.4436980583033375, 0.7782537005797351, 0.1534424662560065, 0.24008375200033943, 0.5360012074751885, 0.4254960756629841, 0.6259019622799237, 0.4436980583033375, 0.6923253188518114, 0.6763238797823873, 0.7078773802518259, 0.24008375200033943, 0.24008375200033943, 0.4805102874772629, 0.722957901873652, 0.6259019622799237, 0.8639147836933277, 0.6681626178358427, 0.3722668928641893, 0.3985818398156112, 0.4436980583033375, 0.6083999822497841, 0.3985818398156112, 0.2333908563893173, 0.3551246209926921, 0.6681626178358427, 0.7078773802518259, 0.8356127029223647, 0.4436980583033375, 0.5360012074751885, 0.3551246209926921, 0.4436980583033375, 0.4436980583033375, 0.6259019622799237, 0.8356127029223647, 0.6259019622799237, 0.7154778187287896, 0.8549678688746648, 0.2469067618957088, 0.4436980583033375, 0.5360012074751885, 0.24008375200033943, 0.5360012074751885, 0.722957901873652, 0.8356127029223647, 0.3551246209926921, 0.3551246209926921, 0.16331480875105697, 0.3383462525166967, 0.2609389646425221, 0.5906147495266368, 0.5816292359744925, 0.8085675663252168, 0.4436980583033375, 0.4436980583033375, 0.8804145196899192, 0.7078773802518259, 0.4436980583033375, 0.6763238797823873, 0.5360012074751885, 0.6259019622799237, 0.8723921483363917, 0.7782537005797351, 0.5543688683378393, 0.7782537005797351, 0.7078773802518259, 0.7078773802518259, 0.7375485488072042, 0.3551246209926921, 0.7782537005797351, 0.20793283186561765, 0.7375485488072042, 0.6083999822497841, 0.5725892244860964, 0.7375485488072042, 0.8455379083873306, 0.4436980583033375, 0.4436980583033375, 0.4805102874772629, 0.4436980583033375, 0.8356127029223647, 0.5360012074751885, 0.20793283186561765, 0.5360012074751885, 0.1790728321779459, 0.5360012074751885, 0.7782537005797351, 0.5360012074751885, 0.6430806116047318, 0.3219648242707817, 0.8455379083873306, 0.2754769327885896, 0.4436980583033375, 0.5635004728622155, 0.4436980583033375, 0.2754769327885896, 0.765205606324468, 0.4436980583033375, 0.6681626178358427, 0.1790728321779459, 0.5635004728622155, 0.4436980583033375, 0.5360012074751885, 0.5906147495266368, 0.2754769327885896, 0.18458311494812005, 0.3722668928641893, 0.29820016199230787, 0.6345340863495227, 0.5175353519845768, 0.5360012074751885, 0.3551246209926921, 0.722957901873652, 0.5725892244860964, 0.840637916403869, 0.8251815971378507, 0.3985818398156112, 0.5175353519845768, 0.5082812544398188, 0.722957901873652, 0.8197734873419239, 0.5635004728622155, 0.4436980583033375, 0.4436980583033375, 0.6259019622799237, 0.7078773802518259, 0.5816292359744925, 0.7446554724739265, 0.7446554724739265, 0.4254960756629841, 0.8549678688746648, 0.6259019622799237, 0.4436980583033375, 0.2609389646425221, 0.7078773802518259, 0.3985818398156112, 0.3139322880257179, 0.5543688683378393, 0.7446554724739265, 0.6681626178358427, 0.4897623733568337, 0.24008375200033943, 0.7782537005797351, 0.4436980583033375, 0.8764592630261128, 0.4897623733568337, 0.5360012074751885, 0.3139322880257179, 0.6259019622799237, 0.5906147495266368, 0.20793283186561765, 0.8356127029223647, 0.4436980583033375, 0.6598990556643708, 0.6598990556643708, 0.3985818398156112, 0.5816292359744925, 0.6923253188518114, 0.3551246209926921, 0.3551246209926921, 0.2754769327885896, 0.7078773802518259, 0.5360012074751885, 0.6083999822497841, 0.3897365481991345, 0.20793283186561765, 0.5543688683378393, 0.5816292359744925, 0.46205245112598503, 0.8682112722053241, 0.651537031351976, 0.7782537005797351, 0.5452004128192333, 0.6171889553531053, 0.8723921483363917, 0.45285923137321227, 0.45285923137321227, 0.4436980583033375, 0.7078773802518259, 0.6843792363944345, 0.6598990556643708, 0.651537031351976, 0.3985818398156112, 0.7078773802518259, 0.5543688683378393, 0.195995152679382, 0.40749383340802015, 0.7782537005797351, 0.2333908563893173, 0.40749383340802015, 0.5267774367641762, 0.6843792363944345, 0.46205245112598503, 0.7001589969198562, 0.9225785905803651, 0.5725892244860964, 0.24008375200033943, 0.7845803107179642, 0.30600970739477734, 0.6430806116047318, 0.5995401508175907, 0.6430806116047318, 0.5543688683378393, 0.7154778187287896, 0.9082705256547735, 0.6259019622799237, 0.5082812544398188, 0.9082705256547735, 0.21409956395965105, 0.4990214783140502, 0.2754769327885896, 0.5906147495266368, 0.7516347536308627, 0.40749383340802015, 0.45285923137321227, 0.4897623733568337, 0.6923253188518114, 0.7516347536308627, 0.7584851419386704, 0.7078773802518259, 0.8142357376350635, 0.6259019622799237, 0.7446554724739265, 0.6430806116047318, 0.8142357376350635, 0.6681626178358427, 0.7078773802518259, 0.5360012074751885, 0.8356127029223647, 0.8356127029223647, 0.8723921483363917, 0.6681626178358427, 0.7584851419386704, 0.8595008910828382, 0.6430806116047318, 0.7446554724739265, 0.9348150391468388, 0.6763238797823873, 0.840637916403869, 0.46205245112598503, 0.8503140650220352, 0.5360012074751885, 0.7303154573808168, 0.7078773802518259, 0.7078773802518259, 0.8951565153958226, 0.9524157197612084, 0.7907749437202437, 0.8455379083873306, 0.7446554724739265, 0.8085675663252168, 0.7001589969198562, 0.722957901873652, 0.6923253188518114, 0.38096320978400594, 0.3897365481991345, 0.840637916403869, 0.7078773802518259, 0.4897623733568337, 0.3897365481991345, 0.3985818398156112, 0.8085675663252168, 0.840637916403869, 0.5816292359744925, 0.9051373274893162, 0.4897623733568337, 0.9572061990198002, 0.8723921483363917, 0.7446554724739265, 0.7078773802518259, 0.8455379083873306, 0.4436980583033375, 0.5082812544398188, 0.8085675663252168, 0.6923253188518114, 0.9391866094699116, 0.7782537005797351, 0.3301039975730218, 0.9452323254368847, 0.6430806116047318, 0.7078773802518259, 0.6259019622799237, 0.8356127029223647, 0.9348150391468388, 0.8639147836933277, 0.6923253188518114, 0.919891007304843, 0.4436980583033375, 0.8197734873419239, 0.8455379083873306, 0.7782537005797351, 0.8804145196899192, 0.765205606324468, 0.651537031351976, 0.5360012074751885, 0.45285923137321227, 0.840637916403869, 0.7078773802518259, 0.8085675663252168, 0.5360012074751885, 0.5267774367641762, 0.38096320978400594, 0.5360012074751885, 0.7303154573808168, 0.7078773802518259, 0.7078773802518259, 0.46205245112598503, 0.8951565153958226, 0.9019086668496099, 0.6681626178358427, 0.7078773802518259, 0.722957901873652, 0.6763238797823873, 0.8027683375875693, 0.7717953292685138, 0.7375485488072042, 0.20793283186561765, 0.6345340863495227, 0.6681626178358427, 0.5360012074751885, 0.7078773802518259, 0.6763238797823873, 0.7303154573808168, 0.7782537005797351, 0.8085675663252168, 0.3985818398156112, 0.7782537005797351, 0.6923253188518114, 0.722957901873652, 0.5995401508175907, 0.6843792363944345, 0.6171889553531053, 0.9142590017170057, 0.3139322880257179, 0.8951565153958226, 0.7717953292685138, 0.722957901873652, 0.9019086668496099, 0.7303154573808168, 0.7968375697876303, 0.6430806116047318, 0.3551246209926921, 0.6681626178358427, 0.6259019622799237, 0.8503140650220352, 0.34668779992514015, 0.8027683375875693, 0.6259019622799237, 0.5360012074751885, 0.6923253188518114, 0.6259019622799237, 0.7078773802518259, 0.5452004128192333, 0.7907749437202437, 0.46205245112598503, 0.6843792363944345, 0.7782537005797351, 0.722957901873652, 0.6681626178358427, 0.8027683375875693, 0.765205606324468, 0.6430806116047318, 0.20793283186561765, 0.4990214783140502, 0.5816292359744925, 0.5360012074751885, 0.8251815971378507, 0.7907749437202437, 0.4897623733568337, 0.651537031351976, 0.7782537005797351, 0.5360012074751885, 0.941268173999715, 0.46205245112598503, 0.6259019622799237, 0.6259019622799237, 0.5360012074751885, 0.5543688683378393, 0.5360012074751885, 0.5543688683378393, 0.765205606324468, 0.6171889553531053, 0.765205606324468, 0.9142590017170057, 0.4436980583033375, 0.7782537005797351, 0.6598990556643708, 0.887997296333839, 0.4164671061171443, 0.4436980583033375, 0.7078773802518259, 0.3551246209926921, 0.6083999822497841, 0.7078773802518259, 0.7782537005797351, 0.7001589969198562, 0.6430806116047318, 0.5816292359744925, 0.7078773802518259, 0.7303154573808168, 0.4436980583033375, 0.4990214783140502, 0.7584851419386704, 0.5816292359744925, 0.651537031351976, 0.7845803107179642, 0.6430806116047318, 0.7446554724739265, 0.8251815971378507, 0.5360012074751885, 0.5816292359744925, 0.6923253188518114, 0.7154778187287896, 0.6259019622799237, 0.765205606324468, 0.8356127029223647, 0.6923253188518114, 0.7078773802518259, 0.8085675663252168, 0.6345340863495227, 0.7078773802518259, 0.5452004128192333, 0.3383462525166967, 0.8356127029223647, 0.5360012074751885, 0.5816292359744925, 0.9325211597136158, 0.8951565153958226, 0.7907749437202437, 0.7375485488072042, 0.3551246209926921, 0.722957901873652, 0.765205606324468, 0.6923253188518114, 0.6763238797823873, 0.8251815971378507, 0.5635004728622155, 0.5267774367641762, 0.40749383340802015, 0.6598990556643708, 0.3551246209926921, 0.7446554724739265, 0.6430806116047318, 0.7446554724739265, 0.8085675663252168, 0.7782537005797351, 0.7154778187287896, 0.7845803107179642, 0.5816292359744925, 0.6259019622799237, 0.765205606324468, 0.6598990556643708, 0.7078773802518259, 0.7782537005797351, 0.7154778187287896, 0.7782537005797351, 0.6259019622799237, 0.3636524724636999, 0.9019086668496099, 0.6598990556643708, 0.7375485488072042, 0.7078773802518259, 0.6923253188518114, 0.3139322880257179, 0.6923253188518114, 0.8639147836933277, 0.5995401508175907, 0.7782537005797351, 0.4436980583033375, 0.6259019622799237, 0.7584851419386704, 0.5360012074751885, 0.8356127029223647, 0.5725892244860964, 0.651537031351976, 0.8455379083873306, 0.8549678688746648, 0.6843792363944345, 0.8455379083873306, 0.765205606324468, 0.43457501342121924, 0.8549678688746648, 0.7907749437202437, 0.6430806116047318, 0.5543688683378393, 0.6598990556643708, 0.40749383340802015, 0.5635004728622155, 0.8356127029223647, 0.5816292359744925, 0.8682112722053241, 0.7845803107179642, 0.3551246209926921, 0.5267774367641762, 0.8085675663252168, 0.7001589969198562, 0.5360012074751885, 0.5175353519845768, 0.5175353519845768, 0.2754769327885896, 0.40749383340802015, 0.34668779992514015, 0.7717953292685138, 0.20793283186561765, 0.4897623733568337, 0.3636524724636999, 0.6681626178358427, 0.7078773802518259, 0.3985818398156112, 0.4990214783140502, 0.22039829474604425, 0.6345340863495227, 0.20793283186561765, 0.20189808989720734, 0.5082812544398188, 0.3636524724636999, 0.5452004128192333, 0.4254960756629841, 0.38096320978400594, 0.3139322880257179, 0.6259019622799237, 0.4436980583033375, 0.5543688683378393, 0.2754769327885896, 0.5360012074751885, 0.6598990556643708, 0.4436980583033375, 0.5543688683378393, 0.6681626178358427, 0.4436980583033375, 0.1736920062405972, 0.20189808989720734, 0.3301039975730218, 0.21409956395965105, 0.3897365481991345, 0.5906147495266368, 0.3139322880257179, 0.6598990556643708, 0.22682884823239477, 0.7078773802518259, 0.7516347536308627, 0.6681626178358427, 0.18458311494812005, 0.38096320978400594, 0.21409956395965105, 0.24008375200033943, 0.2905064913938509, 0.6681626178358427, 0.8549678688746648, 0.5082812544398188, 0.8197734873419239, 0.2538589006273162, 0.5175353519845768, 0.2829312949951419, 0.2681455270147869, 0.4436980583033375, 0.765205606324468, 0.1736920062405972, 0.4254960756629841, 0.45285923137321227, 0.4254960756629841, 0.5360012074751885, 0.3301039975730218, 0.5082812544398188, 0.7375485488072042, 0.5175353519845768, 0.471271549348794, 0.46205245112598503, 0.21409956395965105, 0.2538589006273162, 0.22039829474604425, 0.8085675663252168, 0.6259019622799237, 0.7717953292685138, 0.2905064913938509, 0.6598990556643708, 0.22039829474604425, 0.5360012074751885, 0.4897623733568337, 0.3301039975730218, 0.6430806116047318, 0.3219648242707817, 0.2829312949951419, 0.7845803107179642, 0.7907749437202437, 0.2905064913938509, 0.722957901873652, 0.43457501342121924, 0.3897365481991345, 0.5995401508175907, 0.3383462525166967, 0.24008375200033943, 0.9370362054051542, 0.3301039975730218, 0.6763238797823873, 0.471271549348794, 0.30600970739477734, 0.5082812544398188, 0.38096320978400594, 0.3383462525166967, 0.5543688683378393, 0.7303154573808168, 0.4164671061171443, 0.34668779992514015, 0.2754769327885896, 0.3383462525166967, 0.3383462525166967, 0.4990214783140502, 0.5995401508175907, 0.7516347536308627, 0.8197734873419239, 0.5452004128192333, 0.7375485488072042, 0.887997296333839, 0.43457501342121924, 0.4254960756629841, 0.3301039975730218, 0.840637916403869, 0.2829312949951419, 0.3722668928641893, 0.3551246209926921, 0.2829312949951419, 0.6083999822497841, 0.22039829474604425, 0.8549678688746648, 0.3139322880257179, 0.3551246209926921, 0.2609389646425221, 0.4990214783140502, 0.14406414823031585, 0.2905064913938509, 0.6083999822497841, 0.195995152679382, 0.3301039975730218, 0.6681626178358427, 0.13089560237572187, 0.8595008910828382, 0.3551246209926921, 0.7516347536308627, 0.2538589006273162, 0.2609389646425221, 0.21409956395965105, 0.3722668928641893, 0.29820016199230787, 0.6923253188518114, 0.45285923137321227, 0.2609389646425221, 0.7717953292685138, 0.2754769327885896, 0.3383462525166967, 0.3139322880257179, 0.195995152679382, 0.40749383340802015, 0.3985818398156112, 0.6259019622799237, 0.34668779992514015, 0.40749383340802015, 0.3636524724636999, 0.4254960756629841, 0.4254960756629841, 0.2469067618957088, 0.6171889553531053, 0.4805102874772629, 0.6681626178358427, 0.7446554724739265, 0.2469067618957088, 0.8027683375875693, 0.6923253188518114, 0.471271549348794, 0.3301039975730218, 0.3301039975730218, 0.1351675069003893, 0.4436980583033375, 0.3722668928641893, 0.6923253188518114, 0.2538589006273162, 0.3383462525166967, 0.8085675663252168, 0.471271549348794, 0.38096320978400594, 0.765205606324468, 0.3551246209926921, 0.6681626178358427, 0.3897365481991345, 0.3897365481991345, 0.24008375200033943, 0.34668779992514015, 0.6923253188518114, 0.3722668928641893, 0.43457501342121924, 0.3383462525166967, 0.43457501342121924, 0.2681455270147869, 0.5267774367641762, 0.2538589006273162, 0.4897623733568337, 0.22039829474604425, 0.3551246209926921, 0.40749383340802015, 0.6171889553531053, 0.1684396899522401, 0.3636524724636999, 0.30600970739477734, 0.3139322880257179, 0.6171889553531053, 0.10411106855100558, 0.2609389646425221, 0.2609389646425221, 0.40749383340802015, 0.471271549348794, 0.2754769327885896, 0.6598990556643708, 0.651537031351976, 0.2469067618957088, 0.6083999822497841, 0.195995152679382, 0.6083999822497841, 0.8503140650220352, 0.5725892244860964, 0.3383462525166967, 0.1534424662560065, 0.4805102874772629, 0.5360012074751885, 0.1790728321779459, 0.34668779992514015, 0.4805102874772629, 0.4897623733568337, 0.3551246209926921, 0.7078773802518259, 0.3897365481991345, 0.2609389646425221, 0.4436980583033375, 0.195995152679382, 0.5082812544398188, 0.3551246209926921, 0.5175353519845768, 0.4990214783140502, 0.3722668928641893, 0.46205245112598503, 0.3985818398156112, 0.5175353519845768, 0.7584851419386704, 0.16331480875105697, 0.4164671061171443, 0.6843792363944345, 0.38096320978400594, 0.3383462525166967, 0.5635004728622155, 0.6083999822497841, 0.3722668928641893, 0.2681455270147869, 0.2609389646425221, 0.6083999822497841, 0.3551246209926921, 0.2681455270147869, 0.2905064913938509, 0.3383462525166967, 0.2538589006273162, 0.4164671061171443, 0.46205245112598503, 0.7907749437202437, 0.7446554724739265, 0.2829312949951419, 0.5082812544398188, 0.3897365481991345, 0.3383462525166967, 0.3985818398156112, 0.4254960756629841, 0.4254960756629841, 0.3219648242707817, 0.6171889553531053, 0.5082812544398188, 0.21409956395965105, 0.6259019622799237, 0.2469067618957088, 0.34668779992514015, 0.5360012074751885, 0.4805102874772629, 0.4990214783140502, 0.3301039975730218, 0.2829312949951419, 0.4436980583033375, 0.30600970739477734, 0.4990214783140502, 0.4990214783140502, 0.5725892244860964, 0.195995152679382, 0.8804145196899192, 0.6843792363944345, 0.6083999822497841, 0.5267774367641762, 0.7446554724739265, 0.2469067618957088, 0.2538589006273162]}, {\"marker\": {\"color\": \"red\"}, \"mode\": \"markers\", \"name\": \"Our Model Heart Disease Probabilities\", \"type\": \"scatter\", \"x\": [172, 156, 98, 108, 122, 170, 170, 142, 130, 120, 142, 99, 145, 140, 137, 150, 166, 165, 125, 160, 142, 142, 164, 150, 138, 178, 112, 118, 127, 145, 130, 114, 122, 130, 154, 155, 87, 142, 148, 130, 130, 100, 168, 170, 120, 120, 168, 170, 184, 170, 121, 98, 122, 150, 140, 170, 153, 140, 134, 96, 174, 175, 144, 125, 145, 130, 144, 184, 82, 170, 145, 135, 150, 115, 128, 116, 130, 150, 138, 170, 160, 154, 115, 165, 125, 94, 112, 142, 155, 110, 160, 140, 148, 92, 180, 140, 138, 160, 140, 144, 115, 100, 130, 152, 124, 140, 110, 168, 135, 106, 124, 92, 125, 150, 135, 150, 170, 130, 185, 180, 170, 139, 140, 110, 150, 110, 190, 175, 140, 152, 130, 150, 122, 124, 120, 175, 175, 146, 118, 130, 94, 125, 158, 155, 150, 132, 155, 176, 160, 125, 120, 100, 150, 140, 160, 150, 150, 130, 100, 130, 119, 96, 174, 150, 140, 175, 140, 118, 100, 160, 160, 188, 162, 172, 134, 135, 105, 150, 150, 90, 120, 150, 124, 140, 130, 92, 110, 138, 110, 120, 120, 116, 160, 110, 180, 116, 132, 136, 116, 98, 150, 150, 146, 150, 100, 140, 180, 140, 185, 140, 110, 140, 128, 164, 98, 170, 150, 137, 150, 170, 112, 150, 125, 185, 137, 150, 140, 134, 170, 184, 158, 167, 129, 142, 140, 160, 118, 136, 99, 102, 155, 142, 143, 118, 103, 137, 150, 150, 130, 120, 135, 115, 115, 152, 96, 130, 150, 172, 120, 155, 165, 138, 115, 125, 145, 175, 110, 150, 91, 145, 140, 165, 130, 134, 180, 100, 150, 126, 126, 155, 135, 122, 160, 160, 170, 120, 140, 132, 156, 180, 138, 135, 148, 93, 127, 110, 139, 131, 92, 149, 149, 150, 120, 123, 126, 127, 155, 120, 138, 182, 154, 110, 176, 154, 141, 123, 148, 121, 77, 136, 175, 109, 166, 128, 133, 128, 138, 119, 82, 130, 143, 82, 179, 144, 170, 134, 114, 154, 149, 145, 122, 114, 113, 120, 104, 130, 115, 128, 104, 125, 120, 140, 100, 100, 92, 125, 113, 95, 128, 115, 72, 124, 99, 148, 97, 140, 117, 120, 120, 86, 63, 108, 98, 115, 105, 121, 118, 122, 157, 156, 99, 120, 145, 156, 155, 105, 99, 135, 83, 145, 60, 92, 115, 120, 98, 150, 143, 105, 122, 70, 110, 163, 67, 128, 120, 130, 100, 72, 94, 122, 78, 150, 103, 98, 110, 90, 112, 127, 140, 149, 99, 120, 105, 140, 141, 157, 140, 117, 120, 120, 148, 86, 84, 125, 120, 118, 124, 106, 111, 116, 180, 129, 125, 140, 120, 124, 117, 110, 105, 155, 110, 122, 118, 133, 123, 131, 80, 165, 86, 111, 118, 84, 117, 107, 128, 160, 125, 130, 97, 161, 106, 130, 140, 122, 130, 120, 139, 108, 148, 123, 110, 118, 125, 106, 112, 128, 180, 144, 135, 140, 102, 108, 145, 127, 110, 140, 69, 148, 130, 130, 140, 138, 140, 138, 112, 131, 112, 80, 150, 110, 126, 88, 153, 150, 120, 160, 132, 120, 110, 121, 128, 135, 120, 117, 150, 144, 113, 135, 127, 109, 128, 115, 102, 140, 135, 122, 119, 130, 112, 100, 122, 120, 105, 129, 120, 139, 162, 100, 140, 135, 73, 86, 108, 116, 160, 118, 112, 122, 124, 102, 137, 141, 154, 126, 160, 115, 128, 115, 105, 110, 119, 109, 135, 130, 112, 126, 120, 110, 119, 110, 130, 159, 84, 126, 116, 120, 122, 165, 122, 94, 133, 110, 150, 130, 113, 140, 100, 136, 127, 98, 96, 123, 98, 112, 151, 96, 108, 128, 138, 126, 154, 137, 100, 135, 93, 109, 160, 141, 105, 121, 140, 142, 142, 170, 154, 161, 111, 180, 145, 159, 125, 120, 155, 144, 178, 129, 180, 181, 143, 159, 139, 152, 157, 165, 130, 150, 138, 170, 140, 126, 150, 138, 125, 150, 186, 181, 163, 179, 156, 134, 165, 126, 177, 120, 114, 125, 184, 157, 179, 175, 168, 125, 96, 143, 103, 173, 142, 169, 171, 150, 112, 186, 152, 149, 152, 140, 163, 143, 116, 142, 147, 148, 179, 173, 178, 105, 130, 111, 168, 126, 178, 140, 145, 163, 128, 164, 169, 109, 108, 168, 118, 151, 156, 133, 162, 175, 71, 163, 124, 147, 166, 143, 157, 162, 138, 117, 153, 161, 170, 162, 162, 144, 133, 114, 103, 139, 116, 88, 151, 152, 163, 99, 169, 158, 160, 169, 132, 178, 96, 165, 160, 172, 144, 192, 168, 132, 182, 163, 125, 195, 95, 160, 114, 173, 172, 179, 158, 167, 122, 149, 172, 111, 170, 162, 165, 182, 154, 155, 130, 161, 154, 159, 152, 152, 174, 131, 146, 125, 115, 174, 106, 122, 147, 163, 163, 194, 150, 158, 122, 173, 162, 105, 147, 157, 112, 160, 125, 156, 156, 175, 161, 122, 158, 151, 162, 151, 171, 141, 173, 145, 178, 160, 154, 131, 187, 159, 166, 165, 131, 202, 172, 172, 154, 147, 170, 126, 127, 174, 132, 182, 132, 97, 136, 162, 190, 146, 140, 185, 161, 146, 145, 160, 120, 156, 172, 150, 182, 143, 160, 142, 144, 158, 148, 155, 142, 113, 188, 153, 123, 157, 162, 137, 132, 158, 171, 172, 132, 160, 171, 168, 162, 173, 153, 148, 108, 115, 169, 143, 156, 162, 155, 152, 152, 164, 131, 143, 179, 130, 174, 161, 140, 146, 144, 163, 169, 150, 166, 144, 144, 136, 182, 90, 123, 132, 141, 115, 174, 173], \"y\": [0.5, 0.5, 0.5, 0.5, 0.5, 0.5, 0.5, 0.5, 0.5, 0.5, 0.5, 0.5, 0.5, 0.5, 0.5, 0.5, 0.5, 0.5, 0.5, 0.5, 0.5, 0.5, 0.5, 0.5, 0.5, 0.5, 0.5, 0.5, 0.5, 0.5, 0.5, 0.5, 0.5, 0.5, 0.5, 0.5, 0.5, 0.5, 0.5, 0.5, 0.5, 0.5, 0.5, 0.5, 0.5, 0.5, 0.5, 0.5, 0.5, 0.5, 0.5, 0.5, 0.5, 0.5, 0.5, 0.5, 0.5, 0.5, 0.5, 0.5, 0.5, 0.5, 0.5, 0.5, 0.5, 0.5, 0.5, 0.5, 0.5, 0.5, 0.5, 0.5, 0.5, 0.5, 0.5, 0.5, 0.5, 0.5, 0.5, 0.5, 0.5, 0.5, 0.5, 0.5, 0.5, 0.5, 0.5, 0.5, 0.5, 0.5, 0.5, 0.5, 0.5, 0.5, 0.5, 0.5, 0.5, 0.5, 0.5, 0.5, 0.5, 0.5, 0.5, 0.5, 0.5, 0.5, 0.5, 0.5, 0.5, 0.5, 0.5, 0.5, 0.5, 0.5, 0.5, 0.5, 0.5, 0.5, 0.5, 0.5, 0.5, 0.5, 0.5, 0.5, 0.5, 0.5, 0.5, 0.5, 0.5, 0.5, 0.5, 0.5, 0.5, 0.5, 0.5, 0.5, 0.5, 0.5, 0.5, 0.5, 0.5, 0.5, 0.5, 0.5, 0.5, 0.5, 0.5, 0.5, 0.5, 0.5, 0.5, 0.5, 0.5, 0.5, 0.5, 0.5, 0.5, 0.5, 0.5, 0.5, 0.5, 0.5, 0.5, 0.5, 0.5, 0.5, 0.5, 0.5, 0.5, 0.5, 0.5, 0.5, 0.5, 0.5, 0.5, 0.5, 0.5, 0.5, 0.5, 0.5, 0.5, 0.5, 0.5, 0.5, 0.5, 0.5, 0.5, 0.5, 0.5, 0.5, 0.5, 0.5, 0.5, 0.5, 0.5, 0.5, 0.5, 0.5, 0.5, 0.5, 0.5, 0.5, 0.5, 0.5, 0.5, 0.5, 0.5, 0.5, 0.5, 0.5, 0.5, 0.5, 0.5, 0.5, 0.5, 0.5, 0.5, 0.5, 0.5, 0.5, 0.5, 0.5, 0.5, 0.5, 0.5, 0.5, 0.5, 0.5, 0.5, 0.5, 0.5, 0.5, 0.5, 0.5, 0.5, 0.5, 0.5, 0.5, 0.5, 0.5, 0.5, 0.5, 0.5, 0.5, 0.5, 0.5, 0.5, 0.5, 0.5, 0.5, 0.5, 0.5, 0.5, 0.5, 0.5, 0.5, 0.5, 0.5, 0.5, 0.5, 0.5, 0.5, 0.5, 0.5, 0.5, 0.5, 0.5, 0.5, 0.5, 0.5, 0.5, 0.5, 0.5, 0.5, 0.5, 0.5, 0.5, 0.5, 0.5, 0.5, 0.5, 0.5, 0.5, 0.5, 0.5, 0.5, 0.5, 0.5, 0.5, 0.5, 0.5, 0.5, 0.5, 0.5, 0.5, 0.5, 0.5, 0.5, 0.5, 0.5, 0.5, 0.5, 0.5, 0.5, 0.5, 0.5, 0.5, 0.5, 0.5, 0.5, 0.5, 0.5, 0.5, 0.5, 0.5, 0.5, 0.5, 0.5, 0.5, 0.5, 0.5, 0.5, 0.5, 0.5, 0.5, 0.5, 0.5, 0.5, 0.5, 0.5, 0.5, 0.5, 0.5, 0.5, 0.5, 0.5, 0.5, 0.5, 0.5, 0.5, 0.5, 0.5, 0.5, 0.5, 0.5, 0.5, 0.5, 0.5, 0.5, 0.5, 0.5, 0.5, 0.5, 0.5, 0.5, 0.5, 0.5, 0.5, 0.5, 0.5, 0.5, 0.5, 0.5, 0.5, 0.5, 0.5, 0.5, 0.5, 0.5, 0.5, 0.5, 0.5, 0.5, 0.5, 0.5, 0.5, 0.5, 0.5, 0.5, 0.5, 0.5, 0.5, 0.5, 0.5, 0.5, 0.5, 0.5, 0.5, 0.5, 0.5, 0.5, 0.5, 0.5, 0.5, 0.5, 0.5, 0.5, 0.5, 0.5, 0.5, 0.5, 0.5, 0.5, 0.5, 0.5, 0.5, 0.5, 0.5, 0.5, 0.5, 0.5, 0.5, 0.5, 0.5, 0.5, 0.5, 0.5, 0.5, 0.5, 0.5, 0.5, 0.5, 0.5, 0.5, 0.5, 0.5, 0.5, 0.5, 0.5, 0.5, 0.5, 0.5, 0.5, 0.5, 0.5, 0.5, 0.5, 0.5, 0.5, 0.5, 0.5, 0.5, 0.5, 0.5, 0.5, 0.5, 0.5, 0.5, 0.5, 0.5, 0.5, 0.5, 0.5, 0.5, 0.5, 0.5, 0.5, 0.5, 0.5, 0.5, 0.5, 0.5, 0.5, 0.5, 0.5, 0.5, 0.5, 0.5, 0.5, 0.5, 0.5, 0.5, 0.5, 0.5, 0.5, 0.5, 0.5, 0.5, 0.5, 0.5, 0.5, 0.5, 0.5, 0.5, 0.5, 0.5, 0.5, 0.5, 0.5, 0.5, 0.5, 0.5, 0.5, 0.5, 0.5, 0.5, 0.5, 0.5, 0.5, 0.5, 0.5, 0.5, 0.5, 0.5, 0.5, 0.5, 0.5, 0.5, 0.5, 0.5, 0.5, 0.5, 0.5, 0.5, 0.5, 0.5, 0.5, 0.5, 0.5, 0.5, 0.5, 0.5, 0.5, 0.5, 0.5, 0.5, 0.5, 0.5, 0.5, 0.5, 0.5, 0.5, 0.5, 0.5, 0.5, 0.5, 0.5, 0.5, 0.5, 0.5, 0.5, 0.5, 0.5, 0.5, 0.5, 0.5, 0.5, 0.5, 0.5, 0.5, 0.5, 0.5, 0.5, 0.5, 0.5, 0.5, 0.5, 0.5, 0.5, 0.5, 0.5, 0.5, 0.5, 0.5, 0.5, 0.5, 0.5, 0.5, 0.5, 0.5, 0.5, 0.5, 0.5, 0.5, 0.5, 0.5, 0.5, 0.5, 0.5, 0.5, 0.5, 0.5, 0.5, 0.5, 0.5, 0.5, 0.5, 0.5, 0.5, 0.5, 0.5, 0.5, 0.5, 0.5, 0.5, 0.5, 0.5, 0.5, 0.5, 0.5, 0.5, 0.5, 0.5, 0.5, 0.5, 0.5, 0.5, 0.5, 0.5, 0.5, 0.5, 0.5, 0.5, 0.5, 0.5, 0.5, 0.5, 0.5, 0.5, 0.5, 0.5, 0.5, 0.5, 0.5, 0.5, 0.5, 0.5, 0.5, 0.5, 0.5, 0.5, 0.5, 0.5, 0.5, 0.5, 0.5, 0.5, 0.5, 0.5, 0.5, 0.5, 0.5, 0.5, 0.5, 0.5, 0.5, 0.5, 0.5, 0.5, 0.5, 0.5, 0.5, 0.5, 0.5, 0.5, 0.5, 0.5, 0.5, 0.5, 0.5, 0.5, 0.5, 0.5, 0.5, 0.5, 0.5, 0.5, 0.5, 0.5, 0.5, 0.5, 0.5, 0.5, 0.5, 0.5, 0.5, 0.5, 0.5, 0.5, 0.5, 0.5, 0.5, 0.5, 0.5, 0.5, 0.5, 0.5, 0.5, 0.5, 0.5, 0.5, 0.5, 0.5, 0.5, 0.5, 0.5, 0.5, 0.5, 0.5, 0.5, 0.5, 0.5, 0.5, 0.5, 0.5, 0.5, 0.5, 0.5, 0.5, 0.5, 0.5, 0.5, 0.5, 0.5, 0.5, 0.5, 0.5, 0.5, 0.5, 0.5, 0.5, 0.5, 0.5, 0.5, 0.5, 0.5, 0.5, 0.5, 0.5, 0.5, 0.5, 0.5, 0.5, 0.5, 0.5, 0.5, 0.5, 0.5, 0.5, 0.5, 0.5, 0.5, 0.5, 0.5, 0.5, 0.5, 0.5, 0.5, 0.5, 0.5, 0.5, 0.5, 0.5, 0.5, 0.5, 0.5, 0.5, 0.5, 0.5, 0.5, 0.5, 0.5, 0.5, 0.5, 0.5, 0.5, 0.5, 0.5, 0.5, 0.5, 0.5, 0.5, 0.5, 0.5, 0.5, 0.5, 0.5, 0.5, 0.5, 0.5, 0.5, 0.5, 0.5, 0.5, 0.5, 0.5, 0.5, 0.5, 0.5, 0.5, 0.5, 0.5, 0.5, 0.5, 0.5, 0.5, 0.5, 0.5, 0.5, 0.5, 0.5, 0.5, 0.5, 0.5, 0.5, 0.5, 0.5, 0.5, 0.5, 0.5, 0.5, 0.5, 0.5, 0.5, 0.5, 0.5, 0.5, 0.5, 0.5, 0.5, 0.5, 0.5, 0.5, 0.5, 0.5, 0.5, 0.5, 0.5, 0.5, 0.5, 0.5, 0.5, 0.5, 0.5, 0.5, 0.5, 0.5, 0.5, 0.5, 0.5, 0.5, 0.5, 0.5, 0.5, 0.5, 0.5, 0.5, 0.5, 0.5, 0.5, 0.5, 0.5, 0.5, 0.5, 0.5, 0.5, 0.5, 0.5, 0.5, 0.5, 0.5, 0.5, 0.5, 0.5, 0.5, 0.5, 0.5, 0.5, 0.5, 0.5, 0.5, 0.5, 0.5, 0.5, 0.5, 0.5, 0.5, 0.5, 0.5, 0.5, 0.5, 0.5, 0.5, 0.5, 0.5, 0.5, 0.5, 0.5, 0.5, 0.5, 0.5, 0.5, 0.5, 0.5, 0.5, 0.5, 0.5, 0.5, 0.5, 0.5, 0.5, 0.5, 0.5, 0.5, 0.5, 0.5, 0.5, 0.5, 0.5, 0.5, 0.5, 0.5, 0.5, 0.5, 0.5, 0.5, 0.5, 0.5]}, {\"marker\": {\"color\": \"purple\"}, \"name\": \"Threshold\", \"type\": \"scatter\", \"x\": [172, 156, 98, 108, 122, 170, 170, 142, 130, 120, 142, 99, 145, 140, 137, 150, 166, 165, 125, 160, 142, 142, 164, 150, 138, 178, 112, 118, 127, 145, 130, 114, 122, 130, 154, 155, 87, 142, 148, 130, 130, 100, 168, 170, 120, 120, 168, 170, 184, 170, 121, 98, 122, 150, 140, 170, 153, 140, 134, 96, 174, 175, 144, 125, 145, 130, 144, 184, 82, 170, 145, 135, 150, 115, 128, 116, 130, 150, 138, 170, 160, 154, 115, 165, 125, 94, 112, 142, 155, 110, 160, 140, 148, 92, 180, 140, 138, 160, 140, 144, 115, 100, 130, 152, 124, 140, 110, 168, 135, 106, 124, 92, 125, 150, 135, 150, 170, 130, 185, 180, 170, 139, 140, 110, 150, 110, 190, 175, 140, 152, 130, 150, 122, 124, 120, 175, 175, 146, 118, 130, 94, 125, 158, 155, 150, 132, 155, 176, 160, 125, 120, 100, 150, 140, 160, 150, 150, 130, 100, 130, 119, 96, 174, 150, 140, 175, 140, 118, 100, 160, 160, 188, 162, 172, 134, 135, 105, 150, 150, 90, 120, 150, 124, 140, 130, 92, 110, 138, 110, 120, 120, 116, 160, 110, 180, 116, 132, 136, 116, 98, 150, 150, 146, 150, 100, 140, 180, 140, 185, 140, 110, 140, 128, 164, 98, 170, 150, 137, 150, 170, 112, 150, 125, 185, 137, 150, 140, 134, 170, 184, 158, 167, 129, 142, 140, 160, 118, 136, 99, 102, 155, 142, 143, 118, 103, 137, 150, 150, 130, 120, 135, 115, 115, 152, 96, 130, 150, 172, 120, 155, 165, 138, 115, 125, 145, 175, 110, 150, 91, 145, 140, 165, 130, 134, 180, 100, 150, 126, 126, 155, 135, 122, 160, 160, 170, 120, 140, 132, 156, 180, 138, 135, 148, 93, 127, 110, 139, 131, 92, 149, 149, 150, 120, 123, 126, 127, 155, 120, 138, 182, 154, 110, 176, 154, 141, 123, 148, 121, 77, 136, 175, 109, 166, 128, 133, 128, 138, 119, 82, 130, 143, 82, 179, 144, 170, 134, 114, 154, 149, 145, 122, 114, 113, 120, 104, 130, 115, 128, 104, 125, 120, 140, 100, 100, 92, 125, 113, 95, 128, 115, 72, 124, 99, 148, 97, 140, 117, 120, 120, 86, 63, 108, 98, 115, 105, 121, 118, 122, 157, 156, 99, 120, 145, 156, 155, 105, 99, 135, 83, 145, 60, 92, 115, 120, 98, 150, 143, 105, 122, 70, 110, 163, 67, 128, 120, 130, 100, 72, 94, 122, 78, 150, 103, 98, 110, 90, 112, 127, 140, 149, 99, 120, 105, 140, 141, 157, 140, 117, 120, 120, 148, 86, 84, 125, 120, 118, 124, 106, 111, 116, 180, 129, 125, 140, 120, 124, 117, 110, 105, 155, 110, 122, 118, 133, 123, 131, 80, 165, 86, 111, 118, 84, 117, 107, 128, 160, 125, 130, 97, 161, 106, 130, 140, 122, 130, 120, 139, 108, 148, 123, 110, 118, 125, 106, 112, 128, 180, 144, 135, 140, 102, 108, 145, 127, 110, 140, 69, 148, 130, 130, 140, 138, 140, 138, 112, 131, 112, 80, 150, 110, 126, 88, 153, 150, 120, 160, 132, 120, 110, 121, 128, 135, 120, 117, 150, 144, 113, 135, 127, 109, 128, 115, 102, 140, 135, 122, 119, 130, 112, 100, 122, 120, 105, 129, 120, 139, 162, 100, 140, 135, 73, 86, 108, 116, 160, 118, 112, 122, 124, 102, 137, 141, 154, 126, 160, 115, 128, 115, 105, 110, 119, 109, 135, 130, 112, 126, 120, 110, 119, 110, 130, 159, 84, 126, 116, 120, 122, 165, 122, 94, 133, 110, 150, 130, 113, 140, 100, 136, 127, 98, 96, 123, 98, 112, 151, 96, 108, 128, 138, 126, 154, 137, 100, 135, 93, 109, 160, 141, 105, 121, 140, 142, 142, 170, 154, 161, 111, 180, 145, 159, 125, 120, 155, 144, 178, 129, 180, 181, 143, 159, 139, 152, 157, 165, 130, 150, 138, 170, 140, 126, 150, 138, 125, 150, 186, 181, 163, 179, 156, 134, 165, 126, 177, 120, 114, 125, 184, 157, 179, 175, 168, 125, 96, 143, 103, 173, 142, 169, 171, 150, 112, 186, 152, 149, 152, 140, 163, 143, 116, 142, 147, 148, 179, 173, 178, 105, 130, 111, 168, 126, 178, 140, 145, 163, 128, 164, 169, 109, 108, 168, 118, 151, 156, 133, 162, 175, 71, 163, 124, 147, 166, 143, 157, 162, 138, 117, 153, 161, 170, 162, 162, 144, 133, 114, 103, 139, 116, 88, 151, 152, 163, 99, 169, 158, 160, 169, 132, 178, 96, 165, 160, 172, 144, 192, 168, 132, 182, 163, 125, 195, 95, 160, 114, 173, 172, 179, 158, 167, 122, 149, 172, 111, 170, 162, 165, 182, 154, 155, 130, 161, 154, 159, 152, 152, 174, 131, 146, 125, 115, 174, 106, 122, 147, 163, 163, 194, 150, 158, 122, 173, 162, 105, 147, 157, 112, 160, 125, 156, 156, 175, 161, 122, 158, 151, 162, 151, 171, 141, 173, 145, 178, 160, 154, 131, 187, 159, 166, 165, 131, 202, 172, 172, 154, 147, 170, 126, 127, 174, 132, 182, 132, 97, 136, 162, 190, 146, 140, 185, 161, 146, 145, 160, 120, 156, 172, 150, 182, 143, 160, 142, 144, 158, 148, 155, 142, 113, 188, 153, 123, 157, 162, 137, 132, 158, 171, 172, 132, 160, 171, 168, 162, 173, 153, 148, 108, 115, 169, 143, 156, 162, 155, 152, 152, 164, 131, 143, 179, 130, 174, 161, 140, 146, 144, 163, 169, 150, 166, 144, 144, 136, 182, 90, 123, 132, 141, 115, 174, 173], \"y\": [0.5, 0.5, 0.5, 0.5, 0.5, 0.5, 0.5, 0.5, 0.5, 0.5, 0.5, 0.5, 0.5, 0.5, 0.5, 0.5, 0.5, 0.5, 0.5, 0.5, 0.5, 0.5, 0.5, 0.5, 0.5, 0.5, 0.5, 0.5, 0.5, 0.5, 0.5, 0.5, 0.5, 0.5, 0.5, 0.5, 0.5, 0.5, 0.5, 0.5, 0.5, 0.5, 0.5, 0.5, 0.5, 0.5, 0.5, 0.5, 0.5, 0.5, 0.5, 0.5, 0.5, 0.5, 0.5, 0.5, 0.5, 0.5, 0.5, 0.5, 0.5, 0.5, 0.5, 0.5, 0.5, 0.5, 0.5, 0.5, 0.5, 0.5, 0.5, 0.5, 0.5, 0.5, 0.5, 0.5, 0.5, 0.5, 0.5, 0.5, 0.5, 0.5, 0.5, 0.5, 0.5, 0.5, 0.5, 0.5, 0.5, 0.5, 0.5, 0.5, 0.5, 0.5, 0.5, 0.5, 0.5, 0.5, 0.5, 0.5, 0.5, 0.5, 0.5, 0.5, 0.5, 0.5, 0.5, 0.5, 0.5, 0.5, 0.5, 0.5, 0.5, 0.5, 0.5, 0.5, 0.5, 0.5, 0.5, 0.5, 0.5, 0.5, 0.5, 0.5, 0.5, 0.5, 0.5, 0.5, 0.5, 0.5, 0.5, 0.5, 0.5, 0.5, 0.5, 0.5, 0.5, 0.5, 0.5, 0.5, 0.5, 0.5, 0.5, 0.5, 0.5, 0.5, 0.5, 0.5, 0.5, 0.5, 0.5, 0.5, 0.5, 0.5, 0.5, 0.5, 0.5, 0.5, 0.5, 0.5, 0.5, 0.5, 0.5, 0.5, 0.5, 0.5, 0.5, 0.5, 0.5, 0.5, 0.5, 0.5, 0.5, 0.5, 0.5, 0.5, 0.5, 0.5, 0.5, 0.5, 0.5, 0.5, 0.5, 0.5, 0.5, 0.5, 0.5, 0.5, 0.5, 0.5, 0.5, 0.5, 0.5, 0.5, 0.5, 0.5, 0.5, 0.5, 0.5, 0.5, 0.5, 0.5, 0.5, 0.5, 0.5, 0.5, 0.5, 0.5, 0.5, 0.5, 0.5, 0.5, 0.5, 0.5, 0.5, 0.5, 0.5, 0.5, 0.5, 0.5, 0.5, 0.5, 0.5, 0.5, 0.5, 0.5, 0.5, 0.5, 0.5, 0.5, 0.5, 0.5, 0.5, 0.5, 0.5, 0.5, 0.5, 0.5, 0.5, 0.5, 0.5, 0.5, 0.5, 0.5, 0.5, 0.5, 0.5, 0.5, 0.5, 0.5, 0.5, 0.5, 0.5, 0.5, 0.5, 0.5, 0.5, 0.5, 0.5, 0.5, 0.5, 0.5, 0.5, 0.5, 0.5, 0.5, 0.5, 0.5, 0.5, 0.5, 0.5, 0.5, 0.5, 0.5, 0.5, 0.5, 0.5, 0.5, 0.5, 0.5, 0.5, 0.5, 0.5, 0.5, 0.5, 0.5, 0.5, 0.5, 0.5, 0.5, 0.5, 0.5, 0.5, 0.5, 0.5, 0.5, 0.5, 0.5, 0.5, 0.5, 0.5, 0.5, 0.5, 0.5, 0.5, 0.5, 0.5, 0.5, 0.5, 0.5, 0.5, 0.5, 0.5, 0.5, 0.5, 0.5, 0.5, 0.5, 0.5, 0.5, 0.5, 0.5, 0.5, 0.5, 0.5, 0.5, 0.5, 0.5, 0.5, 0.5, 0.5, 0.5, 0.5, 0.5, 0.5, 0.5, 0.5, 0.5, 0.5, 0.5, 0.5, 0.5, 0.5, 0.5, 0.5, 0.5, 0.5, 0.5, 0.5, 0.5, 0.5, 0.5, 0.5, 0.5, 0.5, 0.5, 0.5, 0.5, 0.5, 0.5, 0.5, 0.5, 0.5, 0.5, 0.5, 0.5, 0.5, 0.5, 0.5, 0.5, 0.5, 0.5, 0.5, 0.5, 0.5, 0.5, 0.5, 0.5, 0.5, 0.5, 0.5, 0.5, 0.5, 0.5, 0.5, 0.5, 0.5, 0.5, 0.5, 0.5, 0.5, 0.5, 0.5, 0.5, 0.5, 0.5, 0.5, 0.5, 0.5, 0.5, 0.5, 0.5, 0.5, 0.5, 0.5, 0.5, 0.5, 0.5, 0.5, 0.5, 0.5, 0.5, 0.5, 0.5, 0.5, 0.5, 0.5, 0.5, 0.5, 0.5, 0.5, 0.5, 0.5, 0.5, 0.5, 0.5, 0.5, 0.5, 0.5, 0.5, 0.5, 0.5, 0.5, 0.5, 0.5, 0.5, 0.5, 0.5, 0.5, 0.5, 0.5, 0.5, 0.5, 0.5, 0.5, 0.5, 0.5, 0.5, 0.5, 0.5, 0.5, 0.5, 0.5, 0.5, 0.5, 0.5, 0.5, 0.5, 0.5, 0.5, 0.5, 0.5, 0.5, 0.5, 0.5, 0.5, 0.5, 0.5, 0.5, 0.5, 0.5, 0.5, 0.5, 0.5, 0.5, 0.5, 0.5, 0.5, 0.5, 0.5, 0.5, 0.5, 0.5, 0.5, 0.5, 0.5, 0.5, 0.5, 0.5, 0.5, 0.5, 0.5, 0.5, 0.5, 0.5, 0.5, 0.5, 0.5, 0.5, 0.5, 0.5, 0.5, 0.5, 0.5, 0.5, 0.5, 0.5, 0.5, 0.5, 0.5, 0.5, 0.5, 0.5, 0.5, 0.5, 0.5, 0.5, 0.5, 0.5, 0.5, 0.5, 0.5, 0.5, 0.5, 0.5, 0.5, 0.5, 0.5, 0.5, 0.5, 0.5, 0.5, 0.5, 0.5, 0.5, 0.5, 0.5, 0.5, 0.5, 0.5, 0.5, 0.5, 0.5, 0.5, 0.5, 0.5, 0.5, 0.5, 0.5, 0.5, 0.5, 0.5, 0.5, 0.5, 0.5, 0.5, 0.5, 0.5, 0.5, 0.5, 0.5, 0.5, 0.5, 0.5, 0.5, 0.5, 0.5, 0.5, 0.5, 0.5, 0.5, 0.5, 0.5, 0.5, 0.5, 0.5, 0.5, 0.5, 0.5, 0.5, 0.5, 0.5, 0.5, 0.5, 0.5, 0.5, 0.5, 0.5, 0.5, 0.5, 0.5, 0.5, 0.5, 0.5, 0.5, 0.5, 0.5, 0.5, 0.5, 0.5, 0.5, 0.5, 0.5, 0.5, 0.5, 0.5, 0.5, 0.5, 0.5, 0.5, 0.5, 0.5, 0.5, 0.5, 0.5, 0.5, 0.5, 0.5, 0.5, 0.5, 0.5, 0.5, 0.5, 0.5, 0.5, 0.5, 0.5, 0.5, 0.5, 0.5, 0.5, 0.5, 0.5, 0.5, 0.5, 0.5, 0.5, 0.5, 0.5, 0.5, 0.5, 0.5, 0.5, 0.5, 0.5, 0.5, 0.5, 0.5, 0.5, 0.5, 0.5, 0.5, 0.5, 0.5, 0.5, 0.5, 0.5, 0.5, 0.5, 0.5, 0.5, 0.5, 0.5, 0.5, 0.5, 0.5, 0.5, 0.5, 0.5, 0.5, 0.5, 0.5, 0.5, 0.5, 0.5, 0.5, 0.5, 0.5, 0.5, 0.5, 0.5, 0.5, 0.5, 0.5, 0.5, 0.5, 0.5, 0.5, 0.5, 0.5, 0.5, 0.5, 0.5, 0.5, 0.5, 0.5, 0.5, 0.5, 0.5, 0.5, 0.5, 0.5, 0.5, 0.5, 0.5, 0.5, 0.5, 0.5, 0.5, 0.5, 0.5, 0.5, 0.5, 0.5, 0.5, 0.5, 0.5, 0.5, 0.5, 0.5, 0.5, 0.5, 0.5, 0.5, 0.5, 0.5, 0.5, 0.5, 0.5, 0.5, 0.5, 0.5, 0.5, 0.5, 0.5, 0.5, 0.5, 0.5, 0.5, 0.5, 0.5, 0.5, 0.5, 0.5, 0.5, 0.5, 0.5, 0.5, 0.5, 0.5, 0.5, 0.5, 0.5, 0.5, 0.5, 0.5, 0.5, 0.5, 0.5, 0.5, 0.5, 0.5, 0.5, 0.5, 0.5, 0.5, 0.5, 0.5, 0.5, 0.5, 0.5, 0.5, 0.5, 0.5, 0.5, 0.5, 0.5, 0.5, 0.5, 0.5, 0.5, 0.5, 0.5, 0.5, 0.5, 0.5, 0.5, 0.5, 0.5, 0.5, 0.5, 0.5, 0.5, 0.5, 0.5, 0.5, 0.5, 0.5, 0.5, 0.5, 0.5, 0.5, 0.5, 0.5, 0.5, 0.5, 0.5, 0.5, 0.5, 0.5, 0.5, 0.5, 0.5, 0.5, 0.5, 0.5, 0.5, 0.5, 0.5, 0.5, 0.5, 0.5, 0.5, 0.5, 0.5, 0.5, 0.5, 0.5, 0.5, 0.5, 0.5, 0.5, 0.5, 0.5, 0.5, 0.5, 0.5, 0.5, 0.5, 0.5, 0.5, 0.5, 0.5, 0.5, 0.5, 0.5, 0.5, 0.5, 0.5, 0.5, 0.5, 0.5, 0.5, 0.5, 0.5, 0.5, 0.5, 0.5, 0.5, 0.5, 0.5, 0.5, 0.5, 0.5, 0.5, 0.5, 0.5, 0.5, 0.5, 0.5, 0.5, 0.5, 0.5, 0.5, 0.5, 0.5, 0.5, 0.5, 0.5, 0.5, 0.5, 0.5, 0.5, 0.5, 0.5, 0.5, 0.5, 0.5, 0.5, 0.5, 0.5, 0.5, 0.5, 0.5, 0.5, 0.5, 0.5, 0.5, 0.5, 0.5, 0.5, 0.5, 0.5, 0.5, 0.5, 0.5, 0.5, 0.5, 0.5, 0.5, 0.5, 0.5, 0.5, 0.5, 0.5, 0.5, 0.5, 0.5]}],\n",
              "                        {\"template\": {\"data\": {\"bar\": [{\"error_x\": {\"color\": \"#2a3f5f\"}, \"error_y\": {\"color\": \"#2a3f5f\"}, \"marker\": {\"line\": {\"color\": \"#E5ECF6\", \"width\": 0.5}}, \"type\": \"bar\"}], \"barpolar\": [{\"marker\": {\"line\": {\"color\": \"#E5ECF6\", \"width\": 0.5}}, \"type\": \"barpolar\"}], \"carpet\": [{\"aaxis\": {\"endlinecolor\": \"#2a3f5f\", \"gridcolor\": \"white\", \"linecolor\": \"white\", \"minorgridcolor\": \"white\", \"startlinecolor\": \"#2a3f5f\"}, \"baxis\": {\"endlinecolor\": \"#2a3f5f\", \"gridcolor\": \"white\", \"linecolor\": \"white\", \"minorgridcolor\": \"white\", \"startlinecolor\": \"#2a3f5f\"}, \"type\": \"carpet\"}], \"choropleth\": [{\"colorbar\": {\"outlinewidth\": 0, \"ticks\": \"\"}, \"type\": \"choropleth\"}], \"contour\": [{\"colorbar\": {\"outlinewidth\": 0, \"ticks\": \"\"}, \"colorscale\": [[0.0, \"#0d0887\"], [0.1111111111111111, \"#46039f\"], [0.2222222222222222, \"#7201a8\"], [0.3333333333333333, \"#9c179e\"], [0.4444444444444444, \"#bd3786\"], [0.5555555555555556, \"#d8576b\"], [0.6666666666666666, \"#ed7953\"], [0.7777777777777778, \"#fb9f3a\"], [0.8888888888888888, \"#fdca26\"], [1.0, \"#f0f921\"]], \"type\": \"contour\"}], \"contourcarpet\": [{\"colorbar\": {\"outlinewidth\": 0, \"ticks\": \"\"}, \"type\": \"contourcarpet\"}], \"heatmap\": [{\"colorbar\": {\"outlinewidth\": 0, \"ticks\": \"\"}, \"colorscale\": [[0.0, \"#0d0887\"], [0.1111111111111111, \"#46039f\"], [0.2222222222222222, \"#7201a8\"], [0.3333333333333333, \"#9c179e\"], [0.4444444444444444, \"#bd3786\"], [0.5555555555555556, \"#d8576b\"], [0.6666666666666666, \"#ed7953\"], [0.7777777777777778, \"#fb9f3a\"], [0.8888888888888888, \"#fdca26\"], [1.0, \"#f0f921\"]], \"type\": \"heatmap\"}], \"heatmapgl\": [{\"colorbar\": {\"outlinewidth\": 0, \"ticks\": \"\"}, \"colorscale\": [[0.0, \"#0d0887\"], [0.1111111111111111, \"#46039f\"], [0.2222222222222222, \"#7201a8\"], [0.3333333333333333, \"#9c179e\"], [0.4444444444444444, \"#bd3786\"], [0.5555555555555556, \"#d8576b\"], [0.6666666666666666, \"#ed7953\"], [0.7777777777777778, \"#fb9f3a\"], [0.8888888888888888, \"#fdca26\"], [1.0, \"#f0f921\"]], \"type\": \"heatmapgl\"}], \"histogram\": [{\"marker\": {\"colorbar\": {\"outlinewidth\": 0, \"ticks\": \"\"}}, \"type\": \"histogram\"}], \"histogram2d\": [{\"colorbar\": {\"outlinewidth\": 0, \"ticks\": \"\"}, \"colorscale\": [[0.0, \"#0d0887\"], [0.1111111111111111, \"#46039f\"], [0.2222222222222222, \"#7201a8\"], [0.3333333333333333, \"#9c179e\"], [0.4444444444444444, \"#bd3786\"], [0.5555555555555556, \"#d8576b\"], [0.6666666666666666, \"#ed7953\"], [0.7777777777777778, \"#fb9f3a\"], [0.8888888888888888, \"#fdca26\"], [1.0, \"#f0f921\"]], \"type\": \"histogram2d\"}], \"histogram2dcontour\": [{\"colorbar\": {\"outlinewidth\": 0, \"ticks\": \"\"}, \"colorscale\": [[0.0, \"#0d0887\"], [0.1111111111111111, \"#46039f\"], [0.2222222222222222, \"#7201a8\"], [0.3333333333333333, \"#9c179e\"], [0.4444444444444444, \"#bd3786\"], [0.5555555555555556, \"#d8576b\"], [0.6666666666666666, \"#ed7953\"], [0.7777777777777778, \"#fb9f3a\"], [0.8888888888888888, \"#fdca26\"], [1.0, \"#f0f921\"]], \"type\": \"histogram2dcontour\"}], \"mesh3d\": [{\"colorbar\": {\"outlinewidth\": 0, \"ticks\": \"\"}, \"type\": \"mesh3d\"}], \"parcoords\": [{\"line\": {\"colorbar\": {\"outlinewidth\": 0, \"ticks\": \"\"}}, \"type\": \"parcoords\"}], \"pie\": [{\"automargin\": true, \"type\": \"pie\"}], \"scatter\": [{\"marker\": {\"colorbar\": {\"outlinewidth\": 0, \"ticks\": \"\"}}, \"type\": \"scatter\"}], \"scatter3d\": [{\"line\": {\"colorbar\": {\"outlinewidth\": 0, \"ticks\": \"\"}}, \"marker\": {\"colorbar\": {\"outlinewidth\": 0, \"ticks\": \"\"}}, \"type\": \"scatter3d\"}], \"scattercarpet\": [{\"marker\": {\"colorbar\": {\"outlinewidth\": 0, \"ticks\": \"\"}}, \"type\": \"scattercarpet\"}], \"scattergeo\": [{\"marker\": {\"colorbar\": {\"outlinewidth\": 0, \"ticks\": \"\"}}, \"type\": \"scattergeo\"}], \"scattergl\": [{\"marker\": {\"colorbar\": {\"outlinewidth\": 0, \"ticks\": \"\"}}, \"type\": \"scattergl\"}], \"scattermapbox\": [{\"marker\": {\"colorbar\": {\"outlinewidth\": 0, \"ticks\": \"\"}}, \"type\": \"scattermapbox\"}], \"scatterpolar\": [{\"marker\": {\"colorbar\": {\"outlinewidth\": 0, \"ticks\": \"\"}}, \"type\": \"scatterpolar\"}], \"scatterpolargl\": [{\"marker\": {\"colorbar\": {\"outlinewidth\": 0, \"ticks\": \"\"}}, \"type\": \"scatterpolargl\"}], \"scatterternary\": [{\"marker\": {\"colorbar\": {\"outlinewidth\": 0, \"ticks\": \"\"}}, \"type\": \"scatterternary\"}], \"surface\": [{\"colorbar\": {\"outlinewidth\": 0, \"ticks\": \"\"}, \"colorscale\": [[0.0, \"#0d0887\"], [0.1111111111111111, \"#46039f\"], [0.2222222222222222, \"#7201a8\"], [0.3333333333333333, \"#9c179e\"], [0.4444444444444444, \"#bd3786\"], [0.5555555555555556, \"#d8576b\"], [0.6666666666666666, \"#ed7953\"], [0.7777777777777778, \"#fb9f3a\"], [0.8888888888888888, \"#fdca26\"], [1.0, \"#f0f921\"]], \"type\": \"surface\"}], \"table\": [{\"cells\": {\"fill\": {\"color\": \"#EBF0F8\"}, \"line\": {\"color\": \"white\"}}, \"header\": {\"fill\": {\"color\": \"#C8D4E3\"}, \"line\": {\"color\": \"white\"}}, \"type\": \"table\"}]}, \"layout\": {\"annotationdefaults\": {\"arrowcolor\": \"#2a3f5f\", \"arrowhead\": 0, \"arrowwidth\": 1}, \"coloraxis\": {\"colorbar\": {\"outlinewidth\": 0, \"ticks\": \"\"}}, \"colorscale\": {\"diverging\": [[0, \"#8e0152\"], [0.1, \"#c51b7d\"], [0.2, \"#de77ae\"], [0.3, \"#f1b6da\"], [0.4, \"#fde0ef\"], [0.5, \"#f7f7f7\"], [0.6, \"#e6f5d0\"], [0.7, \"#b8e186\"], [0.8, \"#7fbc41\"], [0.9, \"#4d9221\"], [1, \"#276419\"]], \"sequential\": [[0.0, \"#0d0887\"], [0.1111111111111111, \"#46039f\"], [0.2222222222222222, \"#7201a8\"], [0.3333333333333333, \"#9c179e\"], [0.4444444444444444, \"#bd3786\"], [0.5555555555555556, \"#d8576b\"], [0.6666666666666666, \"#ed7953\"], [0.7777777777777778, \"#fb9f3a\"], [0.8888888888888888, \"#fdca26\"], [1.0, \"#f0f921\"]], \"sequentialminus\": [[0.0, \"#0d0887\"], [0.1111111111111111, \"#46039f\"], [0.2222222222222222, \"#7201a8\"], [0.3333333333333333, \"#9c179e\"], [0.4444444444444444, \"#bd3786\"], [0.5555555555555556, \"#d8576b\"], [0.6666666666666666, \"#ed7953\"], [0.7777777777777778, \"#fb9f3a\"], [0.8888888888888888, \"#fdca26\"], [1.0, \"#f0f921\"]]}, \"colorway\": [\"#636efa\", \"#EF553B\", \"#00cc96\", \"#ab63fa\", \"#FFA15A\", \"#19d3f3\", \"#FF6692\", \"#B6E880\", \"#FF97FF\", \"#FECB52\"], \"font\": {\"color\": \"#2a3f5f\"}, \"geo\": {\"bgcolor\": \"white\", \"lakecolor\": \"white\", \"landcolor\": \"#E5ECF6\", \"showlakes\": true, \"showland\": true, \"subunitcolor\": \"white\"}, \"hoverlabel\": {\"align\": \"left\"}, \"hovermode\": \"closest\", \"mapbox\": {\"style\": \"light\"}, \"paper_bgcolor\": \"white\", \"plot_bgcolor\": \"#E5ECF6\", \"polar\": {\"angularaxis\": {\"gridcolor\": \"white\", \"linecolor\": \"white\", \"ticks\": \"\"}, \"bgcolor\": \"#E5ECF6\", \"radialaxis\": {\"gridcolor\": \"white\", \"linecolor\": \"white\", \"ticks\": \"\"}}, \"scene\": {\"xaxis\": {\"backgroundcolor\": \"#E5ECF6\", \"gridcolor\": \"white\", \"gridwidth\": 2, \"linecolor\": \"white\", \"showbackground\": true, \"ticks\": \"\", \"zerolinecolor\": \"white\"}, \"yaxis\": {\"backgroundcolor\": \"#E5ECF6\", \"gridcolor\": \"white\", \"gridwidth\": 2, \"linecolor\": \"white\", \"showbackground\": true, \"ticks\": \"\", \"zerolinecolor\": \"white\"}, \"zaxis\": {\"backgroundcolor\": \"#E5ECF6\", \"gridcolor\": \"white\", \"gridwidth\": 2, \"linecolor\": \"white\", \"showbackground\": true, \"ticks\": \"\", \"zerolinecolor\": \"white\"}}, \"shapedefaults\": {\"line\": {\"color\": \"#2a3f5f\"}}, \"ternary\": {\"aaxis\": {\"gridcolor\": \"white\", \"linecolor\": \"white\", \"ticks\": \"\"}, \"baxis\": {\"gridcolor\": \"white\", \"linecolor\": \"white\", \"ticks\": \"\"}, \"bgcolor\": \"#E5ECF6\", \"caxis\": {\"gridcolor\": \"white\", \"linecolor\": \"white\", \"ticks\": \"\"}}, \"title\": {\"x\": 0.05}, \"xaxis\": {\"automargin\": true, \"gridcolor\": \"white\", \"linecolor\": \"white\", \"ticks\": \"\", \"title\": {\"standoff\": 15}, \"zerolinecolor\": \"white\", \"zerolinewidth\": 2}, \"yaxis\": {\"automargin\": true, \"gridcolor\": \"white\", \"linecolor\": \"white\", \"ticks\": \"\", \"title\": {\"standoff\": 15}, \"zerolinecolor\": \"white\", \"zerolinewidth\": 2}}}, \"title\": {\"text\": \"Heart Disease vs Max Heart Rate\"}, \"xaxis\": {\"title\": {\"text\": \"Max Heart Rate\"}}, \"yaxis\": {\"title\": {\"text\": \"Heart Disease\"}}},\n",
              "                        {\"responsive\": true}\n",
              "                    ).then(function(){\n",
              "                            \n",
              "var gd = document.getElementById('920502ec-bbc2-4ce6-8c27-9e7049f3568b');\n",
              "var x = new MutationObserver(function (mutations, observer) {{\n",
              "        var display = window.getComputedStyle(gd).display;\n",
              "        if (!display || display === 'none') {{\n",
              "            console.log([gd, 'removed!']);\n",
              "            Plotly.purge(gd);\n",
              "            observer.disconnect();\n",
              "        }}\n",
              "}});\n",
              "\n",
              "// Listen for the removal of the full notebook cells\n",
              "var notebookContainer = gd.closest('#notebook-container');\n",
              "if (notebookContainer) {{\n",
              "    x.observe(notebookContainer, {childList: true});\n",
              "}}\n",
              "\n",
              "// Listen for the clearing of the current output cell\n",
              "var outputEl = gd.closest('.output');\n",
              "if (outputEl) {{\n",
              "    x.observe(outputEl, {childList: true});\n",
              "}}\n",
              "\n",
              "                        })\n",
              "                };\n",
              "                \n",
              "            </script>\n",
              "        </div>\n",
              "</body>\n",
              "</html>"
            ]
          },
          "metadata": {}
        }
      ]
    },
    {
      "cell_type": "code",
      "metadata": {
        "colab": {
          "base_uri": "https://localhost:8080/"
        },
        "id": "OKFTOCfCV06F",
        "outputId": "f2e242a9-4ff9-45d7-8fea-b6ad8784d7f7"
      },
      "source": [
        "accuracy_score(predictions_df['Our Model Heart Disease Probabilities']>.5, y_train)"
      ],
      "execution_count": null,
      "outputs": [
        {
          "output_type": "execute_result",
          "data": {
            "text/plain": [
              "0.4466230936819172"
            ]
          },
          "metadata": {},
          "execution_count": 57
        }
      ]
    },
    {
      "cell_type": "code",
      "metadata": {
        "id": "V3EJIzZYYzjf"
      },
      "source": [
        "from sklearn.metrics import mean_squared_error\n",
        "\n",
        "def function_to_minimize(params, *args):\n",
        "  alpha_hat = params[0]\n",
        "  beta_hat = params[1]\n",
        "  model = {'alpha_hat':alpha_hat, 'beta_hat':beta_hat}\n",
        "  x = args[0]\n",
        "  y = args[1]\n",
        "  prediction_probs = get_probabilities(model, x)\n",
        "\n",
        "  return mean_squared_error(prediction_probs, y)"
      ],
      "execution_count": null,
      "outputs": []
    },
    {
      "cell_type": "code",
      "metadata": {
        "id": "QHmOwEOqW2J8"
      },
      "source": [
        "from scipy.optimize import minimize\n",
        "\n",
        "def get_best_model(x, y):\n",
        "  '''\n",
        "  Returns the model with the parameters that minimize the MSE.\n",
        "\n",
        "  x: np.array of Floats with shape (n,) of inputs\n",
        "  y: np.array of Int in {0, 1} with shape (n,) of outputs\n",
        "\n",
        "  Returns: {'alpha_hat':Float, 'beta_hat':Float} representing the model.\n",
        "  '''\n",
        "\n",
        "  res = minimize(function_to_minimize, x0=[0, 0], args=(x, y))\n",
        "  parameters = res.x\n",
        "  alpha_hat, beta_hat = parameters[0], parameters[1]\n",
        "  best_model = dict(alpha_hat=alpha_hat, beta_hat=beta_hat)\n",
        "\n",
        "  return best_model"
      ],
      "execution_count": null,
      "outputs": []
    },
    {
      "cell_type": "code",
      "metadata": {
        "colab": {
          "base_uri": "https://localhost:8080/"
        },
        "id": "ezey-ADSZpaW",
        "outputId": "984a4340-846e-4ade-e437-f70e1575af79"
      },
      "source": [
        "best_model = get_best_model(X_train.flatten(), predictions_df['HeartDisease'])\n",
        "best_model"
      ],
      "execution_count": null,
      "outputs": [
        {
          "output_type": "execute_result",
          "data": {
            "text/plain": [
              "{'alpha_hat': 5.516771166306751, 'beta_hat': -0.038253385518181665}"
            ]
          },
          "metadata": {},
          "execution_count": 60
        }
      ]
    },
    {
      "cell_type": "code",
      "metadata": {
        "colab": {
          "base_uri": "https://localhost:8080/",
          "height": 420
        },
        "id": "njoBQGU4aJXN",
        "outputId": "e194cbf8-d765-4cc4-aa82-574596fe78c2"
      },
      "source": [
        "predictions_df['Our Model Heart Disease Probabilities'] = get_probabilities(best_model, X_train.flatten())\n",
        "predictions_df"
      ],
      "execution_count": null,
      "outputs": [
        {
          "output_type": "execute_result",
          "data": {
            "text/html": [
              "<div>\n",
              "<style scoped>\n",
              "    .dataframe tbody tr th:only-of-type {\n",
              "        vertical-align: middle;\n",
              "    }\n",
              "\n",
              "    .dataframe tbody tr th {\n",
              "        vertical-align: top;\n",
              "    }\n",
              "\n",
              "    .dataframe thead th {\n",
              "        text-align: right;\n",
              "    }\n",
              "</style>\n",
              "<table border=\"1\" class=\"dataframe\">\n",
              "  <thead>\n",
              "    <tr style=\"text-align: right;\">\n",
              "      <th></th>\n",
              "      <th>MaxHR</th>\n",
              "      <th>HeartDisease</th>\n",
              "      <th>Sk Learn Probability</th>\n",
              "      <th>SK Learn Prediction</th>\n",
              "      <th>Our Model Heart Disease Probabilities</th>\n",
              "    </tr>\n",
              "  </thead>\n",
              "  <tbody>\n",
              "    <tr>\n",
              "      <th>0</th>\n",
              "      <td>172</td>\n",
              "      <td>0</td>\n",
              "      <td>0.260939</td>\n",
              "      <td>0</td>\n",
              "      <td>0.256773</td>\n",
              "    </tr>\n",
              "    <tr>\n",
              "      <th>1</th>\n",
              "      <td>156</td>\n",
              "      <td>1</td>\n",
              "      <td>0.389737</td>\n",
              "      <td>0</td>\n",
              "      <td>0.389181</td>\n",
              "    </tr>\n",
              "    <tr>\n",
              "      <th>2</th>\n",
              "      <td>98</td>\n",
              "      <td>0</td>\n",
              "      <td>0.845538</td>\n",
              "      <td>1</td>\n",
              "      <td>0.854201</td>\n",
              "    </tr>\n",
              "    <tr>\n",
              "      <th>3</th>\n",
              "      <td>108</td>\n",
              "      <td>1</td>\n",
              "      <td>0.790775</td>\n",
              "      <td>1</td>\n",
              "      <td>0.799858</td>\n",
              "    </tr>\n",
              "    <tr>\n",
              "      <th>4</th>\n",
              "      <td>122</td>\n",
              "      <td>0</td>\n",
              "      <td>0.692325</td>\n",
              "      <td>1</td>\n",
              "      <td>0.700537</td>\n",
              "    </tr>\n",
              "    <tr>\n",
              "      <th>...</th>\n",
              "      <td>...</td>\n",
              "      <td>...</td>\n",
              "      <td>...</td>\n",
              "      <td>...</td>\n",
              "      <td>...</td>\n",
              "    </tr>\n",
              "    <tr>\n",
              "      <th>913</th>\n",
              "      <td>132</td>\n",
              "      <td>1</td>\n",
              "      <td>0.608400</td>\n",
              "      <td>1</td>\n",
              "      <td>0.614750</td>\n",
              "    </tr>\n",
              "    <tr>\n",
              "      <th>914</th>\n",
              "      <td>141</td>\n",
              "      <td>1</td>\n",
              "      <td>0.526777</td>\n",
              "      <td>1</td>\n",
              "      <td>0.530722</td>\n",
              "    </tr>\n",
              "    <tr>\n",
              "      <th>915</th>\n",
              "      <td>115</td>\n",
              "      <td>1</td>\n",
              "      <td>0.744655</td>\n",
              "      <td>1</td>\n",
              "      <td>0.753549</td>\n",
              "    </tr>\n",
              "    <tr>\n",
              "      <th>916</th>\n",
              "      <td>174</td>\n",
              "      <td>1</td>\n",
              "      <td>0.246907</td>\n",
              "      <td>0</td>\n",
              "      <td>0.242446</td>\n",
              "    </tr>\n",
              "    <tr>\n",
              "      <th>917</th>\n",
              "      <td>173</td>\n",
              "      <td>0</td>\n",
              "      <td>0.253859</td>\n",
              "      <td>0</td>\n",
              "      <td>0.249540</td>\n",
              "    </tr>\n",
              "  </tbody>\n",
              "</table>\n",
              "<p>918 rows × 5 columns</p>\n",
              "</div>"
            ],
            "text/plain": [
              "     MaxHR  ...  Our Model Heart Disease Probabilities\n",
              "0      172  ...                               0.256773\n",
              "1      156  ...                               0.389181\n",
              "2       98  ...                               0.854201\n",
              "3      108  ...                               0.799858\n",
              "4      122  ...                               0.700537\n",
              "..     ...  ...                                    ...\n",
              "913    132  ...                               0.614750\n",
              "914    141  ...                               0.530722\n",
              "915    115  ...                               0.753549\n",
              "916    174  ...                               0.242446\n",
              "917    173  ...                               0.249540\n",
              "\n",
              "[918 rows x 5 columns]"
            ]
          },
          "metadata": {},
          "execution_count": 62
        }
      ]
    },
    {
      "cell_type": "code",
      "metadata": {
        "colab": {
          "base_uri": "https://localhost:8080/",
          "height": 542
        },
        "id": "YCGJu_S0Z4ss",
        "outputId": "679f99dc-cdeb-40e7-a64d-bc37d09e9692"
      },
      "source": [
        "fig = go.Figure()\n",
        "\n",
        "fig.add_trace(go.Scatter(x=predictions_df['MaxHR'], y=predictions_df['HeartDisease'],\n",
        "                         mode='markers', name='Observed', marker=dict(color='orange')))\n",
        "\n",
        "fig.add_trace(go.Scatter(x=predictions_df['MaxHR'], y=predictions_df['Sk Learn Probability'],\n",
        "                         mode='markers', name='SK Learn Probabilities', marker=dict(color='blue')))\n",
        "\n",
        "fig.add_trace(go.Scatter(x=predictions_df['MaxHR'], y=predictions_df['Our Model Heart Disease Probabilities'],\n",
        "                         mode='markers', name='Our Model Heart Disease Probabilities', marker=dict(color='red')))\n",
        "\n",
        "fig.add_trace(go.Scatter(x=predictions_df['MaxHR'], y=[.5]*len(predictions_df), \n",
        "                         name='Threshold', marker={'color':'purple'}))\n",
        "\n",
        "fig.update_layout(\n",
        "    title=\"Heart Disease vs Max Heart Rate\",\n",
        "    xaxis_title=\"Max Heart Rate\",\n",
        "    yaxis_title=\"Heart Disease\"\n",
        ")\n",
        "\n",
        "fig.show()"
      ],
      "execution_count": null,
      "outputs": [
        {
          "output_type": "display_data",
          "data": {
            "text/html": [
              "<html>\n",
              "<head><meta charset=\"utf-8\" /></head>\n",
              "<body>\n",
              "    <div>\n",
              "            <script src=\"https://cdnjs.cloudflare.com/ajax/libs/mathjax/2.7.5/MathJax.js?config=TeX-AMS-MML_SVG\"></script><script type=\"text/javascript\">if (window.MathJax) {MathJax.Hub.Config({SVG: {font: \"STIX-Web\"}});}</script>\n",
              "                <script type=\"text/javascript\">window.PlotlyConfig = {MathJaxConfig: 'local'};</script>\n",
              "        <script src=\"https://cdn.plot.ly/plotly-latest.min.js\"></script>    \n",
              "            <div id=\"84f4cfa7-41c2-4c08-9053-ee5277701cb2\" class=\"plotly-graph-div\" style=\"height:525px; width:100%;\"></div>\n",
              "            <script type=\"text/javascript\">\n",
              "                \n",
              "                    window.PLOTLYENV=window.PLOTLYENV || {};\n",
              "                    \n",
              "                if (document.getElementById(\"84f4cfa7-41c2-4c08-9053-ee5277701cb2\")) {\n",
              "                    Plotly.newPlot(\n",
              "                        '84f4cfa7-41c2-4c08-9053-ee5277701cb2',\n",
              "                        [{\"marker\": {\"color\": \"orange\"}, \"mode\": \"markers\", \"name\": \"Observed\", \"type\": \"scatter\", \"x\": [172, 156, 98, 108, 122, 170, 170, 142, 130, 120, 142, 99, 145, 140, 137, 150, 166, 165, 125, 160, 142, 142, 164, 150, 138, 178, 112, 118, 127, 145, 130, 114, 122, 130, 154, 155, 87, 142, 148, 130, 130, 100, 168, 170, 120, 120, 168, 170, 184, 170, 121, 98, 122, 150, 140, 170, 153, 140, 134, 96, 174, 175, 144, 125, 145, 130, 144, 184, 82, 170, 145, 135, 150, 115, 128, 116, 130, 150, 138, 170, 160, 154, 115, 165, 125, 94, 112, 142, 155, 110, 160, 140, 148, 92, 180, 140, 138, 160, 140, 144, 115, 100, 130, 152, 124, 140, 110, 168, 135, 106, 124, 92, 125, 150, 135, 150, 170, 130, 185, 180, 170, 139, 140, 110, 150, 110, 190, 175, 140, 152, 130, 150, 122, 124, 120, 175, 175, 146, 118, 130, 94, 125, 158, 155, 150, 132, 155, 176, 160, 125, 120, 100, 150, 140, 160, 150, 150, 130, 100, 130, 119, 96, 174, 150, 140, 175, 140, 118, 100, 160, 160, 188, 162, 172, 134, 135, 105, 150, 150, 90, 120, 150, 124, 140, 130, 92, 110, 138, 110, 120, 120, 116, 160, 110, 180, 116, 132, 136, 116, 98, 150, 150, 146, 150, 100, 140, 180, 140, 185, 140, 110, 140, 128, 164, 98, 170, 150, 137, 150, 170, 112, 150, 125, 185, 137, 150, 140, 134, 170, 184, 158, 167, 129, 142, 140, 160, 118, 136, 99, 102, 155, 142, 143, 118, 103, 137, 150, 150, 130, 120, 135, 115, 115, 152, 96, 130, 150, 172, 120, 155, 165, 138, 115, 125, 145, 175, 110, 150, 91, 145, 140, 165, 130, 134, 180, 100, 150, 126, 126, 155, 135, 122, 160, 160, 170, 120, 140, 132, 156, 180, 138, 135, 148, 93, 127, 110, 139, 131, 92, 149, 149, 150, 120, 123, 126, 127, 155, 120, 138, 182, 154, 110, 176, 154, 141, 123, 148, 121, 77, 136, 175, 109, 166, 128, 133, 128, 138, 119, 82, 130, 143, 82, 179, 144, 170, 134, 114, 154, 149, 145, 122, 114, 113, 120, 104, 130, 115, 128, 104, 125, 120, 140, 100, 100, 92, 125, 113, 95, 128, 115, 72, 124, 99, 148, 97, 140, 117, 120, 120, 86, 63, 108, 98, 115, 105, 121, 118, 122, 157, 156, 99, 120, 145, 156, 155, 105, 99, 135, 83, 145, 60, 92, 115, 120, 98, 150, 143, 105, 122, 70, 110, 163, 67, 128, 120, 130, 100, 72, 94, 122, 78, 150, 103, 98, 110, 90, 112, 127, 140, 149, 99, 120, 105, 140, 141, 157, 140, 117, 120, 120, 148, 86, 84, 125, 120, 118, 124, 106, 111, 116, 180, 129, 125, 140, 120, 124, 117, 110, 105, 155, 110, 122, 118, 133, 123, 131, 80, 165, 86, 111, 118, 84, 117, 107, 128, 160, 125, 130, 97, 161, 106, 130, 140, 122, 130, 120, 139, 108, 148, 123, 110, 118, 125, 106, 112, 128, 180, 144, 135, 140, 102, 108, 145, 127, 110, 140, 69, 148, 130, 130, 140, 138, 140, 138, 112, 131, 112, 80, 150, 110, 126, 88, 153, 150, 120, 160, 132, 120, 110, 121, 128, 135, 120, 117, 150, 144, 113, 135, 127, 109, 128, 115, 102, 140, 135, 122, 119, 130, 112, 100, 122, 120, 105, 129, 120, 139, 162, 100, 140, 135, 73, 86, 108, 116, 160, 118, 112, 122, 124, 102, 137, 141, 154, 126, 160, 115, 128, 115, 105, 110, 119, 109, 135, 130, 112, 126, 120, 110, 119, 110, 130, 159, 84, 126, 116, 120, 122, 165, 122, 94, 133, 110, 150, 130, 113, 140, 100, 136, 127, 98, 96, 123, 98, 112, 151, 96, 108, 128, 138, 126, 154, 137, 100, 135, 93, 109, 160, 141, 105, 121, 140, 142, 142, 170, 154, 161, 111, 180, 145, 159, 125, 120, 155, 144, 178, 129, 180, 181, 143, 159, 139, 152, 157, 165, 130, 150, 138, 170, 140, 126, 150, 138, 125, 150, 186, 181, 163, 179, 156, 134, 165, 126, 177, 120, 114, 125, 184, 157, 179, 175, 168, 125, 96, 143, 103, 173, 142, 169, 171, 150, 112, 186, 152, 149, 152, 140, 163, 143, 116, 142, 147, 148, 179, 173, 178, 105, 130, 111, 168, 126, 178, 140, 145, 163, 128, 164, 169, 109, 108, 168, 118, 151, 156, 133, 162, 175, 71, 163, 124, 147, 166, 143, 157, 162, 138, 117, 153, 161, 170, 162, 162, 144, 133, 114, 103, 139, 116, 88, 151, 152, 163, 99, 169, 158, 160, 169, 132, 178, 96, 165, 160, 172, 144, 192, 168, 132, 182, 163, 125, 195, 95, 160, 114, 173, 172, 179, 158, 167, 122, 149, 172, 111, 170, 162, 165, 182, 154, 155, 130, 161, 154, 159, 152, 152, 174, 131, 146, 125, 115, 174, 106, 122, 147, 163, 163, 194, 150, 158, 122, 173, 162, 105, 147, 157, 112, 160, 125, 156, 156, 175, 161, 122, 158, 151, 162, 151, 171, 141, 173, 145, 178, 160, 154, 131, 187, 159, 166, 165, 131, 202, 172, 172, 154, 147, 170, 126, 127, 174, 132, 182, 132, 97, 136, 162, 190, 146, 140, 185, 161, 146, 145, 160, 120, 156, 172, 150, 182, 143, 160, 142, 144, 158, 148, 155, 142, 113, 188, 153, 123, 157, 162, 137, 132, 158, 171, 172, 132, 160, 171, 168, 162, 173, 153, 148, 108, 115, 169, 143, 156, 162, 155, 152, 152, 164, 131, 143, 179, 130, 174, 161, 140, 146, 144, 163, 169, 150, 166, 144, 144, 136, 182, 90, 123, 132, 141, 115, 174, 173], \"y\": [0, 1, 0, 1, 0, 0, 0, 0, 1, 0, 0, 1, 0, 1, 0, 0, 1, 0, 1, 1, 0, 0, 0, 1, 0, 0, 0, 0, 0, 0, 1, 0, 1, 1, 0, 0, 1, 0, 0, 0, 0, 1, 0, 0, 1, 0, 0, 0, 0, 1, 1, 1, 0, 0, 0, 0, 1, 1, 0, 1, 0, 0, 0, 1, 0, 0, 0, 0, 1, 0, 1, 0, 1, 0, 1, 0, 1, 0, 0, 1, 0, 0, 1, 0, 1, 1, 1, 0, 1, 0, 0, 0, 0, 1, 0, 1, 0, 0, 0, 0, 1, 0, 1, 1, 1, 0, 0, 0, 0, 0, 0, 1, 0, 0, 0, 1, 1, 1, 0, 1, 1, 0, 0, 1, 0, 0, 0, 0, 0, 0, 0, 1, 1, 1, 0, 1, 0, 0, 1, 1, 1, 1, 1, 0, 1, 0, 0, 0, 0, 1, 0, 0, 0, 0, 0, 1, 1, 0, 1, 0, 1, 1, 0, 0, 0, 1, 1, 0, 0, 0, 0, 0, 0, 0, 1, 1, 1, 0, 0, 0, 1, 0, 1, 0, 0, 1, 0, 1, 0, 1, 0, 0, 0, 0, 0, 0, 0, 0, 1, 0, 0, 0, 0, 0, 0, 0, 0, 1, 0, 1, 1, 1, 0, 0, 1, 0, 1, 0, 0, 0, 1, 1, 0, 0, 0, 1, 0, 1, 0, 0, 0, 0, 0, 0, 0, 0, 1, 1, 1, 1, 0, 1, 1, 0, 1, 0, 1, 1, 1, 1, 1, 1, 0, 0, 1, 0, 0, 0, 0, 0, 0, 0, 1, 1, 1, 0, 1, 0, 1, 0, 0, 0, 1, 0, 0, 0, 1, 1, 0, 0, 0, 1, 0, 0, 0, 0, 0, 0, 0, 0, 0, 0, 0, 1, 1, 1, 1, 1, 1, 1, 1, 0, 1, 1, 1, 1, 1, 0, 1, 1, 0, 1, 1, 1, 0, 1, 1, 1, 1, 1, 1, 1, 1, 1, 1, 1, 0, 1, 1, 1, 1, 1, 0, 1, 1, 1, 0, 1, 1, 1, 1, 1, 1, 1, 1, 1, 1, 1, 1, 1, 1, 1, 1, 1, 1, 1, 1, 1, 1, 1, 1, 1, 1, 1, 0, 1, 1, 1, 1, 1, 1, 1, 1, 1, 1, 1, 1, 1, 1, 1, 1, 1, 1, 1, 1, 1, 1, 1, 1, 1, 1, 1, 1, 1, 1, 1, 1, 1, 1, 1, 1, 1, 1, 1, 1, 1, 1, 1, 1, 1, 1, 1, 1, 1, 1, 1, 1, 0, 1, 1, 0, 0, 1, 0, 1, 1, 0, 1, 1, 1, 1, 0, 1, 1, 0, 0, 1, 1, 1, 0, 1, 1, 1, 1, 1, 1, 1, 1, 1, 1, 1, 1, 1, 0, 1, 0, 1, 1, 1, 0, 1, 1, 1, 0, 1, 0, 1, 0, 1, 0, 1, 1, 1, 1, 0, 1, 0, 1, 1, 1, 1, 1, 1, 1, 1, 1, 0, 1, 0, 1, 1, 1, 1, 1, 1, 1, 0, 1, 1, 1, 1, 1, 1, 0, 1, 1, 1, 0, 1, 1, 0, 1, 0, 1, 1, 0, 1, 1, 1, 1, 0, 1, 1, 1, 0, 0, 1, 0, 1, 1, 1, 1, 1, 1, 1, 1, 1, 1, 1, 0, 1, 1, 1, 1, 0, 0, 1, 1, 1, 0, 1, 0, 1, 1, 0, 1, 0, 1, 1, 1, 0, 0, 0, 1, 1, 1, 0, 1, 1, 1, 1, 1, 1, 1, 1, 1, 1, 1, 1, 1, 1, 1, 1, 0, 1, 1, 1, 0, 1, 1, 0, 0, 1, 1, 1, 1, 1, 0, 1, 1, 0, 1, 1, 1, 0, 0, 1, 1, 1, 1, 1, 0, 1, 0, 1, 1, 0, 1, 0, 0, 0, 1, 1, 1, 1, 0, 0, 0, 1, 0, 0, 1, 1, 0, 0, 1, 0, 0, 0, 0, 0, 0, 0, 1, 0, 1, 0, 0, 1, 1, 1, 1, 1, 0, 0, 1, 0, 0, 0, 1, 0, 1, 1, 1, 1, 1, 0, 0, 0, 0, 0, 1, 0, 1, 1, 0, 1, 0, 0, 0, 1, 0, 1, 0, 1, 1, 0, 0, 0, 0, 1, 0, 0, 0, 0, 1, 1, 1, 0, 0, 0, 0, 0, 0, 1, 0, 1, 1, 1, 1, 1, 0, 1, 0, 0, 0, 1, 0, 1, 1, 1, 0, 1, 1, 0, 1, 0, 1, 0, 0, 0, 1, 1, 0, 1, 1, 1, 1, 0, 0, 0, 1, 0, 0, 1, 1, 1, 0, 1, 0, 0, 0, 1, 0, 0, 1, 0, 1, 0, 1, 1, 1, 1, 1, 0, 0, 0, 0, 0, 0, 0, 1, 0, 0, 1, 1, 1, 0, 1, 0, 0, 0, 0, 0, 1, 0, 1, 1, 0, 0, 1, 1, 1, 1, 0, 0, 1, 1, 0, 0, 0, 1, 0, 0, 1, 0, 1, 0, 1, 0, 0, 0, 0, 0, 1, 0, 1, 1, 1, 1, 0, 0, 0, 1, 0, 1, 0, 0, 1, 0, 0, 0, 0, 0, 0, 1, 1, 0, 1, 0, 0, 1, 1, 0, 0, 1, 1, 0, 1, 0, 1, 0, 1, 0, 0, 1, 0, 0, 1, 0, 1, 1, 0, 1, 1, 1, 0, 1, 0, 0, 0, 0, 1, 1, 0, 0, 1, 1, 0, 1, 0, 0, 0, 0, 1, 0, 0, 1, 1, 1, 0, 0, 0, 1, 0, 1, 0, 1, 0, 1, 1, 1, 0, 0, 0, 1, 0, 1, 1, 1, 0, 1, 1, 1, 1, 1, 1, 0]}, {\"marker\": {\"color\": \"blue\"}, \"mode\": \"markers\", \"name\": \"SK Learn Probabilities\", \"type\": \"scatter\", \"x\": [172, 156, 98, 108, 122, 170, 170, 142, 130, 120, 142, 99, 145, 140, 137, 150, 166, 165, 125, 160, 142, 142, 164, 150, 138, 178, 112, 118, 127, 145, 130, 114, 122, 130, 154, 155, 87, 142, 148, 130, 130, 100, 168, 170, 120, 120, 168, 170, 184, 170, 121, 98, 122, 150, 140, 170, 153, 140, 134, 96, 174, 175, 144, 125, 145, 130, 144, 184, 82, 170, 145, 135, 150, 115, 128, 116, 130, 150, 138, 170, 160, 154, 115, 165, 125, 94, 112, 142, 155, 110, 160, 140, 148, 92, 180, 140, 138, 160, 140, 144, 115, 100, 130, 152, 124, 140, 110, 168, 135, 106, 124, 92, 125, 150, 135, 150, 170, 130, 185, 180, 170, 139, 140, 110, 150, 110, 190, 175, 140, 152, 130, 150, 122, 124, 120, 175, 175, 146, 118, 130, 94, 125, 158, 155, 150, 132, 155, 176, 160, 125, 120, 100, 150, 140, 160, 150, 150, 130, 100, 130, 119, 96, 174, 150, 140, 175, 140, 118, 100, 160, 160, 188, 162, 172, 134, 135, 105, 150, 150, 90, 120, 150, 124, 140, 130, 92, 110, 138, 110, 120, 120, 116, 160, 110, 180, 116, 132, 136, 116, 98, 150, 150, 146, 150, 100, 140, 180, 140, 185, 140, 110, 140, 128, 164, 98, 170, 150, 137, 150, 170, 112, 150, 125, 185, 137, 150, 140, 134, 170, 184, 158, 167, 129, 142, 140, 160, 118, 136, 99, 102, 155, 142, 143, 118, 103, 137, 150, 150, 130, 120, 135, 115, 115, 152, 96, 130, 150, 172, 120, 155, 165, 138, 115, 125, 145, 175, 110, 150, 91, 145, 140, 165, 130, 134, 180, 100, 150, 126, 126, 155, 135, 122, 160, 160, 170, 120, 140, 132, 156, 180, 138, 135, 148, 93, 127, 110, 139, 131, 92, 149, 149, 150, 120, 123, 126, 127, 155, 120, 138, 182, 154, 110, 176, 154, 141, 123, 148, 121, 77, 136, 175, 109, 166, 128, 133, 128, 138, 119, 82, 130, 143, 82, 179, 144, 170, 134, 114, 154, 149, 145, 122, 114, 113, 120, 104, 130, 115, 128, 104, 125, 120, 140, 100, 100, 92, 125, 113, 95, 128, 115, 72, 124, 99, 148, 97, 140, 117, 120, 120, 86, 63, 108, 98, 115, 105, 121, 118, 122, 157, 156, 99, 120, 145, 156, 155, 105, 99, 135, 83, 145, 60, 92, 115, 120, 98, 150, 143, 105, 122, 70, 110, 163, 67, 128, 120, 130, 100, 72, 94, 122, 78, 150, 103, 98, 110, 90, 112, 127, 140, 149, 99, 120, 105, 140, 141, 157, 140, 117, 120, 120, 148, 86, 84, 125, 120, 118, 124, 106, 111, 116, 180, 129, 125, 140, 120, 124, 117, 110, 105, 155, 110, 122, 118, 133, 123, 131, 80, 165, 86, 111, 118, 84, 117, 107, 128, 160, 125, 130, 97, 161, 106, 130, 140, 122, 130, 120, 139, 108, 148, 123, 110, 118, 125, 106, 112, 128, 180, 144, 135, 140, 102, 108, 145, 127, 110, 140, 69, 148, 130, 130, 140, 138, 140, 138, 112, 131, 112, 80, 150, 110, 126, 88, 153, 150, 120, 160, 132, 120, 110, 121, 128, 135, 120, 117, 150, 144, 113, 135, 127, 109, 128, 115, 102, 140, 135, 122, 119, 130, 112, 100, 122, 120, 105, 129, 120, 139, 162, 100, 140, 135, 73, 86, 108, 116, 160, 118, 112, 122, 124, 102, 137, 141, 154, 126, 160, 115, 128, 115, 105, 110, 119, 109, 135, 130, 112, 126, 120, 110, 119, 110, 130, 159, 84, 126, 116, 120, 122, 165, 122, 94, 133, 110, 150, 130, 113, 140, 100, 136, 127, 98, 96, 123, 98, 112, 151, 96, 108, 128, 138, 126, 154, 137, 100, 135, 93, 109, 160, 141, 105, 121, 140, 142, 142, 170, 154, 161, 111, 180, 145, 159, 125, 120, 155, 144, 178, 129, 180, 181, 143, 159, 139, 152, 157, 165, 130, 150, 138, 170, 140, 126, 150, 138, 125, 150, 186, 181, 163, 179, 156, 134, 165, 126, 177, 120, 114, 125, 184, 157, 179, 175, 168, 125, 96, 143, 103, 173, 142, 169, 171, 150, 112, 186, 152, 149, 152, 140, 163, 143, 116, 142, 147, 148, 179, 173, 178, 105, 130, 111, 168, 126, 178, 140, 145, 163, 128, 164, 169, 109, 108, 168, 118, 151, 156, 133, 162, 175, 71, 163, 124, 147, 166, 143, 157, 162, 138, 117, 153, 161, 170, 162, 162, 144, 133, 114, 103, 139, 116, 88, 151, 152, 163, 99, 169, 158, 160, 169, 132, 178, 96, 165, 160, 172, 144, 192, 168, 132, 182, 163, 125, 195, 95, 160, 114, 173, 172, 179, 158, 167, 122, 149, 172, 111, 170, 162, 165, 182, 154, 155, 130, 161, 154, 159, 152, 152, 174, 131, 146, 125, 115, 174, 106, 122, 147, 163, 163, 194, 150, 158, 122, 173, 162, 105, 147, 157, 112, 160, 125, 156, 156, 175, 161, 122, 158, 151, 162, 151, 171, 141, 173, 145, 178, 160, 154, 131, 187, 159, 166, 165, 131, 202, 172, 172, 154, 147, 170, 126, 127, 174, 132, 182, 132, 97, 136, 162, 190, 146, 140, 185, 161, 146, 145, 160, 120, 156, 172, 150, 182, 143, 160, 142, 144, 158, 148, 155, 142, 113, 188, 153, 123, 157, 162, 137, 132, 158, 171, 172, 132, 160, 171, 168, 162, 173, 153, 148, 108, 115, 169, 143, 156, 162, 155, 152, 152, 164, 131, 143, 179, 130, 174, 161, 140, 146, 144, 163, 169, 150, 166, 144, 144, 136, 182, 90, 123, 132, 141, 115, 174, 173], \"y\": [0.2609389646425221, 0.3897365481991345, 0.8455379083873306, 0.7907749437202437, 0.6923253188518114, 0.2754769327885896, 0.2754769327885896, 0.5175353519845768, 0.6259019622799237, 0.7078773802518259, 0.5175353519845768, 0.840637916403869, 0.4897623733568337, 0.5360012074751885, 0.5635004728622155, 0.4436980583033375, 0.30600970739477734, 0.3139322880257179, 0.6681626178358427, 0.3551246209926921, 0.5175353519845768, 0.5175353519845768, 0.3219648242707817, 0.4436980583033375, 0.5543688683378393, 0.22039829474604425, 0.765205606324468, 0.722957901873652, 0.651537031351976, 0.4897623733568337, 0.6259019622799237, 0.7516347536308627, 0.6923253188518114, 0.6259019622799237, 0.40749383340802015, 0.3985818398156112, 0.8916288284982107, 0.5175353519845768, 0.46205245112598503, 0.6259019622799237, 0.6259019622799237, 0.8356127029223647, 0.2905064913938509, 0.2754769327885896, 0.7078773802518259, 0.7078773802518259, 0.2905064913938509, 0.2754769327885896, 0.18458311494812005, 0.2754769327885896, 0.7001589969198562, 0.8455379083873306, 0.6923253188518114, 0.4436980583033375, 0.5360012074751885, 0.2754769327885896, 0.4164671061171443, 0.5360012074751885, 0.5906147495266368, 0.8549678688746648, 0.2469067618957088, 0.24008375200033943, 0.4990214783140502, 0.6681626178358427, 0.4897623733568337, 0.6259019622799237, 0.4990214783140502, 0.18458311494812005, 0.9082705256547735, 0.2754769327885896, 0.4897623733568337, 0.5816292359744925, 0.4436980583033375, 0.7446554724739265, 0.6430806116047318, 0.7375485488072042, 0.6259019622799237, 0.4436980583033375, 0.5543688683378393, 0.2754769327885896, 0.3551246209926921, 0.40749383340802015, 0.7446554724739265, 0.3139322880257179, 0.6681626178358427, 0.8639147836933277, 0.765205606324468, 0.5175353519845768, 0.3985818398156112, 0.7782537005797351, 0.3551246209926921, 0.5360012074751885, 0.46205245112598503, 0.8723921483363917, 0.20793283186561765, 0.5360012074751885, 0.5543688683378393, 0.3551246209926921, 0.5360012074751885, 0.4990214783140502, 0.7446554724739265, 0.8356127029223647, 0.6259019622799237, 0.4254960756629841, 0.6763238797823873, 0.5360012074751885, 0.7782537005797351, 0.2905064913938509, 0.5816292359744925, 0.8027683375875693, 0.6763238797823873, 0.8723921483363917, 0.6681626178358427, 0.4436980583033375, 0.5816292359744925, 0.4436980583033375, 0.2754769327885896, 0.6259019622799237, 0.1790728321779459, 0.20793283186561765, 0.2754769327885896, 0.5452004128192333, 0.5360012074751885, 0.7782537005797351, 0.4436980583033375, 0.7782537005797351, 0.1534424662560065, 0.24008375200033943, 0.5360012074751885, 0.4254960756629841, 0.6259019622799237, 0.4436980583033375, 0.6923253188518114, 0.6763238797823873, 0.7078773802518259, 0.24008375200033943, 0.24008375200033943, 0.4805102874772629, 0.722957901873652, 0.6259019622799237, 0.8639147836933277, 0.6681626178358427, 0.3722668928641893, 0.3985818398156112, 0.4436980583033375, 0.6083999822497841, 0.3985818398156112, 0.2333908563893173, 0.3551246209926921, 0.6681626178358427, 0.7078773802518259, 0.8356127029223647, 0.4436980583033375, 0.5360012074751885, 0.3551246209926921, 0.4436980583033375, 0.4436980583033375, 0.6259019622799237, 0.8356127029223647, 0.6259019622799237, 0.7154778187287896, 0.8549678688746648, 0.2469067618957088, 0.4436980583033375, 0.5360012074751885, 0.24008375200033943, 0.5360012074751885, 0.722957901873652, 0.8356127029223647, 0.3551246209926921, 0.3551246209926921, 0.16331480875105697, 0.3383462525166967, 0.2609389646425221, 0.5906147495266368, 0.5816292359744925, 0.8085675663252168, 0.4436980583033375, 0.4436980583033375, 0.8804145196899192, 0.7078773802518259, 0.4436980583033375, 0.6763238797823873, 0.5360012074751885, 0.6259019622799237, 0.8723921483363917, 0.7782537005797351, 0.5543688683378393, 0.7782537005797351, 0.7078773802518259, 0.7078773802518259, 0.7375485488072042, 0.3551246209926921, 0.7782537005797351, 0.20793283186561765, 0.7375485488072042, 0.6083999822497841, 0.5725892244860964, 0.7375485488072042, 0.8455379083873306, 0.4436980583033375, 0.4436980583033375, 0.4805102874772629, 0.4436980583033375, 0.8356127029223647, 0.5360012074751885, 0.20793283186561765, 0.5360012074751885, 0.1790728321779459, 0.5360012074751885, 0.7782537005797351, 0.5360012074751885, 0.6430806116047318, 0.3219648242707817, 0.8455379083873306, 0.2754769327885896, 0.4436980583033375, 0.5635004728622155, 0.4436980583033375, 0.2754769327885896, 0.765205606324468, 0.4436980583033375, 0.6681626178358427, 0.1790728321779459, 0.5635004728622155, 0.4436980583033375, 0.5360012074751885, 0.5906147495266368, 0.2754769327885896, 0.18458311494812005, 0.3722668928641893, 0.29820016199230787, 0.6345340863495227, 0.5175353519845768, 0.5360012074751885, 0.3551246209926921, 0.722957901873652, 0.5725892244860964, 0.840637916403869, 0.8251815971378507, 0.3985818398156112, 0.5175353519845768, 0.5082812544398188, 0.722957901873652, 0.8197734873419239, 0.5635004728622155, 0.4436980583033375, 0.4436980583033375, 0.6259019622799237, 0.7078773802518259, 0.5816292359744925, 0.7446554724739265, 0.7446554724739265, 0.4254960756629841, 0.8549678688746648, 0.6259019622799237, 0.4436980583033375, 0.2609389646425221, 0.7078773802518259, 0.3985818398156112, 0.3139322880257179, 0.5543688683378393, 0.7446554724739265, 0.6681626178358427, 0.4897623733568337, 0.24008375200033943, 0.7782537005797351, 0.4436980583033375, 0.8764592630261128, 0.4897623733568337, 0.5360012074751885, 0.3139322880257179, 0.6259019622799237, 0.5906147495266368, 0.20793283186561765, 0.8356127029223647, 0.4436980583033375, 0.6598990556643708, 0.6598990556643708, 0.3985818398156112, 0.5816292359744925, 0.6923253188518114, 0.3551246209926921, 0.3551246209926921, 0.2754769327885896, 0.7078773802518259, 0.5360012074751885, 0.6083999822497841, 0.3897365481991345, 0.20793283186561765, 0.5543688683378393, 0.5816292359744925, 0.46205245112598503, 0.8682112722053241, 0.651537031351976, 0.7782537005797351, 0.5452004128192333, 0.6171889553531053, 0.8723921483363917, 0.45285923137321227, 0.45285923137321227, 0.4436980583033375, 0.7078773802518259, 0.6843792363944345, 0.6598990556643708, 0.651537031351976, 0.3985818398156112, 0.7078773802518259, 0.5543688683378393, 0.195995152679382, 0.40749383340802015, 0.7782537005797351, 0.2333908563893173, 0.40749383340802015, 0.5267774367641762, 0.6843792363944345, 0.46205245112598503, 0.7001589969198562, 0.9225785905803651, 0.5725892244860964, 0.24008375200033943, 0.7845803107179642, 0.30600970739477734, 0.6430806116047318, 0.5995401508175907, 0.6430806116047318, 0.5543688683378393, 0.7154778187287896, 0.9082705256547735, 0.6259019622799237, 0.5082812544398188, 0.9082705256547735, 0.21409956395965105, 0.4990214783140502, 0.2754769327885896, 0.5906147495266368, 0.7516347536308627, 0.40749383340802015, 0.45285923137321227, 0.4897623733568337, 0.6923253188518114, 0.7516347536308627, 0.7584851419386704, 0.7078773802518259, 0.8142357376350635, 0.6259019622799237, 0.7446554724739265, 0.6430806116047318, 0.8142357376350635, 0.6681626178358427, 0.7078773802518259, 0.5360012074751885, 0.8356127029223647, 0.8356127029223647, 0.8723921483363917, 0.6681626178358427, 0.7584851419386704, 0.8595008910828382, 0.6430806116047318, 0.7446554724739265, 0.9348150391468388, 0.6763238797823873, 0.840637916403869, 0.46205245112598503, 0.8503140650220352, 0.5360012074751885, 0.7303154573808168, 0.7078773802518259, 0.7078773802518259, 0.8951565153958226, 0.9524157197612084, 0.7907749437202437, 0.8455379083873306, 0.7446554724739265, 0.8085675663252168, 0.7001589969198562, 0.722957901873652, 0.6923253188518114, 0.38096320978400594, 0.3897365481991345, 0.840637916403869, 0.7078773802518259, 0.4897623733568337, 0.3897365481991345, 0.3985818398156112, 0.8085675663252168, 0.840637916403869, 0.5816292359744925, 0.9051373274893162, 0.4897623733568337, 0.9572061990198002, 0.8723921483363917, 0.7446554724739265, 0.7078773802518259, 0.8455379083873306, 0.4436980583033375, 0.5082812544398188, 0.8085675663252168, 0.6923253188518114, 0.9391866094699116, 0.7782537005797351, 0.3301039975730218, 0.9452323254368847, 0.6430806116047318, 0.7078773802518259, 0.6259019622799237, 0.8356127029223647, 0.9348150391468388, 0.8639147836933277, 0.6923253188518114, 0.919891007304843, 0.4436980583033375, 0.8197734873419239, 0.8455379083873306, 0.7782537005797351, 0.8804145196899192, 0.765205606324468, 0.651537031351976, 0.5360012074751885, 0.45285923137321227, 0.840637916403869, 0.7078773802518259, 0.8085675663252168, 0.5360012074751885, 0.5267774367641762, 0.38096320978400594, 0.5360012074751885, 0.7303154573808168, 0.7078773802518259, 0.7078773802518259, 0.46205245112598503, 0.8951565153958226, 0.9019086668496099, 0.6681626178358427, 0.7078773802518259, 0.722957901873652, 0.6763238797823873, 0.8027683375875693, 0.7717953292685138, 0.7375485488072042, 0.20793283186561765, 0.6345340863495227, 0.6681626178358427, 0.5360012074751885, 0.7078773802518259, 0.6763238797823873, 0.7303154573808168, 0.7782537005797351, 0.8085675663252168, 0.3985818398156112, 0.7782537005797351, 0.6923253188518114, 0.722957901873652, 0.5995401508175907, 0.6843792363944345, 0.6171889553531053, 0.9142590017170057, 0.3139322880257179, 0.8951565153958226, 0.7717953292685138, 0.722957901873652, 0.9019086668496099, 0.7303154573808168, 0.7968375697876303, 0.6430806116047318, 0.3551246209926921, 0.6681626178358427, 0.6259019622799237, 0.8503140650220352, 0.34668779992514015, 0.8027683375875693, 0.6259019622799237, 0.5360012074751885, 0.6923253188518114, 0.6259019622799237, 0.7078773802518259, 0.5452004128192333, 0.7907749437202437, 0.46205245112598503, 0.6843792363944345, 0.7782537005797351, 0.722957901873652, 0.6681626178358427, 0.8027683375875693, 0.765205606324468, 0.6430806116047318, 0.20793283186561765, 0.4990214783140502, 0.5816292359744925, 0.5360012074751885, 0.8251815971378507, 0.7907749437202437, 0.4897623733568337, 0.651537031351976, 0.7782537005797351, 0.5360012074751885, 0.941268173999715, 0.46205245112598503, 0.6259019622799237, 0.6259019622799237, 0.5360012074751885, 0.5543688683378393, 0.5360012074751885, 0.5543688683378393, 0.765205606324468, 0.6171889553531053, 0.765205606324468, 0.9142590017170057, 0.4436980583033375, 0.7782537005797351, 0.6598990556643708, 0.887997296333839, 0.4164671061171443, 0.4436980583033375, 0.7078773802518259, 0.3551246209926921, 0.6083999822497841, 0.7078773802518259, 0.7782537005797351, 0.7001589969198562, 0.6430806116047318, 0.5816292359744925, 0.7078773802518259, 0.7303154573808168, 0.4436980583033375, 0.4990214783140502, 0.7584851419386704, 0.5816292359744925, 0.651537031351976, 0.7845803107179642, 0.6430806116047318, 0.7446554724739265, 0.8251815971378507, 0.5360012074751885, 0.5816292359744925, 0.6923253188518114, 0.7154778187287896, 0.6259019622799237, 0.765205606324468, 0.8356127029223647, 0.6923253188518114, 0.7078773802518259, 0.8085675663252168, 0.6345340863495227, 0.7078773802518259, 0.5452004128192333, 0.3383462525166967, 0.8356127029223647, 0.5360012074751885, 0.5816292359744925, 0.9325211597136158, 0.8951565153958226, 0.7907749437202437, 0.7375485488072042, 0.3551246209926921, 0.722957901873652, 0.765205606324468, 0.6923253188518114, 0.6763238797823873, 0.8251815971378507, 0.5635004728622155, 0.5267774367641762, 0.40749383340802015, 0.6598990556643708, 0.3551246209926921, 0.7446554724739265, 0.6430806116047318, 0.7446554724739265, 0.8085675663252168, 0.7782537005797351, 0.7154778187287896, 0.7845803107179642, 0.5816292359744925, 0.6259019622799237, 0.765205606324468, 0.6598990556643708, 0.7078773802518259, 0.7782537005797351, 0.7154778187287896, 0.7782537005797351, 0.6259019622799237, 0.3636524724636999, 0.9019086668496099, 0.6598990556643708, 0.7375485488072042, 0.7078773802518259, 0.6923253188518114, 0.3139322880257179, 0.6923253188518114, 0.8639147836933277, 0.5995401508175907, 0.7782537005797351, 0.4436980583033375, 0.6259019622799237, 0.7584851419386704, 0.5360012074751885, 0.8356127029223647, 0.5725892244860964, 0.651537031351976, 0.8455379083873306, 0.8549678688746648, 0.6843792363944345, 0.8455379083873306, 0.765205606324468, 0.43457501342121924, 0.8549678688746648, 0.7907749437202437, 0.6430806116047318, 0.5543688683378393, 0.6598990556643708, 0.40749383340802015, 0.5635004728622155, 0.8356127029223647, 0.5816292359744925, 0.8682112722053241, 0.7845803107179642, 0.3551246209926921, 0.5267774367641762, 0.8085675663252168, 0.7001589969198562, 0.5360012074751885, 0.5175353519845768, 0.5175353519845768, 0.2754769327885896, 0.40749383340802015, 0.34668779992514015, 0.7717953292685138, 0.20793283186561765, 0.4897623733568337, 0.3636524724636999, 0.6681626178358427, 0.7078773802518259, 0.3985818398156112, 0.4990214783140502, 0.22039829474604425, 0.6345340863495227, 0.20793283186561765, 0.20189808989720734, 0.5082812544398188, 0.3636524724636999, 0.5452004128192333, 0.4254960756629841, 0.38096320978400594, 0.3139322880257179, 0.6259019622799237, 0.4436980583033375, 0.5543688683378393, 0.2754769327885896, 0.5360012074751885, 0.6598990556643708, 0.4436980583033375, 0.5543688683378393, 0.6681626178358427, 0.4436980583033375, 0.1736920062405972, 0.20189808989720734, 0.3301039975730218, 0.21409956395965105, 0.3897365481991345, 0.5906147495266368, 0.3139322880257179, 0.6598990556643708, 0.22682884823239477, 0.7078773802518259, 0.7516347536308627, 0.6681626178358427, 0.18458311494812005, 0.38096320978400594, 0.21409956395965105, 0.24008375200033943, 0.2905064913938509, 0.6681626178358427, 0.8549678688746648, 0.5082812544398188, 0.8197734873419239, 0.2538589006273162, 0.5175353519845768, 0.2829312949951419, 0.2681455270147869, 0.4436980583033375, 0.765205606324468, 0.1736920062405972, 0.4254960756629841, 0.45285923137321227, 0.4254960756629841, 0.5360012074751885, 0.3301039975730218, 0.5082812544398188, 0.7375485488072042, 0.5175353519845768, 0.471271549348794, 0.46205245112598503, 0.21409956395965105, 0.2538589006273162, 0.22039829474604425, 0.8085675663252168, 0.6259019622799237, 0.7717953292685138, 0.2905064913938509, 0.6598990556643708, 0.22039829474604425, 0.5360012074751885, 0.4897623733568337, 0.3301039975730218, 0.6430806116047318, 0.3219648242707817, 0.2829312949951419, 0.7845803107179642, 0.7907749437202437, 0.2905064913938509, 0.722957901873652, 0.43457501342121924, 0.3897365481991345, 0.5995401508175907, 0.3383462525166967, 0.24008375200033943, 0.9370362054051542, 0.3301039975730218, 0.6763238797823873, 0.471271549348794, 0.30600970739477734, 0.5082812544398188, 0.38096320978400594, 0.3383462525166967, 0.5543688683378393, 0.7303154573808168, 0.4164671061171443, 0.34668779992514015, 0.2754769327885896, 0.3383462525166967, 0.3383462525166967, 0.4990214783140502, 0.5995401508175907, 0.7516347536308627, 0.8197734873419239, 0.5452004128192333, 0.7375485488072042, 0.887997296333839, 0.43457501342121924, 0.4254960756629841, 0.3301039975730218, 0.840637916403869, 0.2829312949951419, 0.3722668928641893, 0.3551246209926921, 0.2829312949951419, 0.6083999822497841, 0.22039829474604425, 0.8549678688746648, 0.3139322880257179, 0.3551246209926921, 0.2609389646425221, 0.4990214783140502, 0.14406414823031585, 0.2905064913938509, 0.6083999822497841, 0.195995152679382, 0.3301039975730218, 0.6681626178358427, 0.13089560237572187, 0.8595008910828382, 0.3551246209926921, 0.7516347536308627, 0.2538589006273162, 0.2609389646425221, 0.21409956395965105, 0.3722668928641893, 0.29820016199230787, 0.6923253188518114, 0.45285923137321227, 0.2609389646425221, 0.7717953292685138, 0.2754769327885896, 0.3383462525166967, 0.3139322880257179, 0.195995152679382, 0.40749383340802015, 0.3985818398156112, 0.6259019622799237, 0.34668779992514015, 0.40749383340802015, 0.3636524724636999, 0.4254960756629841, 0.4254960756629841, 0.2469067618957088, 0.6171889553531053, 0.4805102874772629, 0.6681626178358427, 0.7446554724739265, 0.2469067618957088, 0.8027683375875693, 0.6923253188518114, 0.471271549348794, 0.3301039975730218, 0.3301039975730218, 0.1351675069003893, 0.4436980583033375, 0.3722668928641893, 0.6923253188518114, 0.2538589006273162, 0.3383462525166967, 0.8085675663252168, 0.471271549348794, 0.38096320978400594, 0.765205606324468, 0.3551246209926921, 0.6681626178358427, 0.3897365481991345, 0.3897365481991345, 0.24008375200033943, 0.34668779992514015, 0.6923253188518114, 0.3722668928641893, 0.43457501342121924, 0.3383462525166967, 0.43457501342121924, 0.2681455270147869, 0.5267774367641762, 0.2538589006273162, 0.4897623733568337, 0.22039829474604425, 0.3551246209926921, 0.40749383340802015, 0.6171889553531053, 0.1684396899522401, 0.3636524724636999, 0.30600970739477734, 0.3139322880257179, 0.6171889553531053, 0.10411106855100558, 0.2609389646425221, 0.2609389646425221, 0.40749383340802015, 0.471271549348794, 0.2754769327885896, 0.6598990556643708, 0.651537031351976, 0.2469067618957088, 0.6083999822497841, 0.195995152679382, 0.6083999822497841, 0.8503140650220352, 0.5725892244860964, 0.3383462525166967, 0.1534424662560065, 0.4805102874772629, 0.5360012074751885, 0.1790728321779459, 0.34668779992514015, 0.4805102874772629, 0.4897623733568337, 0.3551246209926921, 0.7078773802518259, 0.3897365481991345, 0.2609389646425221, 0.4436980583033375, 0.195995152679382, 0.5082812544398188, 0.3551246209926921, 0.5175353519845768, 0.4990214783140502, 0.3722668928641893, 0.46205245112598503, 0.3985818398156112, 0.5175353519845768, 0.7584851419386704, 0.16331480875105697, 0.4164671061171443, 0.6843792363944345, 0.38096320978400594, 0.3383462525166967, 0.5635004728622155, 0.6083999822497841, 0.3722668928641893, 0.2681455270147869, 0.2609389646425221, 0.6083999822497841, 0.3551246209926921, 0.2681455270147869, 0.2905064913938509, 0.3383462525166967, 0.2538589006273162, 0.4164671061171443, 0.46205245112598503, 0.7907749437202437, 0.7446554724739265, 0.2829312949951419, 0.5082812544398188, 0.3897365481991345, 0.3383462525166967, 0.3985818398156112, 0.4254960756629841, 0.4254960756629841, 0.3219648242707817, 0.6171889553531053, 0.5082812544398188, 0.21409956395965105, 0.6259019622799237, 0.2469067618957088, 0.34668779992514015, 0.5360012074751885, 0.4805102874772629, 0.4990214783140502, 0.3301039975730218, 0.2829312949951419, 0.4436980583033375, 0.30600970739477734, 0.4990214783140502, 0.4990214783140502, 0.5725892244860964, 0.195995152679382, 0.8804145196899192, 0.6843792363944345, 0.6083999822497841, 0.5267774367641762, 0.7446554724739265, 0.2469067618957088, 0.2538589006273162]}, {\"marker\": {\"color\": \"red\"}, \"mode\": \"markers\", \"name\": \"Our Model Heart Disease Probabilities\", \"type\": \"scatter\", \"x\": [172, 156, 98, 108, 122, 170, 170, 142, 130, 120, 142, 99, 145, 140, 137, 150, 166, 165, 125, 160, 142, 142, 164, 150, 138, 178, 112, 118, 127, 145, 130, 114, 122, 130, 154, 155, 87, 142, 148, 130, 130, 100, 168, 170, 120, 120, 168, 170, 184, 170, 121, 98, 122, 150, 140, 170, 153, 140, 134, 96, 174, 175, 144, 125, 145, 130, 144, 184, 82, 170, 145, 135, 150, 115, 128, 116, 130, 150, 138, 170, 160, 154, 115, 165, 125, 94, 112, 142, 155, 110, 160, 140, 148, 92, 180, 140, 138, 160, 140, 144, 115, 100, 130, 152, 124, 140, 110, 168, 135, 106, 124, 92, 125, 150, 135, 150, 170, 130, 185, 180, 170, 139, 140, 110, 150, 110, 190, 175, 140, 152, 130, 150, 122, 124, 120, 175, 175, 146, 118, 130, 94, 125, 158, 155, 150, 132, 155, 176, 160, 125, 120, 100, 150, 140, 160, 150, 150, 130, 100, 130, 119, 96, 174, 150, 140, 175, 140, 118, 100, 160, 160, 188, 162, 172, 134, 135, 105, 150, 150, 90, 120, 150, 124, 140, 130, 92, 110, 138, 110, 120, 120, 116, 160, 110, 180, 116, 132, 136, 116, 98, 150, 150, 146, 150, 100, 140, 180, 140, 185, 140, 110, 140, 128, 164, 98, 170, 150, 137, 150, 170, 112, 150, 125, 185, 137, 150, 140, 134, 170, 184, 158, 167, 129, 142, 140, 160, 118, 136, 99, 102, 155, 142, 143, 118, 103, 137, 150, 150, 130, 120, 135, 115, 115, 152, 96, 130, 150, 172, 120, 155, 165, 138, 115, 125, 145, 175, 110, 150, 91, 145, 140, 165, 130, 134, 180, 100, 150, 126, 126, 155, 135, 122, 160, 160, 170, 120, 140, 132, 156, 180, 138, 135, 148, 93, 127, 110, 139, 131, 92, 149, 149, 150, 120, 123, 126, 127, 155, 120, 138, 182, 154, 110, 176, 154, 141, 123, 148, 121, 77, 136, 175, 109, 166, 128, 133, 128, 138, 119, 82, 130, 143, 82, 179, 144, 170, 134, 114, 154, 149, 145, 122, 114, 113, 120, 104, 130, 115, 128, 104, 125, 120, 140, 100, 100, 92, 125, 113, 95, 128, 115, 72, 124, 99, 148, 97, 140, 117, 120, 120, 86, 63, 108, 98, 115, 105, 121, 118, 122, 157, 156, 99, 120, 145, 156, 155, 105, 99, 135, 83, 145, 60, 92, 115, 120, 98, 150, 143, 105, 122, 70, 110, 163, 67, 128, 120, 130, 100, 72, 94, 122, 78, 150, 103, 98, 110, 90, 112, 127, 140, 149, 99, 120, 105, 140, 141, 157, 140, 117, 120, 120, 148, 86, 84, 125, 120, 118, 124, 106, 111, 116, 180, 129, 125, 140, 120, 124, 117, 110, 105, 155, 110, 122, 118, 133, 123, 131, 80, 165, 86, 111, 118, 84, 117, 107, 128, 160, 125, 130, 97, 161, 106, 130, 140, 122, 130, 120, 139, 108, 148, 123, 110, 118, 125, 106, 112, 128, 180, 144, 135, 140, 102, 108, 145, 127, 110, 140, 69, 148, 130, 130, 140, 138, 140, 138, 112, 131, 112, 80, 150, 110, 126, 88, 153, 150, 120, 160, 132, 120, 110, 121, 128, 135, 120, 117, 150, 144, 113, 135, 127, 109, 128, 115, 102, 140, 135, 122, 119, 130, 112, 100, 122, 120, 105, 129, 120, 139, 162, 100, 140, 135, 73, 86, 108, 116, 160, 118, 112, 122, 124, 102, 137, 141, 154, 126, 160, 115, 128, 115, 105, 110, 119, 109, 135, 130, 112, 126, 120, 110, 119, 110, 130, 159, 84, 126, 116, 120, 122, 165, 122, 94, 133, 110, 150, 130, 113, 140, 100, 136, 127, 98, 96, 123, 98, 112, 151, 96, 108, 128, 138, 126, 154, 137, 100, 135, 93, 109, 160, 141, 105, 121, 140, 142, 142, 170, 154, 161, 111, 180, 145, 159, 125, 120, 155, 144, 178, 129, 180, 181, 143, 159, 139, 152, 157, 165, 130, 150, 138, 170, 140, 126, 150, 138, 125, 150, 186, 181, 163, 179, 156, 134, 165, 126, 177, 120, 114, 125, 184, 157, 179, 175, 168, 125, 96, 143, 103, 173, 142, 169, 171, 150, 112, 186, 152, 149, 152, 140, 163, 143, 116, 142, 147, 148, 179, 173, 178, 105, 130, 111, 168, 126, 178, 140, 145, 163, 128, 164, 169, 109, 108, 168, 118, 151, 156, 133, 162, 175, 71, 163, 124, 147, 166, 143, 157, 162, 138, 117, 153, 161, 170, 162, 162, 144, 133, 114, 103, 139, 116, 88, 151, 152, 163, 99, 169, 158, 160, 169, 132, 178, 96, 165, 160, 172, 144, 192, 168, 132, 182, 163, 125, 195, 95, 160, 114, 173, 172, 179, 158, 167, 122, 149, 172, 111, 170, 162, 165, 182, 154, 155, 130, 161, 154, 159, 152, 152, 174, 131, 146, 125, 115, 174, 106, 122, 147, 163, 163, 194, 150, 158, 122, 173, 162, 105, 147, 157, 112, 160, 125, 156, 156, 175, 161, 122, 158, 151, 162, 151, 171, 141, 173, 145, 178, 160, 154, 131, 187, 159, 166, 165, 131, 202, 172, 172, 154, 147, 170, 126, 127, 174, 132, 182, 132, 97, 136, 162, 190, 146, 140, 185, 161, 146, 145, 160, 120, 156, 172, 150, 182, 143, 160, 142, 144, 158, 148, 155, 142, 113, 188, 153, 123, 157, 162, 137, 132, 158, 171, 172, 132, 160, 171, 168, 162, 173, 153, 148, 108, 115, 169, 143, 156, 162, 155, 152, 152, 164, 131, 143, 179, 130, 174, 161, 140, 146, 144, 163, 169, 150, 166, 144, 144, 136, 182, 90, 123, 132, 141, 115, 174, 173], \"y\": [0.25677260826248144, 0.3891808036545825, 0.8542012263260003, 0.7998577491540045, 0.700537381804953, 0.2716426511090315, 0.2716426511090315, 0.521184914938321, 0.6327031664608319, 0.7163372217616514, 0.521184914938321, 0.8493722518066307, 0.4925081272914818, 0.5402370995807575, 0.5685793669860298, 0.4449153311975046, 0.3029496914992421, 0.3110880572159386, 0.6759229899635669, 0.35348153351664435, 0.521184914938321, 0.521184914938321, 0.3193448887301161, 0.4449153311975046, 0.5591724001548031, 0.21545844915188445, 0.7742369539355616, 0.7316228094659999, 0.6589438513407454, 0.4925081272914818, 0.6327031664608319, 0.7605842335611366, 0.700537381804953, 0.6327031664608319, 0.40751442316518327, 0.39831195967599764, 0.8992325804206311, 0.521184914938321, 0.4638805541275095, 0.6327031664608319, 0.6327031664608319, 0.8444124697222056, 0.28704125618054205, 0.2716426511090315, 0.7163372217616514, 0.7163372217616514, 0.28704125618054205, 0.2716426511090315, 0.1791889988409036, 0.2716426511090315, 0.7085003026181178, 0.8542012263260003, 0.700537381804953, 0.4449153311975046, 0.5402370995807575, 0.2716426511090315, 0.4167822243858474, 0.5402370995807575, 0.5964794819328147, 0.863473698460103, 0.24244561484288782, 0.23548916403682435, 0.5020709010802509, 0.6759229899635669, 0.4925081272914818, 0.6327031664608319, 0.5020709010802509, 0.1791889988409036, 0.915288934465064, 0.2716426511090315, 0.4925081272914818, 0.587239233256991, 0.4449153311975046, 0.7535491813791267, 0.650295376554498, 0.7463763420310158, 0.6327031664608319, 0.4449153311975046, 0.5591724001548031, 0.2716426511090315, 0.35348153351664435, 0.40751442316518327, 0.7535491813791267, 0.3110880572159386, 0.6759229899635669, 0.8722446598048953, 0.7742369539355616, 0.521184914938321, 0.39831195967599764, 0.7873288201148924, 0.35348153351664435, 0.5402370995807575, 0.4638805541275095, 0.8805301045191037, 0.20280761319289028, 0.5402370995807575, 0.5591724001548031, 0.35348153351664435, 0.5402370995807575, 0.5020709010802509, 0.7535491813791267, 0.8444124697222056, 0.6327031664608319, 0.4261092123280119, 0.6842454143579126, 0.5402370995807575, 0.7873288201148924, 0.28704125618054205, 0.587239233256991, 0.8118249820664332, 0.6842454143579126, 0.8805301045191037, 0.6759229899635669, 0.4449153311975046, 0.587239233256991, 0.4449153311975046, 0.2716426511090315, 0.6327031664608319, 0.17363155854257087, 0.20280761319289028, 0.2716426511090315, 0.5497227557464922, 0.5402370995807575, 0.7873288201148924, 0.4449153311975046, 0.7873288201148924, 0.14787422193220584, 0.23548916403682435, 0.5402370995807575, 0.4261092123280119, 0.6327031664608319, 0.4449153311975046, 0.700537381804953, 0.6842454143579126, 0.7163372217616514, 0.23548916403682435, 0.23548916403682435, 0.48295083244542136, 0.7316228094659999, 0.6327031664608319, 0.8722446598048953, 0.6759229899635669, 0.37115530172863814, 0.39831195967599764, 0.4449153311975046, 0.6147502536500421, 0.39831195967599764, 0.22867206302689844, 0.35348153351664435, 0.6759229899635669, 0.7163372217616514, 0.8444124697222056, 0.4449153311975046, 0.5402370995807575, 0.35348153351664435, 0.4449153311975046, 0.4449153311975046, 0.6327031664608319, 0.8444124697222056, 0.6327031664608319, 0.7240455101865529, 0.863473698460103, 0.24244561484288782, 0.4449153311975046, 0.5402370995807575, 0.23548916403682435, 0.5402370995807575, 0.7316228094659999, 0.8444124697222056, 0.35348153351664435, 0.35348153351664435, 0.1577765840755785, 0.3361994176778191, 0.25677260826248144, 0.5964794819328147, 0.587239233256991, 0.8175991865063247, 0.4449153311975046, 0.4449153311975046, 0.8883469885785374, 0.7163372217616514, 0.4449153311975046, 0.6842454143579126, 0.5402370995807575, 0.6327031664608319, 0.8805301045191037, 0.7873288201148924, 0.5591724001548031, 0.7873288201148924, 0.7163372217616514, 0.7163372217616514, 0.7463763420310158, 0.35348153351664435, 0.7873288201148924, 0.20280761319289028, 0.7463763420310158, 0.6147502536500421, 0.5779371126047042, 0.7463763420310158, 0.8542012263260003, 0.4449153311975046, 0.4449153311975046, 0.48295083244542136, 0.4449153311975046, 0.8444124697222056, 0.5402370995807575, 0.20280761319289028, 0.5402370995807575, 0.17363155854257087, 0.5402370995807575, 0.7873288201148924, 0.5402370995807575, 0.650295376554498, 0.3193448887301161, 0.8542012263260003, 0.2716426511090315, 0.4449153311975046, 0.5685793669860298, 0.4449153311975046, 0.2716426511090315, 0.7742369539355616, 0.4449153311975046, 0.6759229899635669, 0.17363155854257087, 0.5685793669860298, 0.4449153311975046, 0.5402370995807575, 0.5964794819328147, 0.2716426511090315, 0.1791889988409036, 0.37115530172863814, 0.2949330845572278, 0.6415468935122152, 0.521184914938321, 0.5402370995807575, 0.35348153351664435, 0.7316228094659999, 0.5779371126047042, 0.8493722518066307, 0.8340941522912639, 0.39831195967599764, 0.521184914938321, 0.5116321600674157, 0.7316228094659999, 0.828732740508346, 0.5685793669860298, 0.4449153311975046, 0.4449153311975046, 0.6327031664608319, 0.7163372217616514, 0.587239233256991, 0.7535491813791267, 0.7535491813791267, 0.4261092123280119, 0.863473698460103, 0.6327031664608319, 0.4449153311975046, 0.25677260826248144, 0.7163372217616514, 0.39831195967599764, 0.3110880572159386, 0.5591724001548031, 0.7535491813791267, 0.6759229899635669, 0.4925081272914818, 0.23548916403682435, 0.7873288201148924, 0.4449153311975046, 0.8844960259788199, 0.4925081272914818, 0.5402370995807575, 0.3110880572159386, 0.6327031664608319, 0.5964794819328147, 0.20280761319289028, 0.8444124697222056, 0.4449153311975046, 0.6674878064840175, 0.6674878064840175, 0.39831195967599764, 0.587239233256991, 0.700537381804953, 0.35348153351664435, 0.35348153351664435, 0.2716426511090315, 0.7163372217616514, 0.5402370995807575, 0.6147502536500421, 0.3891808036545825, 0.20280761319289028, 0.5591724001548031, 0.587239233256991, 0.4638805541275095, 0.8764470316372661, 0.6589438513407454, 0.7873288201148924, 0.5497227557464922, 0.6237692047242553, 0.8805301045191037, 0.45438139689713986, 0.45438139689713986, 0.4449153311975046, 0.7163372217616514, 0.6924513608182631, 0.6674878064840175, 0.6589438513407454, 0.39831195967599764, 0.7163372217616514, 0.5591724001548031, 0.19071900934871555, 0.40751442316518327, 0.7873288201148924, 0.22867206302689844, 0.40751442316518327, 0.5307222012269447, 0.6924513608182631, 0.4638805541275095, 0.7085003026181178, 0.9289888929971647, 0.5779371126047042, 0.23548916403682435, 0.793663648723056, 0.3029496914992421, 0.650295376554498, 0.6056517843028829, 0.650295376554498, 0.5591724001548031, 0.7240455101865529, 0.915288934465064, 0.6327031664608319, 0.5116321600674157, 0.915288934465064, 0.20906264203519442, 0.5020709010802509, 0.2716426511090315, 0.5964794819328147, 0.7605842335611366, 0.40751442316518327, 0.45438139689713986, 0.4925081272914818, 0.700537381804953, 0.7605842335611366, 0.7674804327687974, 0.7163372217616514, 0.823234787337982, 0.6327031664608319, 0.7535491813791267, 0.650295376554498, 0.823234787337982, 0.6759229899635669, 0.7163372217616514, 0.5402370995807575, 0.8444124697222056, 0.8444124697222056, 0.8805301045191037, 0.6759229899635669, 0.7674804327687974, 0.8679208938258551, 0.650295376554498, 0.7535491813791267, 0.9406169640395118, 0.6842454143579126, 0.8493722518066307, 0.4638805541275095, 0.8589011063628177, 0.5402370995807575, 0.7390670289598749, 0.7163372217616514, 0.7163372217616514, 0.9026462971613496, 0.9571726915322153, 0.7998577491540045, 0.8542012263260003, 0.7535491813791267, 0.8175991865063247, 0.7085003026181178, 0.7316228094659999, 0.700537381804953, 0.3801267292343676, 0.3891808036545825, 0.8493722518066307, 0.7163372217616514, 0.4925081272914818, 0.3891808036545825, 0.39831195967599764, 0.8175991865063247, 0.8493722518066307, 0.587239233256991, 0.9122754489680704, 0.4925081272914818, 0.9616379019100554, 0.8805301045191037, 0.7535491813791267, 0.7163372217616514, 0.8542012263260003, 0.4449153311975046, 0.5116321600674157, 0.8175991865063247, 0.700537381804953, 0.9447490697404549, 0.7873288201148924, 0.32771662074200925, 0.9504425133084851, 0.650295376554498, 0.7163372217616514, 0.6327031664608319, 0.8444124697222056, 0.9406169640395118, 0.8722446598048953, 0.700537381804953, 0.9264235888607154, 0.4449153311975046, 0.828732740508346, 0.8542012263260003, 0.7873288201148924, 0.8883469885785374, 0.7742369539355616, 0.6589438513407454, 0.5402370995807575, 0.45438139689713986, 0.8493722518066307, 0.7163372217616514, 0.8175991865063247, 0.5402370995807575, 0.5307222012269447, 0.3801267292343676, 0.5402370995807575, 0.7390670289598749, 0.7163372217616514, 0.7163372217616514, 0.4638805541275095, 0.9026462971613496, 0.9091654014246233, 0.6759229899635669, 0.7163372217616514, 0.7316228094659999, 0.6842454143579126, 0.8118249820664332, 0.7808532052452579, 0.7463763420310158, 0.20280761319289028, 0.6415468935122152, 0.6759229899635669, 0.5402370995807575, 0.7163372217616514, 0.6842454143579126, 0.7390670289598749, 0.7873288201148924, 0.8175991865063247, 0.39831195967599764, 0.7873288201148924, 0.700537381804953, 0.7316228094659999, 0.6056517843028829, 0.6924513608182631, 0.6237692047242553, 0.9210355093575302, 0.3110880572159386, 0.9026462971613496, 0.7808532052452579, 0.7316228094659999, 0.9091654014246233, 0.7390670289598749, 0.805911378225541, 0.650295376554498, 0.35348153351664435, 0.6759229899635669, 0.6327031664608319, 0.8589011063628177, 0.3447891769585344, 0.8118249820664332, 0.6327031664608319, 0.5402370995807575, 0.700537381804953, 0.6327031664608319, 0.7163372217616514, 0.5497227557464922, 0.7998577491540045, 0.4638805541275095, 0.6924513608182631, 0.7873288201148924, 0.7316228094659999, 0.6759229899635669, 0.8118249820664332, 0.7742369539355616, 0.650295376554498, 0.20280761319289028, 0.5020709010802509, 0.587239233256991, 0.5402370995807575, 0.8340941522912639, 0.7998577491540045, 0.4925081272914818, 0.6589438513407454, 0.7873288201148924, 0.5402370995807575, 0.9467121918043774, 0.4638805541275095, 0.6327031664608319, 0.6327031664608319, 0.5402370995807575, 0.5591724001548031, 0.5402370995807575, 0.5591724001548031, 0.7742369539355616, 0.6237692047242553, 0.7742369539355616, 0.9210355093575302, 0.4449153311975046, 0.7873288201148924, 0.6674878064840175, 0.8957129911559268, 0.4167822243858474, 0.4449153311975046, 0.7163372217616514, 0.35348153351664435, 0.6147502536500421, 0.7163372217616514, 0.7873288201148924, 0.7085003026181178, 0.650295376554498, 0.587239233256991, 0.7163372217616514, 0.7390670289598749, 0.4449153311975046, 0.5020709010802509, 0.7674804327687974, 0.587239233256991, 0.6589438513407454, 0.793663648723056, 0.650295376554498, 0.7535491813791267, 0.8340941522912639, 0.5402370995807575, 0.587239233256991, 0.700537381804953, 0.7240455101865529, 0.6327031664608319, 0.7742369539355616, 0.8444124697222056, 0.700537381804953, 0.7163372217616514, 0.8175991865063247, 0.6415468935122152, 0.7163372217616514, 0.5497227557464922, 0.3361994176778191, 0.8444124697222056, 0.5402370995807575, 0.587239233256991, 0.9384438942010975, 0.9026462971613496, 0.7998577491540045, 0.7463763420310158, 0.35348153351664435, 0.7316228094659999, 0.7742369539355616, 0.700537381804953, 0.6842454143579126, 0.8340941522912639, 0.5685793669860298, 0.5307222012269447, 0.40751442316518327, 0.6674878064840175, 0.35348153351664435, 0.7535491813791267, 0.650295376554498, 0.7535491813791267, 0.8175991865063247, 0.7873288201148924, 0.7240455101865529, 0.793663648723056, 0.587239233256991, 0.6327031664608319, 0.7742369539355616, 0.6674878064840175, 0.7163372217616514, 0.7873288201148924, 0.7240455101865529, 0.7873288201148924, 0.6327031664608319, 0.36227186557950114, 0.9091654014246233, 0.6674878064840175, 0.7463763420310158, 0.7163372217616514, 0.700537381804953, 0.3110880572159386, 0.700537381804953, 0.8722446598048953, 0.6056517843028829, 0.7873288201148924, 0.4449153311975046, 0.6327031664608319, 0.7674804327687974, 0.5402370995807575, 0.8444124697222056, 0.5779371126047042, 0.6589438513407454, 0.8542012263260003, 0.863473698460103, 0.6924513608182631, 0.8542012263260003, 0.7742369539355616, 0.4354890700841881, 0.863473698460103, 0.7998577491540045, 0.650295376554498, 0.5591724001548031, 0.6674878064840175, 0.40751442316518327, 0.5685793669860298, 0.8444124697222056, 0.587239233256991, 0.8764470316372661, 0.793663648723056, 0.35348153351664435, 0.5307222012269447, 0.8175991865063247, 0.7085003026181178, 0.5402370995807575, 0.521184914938321, 0.521184914938321, 0.2716426511090315, 0.40751442316518327, 0.3447891769585344, 0.7808532052452579, 0.20280761319289028, 0.4925081272914818, 0.36227186557950114, 0.6759229899635669, 0.7163372217616514, 0.39831195967599764, 0.5020709010802509, 0.21545844915188445, 0.6415468935122152, 0.20280761319289028, 0.19669319073390812, 0.5116321600674157, 0.36227186557950114, 0.5497227557464922, 0.4261092123280119, 0.3801267292343676, 0.3110880572159386, 0.6327031664608319, 0.4449153311975046, 0.5591724001548031, 0.2716426511090315, 0.5402370995807575, 0.6674878064840175, 0.4449153311975046, 0.5591724001548031, 0.6759229899635669, 0.4449153311975046, 0.16821115657701036, 0.19669319073390812, 0.32771662074200925, 0.20906264203519442, 0.3891808036545825, 0.5964794819328147, 0.3110880572159386, 0.6674878064840175, 0.2219950036935472, 0.7163372217616514, 0.7605842335611366, 0.6759229899635669, 0.1791889988409036, 0.3801267292343676, 0.20906264203519442, 0.23548916403682435, 0.28704125618054205, 0.6759229899635669, 0.863473698460103, 0.5116321600674157, 0.828732740508346, 0.2495404870010426, 0.521184914938321, 0.2792769532506783, 0.264140555962108, 0.4449153311975046, 0.7742369539355616, 0.16821115657701036, 0.4261092123280119, 0.45438139689713986, 0.4261092123280119, 0.5402370995807575, 0.32771662074200925, 0.5116321600674157, 0.7463763420310158, 0.521184914938321, 0.4734059942695639, 0.4638805541275095, 0.20906264203519442, 0.2495404870010426, 0.21545844915188445, 0.8175991865063247, 0.6327031664608319, 0.7808532052452579, 0.28704125618054205, 0.6674878064840175, 0.21545844915188445, 0.5402370995807575, 0.4925081272914818, 0.32771662074200925, 0.650295376554498, 0.3193448887301161, 0.2792769532506783, 0.793663648723056, 0.7998577491540045, 0.28704125618054205, 0.7316228094659999, 0.4354890700841881, 0.3891808036545825, 0.6056517843028829, 0.3361994176778191, 0.23548916403682435, 0.942718002184253, 0.32771662074200925, 0.6842454143579126, 0.4734059942695639, 0.3029496914992421, 0.5116321600674157, 0.3801267292343676, 0.3361994176778191, 0.5591724001548031, 0.7390670289598749, 0.4167822243858474, 0.3447891769585344, 0.2716426511090315, 0.3361994176778191, 0.3361994176778191, 0.5020709010802509, 0.6056517843028829, 0.7605842335611366, 0.828732740508346, 0.5497227557464922, 0.7463763420310158, 0.8957129911559268, 0.4354890700841881, 0.4261092123280119, 0.32771662074200925, 0.8493722518066307, 0.2792769532506783, 0.37115530172863814, 0.35348153351664435, 0.2792769532506783, 0.6147502536500421, 0.21545844915188445, 0.863473698460103, 0.3110880572159386, 0.35348153351664435, 0.25677260826248144, 0.5020709010802509, 0.13849115606606635, 0.28704125618054205, 0.6147502536500421, 0.19071900934871555, 0.32771662074200925, 0.6759229899635669, 0.1253582199636118, 0.8679208938258551, 0.35348153351664435, 0.7605842335611366, 0.2495404870010426, 0.25677260826248144, 0.20906264203519442, 0.37115530172863814, 0.2949330845572278, 0.700537381804953, 0.45438139689713986, 0.25677260826248144, 0.7808532052452579, 0.2716426511090315, 0.3361994176778191, 0.3110880572159386, 0.19071900934871555, 0.40751442316518327, 0.39831195967599764, 0.6327031664608319, 0.3447891769585344, 0.40751442316518327, 0.36227186557950114, 0.4261092123280119, 0.4261092123280119, 0.24244561484288782, 0.6237692047242553, 0.48295083244542136, 0.6759229899635669, 0.7535491813791267, 0.24244561484288782, 0.8118249820664332, 0.700537381804953, 0.4734059942695639, 0.32771662074200925, 0.32771662074200925, 0.12961291297326694, 0.4449153311975046, 0.37115530172863814, 0.700537381804953, 0.2495404870010426, 0.3361994176778191, 0.8175991865063247, 0.4734059942695639, 0.3801267292343676, 0.7742369539355616, 0.35348153351664435, 0.6759229899635669, 0.3891808036545825, 0.3891808036545825, 0.23548916403682435, 0.3447891769585344, 0.700537381804953, 0.37115530172863814, 0.4354890700841881, 0.3361994176778191, 0.4354890700841881, 0.264140555962108, 0.5307222012269447, 0.2495404870010426, 0.4925081272914818, 0.21545844915188445, 0.35348153351664435, 0.40751442316518327, 0.6237692047242553, 0.16292660580403526, 0.36227186557950114, 0.3029496914992421, 0.3110880572159386, 0.6237692047242553, 0.0988193137380746, 0.25677260826248144, 0.25677260826248144, 0.40751442316518327, 0.4734059942695639, 0.2716426511090315, 0.6674878064840175, 0.6589438513407454, 0.24244561484288782, 0.6147502536500421, 0.19071900934871555, 0.6147502536500421, 0.8589011063628177, 0.5779371126047042, 0.3361994176778191, 0.14787422193220584, 0.48295083244542136, 0.5402370995807575, 0.17363155854257087, 0.3447891769585344, 0.48295083244542136, 0.4925081272914818, 0.35348153351664435, 0.7163372217616514, 0.3891808036545825, 0.25677260826248144, 0.4449153311975046, 0.19071900934871555, 0.5116321600674157, 0.35348153351664435, 0.521184914938321, 0.5020709010802509, 0.37115530172863814, 0.4638805541275095, 0.39831195967599764, 0.521184914938321, 0.7674804327687974, 0.1577765840755785, 0.4167822243858474, 0.6924513608182631, 0.3801267292343676, 0.3361994176778191, 0.5685793669860298, 0.6147502536500421, 0.37115530172863814, 0.264140555962108, 0.25677260826248144, 0.6147502536500421, 0.35348153351664435, 0.264140555962108, 0.28704125618054205, 0.3361994176778191, 0.2495404870010426, 0.4167822243858474, 0.4638805541275095, 0.7998577491540045, 0.7535491813791267, 0.2792769532506783, 0.5116321600674157, 0.3891808036545825, 0.3361994176778191, 0.39831195967599764, 0.4261092123280119, 0.4261092123280119, 0.3193448887301161, 0.6237692047242553, 0.5116321600674157, 0.20906264203519442, 0.6327031664608319, 0.24244561484288782, 0.3447891769585344, 0.5402370995807575, 0.48295083244542136, 0.5020709010802509, 0.32771662074200925, 0.2792769532506783, 0.4449153311975046, 0.3029496914992421, 0.5020709010802509, 0.5020709010802509, 0.5779371126047042, 0.19071900934871555, 0.8883469885785374, 0.6924513608182631, 0.6147502536500421, 0.5307222012269447, 0.7535491813791267, 0.24244561484288782, 0.2495404870010426]}, {\"marker\": {\"color\": \"purple\"}, \"name\": \"Threshold\", \"type\": \"scatter\", \"x\": [172, 156, 98, 108, 122, 170, 170, 142, 130, 120, 142, 99, 145, 140, 137, 150, 166, 165, 125, 160, 142, 142, 164, 150, 138, 178, 112, 118, 127, 145, 130, 114, 122, 130, 154, 155, 87, 142, 148, 130, 130, 100, 168, 170, 120, 120, 168, 170, 184, 170, 121, 98, 122, 150, 140, 170, 153, 140, 134, 96, 174, 175, 144, 125, 145, 130, 144, 184, 82, 170, 145, 135, 150, 115, 128, 116, 130, 150, 138, 170, 160, 154, 115, 165, 125, 94, 112, 142, 155, 110, 160, 140, 148, 92, 180, 140, 138, 160, 140, 144, 115, 100, 130, 152, 124, 140, 110, 168, 135, 106, 124, 92, 125, 150, 135, 150, 170, 130, 185, 180, 170, 139, 140, 110, 150, 110, 190, 175, 140, 152, 130, 150, 122, 124, 120, 175, 175, 146, 118, 130, 94, 125, 158, 155, 150, 132, 155, 176, 160, 125, 120, 100, 150, 140, 160, 150, 150, 130, 100, 130, 119, 96, 174, 150, 140, 175, 140, 118, 100, 160, 160, 188, 162, 172, 134, 135, 105, 150, 150, 90, 120, 150, 124, 140, 130, 92, 110, 138, 110, 120, 120, 116, 160, 110, 180, 116, 132, 136, 116, 98, 150, 150, 146, 150, 100, 140, 180, 140, 185, 140, 110, 140, 128, 164, 98, 170, 150, 137, 150, 170, 112, 150, 125, 185, 137, 150, 140, 134, 170, 184, 158, 167, 129, 142, 140, 160, 118, 136, 99, 102, 155, 142, 143, 118, 103, 137, 150, 150, 130, 120, 135, 115, 115, 152, 96, 130, 150, 172, 120, 155, 165, 138, 115, 125, 145, 175, 110, 150, 91, 145, 140, 165, 130, 134, 180, 100, 150, 126, 126, 155, 135, 122, 160, 160, 170, 120, 140, 132, 156, 180, 138, 135, 148, 93, 127, 110, 139, 131, 92, 149, 149, 150, 120, 123, 126, 127, 155, 120, 138, 182, 154, 110, 176, 154, 141, 123, 148, 121, 77, 136, 175, 109, 166, 128, 133, 128, 138, 119, 82, 130, 143, 82, 179, 144, 170, 134, 114, 154, 149, 145, 122, 114, 113, 120, 104, 130, 115, 128, 104, 125, 120, 140, 100, 100, 92, 125, 113, 95, 128, 115, 72, 124, 99, 148, 97, 140, 117, 120, 120, 86, 63, 108, 98, 115, 105, 121, 118, 122, 157, 156, 99, 120, 145, 156, 155, 105, 99, 135, 83, 145, 60, 92, 115, 120, 98, 150, 143, 105, 122, 70, 110, 163, 67, 128, 120, 130, 100, 72, 94, 122, 78, 150, 103, 98, 110, 90, 112, 127, 140, 149, 99, 120, 105, 140, 141, 157, 140, 117, 120, 120, 148, 86, 84, 125, 120, 118, 124, 106, 111, 116, 180, 129, 125, 140, 120, 124, 117, 110, 105, 155, 110, 122, 118, 133, 123, 131, 80, 165, 86, 111, 118, 84, 117, 107, 128, 160, 125, 130, 97, 161, 106, 130, 140, 122, 130, 120, 139, 108, 148, 123, 110, 118, 125, 106, 112, 128, 180, 144, 135, 140, 102, 108, 145, 127, 110, 140, 69, 148, 130, 130, 140, 138, 140, 138, 112, 131, 112, 80, 150, 110, 126, 88, 153, 150, 120, 160, 132, 120, 110, 121, 128, 135, 120, 117, 150, 144, 113, 135, 127, 109, 128, 115, 102, 140, 135, 122, 119, 130, 112, 100, 122, 120, 105, 129, 120, 139, 162, 100, 140, 135, 73, 86, 108, 116, 160, 118, 112, 122, 124, 102, 137, 141, 154, 126, 160, 115, 128, 115, 105, 110, 119, 109, 135, 130, 112, 126, 120, 110, 119, 110, 130, 159, 84, 126, 116, 120, 122, 165, 122, 94, 133, 110, 150, 130, 113, 140, 100, 136, 127, 98, 96, 123, 98, 112, 151, 96, 108, 128, 138, 126, 154, 137, 100, 135, 93, 109, 160, 141, 105, 121, 140, 142, 142, 170, 154, 161, 111, 180, 145, 159, 125, 120, 155, 144, 178, 129, 180, 181, 143, 159, 139, 152, 157, 165, 130, 150, 138, 170, 140, 126, 150, 138, 125, 150, 186, 181, 163, 179, 156, 134, 165, 126, 177, 120, 114, 125, 184, 157, 179, 175, 168, 125, 96, 143, 103, 173, 142, 169, 171, 150, 112, 186, 152, 149, 152, 140, 163, 143, 116, 142, 147, 148, 179, 173, 178, 105, 130, 111, 168, 126, 178, 140, 145, 163, 128, 164, 169, 109, 108, 168, 118, 151, 156, 133, 162, 175, 71, 163, 124, 147, 166, 143, 157, 162, 138, 117, 153, 161, 170, 162, 162, 144, 133, 114, 103, 139, 116, 88, 151, 152, 163, 99, 169, 158, 160, 169, 132, 178, 96, 165, 160, 172, 144, 192, 168, 132, 182, 163, 125, 195, 95, 160, 114, 173, 172, 179, 158, 167, 122, 149, 172, 111, 170, 162, 165, 182, 154, 155, 130, 161, 154, 159, 152, 152, 174, 131, 146, 125, 115, 174, 106, 122, 147, 163, 163, 194, 150, 158, 122, 173, 162, 105, 147, 157, 112, 160, 125, 156, 156, 175, 161, 122, 158, 151, 162, 151, 171, 141, 173, 145, 178, 160, 154, 131, 187, 159, 166, 165, 131, 202, 172, 172, 154, 147, 170, 126, 127, 174, 132, 182, 132, 97, 136, 162, 190, 146, 140, 185, 161, 146, 145, 160, 120, 156, 172, 150, 182, 143, 160, 142, 144, 158, 148, 155, 142, 113, 188, 153, 123, 157, 162, 137, 132, 158, 171, 172, 132, 160, 171, 168, 162, 173, 153, 148, 108, 115, 169, 143, 156, 162, 155, 152, 152, 164, 131, 143, 179, 130, 174, 161, 140, 146, 144, 163, 169, 150, 166, 144, 144, 136, 182, 90, 123, 132, 141, 115, 174, 173], \"y\": [0.5, 0.5, 0.5, 0.5, 0.5, 0.5, 0.5, 0.5, 0.5, 0.5, 0.5, 0.5, 0.5, 0.5, 0.5, 0.5, 0.5, 0.5, 0.5, 0.5, 0.5, 0.5, 0.5, 0.5, 0.5, 0.5, 0.5, 0.5, 0.5, 0.5, 0.5, 0.5, 0.5, 0.5, 0.5, 0.5, 0.5, 0.5, 0.5, 0.5, 0.5, 0.5, 0.5, 0.5, 0.5, 0.5, 0.5, 0.5, 0.5, 0.5, 0.5, 0.5, 0.5, 0.5, 0.5, 0.5, 0.5, 0.5, 0.5, 0.5, 0.5, 0.5, 0.5, 0.5, 0.5, 0.5, 0.5, 0.5, 0.5, 0.5, 0.5, 0.5, 0.5, 0.5, 0.5, 0.5, 0.5, 0.5, 0.5, 0.5, 0.5, 0.5, 0.5, 0.5, 0.5, 0.5, 0.5, 0.5, 0.5, 0.5, 0.5, 0.5, 0.5, 0.5, 0.5, 0.5, 0.5, 0.5, 0.5, 0.5, 0.5, 0.5, 0.5, 0.5, 0.5, 0.5, 0.5, 0.5, 0.5, 0.5, 0.5, 0.5, 0.5, 0.5, 0.5, 0.5, 0.5, 0.5, 0.5, 0.5, 0.5, 0.5, 0.5, 0.5, 0.5, 0.5, 0.5, 0.5, 0.5, 0.5, 0.5, 0.5, 0.5, 0.5, 0.5, 0.5, 0.5, 0.5, 0.5, 0.5, 0.5, 0.5, 0.5, 0.5, 0.5, 0.5, 0.5, 0.5, 0.5, 0.5, 0.5, 0.5, 0.5, 0.5, 0.5, 0.5, 0.5, 0.5, 0.5, 0.5, 0.5, 0.5, 0.5, 0.5, 0.5, 0.5, 0.5, 0.5, 0.5, 0.5, 0.5, 0.5, 0.5, 0.5, 0.5, 0.5, 0.5, 0.5, 0.5, 0.5, 0.5, 0.5, 0.5, 0.5, 0.5, 0.5, 0.5, 0.5, 0.5, 0.5, 0.5, 0.5, 0.5, 0.5, 0.5, 0.5, 0.5, 0.5, 0.5, 0.5, 0.5, 0.5, 0.5, 0.5, 0.5, 0.5, 0.5, 0.5, 0.5, 0.5, 0.5, 0.5, 0.5, 0.5, 0.5, 0.5, 0.5, 0.5, 0.5, 0.5, 0.5, 0.5, 0.5, 0.5, 0.5, 0.5, 0.5, 0.5, 0.5, 0.5, 0.5, 0.5, 0.5, 0.5, 0.5, 0.5, 0.5, 0.5, 0.5, 0.5, 0.5, 0.5, 0.5, 0.5, 0.5, 0.5, 0.5, 0.5, 0.5, 0.5, 0.5, 0.5, 0.5, 0.5, 0.5, 0.5, 0.5, 0.5, 0.5, 0.5, 0.5, 0.5, 0.5, 0.5, 0.5, 0.5, 0.5, 0.5, 0.5, 0.5, 0.5, 0.5, 0.5, 0.5, 0.5, 0.5, 0.5, 0.5, 0.5, 0.5, 0.5, 0.5, 0.5, 0.5, 0.5, 0.5, 0.5, 0.5, 0.5, 0.5, 0.5, 0.5, 0.5, 0.5, 0.5, 0.5, 0.5, 0.5, 0.5, 0.5, 0.5, 0.5, 0.5, 0.5, 0.5, 0.5, 0.5, 0.5, 0.5, 0.5, 0.5, 0.5, 0.5, 0.5, 0.5, 0.5, 0.5, 0.5, 0.5, 0.5, 0.5, 0.5, 0.5, 0.5, 0.5, 0.5, 0.5, 0.5, 0.5, 0.5, 0.5, 0.5, 0.5, 0.5, 0.5, 0.5, 0.5, 0.5, 0.5, 0.5, 0.5, 0.5, 0.5, 0.5, 0.5, 0.5, 0.5, 0.5, 0.5, 0.5, 0.5, 0.5, 0.5, 0.5, 0.5, 0.5, 0.5, 0.5, 0.5, 0.5, 0.5, 0.5, 0.5, 0.5, 0.5, 0.5, 0.5, 0.5, 0.5, 0.5, 0.5, 0.5, 0.5, 0.5, 0.5, 0.5, 0.5, 0.5, 0.5, 0.5, 0.5, 0.5, 0.5, 0.5, 0.5, 0.5, 0.5, 0.5, 0.5, 0.5, 0.5, 0.5, 0.5, 0.5, 0.5, 0.5, 0.5, 0.5, 0.5, 0.5, 0.5, 0.5, 0.5, 0.5, 0.5, 0.5, 0.5, 0.5, 0.5, 0.5, 0.5, 0.5, 0.5, 0.5, 0.5, 0.5, 0.5, 0.5, 0.5, 0.5, 0.5, 0.5, 0.5, 0.5, 0.5, 0.5, 0.5, 0.5, 0.5, 0.5, 0.5, 0.5, 0.5, 0.5, 0.5, 0.5, 0.5, 0.5, 0.5, 0.5, 0.5, 0.5, 0.5, 0.5, 0.5, 0.5, 0.5, 0.5, 0.5, 0.5, 0.5, 0.5, 0.5, 0.5, 0.5, 0.5, 0.5, 0.5, 0.5, 0.5, 0.5, 0.5, 0.5, 0.5, 0.5, 0.5, 0.5, 0.5, 0.5, 0.5, 0.5, 0.5, 0.5, 0.5, 0.5, 0.5, 0.5, 0.5, 0.5, 0.5, 0.5, 0.5, 0.5, 0.5, 0.5, 0.5, 0.5, 0.5, 0.5, 0.5, 0.5, 0.5, 0.5, 0.5, 0.5, 0.5, 0.5, 0.5, 0.5, 0.5, 0.5, 0.5, 0.5, 0.5, 0.5, 0.5, 0.5, 0.5, 0.5, 0.5, 0.5, 0.5, 0.5, 0.5, 0.5, 0.5, 0.5, 0.5, 0.5, 0.5, 0.5, 0.5, 0.5, 0.5, 0.5, 0.5, 0.5, 0.5, 0.5, 0.5, 0.5, 0.5, 0.5, 0.5, 0.5, 0.5, 0.5, 0.5, 0.5, 0.5, 0.5, 0.5, 0.5, 0.5, 0.5, 0.5, 0.5, 0.5, 0.5, 0.5, 0.5, 0.5, 0.5, 0.5, 0.5, 0.5, 0.5, 0.5, 0.5, 0.5, 0.5, 0.5, 0.5, 0.5, 0.5, 0.5, 0.5, 0.5, 0.5, 0.5, 0.5, 0.5, 0.5, 0.5, 0.5, 0.5, 0.5, 0.5, 0.5, 0.5, 0.5, 0.5, 0.5, 0.5, 0.5, 0.5, 0.5, 0.5, 0.5, 0.5, 0.5, 0.5, 0.5, 0.5, 0.5, 0.5, 0.5, 0.5, 0.5, 0.5, 0.5, 0.5, 0.5, 0.5, 0.5, 0.5, 0.5, 0.5, 0.5, 0.5, 0.5, 0.5, 0.5, 0.5, 0.5, 0.5, 0.5, 0.5, 0.5, 0.5, 0.5, 0.5, 0.5, 0.5, 0.5, 0.5, 0.5, 0.5, 0.5, 0.5, 0.5, 0.5, 0.5, 0.5, 0.5, 0.5, 0.5, 0.5, 0.5, 0.5, 0.5, 0.5, 0.5, 0.5, 0.5, 0.5, 0.5, 0.5, 0.5, 0.5, 0.5, 0.5, 0.5, 0.5, 0.5, 0.5, 0.5, 0.5, 0.5, 0.5, 0.5, 0.5, 0.5, 0.5, 0.5, 0.5, 0.5, 0.5, 0.5, 0.5, 0.5, 0.5, 0.5, 0.5, 0.5, 0.5, 0.5, 0.5, 0.5, 0.5, 0.5, 0.5, 0.5, 0.5, 0.5, 0.5, 0.5, 0.5, 0.5, 0.5, 0.5, 0.5, 0.5, 0.5, 0.5, 0.5, 0.5, 0.5, 0.5, 0.5, 0.5, 0.5, 0.5, 0.5, 0.5, 0.5, 0.5, 0.5, 0.5, 0.5, 0.5, 0.5, 0.5, 0.5, 0.5, 0.5, 0.5, 0.5, 0.5, 0.5, 0.5, 0.5, 0.5, 0.5, 0.5, 0.5, 0.5, 0.5, 0.5, 0.5, 0.5, 0.5, 0.5, 0.5, 0.5, 0.5, 0.5, 0.5, 0.5, 0.5, 0.5, 0.5, 0.5, 0.5, 0.5, 0.5, 0.5, 0.5, 0.5, 0.5, 0.5, 0.5, 0.5, 0.5, 0.5, 0.5, 0.5, 0.5, 0.5, 0.5, 0.5, 0.5, 0.5, 0.5, 0.5, 0.5, 0.5, 0.5, 0.5, 0.5, 0.5, 0.5, 0.5, 0.5, 0.5, 0.5, 0.5, 0.5, 0.5, 0.5, 0.5, 0.5, 0.5, 0.5, 0.5, 0.5, 0.5, 0.5, 0.5, 0.5, 0.5, 0.5, 0.5, 0.5, 0.5, 0.5, 0.5, 0.5, 0.5, 0.5, 0.5, 0.5, 0.5, 0.5, 0.5, 0.5, 0.5, 0.5, 0.5, 0.5, 0.5, 0.5, 0.5, 0.5, 0.5, 0.5, 0.5, 0.5, 0.5, 0.5, 0.5, 0.5, 0.5, 0.5, 0.5, 0.5, 0.5, 0.5, 0.5, 0.5, 0.5, 0.5, 0.5, 0.5, 0.5, 0.5, 0.5, 0.5, 0.5, 0.5, 0.5, 0.5, 0.5, 0.5, 0.5, 0.5, 0.5, 0.5, 0.5, 0.5, 0.5, 0.5, 0.5, 0.5, 0.5, 0.5, 0.5, 0.5, 0.5, 0.5, 0.5, 0.5, 0.5, 0.5, 0.5, 0.5, 0.5, 0.5, 0.5, 0.5, 0.5, 0.5, 0.5, 0.5, 0.5, 0.5, 0.5, 0.5, 0.5, 0.5, 0.5, 0.5, 0.5, 0.5, 0.5, 0.5, 0.5, 0.5, 0.5, 0.5, 0.5, 0.5, 0.5, 0.5, 0.5, 0.5, 0.5, 0.5, 0.5, 0.5, 0.5, 0.5, 0.5, 0.5, 0.5, 0.5, 0.5, 0.5, 0.5, 0.5, 0.5, 0.5, 0.5, 0.5, 0.5, 0.5, 0.5, 0.5]}],\n",
              "                        {\"template\": {\"data\": {\"bar\": [{\"error_x\": {\"color\": \"#2a3f5f\"}, \"error_y\": {\"color\": \"#2a3f5f\"}, \"marker\": {\"line\": {\"color\": \"#E5ECF6\", \"width\": 0.5}}, \"type\": \"bar\"}], \"barpolar\": [{\"marker\": {\"line\": {\"color\": \"#E5ECF6\", \"width\": 0.5}}, \"type\": \"barpolar\"}], \"carpet\": [{\"aaxis\": {\"endlinecolor\": \"#2a3f5f\", \"gridcolor\": \"white\", \"linecolor\": \"white\", \"minorgridcolor\": \"white\", \"startlinecolor\": \"#2a3f5f\"}, \"baxis\": {\"endlinecolor\": \"#2a3f5f\", \"gridcolor\": \"white\", \"linecolor\": \"white\", \"minorgridcolor\": \"white\", \"startlinecolor\": \"#2a3f5f\"}, \"type\": \"carpet\"}], \"choropleth\": [{\"colorbar\": {\"outlinewidth\": 0, \"ticks\": \"\"}, \"type\": \"choropleth\"}], \"contour\": [{\"colorbar\": {\"outlinewidth\": 0, \"ticks\": \"\"}, \"colorscale\": [[0.0, \"#0d0887\"], [0.1111111111111111, \"#46039f\"], [0.2222222222222222, \"#7201a8\"], [0.3333333333333333, \"#9c179e\"], [0.4444444444444444, \"#bd3786\"], [0.5555555555555556, \"#d8576b\"], [0.6666666666666666, \"#ed7953\"], [0.7777777777777778, \"#fb9f3a\"], [0.8888888888888888, \"#fdca26\"], [1.0, \"#f0f921\"]], \"type\": \"contour\"}], \"contourcarpet\": [{\"colorbar\": {\"outlinewidth\": 0, \"ticks\": \"\"}, \"type\": \"contourcarpet\"}], \"heatmap\": [{\"colorbar\": {\"outlinewidth\": 0, \"ticks\": \"\"}, \"colorscale\": [[0.0, \"#0d0887\"], [0.1111111111111111, \"#46039f\"], [0.2222222222222222, \"#7201a8\"], [0.3333333333333333, \"#9c179e\"], [0.4444444444444444, \"#bd3786\"], [0.5555555555555556, \"#d8576b\"], [0.6666666666666666, \"#ed7953\"], [0.7777777777777778, \"#fb9f3a\"], [0.8888888888888888, \"#fdca26\"], [1.0, \"#f0f921\"]], \"type\": \"heatmap\"}], \"heatmapgl\": [{\"colorbar\": {\"outlinewidth\": 0, \"ticks\": \"\"}, \"colorscale\": [[0.0, \"#0d0887\"], [0.1111111111111111, \"#46039f\"], [0.2222222222222222, \"#7201a8\"], [0.3333333333333333, \"#9c179e\"], [0.4444444444444444, \"#bd3786\"], [0.5555555555555556, \"#d8576b\"], [0.6666666666666666, \"#ed7953\"], [0.7777777777777778, \"#fb9f3a\"], [0.8888888888888888, \"#fdca26\"], [1.0, \"#f0f921\"]], \"type\": \"heatmapgl\"}], \"histogram\": [{\"marker\": {\"colorbar\": {\"outlinewidth\": 0, \"ticks\": \"\"}}, \"type\": \"histogram\"}], \"histogram2d\": [{\"colorbar\": {\"outlinewidth\": 0, \"ticks\": \"\"}, \"colorscale\": [[0.0, \"#0d0887\"], [0.1111111111111111, \"#46039f\"], [0.2222222222222222, \"#7201a8\"], [0.3333333333333333, \"#9c179e\"], [0.4444444444444444, \"#bd3786\"], [0.5555555555555556, \"#d8576b\"], [0.6666666666666666, \"#ed7953\"], [0.7777777777777778, \"#fb9f3a\"], [0.8888888888888888, \"#fdca26\"], [1.0, \"#f0f921\"]], \"type\": \"histogram2d\"}], \"histogram2dcontour\": [{\"colorbar\": {\"outlinewidth\": 0, \"ticks\": \"\"}, \"colorscale\": [[0.0, \"#0d0887\"], [0.1111111111111111, \"#46039f\"], [0.2222222222222222, \"#7201a8\"], [0.3333333333333333, \"#9c179e\"], [0.4444444444444444, \"#bd3786\"], [0.5555555555555556, \"#d8576b\"], [0.6666666666666666, \"#ed7953\"], [0.7777777777777778, \"#fb9f3a\"], [0.8888888888888888, \"#fdca26\"], [1.0, \"#f0f921\"]], \"type\": \"histogram2dcontour\"}], \"mesh3d\": [{\"colorbar\": {\"outlinewidth\": 0, \"ticks\": \"\"}, \"type\": \"mesh3d\"}], \"parcoords\": [{\"line\": {\"colorbar\": {\"outlinewidth\": 0, \"ticks\": \"\"}}, \"type\": \"parcoords\"}], \"pie\": [{\"automargin\": true, \"type\": \"pie\"}], \"scatter\": [{\"marker\": {\"colorbar\": {\"outlinewidth\": 0, \"ticks\": \"\"}}, \"type\": \"scatter\"}], \"scatter3d\": [{\"line\": {\"colorbar\": {\"outlinewidth\": 0, \"ticks\": \"\"}}, \"marker\": {\"colorbar\": {\"outlinewidth\": 0, \"ticks\": \"\"}}, \"type\": \"scatter3d\"}], \"scattercarpet\": [{\"marker\": {\"colorbar\": {\"outlinewidth\": 0, \"ticks\": \"\"}}, \"type\": \"scattercarpet\"}], \"scattergeo\": [{\"marker\": {\"colorbar\": {\"outlinewidth\": 0, \"ticks\": \"\"}}, \"type\": \"scattergeo\"}], \"scattergl\": [{\"marker\": {\"colorbar\": {\"outlinewidth\": 0, \"ticks\": \"\"}}, \"type\": \"scattergl\"}], \"scattermapbox\": [{\"marker\": {\"colorbar\": {\"outlinewidth\": 0, \"ticks\": \"\"}}, \"type\": \"scattermapbox\"}], \"scatterpolar\": [{\"marker\": {\"colorbar\": {\"outlinewidth\": 0, \"ticks\": \"\"}}, \"type\": \"scatterpolar\"}], \"scatterpolargl\": [{\"marker\": {\"colorbar\": {\"outlinewidth\": 0, \"ticks\": \"\"}}, \"type\": \"scatterpolargl\"}], \"scatterternary\": [{\"marker\": {\"colorbar\": {\"outlinewidth\": 0, \"ticks\": \"\"}}, \"type\": \"scatterternary\"}], \"surface\": [{\"colorbar\": {\"outlinewidth\": 0, \"ticks\": \"\"}, \"colorscale\": [[0.0, \"#0d0887\"], [0.1111111111111111, \"#46039f\"], [0.2222222222222222, \"#7201a8\"], [0.3333333333333333, \"#9c179e\"], [0.4444444444444444, \"#bd3786\"], [0.5555555555555556, \"#d8576b\"], [0.6666666666666666, \"#ed7953\"], [0.7777777777777778, \"#fb9f3a\"], [0.8888888888888888, \"#fdca26\"], [1.0, \"#f0f921\"]], \"type\": \"surface\"}], \"table\": [{\"cells\": {\"fill\": {\"color\": \"#EBF0F8\"}, \"line\": {\"color\": \"white\"}}, \"header\": {\"fill\": {\"color\": \"#C8D4E3\"}, \"line\": {\"color\": \"white\"}}, \"type\": \"table\"}]}, \"layout\": {\"annotationdefaults\": {\"arrowcolor\": \"#2a3f5f\", \"arrowhead\": 0, \"arrowwidth\": 1}, \"coloraxis\": {\"colorbar\": {\"outlinewidth\": 0, \"ticks\": \"\"}}, \"colorscale\": {\"diverging\": [[0, \"#8e0152\"], [0.1, \"#c51b7d\"], [0.2, \"#de77ae\"], [0.3, \"#f1b6da\"], [0.4, \"#fde0ef\"], [0.5, \"#f7f7f7\"], [0.6, \"#e6f5d0\"], [0.7, \"#b8e186\"], [0.8, \"#7fbc41\"], [0.9, \"#4d9221\"], [1, \"#276419\"]], \"sequential\": [[0.0, \"#0d0887\"], [0.1111111111111111, \"#46039f\"], [0.2222222222222222, \"#7201a8\"], [0.3333333333333333, \"#9c179e\"], [0.4444444444444444, \"#bd3786\"], [0.5555555555555556, \"#d8576b\"], [0.6666666666666666, \"#ed7953\"], [0.7777777777777778, \"#fb9f3a\"], [0.8888888888888888, \"#fdca26\"], [1.0, \"#f0f921\"]], \"sequentialminus\": [[0.0, \"#0d0887\"], [0.1111111111111111, \"#46039f\"], [0.2222222222222222, \"#7201a8\"], [0.3333333333333333, \"#9c179e\"], [0.4444444444444444, \"#bd3786\"], [0.5555555555555556, \"#d8576b\"], [0.6666666666666666, \"#ed7953\"], [0.7777777777777778, \"#fb9f3a\"], [0.8888888888888888, \"#fdca26\"], [1.0, \"#f0f921\"]]}, \"colorway\": [\"#636efa\", \"#EF553B\", \"#00cc96\", \"#ab63fa\", \"#FFA15A\", \"#19d3f3\", \"#FF6692\", \"#B6E880\", \"#FF97FF\", \"#FECB52\"], \"font\": {\"color\": \"#2a3f5f\"}, \"geo\": {\"bgcolor\": \"white\", \"lakecolor\": \"white\", \"landcolor\": \"#E5ECF6\", \"showlakes\": true, \"showland\": true, \"subunitcolor\": \"white\"}, \"hoverlabel\": {\"align\": \"left\"}, \"hovermode\": \"closest\", \"mapbox\": {\"style\": \"light\"}, \"paper_bgcolor\": \"white\", \"plot_bgcolor\": \"#E5ECF6\", \"polar\": {\"angularaxis\": {\"gridcolor\": \"white\", \"linecolor\": \"white\", \"ticks\": \"\"}, \"bgcolor\": \"#E5ECF6\", \"radialaxis\": {\"gridcolor\": \"white\", \"linecolor\": \"white\", \"ticks\": \"\"}}, \"scene\": {\"xaxis\": {\"backgroundcolor\": \"#E5ECF6\", \"gridcolor\": \"white\", \"gridwidth\": 2, \"linecolor\": \"white\", \"showbackground\": true, \"ticks\": \"\", \"zerolinecolor\": \"white\"}, \"yaxis\": {\"backgroundcolor\": \"#E5ECF6\", \"gridcolor\": \"white\", \"gridwidth\": 2, \"linecolor\": \"white\", \"showbackground\": true, \"ticks\": \"\", \"zerolinecolor\": \"white\"}, \"zaxis\": {\"backgroundcolor\": \"#E5ECF6\", \"gridcolor\": \"white\", \"gridwidth\": 2, \"linecolor\": \"white\", \"showbackground\": true, \"ticks\": \"\", \"zerolinecolor\": \"white\"}}, \"shapedefaults\": {\"line\": {\"color\": \"#2a3f5f\"}}, \"ternary\": {\"aaxis\": {\"gridcolor\": \"white\", \"linecolor\": \"white\", \"ticks\": \"\"}, \"baxis\": {\"gridcolor\": \"white\", \"linecolor\": \"white\", \"ticks\": \"\"}, \"bgcolor\": \"#E5ECF6\", \"caxis\": {\"gridcolor\": \"white\", \"linecolor\": \"white\", \"ticks\": \"\"}}, \"title\": {\"x\": 0.05}, \"xaxis\": {\"automargin\": true, \"gridcolor\": \"white\", \"linecolor\": \"white\", \"ticks\": \"\", \"title\": {\"standoff\": 15}, \"zerolinecolor\": \"white\", \"zerolinewidth\": 2}, \"yaxis\": {\"automargin\": true, \"gridcolor\": \"white\", \"linecolor\": \"white\", \"ticks\": \"\", \"title\": {\"standoff\": 15}, \"zerolinecolor\": \"white\", \"zerolinewidth\": 2}}}, \"title\": {\"text\": \"Heart Disease vs Max Heart Rate\"}, \"xaxis\": {\"title\": {\"text\": \"Max Heart Rate\"}}, \"yaxis\": {\"title\": {\"text\": \"Heart Disease\"}}},\n",
              "                        {\"responsive\": true}\n",
              "                    ).then(function(){\n",
              "                            \n",
              "var gd = document.getElementById('84f4cfa7-41c2-4c08-9053-ee5277701cb2');\n",
              "var x = new MutationObserver(function (mutations, observer) {{\n",
              "        var display = window.getComputedStyle(gd).display;\n",
              "        if (!display || display === 'none') {{\n",
              "            console.log([gd, 'removed!']);\n",
              "            Plotly.purge(gd);\n",
              "            observer.disconnect();\n",
              "        }}\n",
              "}});\n",
              "\n",
              "// Listen for the removal of the full notebook cells\n",
              "var notebookContainer = gd.closest('#notebook-container');\n",
              "if (notebookContainer) {{\n",
              "    x.observe(notebookContainer, {childList: true});\n",
              "}}\n",
              "\n",
              "// Listen for the clearing of the current output cell\n",
              "var outputEl = gd.closest('.output');\n",
              "if (outputEl) {{\n",
              "    x.observe(outputEl, {childList: true});\n",
              "}}\n",
              "\n",
              "                        })\n",
              "                };\n",
              "                \n",
              "            </script>\n",
              "        </div>\n",
              "</body>\n",
              "</html>"
            ]
          },
          "metadata": {}
        }
      ]
    },
    {
      "cell_type": "code",
      "metadata": {
        "colab": {
          "base_uri": "https://localhost:8080/"
        },
        "id": "Uh2ZWlsMaabr",
        "outputId": "2c52b926-2a18-41ca-b3e3-7814babe596a"
      },
      "source": [
        "accuracy_score(predictions_df['Our Model Heart Disease Probabilities']>.5, y_train)"
      ],
      "execution_count": null,
      "outputs": [
        {
          "output_type": "execute_result",
          "data": {
            "text/plain": [
              "0.6721132897603486"
            ]
          },
          "metadata": {},
          "execution_count": 64
        }
      ]
    },
    {
      "cell_type": "code",
      "metadata": {
        "colab": {
          "base_uri": "https://localhost:8080/",
          "height": 224
        },
        "id": "LlmIxOiXa-pQ",
        "outputId": "6cdcd77e-6e8a-4b4b-95ca-70b7854fcdd8"
      },
      "source": [
        "heart.head()"
      ],
      "execution_count": null,
      "outputs": [
        {
          "output_type": "execute_result",
          "data": {
            "text/html": [
              "<div>\n",
              "<style scoped>\n",
              "    .dataframe tbody tr th:only-of-type {\n",
              "        vertical-align: middle;\n",
              "    }\n",
              "\n",
              "    .dataframe tbody tr th {\n",
              "        vertical-align: top;\n",
              "    }\n",
              "\n",
              "    .dataframe thead th {\n",
              "        text-align: right;\n",
              "    }\n",
              "</style>\n",
              "<table border=\"1\" class=\"dataframe\">\n",
              "  <thead>\n",
              "    <tr style=\"text-align: right;\">\n",
              "      <th></th>\n",
              "      <th>Age</th>\n",
              "      <th>Sex</th>\n",
              "      <th>ChestPainType</th>\n",
              "      <th>RestingBP</th>\n",
              "      <th>Cholesterol</th>\n",
              "      <th>FastingBS</th>\n",
              "      <th>RestingECG</th>\n",
              "      <th>MaxHR</th>\n",
              "      <th>ExerciseAngina</th>\n",
              "      <th>Oldpeak</th>\n",
              "      <th>ST_Slope</th>\n",
              "      <th>HeartDisease</th>\n",
              "    </tr>\n",
              "  </thead>\n",
              "  <tbody>\n",
              "    <tr>\n",
              "      <th>0</th>\n",
              "      <td>40</td>\n",
              "      <td>M</td>\n",
              "      <td>ATA</td>\n",
              "      <td>140</td>\n",
              "      <td>289</td>\n",
              "      <td>0</td>\n",
              "      <td>Normal</td>\n",
              "      <td>172</td>\n",
              "      <td>N</td>\n",
              "      <td>0.0</td>\n",
              "      <td>Up</td>\n",
              "      <td>0</td>\n",
              "    </tr>\n",
              "    <tr>\n",
              "      <th>1</th>\n",
              "      <td>49</td>\n",
              "      <td>F</td>\n",
              "      <td>NAP</td>\n",
              "      <td>160</td>\n",
              "      <td>180</td>\n",
              "      <td>0</td>\n",
              "      <td>Normal</td>\n",
              "      <td>156</td>\n",
              "      <td>N</td>\n",
              "      <td>1.0</td>\n",
              "      <td>Flat</td>\n",
              "      <td>1</td>\n",
              "    </tr>\n",
              "    <tr>\n",
              "      <th>2</th>\n",
              "      <td>37</td>\n",
              "      <td>M</td>\n",
              "      <td>ATA</td>\n",
              "      <td>130</td>\n",
              "      <td>283</td>\n",
              "      <td>0</td>\n",
              "      <td>ST</td>\n",
              "      <td>98</td>\n",
              "      <td>N</td>\n",
              "      <td>0.0</td>\n",
              "      <td>Up</td>\n",
              "      <td>0</td>\n",
              "    </tr>\n",
              "    <tr>\n",
              "      <th>3</th>\n",
              "      <td>48</td>\n",
              "      <td>F</td>\n",
              "      <td>ASY</td>\n",
              "      <td>138</td>\n",
              "      <td>214</td>\n",
              "      <td>0</td>\n",
              "      <td>Normal</td>\n",
              "      <td>108</td>\n",
              "      <td>Y</td>\n",
              "      <td>1.5</td>\n",
              "      <td>Flat</td>\n",
              "      <td>1</td>\n",
              "    </tr>\n",
              "    <tr>\n",
              "      <th>4</th>\n",
              "      <td>54</td>\n",
              "      <td>M</td>\n",
              "      <td>NAP</td>\n",
              "      <td>150</td>\n",
              "      <td>195</td>\n",
              "      <td>0</td>\n",
              "      <td>Normal</td>\n",
              "      <td>122</td>\n",
              "      <td>N</td>\n",
              "      <td>0.0</td>\n",
              "      <td>Up</td>\n",
              "      <td>0</td>\n",
              "    </tr>\n",
              "  </tbody>\n",
              "</table>\n",
              "</div>"
            ],
            "text/plain": [
              "   Age Sex ChestPainType  ...  Oldpeak  ST_Slope  HeartDisease\n",
              "0   40   M           ATA  ...      0.0        Up             0\n",
              "1   49   F           NAP  ...      1.0      Flat             1\n",
              "2   37   M           ATA  ...      0.0        Up             0\n",
              "3   48   F           ASY  ...      1.5      Flat             1\n",
              "4   54   M           NAP  ...      0.0        Up             0\n",
              "\n",
              "[5 rows x 12 columns]"
            ]
          },
          "metadata": {},
          "execution_count": 65
        }
      ]
    },
    {
      "cell_type": "code",
      "metadata": {
        "colab": {
          "base_uri": "https://localhost:8080/"
        },
        "id": "8bw_c7una7bB",
        "outputId": "d8dbab21-9826-436b-85cc-234571e67e97"
      },
      "source": [
        "train = heart[['Age','RestingBP',\t'Cholesterol','MaxHR', 'HeartDisease']].to_numpy()\n",
        "X_train, y_train = train[:, :-1], train[:, -1]\n",
        "X_train.shape, y_train.shape"
      ],
      "execution_count": null,
      "outputs": [
        {
          "output_type": "execute_result",
          "data": {
            "text/plain": [
              "((918, 4), (918,))"
            ]
          },
          "metadata": {},
          "execution_count": 66
        }
      ]
    },
    {
      "cell_type": "code",
      "metadata": {
        "colab": {
          "base_uri": "https://localhost:8080/"
        },
        "id": "ojkRjxY1bQnV",
        "outputId": "ee357aaf-11b4-43dc-9365-9b0477b35e8e"
      },
      "source": [
        "lr = LogisticRegression().fit(X_train, y_train)\n",
        "\n",
        "accuracy_score(lr.predict(X_train), y_train)"
      ],
      "execution_count": null,
      "outputs": [
        {
          "output_type": "execute_result",
          "data": {
            "text/plain": [
              "0.7015250544662309"
            ]
          },
          "metadata": {},
          "execution_count": 67
        }
      ]
    }
  ]
}